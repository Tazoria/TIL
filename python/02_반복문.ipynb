{
  "nbformat": 4,
  "nbformat_minor": 0,
  "metadata": {
    "colab": {
      "provenance": [],
      "authorship_tag": "ABX9TyO3PWcoIoC9QPWeaLPbL8nN",
      "include_colab_link": true
    },
    "kernelspec": {
      "name": "python3",
      "display_name": "Python 3"
    },
    "language_info": {
      "name": "python"
    }
  },
  "cells": [
    {
      "cell_type": "markdown",
      "metadata": {
        "id": "view-in-github",
        "colab_type": "text"
      },
      "source": [
        "<a href=\"https://colab.research.google.com/github/Tazoria/TIL/blob/main/python/02_%EB%B0%98%EB%B3%B5%EB%AC%B8.ipynb\" target=\"_parent\"><img src=\"https://colab.research.google.com/assets/colab-badge.svg\" alt=\"Open In Colab\"/></a>"
      ]
    },
    {
      "cell_type": "markdown",
      "source": [
        "# 💕 반복문"
      ],
      "metadata": {
        "id": "8sXBoOPxYAp6"
      }
    },
    {
      "cell_type": "markdown",
      "source": [
        "## 1️⃣  while\n",
        "- 기본구조\n",
        "\n",
        "\n",
        "```\n",
        "while <조건문>:\n",
        "    <수행할 문장1>\n",
        "    <수행할 문장2>\n",
        "    <수행할 문장3>\n",
        "    ...\n",
        "```\n",
        "\n",
        "\n",
        "- 조건문이 참인 동안에 while문에 속한 문장들을 반복해서 수행\n",
        "- continue : while문의 맨 처음(조건문)으로 돌아가기\n",
        "- break : while문 강제종료\n",
        "- 무한루프\n",
        "\n",
        "\n",
        "```\n",
        "while True:\n",
        "...     print(\"Ctrl+C를 눌러야 while문을 빠져나갈 수 있습니다.\")\n",
        "...\n",
        "Ctrl+C를 눌러야 while문을 빠져나갈 수 있습니다.\n",
        "Ctrl+C를 눌러야 while문을 빠져나갈 수 있습니다.\n",
        "Ctrl+C를 눌러야 while문을 빠져나갈 수 있습니다.\n",
        "```\n",
        "\n"
      ],
      "metadata": {
        "id": "rSInYO_2YFzP"
      }
    },
    {
      "cell_type": "code",
      "execution_count": null,
      "metadata": {
        "id": "fr9KRUyBX1FB",
        "colab": {
          "base_uri": "https://localhost:8080/"
        },
        "outputId": "f24fdb0b-fed2-4239-f004-949ea59b200d"
      },
      "outputs": [
        {
          "output_type": "stream",
          "name": "stdout",
          "text": [
            "적금을 1번 넣었습니다.\n",
            "적금을 2번 넣었습니다.\n",
            "적금을 3번 넣었습니다.\n",
            "적금을 4번 넣었습니다.\n",
            "적금을 5번 넣었습니다.\n",
            "적금을 6번 넣었습니다.\n",
            "적금을 7번 넣었습니다.\n",
            "적금을 8번 넣었습니다.\n",
            "적금을 9번 넣었습니다.\n",
            "적금을 10번 넣었습니다.\n",
            "적금을 11번 넣었습니다.\n",
            "적금을 12번 넣었습니다.\n",
            "적금을 받았습니다.\n"
          ]
        }
      ],
      "source": [
        "# 간단한 적금\n",
        "save_money = 0\n",
        "while save_money < 12:\n",
        "  save_money += 1\n",
        "  print('적금을 %d번 넣었습니다.'%save_money) # print(f'적금을 {save_money}번 넣었습니다.')\n",
        "  if save_money == 12:\n",
        "    print('적금을 받았습니다.')"
      ]
    },
    {
      "cell_type": "code",
      "source": [
        "# 남돈내산\n",
        "food = 100\n",
        "money = 12000\n",
        "while money - 1000 >= 0:\n",
        "  if (food - 10) >= 0:\n",
        "    print('돈을 내고 음식을 먹습니다.')\n",
        "    money -= 1000\n",
        "    food -= 10\n",
        "    print(f'남은 음식은 {food}g 입니다.')\n",
        "  else:\n",
        "    print('음식이 없어서 먹을 수 없습니다.')\n",
        "    break"
      ],
      "metadata": {
        "colab": {
          "base_uri": "https://localhost:8080/"
        },
        "id": "nx1-GztwYMsG",
        "outputId": "23131910-deb7-4044-ce68-e627c60cfa37"
      },
      "execution_count": null,
      "outputs": [
        {
          "output_type": "stream",
          "name": "stdout",
          "text": [
            "돈을 내고 음식을 먹습니다.\n",
            "남은 음식은 90g 입니다.\n",
            "돈을 내고 음식을 먹습니다.\n",
            "남은 음식은 80g 입니다.\n",
            "돈을 내고 음식을 먹습니다.\n",
            "남은 음식은 70g 입니다.\n",
            "돈을 내고 음식을 먹습니다.\n",
            "남은 음식은 60g 입니다.\n",
            "돈을 내고 음식을 먹습니다.\n",
            "남은 음식은 50g 입니다.\n",
            "돈을 내고 음식을 먹습니다.\n",
            "남은 음식은 40g 입니다.\n",
            "돈을 내고 음식을 먹습니다.\n",
            "남은 음식은 30g 입니다.\n",
            "돈을 내고 음식을 먹습니다.\n",
            "남은 음식은 20g 입니다.\n",
            "돈을 내고 음식을 먹습니다.\n",
            "남은 음식은 10g 입니다.\n",
            "돈을 내고 음식을 먹습니다.\n",
            "남은 음식은 0g 입니다.\n",
            "음식이 없어서 먹을 수 없습니다.\n"
          ]
        }
      ]
    },
    {
      "cell_type": "code",
      "source": [
        "# 10 이하의 홀수 출력 프로그램\n",
        "a = 0\n",
        "while a < 10:\n",
        "  a += 1\n",
        "  if a % 2 == 0:\n",
        "    continue\n",
        "  print(a, end=' ')"
      ],
      "metadata": {
        "colab": {
          "base_uri": "https://localhost:8080/"
        },
        "id": "pDWQRts3YfSa",
        "outputId": "fe154438-5a9b-4f42-fc95-1e5b4d7ee6fb"
      },
      "execution_count": null,
      "outputs": [
        {
          "output_type": "stream",
          "name": "stdout",
          "text": [
            "1 3 5 7 9 "
          ]
        }
      ]
    },
    {
      "cell_type": "code",
      "source": [
        "# 숫자를 입력받아서 10의 배수면 프로그램 종료가 되도록 while문으로 코딩\n",
        "numData = []\n",
        "while True:\n",
        "  num = int(input('10의 배수를 입력시 종료되는 프로그램입니다. 정수를 입력해주세요.'))\n",
        "  if num % 10 == 0 and num != 0:\n",
        "    print('10의 배수를 입력하여 프로그램이 종료되었습니다.')\n",
        "    numData.append(num)\n",
        "    print(f'현재까지 넣은 숫자는 {numData}입니다.')\n",
        "    break\n",
        "  else:\n",
        "    numData.append(num)\n",
        "    print('다시 입력해주세요.')\n",
        "    print(f'현재까지 넣은 숫자는 {numData}입니다.')"
      ],
      "metadata": {
        "id": "p_-KrASRYhvi",
        "colab": {
          "base_uri": "https://localhost:8080/"
        },
        "outputId": "c5f5077b-df44-4785-d2f3-79b60da24e66"
      },
      "execution_count": null,
      "outputs": [
        {
          "output_type": "stream",
          "name": "stdout",
          "text": [
            "10의 배수를 입력시 종료되는 프로그램입니다. 정수를 입력해주세요.0\n",
            "다시 입력해주세요.\n",
            "현재까지 넣은 숫자는 [0]입니다.\n",
            "10의 배수를 입력시 종료되는 프로그램입니다. 정수를 입력해주세요.5\n",
            "다시 입력해주세요.\n",
            "현재까지 넣은 숫자는 [0, 5]입니다.\n",
            "10의 배수를 입력시 종료되는 프로그램입니다. 정수를 입력해주세요.15\n",
            "다시 입력해주세요.\n",
            "현재까지 넣은 숫자는 [0, 5, 15]입니다.\n",
            "10의 배수를 입력시 종료되는 프로그램입니다. 정수를 입력해주세요.8\n",
            "다시 입력해주세요.\n",
            "현재까지 넣은 숫자는 [0, 5, 15, 8]입니다.\n",
            "10의 배수를 입력시 종료되는 프로그램입니다. 정수를 입력해주세요.10\n",
            "10의 배수를 입력하여 프로그램이 종료되었습니다.\n",
            "현재까지 넣은 숫자는 [0, 5, 15, 8, 10]입니다.\n"
          ]
        }
      ]
    },
    {
      "cell_type": "code",
      "source": [
        "# 10번 찍어서 안 넘어가는 나무 없다?\n",
        "treeHit = 1\n",
        "while treeHit:\n",
        "  print(f'나무를 {treeHit}번 찍었습니다.')\n",
        "  treeHit += 1\n",
        "  if treeHit == 10:\n",
        "    print('나무가 넘어갑니다.')\n",
        "    break"
      ],
      "metadata": {
        "id": "rdyK3GvhYjcx",
        "colab": {
          "base_uri": "https://localhost:8080/"
        },
        "outputId": "26648ef7-457a-42ea-ccef-b1f929574caa"
      },
      "execution_count": null,
      "outputs": [
        {
          "output_type": "stream",
          "name": "stdout",
          "text": [
            "나무를 1번 찍었습니다.\n",
            "나무를 2번 찍었습니다.\n",
            "나무를 3번 찍었습니다.\n",
            "나무를 4번 찍었습니다.\n",
            "나무를 5번 찍었습니다.\n",
            "나무를 6번 찍었습니다.\n",
            "나무를 7번 찍었습니다.\n",
            "나무를 8번 찍었습니다.\n",
            "나무를 9번 찍었습니다.\n",
            "나무가 넘어갑니다.\n"
          ]
        }
      ]
    },
    {
      "cell_type": "code",
      "source": [
        "# 'q'를 입력할 때 까지 이름을 입력받기\n",
        "family = []\n",
        "while True:\n",
        "  name = input('\\n이름을 입력하세요.\\n(프로그램을 종료하려면 [q]를 입력하세요)\\n')\n",
        "  if name == 'q':\n",
        "    family.append(name)\n",
        "    print('\\n프로그램을 종료합니다.\\n')\n",
        "    print('가족:\\n', family)\n",
        "    break\n",
        "  family.append(name)"
      ],
      "metadata": {
        "id": "JjzX0pAtYnUy",
        "colab": {
          "base_uri": "https://localhost:8080/"
        },
        "outputId": "d7af78b3-0f4b-4fba-bd75-e6359bbb0d4f"
      },
      "execution_count": null,
      "outputs": [
        {
          "output_type": "stream",
          "name": "stdout",
          "text": [
            "\n",
            "이름을 입력하세요.\n",
            "(프로그램을 종료하려면 [q]를 입력하세요)\n",
            "이가연\n",
            "\n",
            "이름을 입력하세요.\n",
            "(프로그램을 종료하려면 [q]를 입력하세요)\n",
            "나봉이\n",
            "\n",
            "이름을 입력하세요.\n",
            "(프로그램을 종료하려면 [q]를 입력하세요)\n",
            "q\n",
            "\n",
            "프로그램을 종료합니다.\n",
            "\n",
            "가족:\n",
            " ['이가연', '나봉이', 'q']\n"
          ]
        }
      ]
    },
    {
      "cell_type": "code",
      "source": [
        "# 맞추면 천재\n",
        "secret_word = 'hong'\n",
        "guess = ''\n",
        "while guess != secret_word:\n",
        "  guess = input('Enter guess : \\n')\n",
        "print('You Win!')"
      ],
      "metadata": {
        "id": "7mrWTLfMYo5r",
        "colab": {
          "base_uri": "https://localhost:8080/"
        },
        "outputId": "f4cbfe49-03cb-497d-9bcb-24b38b04c852"
      },
      "execution_count": null,
      "outputs": [
        {
          "output_type": "stream",
          "name": "stdout",
          "text": [
            "Enter guess : \n",
            "Lee\n",
            "Enter guess : \n",
            "Kim\n",
            "Enter guess : \n",
            "hong\n",
            "You Win!\n"
          ]
        }
      ]
    },
    {
      "cell_type": "code",
      "source": [
        "# 간단한 로그인\n",
        "id = 'id123'\n",
        "pwd = 'pwd123'\n",
        "\n",
        "while True:\n",
        "  id_input = input('아이디: ')\n",
        "  pwd_input = input('비밀번호: ')\n",
        "  if id == id_input and pwd == pwd_input:\n",
        "    print('\\n로그인 되었습니다.\\n')\n",
        "    break\n",
        "  else:\n",
        "    print('아이디와 비밀번호를 다시 확인해주세요.\\n')"
      ],
      "metadata": {
        "id": "jMSMloPlZJeL",
        "colab": {
          "base_uri": "https://localhost:8080/"
        },
        "outputId": "08fa7f54-344b-4c2f-a228-4a17d652cf84"
      },
      "execution_count": null,
      "outputs": [
        {
          "output_type": "stream",
          "name": "stdout",
          "text": [
            "아이디: id1\n",
            "비밀번호: pw1\n",
            "아이디와 비밀번호를 다시 확인해주세요.\n",
            "\n",
            "아이디: id123\n",
            "비밀번호: pwd123\n",
            "\n",
            "로그인 되었습니다.\n",
            "\n"
          ]
        }
      ]
    },
    {
      "cell_type": "markdown",
      "source": [
        "### 📝 퀴즈 1"
      ],
      "metadata": {
        "id": "H73I_RoDY9IB"
      }
    },
    {
      "cell_type": "code",
      "source": [
        "# 아주 조금만 더 현실적인 맞추기 게임\n",
        "'''\n",
        "- 게임에 횟수제한 (3번 이내)\n",
        "- 못맞추면 You lose 출력\n",
        "- 맞추면 You Win!\n",
        "'''\n",
        "\n",
        "secret_word = '이가연'\n",
        "guess = ''\n",
        "count = 0\n",
        "guess_limit = 3 # 추후에 변경 쉽도록 변수로 선언해주기!\n",
        "while True:\n",
        "  guess = input(f'제 이름을 맞춰보세요!(힌트: 한글 세자리)\\n기회는 총{3-count}번 남았습니다.')\n",
        "  count += 1\n",
        "  if guess == secret_word:\n",
        "    print('You Win!')\n",
        "    break\n",
        "  elif count < guess_limit :\n",
        "    continue\n",
        "  else:\n",
        "    print('You Lose')\n",
        "    break"
      ],
      "metadata": {
        "id": "KjNZlX2hY0Ep",
        "colab": {
          "base_uri": "https://localhost:8080/"
        },
        "outputId": "fffa23b0-3aea-46c8-ba1e-c3f6a1cdb8b5"
      },
      "execution_count": null,
      "outputs": [
        {
          "output_type": "stream",
          "name": "stdout",
          "text": [
            "제 이름을 맞춰보세요!(힌트: 한글 세자리)\n",
            "기회는 총3번 남았습니다.나봉이\n",
            "제 이름을 맞춰보세요!(힌트: 한글 세자리)\n",
            "기회는 총2번 남았습니다.Tazoria\n",
            "제 이름을 맞춰보세요!(힌트: 한글 세자리)\n",
            "기회는 총1번 남았습니다.이가연\n",
            "You Win!\n"
          ]
        }
      ]
    },
    {
      "cell_type": "code",
      "source": [
        "# 답\n",
        "secret_word = 'hong'\n",
        "guess = ''\n",
        "guess_count = 0\n",
        "guess_limit = 3\n",
        "out_of_guess = False\n",
        "while guess != secret_word and not(out_of_guess):\n",
        "  if guess_count < guess_limit:\n",
        "    guess = input('Enter guess: ')\n",
        "    guess_count += 1\n",
        "  else:\n",
        "    out_of_guess = True\n",
        "\n",
        "if out_of_guess:\n",
        "  print('기회를 넘겼습니다. You lose!')\n",
        "else:\n",
        "  print('You Win!')"
      ],
      "metadata": {
        "id": "7p2BRZSmY5hx",
        "colab": {
          "base_uri": "https://localhost:8080/"
        },
        "outputId": "0c9c700a-a5dd-4ba1-d04d-2416ea87e4ce"
      },
      "execution_count": null,
      "outputs": [
        {
          "output_type": "stream",
          "name": "stdout",
          "text": [
            "Enter guess: lee\n",
            "Enter guess: kim\n",
            "Enter guess: park\n",
            "기회를 넘겼습니다. You lose!\n"
          ]
        }
      ]
    },
    {
      "cell_type": "markdown",
      "source": [
        "## 2️⃣ for 문\n",
        "- 기본구조\n",
        "```\n",
        "for 변수 in 리스트(또는 튜플, 문자열):\n",
        "    수행할 문장1\n",
        "    수행할 문장2\n",
        "    ...\n",
        "\n",
        "```\n",
        "- 리스트나 튜플, 문자열의 첫 번째 요소부터 마지막 요소까지 차례로 변수에 대입되어 \"수행할 문장1\", \"수행할 문장2\" 등을 수행"
      ],
      "metadata": {
        "id": "6i1n0VNgZPCT"
      }
    },
    {
      "cell_type": "code",
      "source": [
        "# 매번 구분선 넣기 귀찮음요\n",
        "def make_line():\n",
        "  print()\n",
        "  print('='*50)\n",
        "\n",
        "# 리스트를 이용해 for문 맛보기\n",
        "# 원소 출력 1\n",
        "test_list = [1, 2, 3, 4, 5]\n",
        "for i in test_list:\n",
        "  print(i, end=' ')\n",
        "\n",
        "make_line()\n",
        "\n",
        "# 원소 출력 2\n",
        "test_list2 = ['one', 'two', 'three']\n",
        "for i in test_list2:\n",
        "  print(i, end=' ')\n",
        "\n",
        "make_line()\n",
        "\n",
        "# for문 + if문\n",
        "marks = [90, 25, 67, 45, 80]\n",
        "number = 0\n",
        "for i in marks:\n",
        "  number += 1\n",
        "  if i >= 60:\n",
        "    print(f'{number}번 학생은 합격')\n",
        "  else:\n",
        "    print(f'{number}번 학생은 불합격')\n",
        "\n",
        "make_line()\n",
        "\n",
        "# 문자열에도 반복문을 적용할 수 있다!\n",
        "for i in 'python':\n",
        "  print(i, end=' ')"
      ],
      "metadata": {
        "id": "n2KTCaymZPcy",
        "colab": {
          "base_uri": "https://localhost:8080/"
        },
        "outputId": "a26616ce-96e6-46a1-a87b-80213cd6b075"
      },
      "execution_count": null,
      "outputs": [
        {
          "output_type": "stream",
          "name": "stdout",
          "text": [
            "1 2 3 4 5 \n",
            "==================================================\n",
            "one two three \n",
            "==================================================\n",
            "1번 학생은 합격\n",
            "2번 학생은 불합격\n",
            "3번 학생은 합격\n",
            "4번 학생은 불합격\n",
            "5번 학생은 합격\n",
            "\n",
            "==================================================\n",
            "p y t h o n "
          ]
        }
      ]
    },
    {
      "cell_type": "markdown",
      "source": [
        "### 💡 range\n",
        "- 반복문의 친한 친구\n",
        "- 사용방법\n",
        "  - range(stop)\n",
        "  - range(start, stop)\n",
        "  - range(start, stop, step) : 슬라이싱과 방법비슷 ([처음:끝:간격])\n",
        "- 리턴 : range 객체\n"
      ],
      "metadata": {
        "id": "R4LiwzvqZ2jN"
      }
    },
    {
      "cell_type": "code",
      "source": [
        "# range함수에 이것저것 넣어보고 결과보기\n",
        "num1 = range(10)\n",
        "print(list(num1)) # list로 형변환 안해주면 그냥 그대로 range객체 출력\n",
        "\n",
        "make_line()\n",
        "\n",
        "num2 = range(3, 10)\n",
        "print(list(num2))\n",
        "\n",
        "make_line()\n",
        "\n",
        "num3 = range(3, 10, 2)\n",
        "print(list(num3))\n",
        "\n",
        "# 반복문을 통해서도 결과보기\n",
        "for n in num1:\n",
        "  print(n, end=',')\n",
        "make_line()\n",
        "\n",
        "for n in num2:\n",
        "  print(n, end=',')\n",
        "make_line()\n",
        "\n",
        "for n in num3:\n",
        "  print(n, end=',')\n",
        "make_line()"
      ],
      "metadata": {
        "id": "anCPOpziZ8u2",
        "colab": {
          "base_uri": "https://localhost:8080/"
        },
        "outputId": "c902ad1b-3b24-45b2-e093-261726d9cddb"
      },
      "execution_count": null,
      "outputs": [
        {
          "output_type": "stream",
          "name": "stdout",
          "text": [
            "[0, 1, 2, 3, 4, 5, 6, 7, 8, 9]\n",
            "\n",
            "==================================================\n",
            "[3, 4, 5, 6, 7, 8, 9]\n",
            "\n",
            "==================================================\n",
            "[3, 5, 7, 9]\n",
            "0,1,2,3,4,5,6,7,8,9,\n",
            "==================================================\n",
            "3,4,5,6,7,8,9,\n",
            "==================================================\n",
            "3,5,7,9,\n",
            "==================================================\n"
          ]
        }
      ]
    },
    {
      "cell_type": "code",
      "source": [
        "# 1부터 10까지 숫자 더하기\n",
        "sum = 0\n",
        "for n in range(10+1):\n",
        "  sum += n\n",
        "  print(sum)\n",
        "print(sum)"
      ],
      "metadata": {
        "id": "qHyimMhpaWz9",
        "colab": {
          "base_uri": "https://localhost:8080/"
        },
        "outputId": "9ccfe4dd-0cf0-446d-98fe-ebb8a252c9fc"
      },
      "execution_count": 31,
      "outputs": [
        {
          "output_type": "stream",
          "name": "stdout",
          "text": [
            "0\n",
            "1\n",
            "3\n",
            "6\n",
            "10\n",
            "15\n",
            "21\n",
            "28\n",
            "36\n",
            "45\n",
            "55\n",
            "55\n"
          ]
        }
      ]
    },
    {
      "cell_type": "code",
      "source": [
        "# 구구단\n",
        "for i in range(2, 10):\n",
        "  print(f'\\n========== [{i} 단] =========\\n')\n",
        "  for j in range(1, 10):\n",
        "    print(f'        {i} X {j} = {i*j}')"
      ],
      "metadata": {
        "id": "IQ2EIqmdbVS5",
        "colab": {
          "base_uri": "https://localhost:8080/"
        },
        "outputId": "14a3c5f1-f4cf-4411-c6cd-7270541ba24c"
      },
      "execution_count": null,
      "outputs": [
        {
          "output_type": "stream",
          "name": "stdout",
          "text": [
            "\n",
            "========== [2 단] =========\n",
            "\n",
            "        2 X 1 = 2\n",
            "        2 X 2 = 4\n",
            "        2 X 3 = 6\n",
            "        2 X 4 = 8\n",
            "        2 X 5 = 10\n",
            "        2 X 6 = 12\n",
            "        2 X 7 = 14\n",
            "        2 X 8 = 16\n",
            "        2 X 9 = 18\n",
            "\n",
            "========== [3 단] =========\n",
            "\n",
            "        3 X 1 = 3\n",
            "        3 X 2 = 6\n",
            "        3 X 3 = 9\n",
            "        3 X 4 = 12\n",
            "        3 X 5 = 15\n",
            "        3 X 6 = 18\n",
            "        3 X 7 = 21\n",
            "        3 X 8 = 24\n",
            "        3 X 9 = 27\n",
            "\n",
            "========== [4 단] =========\n",
            "\n",
            "        4 X 1 = 4\n",
            "        4 X 2 = 8\n",
            "        4 X 3 = 12\n",
            "        4 X 4 = 16\n",
            "        4 X 5 = 20\n",
            "        4 X 6 = 24\n",
            "        4 X 7 = 28\n",
            "        4 X 8 = 32\n",
            "        4 X 9 = 36\n",
            "\n",
            "========== [5 단] =========\n",
            "\n",
            "        5 X 1 = 5\n",
            "        5 X 2 = 10\n",
            "        5 X 3 = 15\n",
            "        5 X 4 = 20\n",
            "        5 X 5 = 25\n",
            "        5 X 6 = 30\n",
            "        5 X 7 = 35\n",
            "        5 X 8 = 40\n",
            "        5 X 9 = 45\n",
            "\n",
            "========== [6 단] =========\n",
            "\n",
            "        6 X 1 = 6\n",
            "        6 X 2 = 12\n",
            "        6 X 3 = 18\n",
            "        6 X 4 = 24\n",
            "        6 X 5 = 30\n",
            "        6 X 6 = 36\n",
            "        6 X 7 = 42\n",
            "        6 X 8 = 48\n",
            "        6 X 9 = 54\n",
            "\n",
            "========== [7 단] =========\n",
            "\n",
            "        7 X 1 = 7\n",
            "        7 X 2 = 14\n",
            "        7 X 3 = 21\n",
            "        7 X 4 = 28\n",
            "        7 X 5 = 35\n",
            "        7 X 6 = 42\n",
            "        7 X 7 = 49\n",
            "        7 X 8 = 56\n",
            "        7 X 9 = 63\n",
            "\n",
            "========== [8 단] =========\n",
            "\n",
            "        8 X 1 = 8\n",
            "        8 X 2 = 16\n",
            "        8 X 3 = 24\n",
            "        8 X 4 = 32\n",
            "        8 X 5 = 40\n",
            "        8 X 6 = 48\n",
            "        8 X 7 = 56\n",
            "        8 X 8 = 64\n",
            "        8 X 9 = 72\n",
            "\n",
            "========== [9 단] =========\n",
            "\n",
            "        9 X 1 = 9\n",
            "        9 X 2 = 18\n",
            "        9 X 3 = 27\n",
            "        9 X 4 = 36\n",
            "        9 X 5 = 45\n",
            "        9 X 6 = 54\n",
            "        9 X 7 = 63\n",
            "        9 X 8 = 72\n",
            "        9 X 9 = 81\n"
          ]
        }
      ]
    },
    {
      "cell_type": "code",
      "source": [
        "# for문 1~10 더하기\n",
        "\n",
        "while True:\n",
        "  print('='*10, '원하는 수의 범위를 더해주는 프로그램입니다. 시작수와 끝수를 입력해주세요!', '='*10)\n",
        "  print('[q]를 입력하면 프로그램이 종료됩니다.')\n",
        "  start = input('시작수: ')\n",
        "  if start == 'q':\n",
        "    print('프로그램을 종료합니다.')\n",
        "    break\n",
        "  \n",
        "  start = int(start)\n",
        "  end = int(input('끝수: '))\n",
        "  sum = 0\n",
        "\n",
        "  if start > end:\n",
        "    print('시작수가 끝수보다 큽니다. 끝 수보다 작은 수를 입력해주세요.\\n')\n",
        "  else:\n",
        "    for i in range(start, end+1):\n",
        "      sum += i\n",
        "      \n",
        "    print(f'입력하신 {start}~{end}까지의 합은 {sum}입니다.')"
      ],
      "metadata": {
        "id": "1NghojCWbYRq",
        "colab": {
          "base_uri": "https://localhost:8080/"
        },
        "outputId": "3a715219-5916-4537-9a6c-07aa3bc08303"
      },
      "execution_count": null,
      "outputs": [
        {
          "output_type": "stream",
          "name": "stdout",
          "text": [
            "========== 원하는 수의 범위를 더해주는 프로그램입니다. 시작수와 끝수를 입력해주세요! ==========\n",
            "[q]를 입력하면 프로그램이 종료됩니다.\n",
            "시작수: 0\n",
            "끝수: 222\n",
            "입력하신 0~222까지의 합은 24753입니다.\n",
            "========== 원하는 수의 범위를 더해주는 프로그램입니다. 시작수와 끝수를 입력해주세요! ==========\n",
            "[q]를 입력하면 프로그램이 종료됩니다.\n",
            "시작수: q\n",
            "프로그램을 종료합니다.\n"
          ]
        }
      ]
    },
    {
      "cell_type": "markdown",
      "source": [
        "### 💡 append\n",
        "- append(x)는 리스트의 맨 마지막에 x를 추가\n",
        "- 어떤 자료형도 추가 가능"
      ],
      "metadata": {
        "id": "r7RHREnmcbVc"
      }
    },
    {
      "cell_type": "code",
      "source": [
        "# 1~200 사이에서 5의 배수이면서(and) 3의 배수가 아닌 합 계산하기\n",
        "\n",
        "sum = 0\n",
        "numbers = []\n",
        "\n",
        "for i in range(1, 100+1):\n",
        "  if i % 5 == 0 and i % 3 != 0:\n",
        "    numbers.append(i)\n",
        "    sum += i\n",
        "\n",
        "print('\\n5의 배수이면서 3의 배수가 아닌 수들: ')\n",
        "print(numbers)\n",
        "print('\\n총 합: ')\n",
        "print(sum)"
      ],
      "metadata": {
        "id": "pfzWWqlBcYYQ",
        "colab": {
          "base_uri": "https://localhost:8080/"
        },
        "outputId": "8f2dd699-76fe-46d3-92d2-db5917086a91"
      },
      "execution_count": null,
      "outputs": [
        {
          "output_type": "stream",
          "name": "stdout",
          "text": [
            "\n",
            "5의 배수이면서 3의 배수가 아닌 수들: \n",
            "[5, 10, 20, 25, 35, 40, 50, 55, 65, 70, 80, 85, 95, 100]\n",
            "\n",
            "총 합: \n",
            "735\n"
          ]
        }
      ]
    },
    {
      "cell_type": "markdown",
      "source": [
        "### 📝 퀴즈 2"
      ],
      "metadata": {
        "id": "CuTk0fbSbc9h"
      }
    },
    {
      "cell_type": "code",
      "source": [
        "# 문제1) for문을 사용해 전부 대문자로 바꾸기 (결과: ['A', 'B', 'C'])\n",
        "print('[ 문제 1 ]')\n",
        "letters = ['a', 'b', 'c']\n",
        "\n",
        "for c in letters:\n",
        "  print(c.upper(), end=' ')\n",
        "\n",
        "\n",
        "# 문제2) 첫글자만 출력 (결과: d, c, p)\n",
        "make_line()\n",
        "print('[ 문제 2 ]')\n",
        "\n",
        "words = ['dog', 'cat', 'parrot']\n",
        "for w in words:\n",
        "  print(w[0], end=' ')\n",
        "\n",
        "\n",
        "# 문제3) 3글자 이상인 원소 출력\n",
        "make_line()\n",
        "print('[ 문제 3 ]')\n",
        "\n",
        "n = int(input('몇 글자 이상인 원소를 출력하겠습니까?'))\n",
        "words = ['I', 'study', 'python', 'language', '!']\n",
        "count = 0\n",
        "for i in words:\n",
        "  if len(i) >= n:\n",
        "    count += 1\n",
        "    print(i, end=' ')\n",
        "print(f'\\n총 {n}글자 이상인 원소의 수는 {count}개 입니다.')\n",
        "\n",
        "\n",
        "# 문제4) 1~10까지 숫자 중 모든 홀수의 합을 출력하는 for문 작성\n",
        "make_line()\n",
        "print('[ 문제 4 ]')\n",
        "\n",
        "sum = 0\n",
        "for i in range(1, 11):\n",
        "  if i % 2 != 0:\n",
        "    sum += i\n",
        "print(sum)\n",
        "\n",
        "\n",
        "# 문제5)\n",
        "# 결과:\n",
        "  # 가 나\n",
        "  # 나 다\n",
        "  # 다 라\n",
        "  # 라 마\n",
        "make_line()\n",
        "print('[ 문제 5 ]')\n",
        "\n",
        "my_list = ['가', '나', '다', '라', '마']\n",
        "\n",
        "for i in range(0, len(my_list)-1):\n",
        "  print(my_list[i], my_list[i+1])\n"
      ],
      "metadata": {
        "id": "3jaJL-7abaf2",
        "colab": {
          "base_uri": "https://localhost:8080/"
        },
        "outputId": "64e21738-092d-4c03-9697-ef5d7615beaf"
      },
      "execution_count": null,
      "outputs": [
        {
          "output_type": "stream",
          "name": "stdout",
          "text": [
            "[ 문제 1 ]\n",
            "A B C \n",
            "==================================================\n",
            "[ 문제 2 ]\n",
            "d c p \n",
            "==================================================\n",
            "[ 문제 3 ]\n",
            "몇 글자 이상인 원소를 출력하겠습니까?3\n",
            "study python language \n",
            "총 3글자 이상인 원소의 수는 3개 입니다.\n",
            "\n",
            "==================================================\n",
            "[ 문제 4 ]\n",
            "25\n",
            "\n",
            "==================================================\n",
            "[ 문제 5 ]\n",
            "가 나\n",
            "나 다\n",
            "다 라\n",
            "라 마\n"
          ]
        }
      ]
    },
    {
      "cell_type": "code",
      "source": [
        "# if 문을 활용한 가위바위보 게임\n",
        "# 변수: 가위, 바위, 보, 이겼다, 졌다, 비겼다, 나의변수, 컴퓨터변수\n",
        "# if else만 사용해서\n",
        "\n",
        "scissor = '가위'\n",
        "rock = '바위'\n",
        "paper = '보'\n",
        "win = '이겼다!!!'\n",
        "lose ='졌다 ㅠㅠ'\n",
        "draw = '비겼다!'\n",
        "\n",
        "mine = '바위'\n",
        "yours = '가위'\n",
        "\n",
        "mine = input('가위바위보 게임입니다.\\n가위, 바위, 보 중 하나를 입력해주세요 > ')\n",
        "\n",
        "if mine == yours:\n",
        "  result = draw\n",
        "else:\n",
        "  if mine == scissor:\n",
        "    if yours == rock:\n",
        "      result = lose\n",
        "    else:\n",
        "      result = win\n",
        "  else:\n",
        "    if mine == rock:\n",
        "      if yours == paper:\n",
        "        result = lose\n",
        "      else:\n",
        "        result = win\n",
        "    else:\n",
        "      if mine == paper:\n",
        "        if yours == scissor:\n",
        "          result = lose\n",
        "        else:\n",
        "          result = win\n",
        "\n",
        "print(result)"
      ],
      "metadata": {
        "id": "G8PnZVVRblN1",
        "colab": {
          "base_uri": "https://localhost:8080/"
        },
        "outputId": "d8871894-bd50-499b-d59e-1ba556503d89"
      },
      "execution_count": null,
      "outputs": [
        {
          "output_type": "stream",
          "name": "stdout",
          "text": [
            "가위바위보 게임입니다.\n",
            "가위, 바위, 보 중 하나를 입력해주세요 > 보\n",
            "졌다 ㅠㅠ\n"
          ]
        }
      ]
    },
    {
      "cell_type": "markdown",
      "source": [
        "### 📝 퀴즈 3\n",
        "- 위의 프로그램에 추가 조건 적용\n",
        "  1. elif로 다중조건문을 변환하시오\n",
        "  2. mine을 표준입력장치로 변경해주세요\n",
        "  3. yours도 가위, 바위, 보를 랜덤하게 나오도록 업그레이드\n",
        "  4. mine에 q를 누르면 게임 종료"
      ],
      "metadata": {
        "id": "u4KFOWxhbkuA"
      }
    },
    {
      "cell_type": "code",
      "source": [
        "# 변수목록\n",
        "scissor = '가위'\n",
        "rock = '바위'\n",
        "paper = '보'\n",
        "win = '이겼다!!!'\n",
        "lose ='졌다 ㅠㅠ'\n",
        "draw = '비겼다!'\n",
        "\n",
        "mine = ''\n",
        "yours = ''\n",
        "result = ''\n",
        "\n",
        "import random\n",
        "\n",
        "while True:\n",
        "  mine = input('''\n",
        "\n",
        "    ==================================================\n",
        "\n",
        "    가위바위보 게임에 오신 것을 환영합니다.\n",
        "\n",
        "    무엇을 내시겠습니까?\n",
        "\n",
        "    (게임을 끝내고 싶으시면 [q]를 입력해주세요.)\n",
        "\n",
        "    ==================================================\n",
        "\n",
        "  ''')\n",
        "  \n",
        "  yours = random.choice([rock, scissor, paper])\n",
        "\n",
        "  if mine == 'q':\n",
        "    print('   < 게임을 종료합니다 >')\n",
        "    break\n",
        "  elif mine not in [rock, scissor, paper]:\n",
        "    print('   제대로 입력해주세요.')\n",
        "  else:\n",
        "    if mine == yours:\n",
        "      result = draw\n",
        "    else:\n",
        "      if mine == rock:\n",
        "        if yours == paper:\n",
        "          result = lose\n",
        "        else:\n",
        "          result = win\n",
        "      elif mine == scissor:\n",
        "        if yours == rock:\n",
        "          result = lose\n",
        "        else:\n",
        "          result = win\n",
        "      else:\n",
        "        if yours == scissor:\n",
        "          result = lose\n",
        "        else:\n",
        "          result = win\n",
        "\n",
        "    print()      \n",
        "    print(f'    나는 {mine}을(를) 냈고, 상대는 {yours}을(를)냈다.')\n",
        "    print('   ', result)\n"
      ],
      "metadata": {
        "id": "QaPKSZVYbu5l",
        "colab": {
          "base_uri": "https://localhost:8080/"
        },
        "outputId": "47bdab7a-a240-4432-b5f2-4a36e826cd7e"
      },
      "execution_count": null,
      "outputs": [
        {
          "output_type": "stream",
          "name": "stdout",
          "text": [
            "\n",
            "\n",
            "    ==================================================\n",
            "\n",
            "    가위바위보 게임에 오신 것을 환영합니다.\n",
            "\n",
            "    무엇을 내시겠습니까?\n",
            "\n",
            "    (게임을 끝내고 싶으시면 [q]를 입력해주세요.)\n",
            "\n",
            "    ==================================================\n",
            "\n",
            "  가위\n",
            "\n",
            "    나는 가위을(를) 냈고, 상대는 가위을(를)냈다.\n",
            "    비겼다!\n",
            "\n",
            "\n",
            "    ==================================================\n",
            "\n",
            "    가위바위보 게임에 오신 것을 환영합니다.\n",
            "\n",
            "    무엇을 내시겠습니까?\n",
            "\n",
            "    (게임을 끝내고 싶으시면 [q]를 입력해주세요.)\n",
            "\n",
            "    ==================================================\n",
            "\n",
            "  바위\n",
            "\n",
            "    나는 바위을(를) 냈고, 상대는 보을(를)냈다.\n",
            "    졌다 ㅠㅠ\n",
            "\n",
            "\n",
            "    ==================================================\n",
            "\n",
            "    가위바위보 게임에 오신 것을 환영합니다.\n",
            "\n",
            "    무엇을 내시겠습니까?\n",
            "\n",
            "    (게임을 끝내고 싶으시면 [q]를 입력해주세요.)\n",
            "\n",
            "    ==================================================\n",
            "\n",
            "  보\n",
            "\n",
            "    나는 보을(를) 냈고, 상대는 바위을(를)냈다.\n",
            "    이겼다!!!\n",
            "\n",
            "\n",
            "    ==================================================\n",
            "\n",
            "    가위바위보 게임에 오신 것을 환영합니다.\n",
            "\n",
            "    무엇을 내시겠습니까?\n",
            "\n",
            "    (게임을 끝내고 싶으시면 [q]를 입력해주세요.)\n",
            "\n",
            "    ==================================================\n",
            "\n",
            "  q\n",
            "   < 게임을 종료합니다 >\n"
          ]
        }
      ]
    },
    {
      "cell_type": "markdown",
      "source": [
        "### 📝 퀴즈 4\n",
        "- 업다운 게임\n",
        "- 기회는 다섯번"
      ],
      "metadata": {
        "id": "VcoJt54eb-SP"
      }
    },
    {
      "cell_type": "code",
      "source": [
        "win = '''\n",
        "##################################################\n",
        "#                                                #\n",
        "#                     맞췄다!!                     #\n",
        "#                   축하합니다!!!                   #\n",
        "#                                                #\n",
        "##################################################\n",
        "'''\n",
        "\n",
        "lose = '''\n",
        "##################################################\n",
        "                                               \n",
        "                 그걸 못맞추네ㅋㅋㅋㅋ               \n",
        "                                                \n",
        "##################################################\n",
        "'''\n",
        "up = 'UP!\\n'\n",
        "down = 'DOWN!\\n'\n",
        "\n",
        "result = ''\n",
        "count = 0\n",
        "limit = 5\n",
        "\n",
        "yours = random.choice(range(1, 100+1))\n",
        "print('''\n",
        "  ==================================================\n",
        "\n",
        "  업다운 게임을 시작합니다.\n",
        "  1부터 100까지의 숫자 중 원하는 숫자를 입력해 맞춰보세요!\n",
        "  기회는 5번 입니다.\n",
        "  \n",
        "  종료하시려면 0을 눌러주세요.\n",
        "\n",
        "  ==================================================\n",
        "\n",
        "  ''')\n",
        "\n",
        "while True:\n",
        "  mine = int(input())\n",
        "\n",
        "  if mine == 0:\n",
        "    print(' < 게임을 종료합니다. > ')\n",
        "    break\n",
        "  elif mine == yours:\n",
        "    result = win\n",
        "    print(result)\n",
        "    break\n",
        "  else:\n",
        "    count += 1\n",
        "    if count >= limit:\n",
        "      result = lose\n",
        "      print(result)\n",
        "      break\n",
        "    else:\n",
        "      if mine < yours:\n",
        "        result = up\n",
        "      else:\n",
        "        result = down\n",
        "  \n",
        "  print()\n",
        "  print(result)"
      ],
      "metadata": {
        "id": "SdRdW4UZb9Mw",
        "colab": {
          "base_uri": "https://localhost:8080/"
        },
        "outputId": "9945babc-d15c-457b-f019-52f9e8759358"
      },
      "execution_count": null,
      "outputs": [
        {
          "output_type": "stream",
          "name": "stdout",
          "text": [
            "\n",
            "  ==================================================\n",
            "\n",
            "  업다운 게임을 시작합니다.\n",
            "  1부터 100까지의 숫자 중 원하는 숫자를 입력해 맞춰보세요!\n",
            "  기회는 5번 입니다.\n",
            "  \n",
            "  종료하시려면 0을 눌러주세요.\n",
            "\n",
            "  ==================================================\n",
            "\n",
            "  \n",
            "50\n",
            "\n",
            "UP!\n",
            "\n",
            "75\n",
            "\n",
            "UP!\n",
            "\n",
            "90\n",
            "\n",
            "UP!\n",
            "\n",
            "95\n",
            "\n",
            "DOWN!\n",
            "\n",
            "91\n",
            "\n",
            "##################################################\n",
            "                                               \n",
            "                 그걸 못맞추네ㅋㅋㅋㅋ               \n",
            "                                                \n",
            "##################################################\n",
            "\n"
          ]
        }
      ]
    }
  ]
}