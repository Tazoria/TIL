{
  "nbformat": 4,
  "nbformat_minor": 0,
  "metadata": {
    "colab": {
      "provenance": [],
      "authorship_tag": "ABX9TyNUN4eQS4v6BvRiRXnH2RNG",
      "include_colab_link": true
    },
    "kernelspec": {
      "name": "python3",
      "display_name": "Python 3"
    },
    "language_info": {
      "name": "python"
    }
  },
  "cells": [
    {
      "cell_type": "markdown",
      "metadata": {
        "id": "view-in-github",
        "colab_type": "text"
      },
      "source": [
        "<a href=\"https://colab.research.google.com/github/Tazoria/TIL/blob/main/python/06_%ED%81%B4%EB%9E%98%EC%8A%A4_banking.ipynb\" target=\"_parent\"><img src=\"https://colab.research.google.com/assets/colab-badge.svg\" alt=\"Open In Colab\"/></a>"
      ]
    },
    {
      "cell_type": "markdown",
      "source": [
        "# ✅ 은행 만들기\n",
        "- 속성\n",
        "  - 계좌번호, '123456'\n",
        "  - owner: 이름(문자열)\n",
        "  - balance(비공개속성)\n",
        "- 메소드\n",
        "  - deposit\n",
        "  - withdraw\n",
        "  - 조회: balance 출력"
      ],
      "metadata": {
        "id": "Mvrxhu_mIs1g"
      }
    },
    {
      "cell_type": "code",
      "source": [
        "class Account():\n",
        "  def __init__(self, ano, owner, balance):\n",
        "    self.ano = ano\n",
        "    self.owner = owner\n",
        "    self.balance = balance\n",
        "  def deposit(self, amount):\n",
        "    if (amount+self.balance) >= 10000000:\n",
        "      print('입금한도 초과로 입금이 불가합니다.')\n",
        "    elif (amount+self.balance) <= 0:\n",
        "      print(f'잔액이 부족합니다. 현재 남은 잔액은 {self.balance}원입니다.')\n",
        "    else:\n",
        "      self.balance += amount\n",
        "  def withdraw(self, amount):\n",
        "    if (self.balance-amount) <= 0:\n",
        "      print('금액이 모자랍니다.')\n",
        "    else:\n",
        "      self.balance -= amount\n",
        "  def __str__(self): # 객체가 메소드를 사용할 때를 포함해 항상 결과값으로 아랫값을 리턴(메소드의 결과 + __str__의 내용)\n",
        "    return f'계좌번호:{self.ano}, 소유주: {self.owner}, 잔액: {self.balance: 9,d}' # 돈은 오른쪽 정렬(9칸은 1000만 단위라서)"
      ],
      "metadata": {
        "id": "gGZ3GuKtJXVL"
      },
      "execution_count": null,
      "outputs": []
    },
    {
      "cell_type": "code",
      "source": [
        "acc = Account('12345', '제임스', 100000)\n",
        "print(acc)"
      ],
      "metadata": {
        "colab": {
          "base_uri": "https://localhost:8080/"
        },
        "id": "Re3rnr8cLOjt",
        "outputId": "a37a7e4e-780a-4f13-dae7-ddfa8d8bbdbc"
      },
      "execution_count": null,
      "outputs": [
        {
          "output_type": "stream",
          "name": "stdout",
          "text": [
            "계좌번호:12345, 소유주제임스, 잔액  100,000\n"
          ]
        }
      ]
    },
    {
      "cell_type": "code",
      "source": [
        "acc.deposit(3000000)\n",
        "print(acc)"
      ],
      "metadata": {
        "colab": {
          "base_uri": "https://localhost:8080/"
        },
        "id": "EiRHVBT-M-of",
        "outputId": "6ac23718-0d9f-4656-c569-469d2c60a343"
      },
      "execution_count": null,
      "outputs": [
        {
          "output_type": "stream",
          "name": "stdout",
          "text": [
            "계좌번호:12345, 소유주제임스, 잔액 3,100,000\n"
          ]
        }
      ]
    },
    {
      "cell_type": "code",
      "source": [
        "acc.deposit(7000000)\n",
        "print(acc)"
      ],
      "metadata": {
        "colab": {
          "base_uri": "https://localhost:8080/"
        },
        "id": "8d5039u8dJ2F",
        "outputId": "0b7c5589-7177-45a9-cf26-15fb7e53c1da"
      },
      "execution_count": null,
      "outputs": [
        {
          "output_type": "stream",
          "name": "stdout",
          "text": [
            "입금한도 초과로 입금이 불가합니다.\n",
            "계좌번호:12345, 소유주제임스, 잔액 3,100,000\n"
          ]
        }
      ]
    },
    {
      "cell_type": "code",
      "source": [
        "acc.withdraw(20000000)\n",
        "print(acc)"
      ],
      "metadata": {
        "colab": {
          "base_uri": "https://localhost:8080/"
        },
        "id": "vUmIIgPPdNv1",
        "outputId": "ff715479-dac7-4467-93a2-244a200479cf"
      },
      "execution_count": null,
      "outputs": [
        {
          "output_type": "stream",
          "name": "stdout",
          "text": [
            "금액이 모자랍니다.\n",
            "계좌번호:12345, 소유주제임스, 잔액 3,100,000\n"
          ]
        }
      ]
    },
    {
      "cell_type": "code",
      "source": [
        "acc2 = Account('987654', '마리아', 3000000)\n",
        "print(acc2)"
      ],
      "metadata": {
        "colab": {
          "base_uri": "https://localhost:8080/"
        },
        "id": "1RQpT2p5dovs",
        "outputId": "c0261fb9-22ed-439a-9eab-53da495624fe"
      },
      "execution_count": null,
      "outputs": [
        {
          "output_type": "stream",
          "name": "stdout",
          "text": [
            "계좌번호:987654, 소유주마리아, 잔액 3,000,000\n"
          ]
        }
      ]
    },
    {
      "cell_type": "code",
      "source": [
        "# 중복계좌 확인\n",
        "acc_list = [acc, acc2]\n",
        "def check_duplicate(ano):\n",
        "  for acc in acc_list:\n",
        "    if ano == acc.ano:\n",
        "      return True\n",
        "  return False"
      ],
      "metadata": {
        "id": "1zkg4eRdeTJp"
      },
      "execution_count": null,
      "outputs": []
    },
    {
      "cell_type": "code",
      "source": [
        "# 사용자로부터 필요한 정보를 입력받아서 계좌 생성 - 함수에서 인스턴스를 생성!\n",
        "def create_account():\n",
        "  while True:\n",
        "    s = input('계좌번호 성명 금액을 입력 (한 칸씩 띄어서 입력) > ').split()\n",
        "    ano, owner = s[0], s[1]\n",
        "    amount = int(s[2])\n",
        "    if not check_duplicate(ano):\n",
        "      break\n",
        "  acc = Account(ano, owner, amount)\n",
        "  acc_list.append(acc)"
      ],
      "metadata": {
        "id": "-L49dhIee5n5"
      },
      "execution_count": null,
      "outputs": []
    },
    {
      "cell_type": "code",
      "source": [
        "# 사용자로부터 필요한 정보를 입력받아서 계좌에 돈을 입금\n",
        "def deposit_account():\n",
        "  s = input('계좌번호 금액 (띄어쓰기 구분) > ').split()\n",
        "  ano, amount = s[0], int(s[1])\n",
        "  for acc in acc_list:\n",
        "    if acc.ano == ano:\n",
        "      acc.deposit(amount)\n",
        "      return "
      ],
      "metadata": {
        "id": "qp00o-AAf0EC"
      },
      "execution_count": null,
      "outputs": []
    },
    {
      "cell_type": "code",
      "source": [
        "def withdraw_account():\n",
        "  s = input('계좌번호 금액 > ').split()\n",
        "  ano, amount = s[0], int(s[1])\n",
        "  for acc in acc_list:\n",
        "    if acc.ano == ano:\n",
        "      acc.withdraw(amount)\n",
        "      return"
      ],
      "metadata": {
        "id": "tCCNYxwigcmg"
      },
      "execution_count": null,
      "outputs": []
    },
    {
      "cell_type": "code",
      "source": [
        "# 화면\n",
        "while True:\n",
        "  menu = int(input('1:계좌생성, 2:계좌목록, 3:입금, 4:출금, 5:종료 > '))\n",
        "  if menu == 5:\n",
        "    break\n",
        "  if menu ==1:\n",
        "    create_account()\n",
        "  elif menu == 2:\n",
        "    for account in acc_list:\n",
        "      print(account)\n",
        "  elif menu == 3:\n",
        "    deposit_account()\n",
        "  elif menu == 4:\n",
        "    withdraw_account()\n",
        "  print()"
      ],
      "metadata": {
        "colab": {
          "base_uri": "https://localhost:8080/"
        },
        "id": "Lg1eLRBThkvz",
        "outputId": "77259be7-b366-4ed5-b788-d30c3322051b"
      },
      "execution_count": null,
      "outputs": [
        {
          "name": "stdout",
          "output_type": "stream",
          "text": [
            "1:계좌생성, 2:계좌목록, 3:입금, 4:출금, 5:종료 > 4\n",
            "계좌번호 금액 > 23456 1000000\n",
            "\n",
            "1:계좌생성, 2:계좌목록, 3:입금, 4:출금, 5:종료 > 2\n",
            "계좌번호:12345, 소유주제임스, 잔액 3,100,000\n",
            "계좌번호:987654, 소유주마리아, 잔액 3,000,000\n",
            "계좌번호:23456, 소유주이가연, 잔액 8,999,999\n",
            "\n",
            "1:계좌생성, 2:계좌목록, 3:입금, 4:출금, 5:종료 > 2\n",
            "계좌번호:12345, 소유주제임스, 잔액 3,100,000\n",
            "계좌번호:987654, 소유주마리아, 잔액 3,000,000\n",
            "계좌번호:23456, 소유주이가연, 잔액 8,999,999\n",
            "\n",
            "1:계좌생성, 2:계좌목록, 3:입금, 4:출금, 5:종료 > 5\n"
          ]
        }
      ]
    }
  ]
}