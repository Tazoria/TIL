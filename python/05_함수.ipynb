{
  "nbformat": 4,
  "nbformat_minor": 0,
  "metadata": {
    "colab": {
      "provenance": [],
      "toc_visible": true,
      "authorship_tag": "ABX9TyMrzJ+GM11LdA7oYs8fx4cF",
      "include_colab_link": true
    },
    "kernelspec": {
      "name": "python3",
      "display_name": "Python 3"
    },
    "language_info": {
      "name": "python"
    }
  },
  "cells": [
    {
      "cell_type": "markdown",
      "metadata": {
        "id": "view-in-github",
        "colab_type": "text"
      },
      "source": [
        "<a href=\"https://colab.research.google.com/github/Tazoria/TIL/blob/main/python/05_%ED%95%A8%EC%88%98.ipynb\" target=\"_parent\"><img src=\"https://colab.research.google.com/assets/colab-badge.svg\" alt=\"Open In Colab\"/></a>"
      ]
    },
    {
      "cell_type": "markdown",
      "source": [
        "# 💕 내장 함수\n",
        "- 이미 만들어져 있는 함수 / 사용자가 만들지 않아도 바로 사용할 수 있는 함수\n",
        "- 파이썬에 기본적으로 내장\n",
        "- print ( ), input ( ), type ( )"
      ],
      "metadata": {
        "id": "fvhNX7GvgCRw"
      }
    },
    {
      "cell_type": "markdown",
      "source": [
        "## ⭐️ 💡 map ( )\n",
        "- 지정한 함수에 값을 하나씩 넣어서 실행한 후 그 결과를 저장\n",
        "- map ( 적용시킬 함수 , 적용할 값1(iterable), 적용할 값2 ...)\n",
        "- map ( ) 의 반환값은 map 객체이기 때문에 해당 자료형을 list 혹은 tuple 형으로 변환\n",
        "  - list ( ) 등과 세트로 쓰임 !\n",
        "- 때에 따라 반복문이나 리스트 내포를 이용할 필요가 없어져 코드가 간결해짐!"
      ],
      "metadata": {
        "id": "yMnVISHjbHSM"
      }
    },
    {
      "cell_type": "code",
      "source": [
        "a, b = map(int, [10.2,33.2])\n",
        "print(a, b)"
      ],
      "metadata": {
        "colab": {
          "base_uri": "https://localhost:8080/"
        },
        "id": "8Qrm96q2bHBi",
        "outputId": "34f42a49-ba69-4bb0-a3cd-7757b6e523fa"
      },
      "execution_count": null,
      "outputs": [
        {
          "output_type": "stream",
          "name": "stdout",
          "text": [
            "10 33\n"
          ]
        }
      ]
    },
    {
      "cell_type": "code",
      "source": [
        "# 각 원소 값 + 1\n",
        "def add_one(n):\n",
        "  return n+1\n",
        "\n",
        "mylist = [1,2,3,4,5]\n",
        "\n",
        "result = list(map(add_one, mylist))\n",
        "print(result)"
      ],
      "metadata": {
        "colab": {
          "base_uri": "https://localhost:8080/"
        },
        "id": "Lj5GnMj3jSJK",
        "outputId": "e63a0eb4-97ec-411d-cb9b-3043db6f86fb"
      },
      "execution_count": null,
      "outputs": [
        {
          "output_type": "stream",
          "name": "stdout",
          "text": [
            "[2, 3, 4, 5, 6]\n"
          ]
        }
      ]
    },
    {
      "cell_type": "code",
      "source": [
        "# 정수 2개를 한꺼번에 입력받고 정수화 하여 저장\n",
        "a, b = map(int, input('두 정수를 입력해주세요(콤마 구분) > ').split(','))\n",
        "print(a, b)\n",
        "print(type(a), type(b))"
      ],
      "metadata": {
        "colab": {
          "base_uri": "https://localhost:8080/"
        },
        "id": "Xavxjc6Flm0x",
        "outputId": "5c67dbb1-8f68-4744-9de7-a3eb68954ff2"
      },
      "execution_count": null,
      "outputs": [
        {
          "output_type": "stream",
          "name": "stdout",
          "text": [
            "두 정수를 입력해주세요(콤마 구분) > 1,2\n",
            "1 2\n",
            "<class 'int'> <class 'int'>\n"
          ]
        }
      ]
    },
    {
      "cell_type": "markdown",
      "source": [
        "## ⭐️ 💡 zip ( *iterable )\n",
        "- 동일한 개수로 이루어진 데이터들을 묶어서 리턴하는 함수"
      ],
      "metadata": {
        "id": "tYkX7L8ZdDwD"
      }
    },
    {
      "cell_type": "code",
      "source": [
        "print(list(zip([1, 2, 3], [4, 5, 6])))\n",
        "print(list(zip([1, 2, 3], [4, 5, 6], [7, 8, 9])))\n",
        "print(list(zip(\"abc\", \"def\")))"
      ],
      "metadata": {
        "id": "q4D6_cgFW-rK",
        "colab": {
          "base_uri": "https://localhost:8080/"
        },
        "outputId": "51074566-5d54-4cf9-c231-f111ad6622d3"
      },
      "execution_count": 3,
      "outputs": [
        {
          "output_type": "stream",
          "name": "stdout",
          "text": [
            "[(1, 4), (2, 5), (3, 6)]\n",
            "[(1, 4, 7), (2, 5, 8), (3, 6, 9)]\n",
            "[('a', 'd'), ('b', 'e'), ('c', 'f')]\n"
          ]
        }
      ]
    },
    {
      "cell_type": "code",
      "source": [
        "# abs()\n",
        "print('abs(-3.2): ', abs(-3.2))\n",
        "\n",
        "# any()\n",
        "print('any([1,0,3])', any([1,0,3]))\n",
        "\n",
        "# dir() : 인자로 들어간 값의 자료형에 사용할 수 있는 함수 목록?\n",
        "print(' dir([1,2]): ', dir([1,2]))\n",
        "\n",
        "# divmod()\n",
        "print('divmod(7.1,3.5)', divmod(7.1,3.5))\n",
        "\n",
        "# enumerate()\n",
        "for i, name in enumerate(['body', 'foot', 'arm']):\n",
        "  print(i, name)\n",
        "\n",
        "# eval() : 문자열 수식 -> 계산 가능한 수식 -> 연산결과\n",
        "print(\"eval('1+2')\", eval('1+2'))\n",
        "\n",
        "# filter\n",
        "def positive(x):\n",
        "  return x > 0\n",
        "a = list(filter(positive, [1,-3,2,0,-5,6]))\n",
        "print(a)\n",
        "\n",
        "# id()\n",
        "print('id(a): ', id(a))\n",
        "\n",
        "# input()\n",
        "# b = input('인사말을 넣으세요. ')\n",
        "\n",
        "# 형변환\n",
        "print(int('11', 2)) # 이진수문자열 -> 정수\n",
        "\n",
        "# len()"
      ],
      "metadata": {
        "colab": {
          "base_uri": "https://localhost:8080/"
        },
        "id": "ddb2paKagSd7",
        "outputId": "6683f8ad-bf7a-49b1-fcdc-8ea7ff3dfd1e"
      },
      "execution_count": null,
      "outputs": [
        {
          "output_type": "stream",
          "name": "stdout",
          "text": [
            "abs(-3.2):  3.2\n",
            "any([1,0,3]) True\n",
            " dir([1,2]):  ['__add__', '__class__', '__class_getitem__', '__contains__', '__delattr__', '__delitem__', '__dir__', '__doc__', '__eq__', '__format__', '__ge__', '__getattribute__', '__getitem__', '__gt__', '__hash__', '__iadd__', '__imul__', '__init__', '__init_subclass__', '__iter__', '__le__', '__len__', '__lt__', '__mul__', '__ne__', '__new__', '__reduce__', '__reduce_ex__', '__repr__', '__reversed__', '__rmul__', '__setattr__', '__setitem__', '__sizeof__', '__str__', '__subclasshook__', 'append', 'clear', 'copy', 'count', 'extend', 'index', 'insert', 'pop', 'remove', 'reverse', 'sort']\n",
            "divmod(7.1,3.5) (2.0, 0.09999999999999964)\n",
            "0 body\n",
            "1 foot\n",
            "2 arm\n",
            "eval('1+2') 3\n",
            "[1, 2, 6]\n",
            "id(a):  140193943118400\n",
            "3\n"
          ]
        }
      ]
    },
    {
      "cell_type": "markdown",
      "source": [
        "# 💕 외장 함수"
      ],
      "metadata": {
        "id": "wN2RQaT2nkcF"
      }
    },
    {
      "cell_type": "code",
      "source": [
        "# pickle 라이브러리 사용해보기!\n",
        "# 파일쓰기\n",
        "import pickle\n",
        "\n",
        "f = open('text.txt', 'wb') # 파일을 읽고 쓸 수 있도록 하는 함수, 'wb'는 바이너리 형태로 쓰는 옵션(딕셔너리는 바이너리로 써야함)\n",
        "data = { 1:'python', 2:'you need'}\n",
        "pickle.dump(data, f)"
      ],
      "metadata": {
        "id": "UpUCu5u7ihIl"
      },
      "execution_count": null,
      "outputs": []
    },
    {
      "cell_type": "code",
      "source": [
        "# 파일읽기 - 클라우드 환경에서는 간혹 에러남 - drive() import 해서 연결해서 쓰면 안날듯?\n",
        "from google.colab import drive\n",
        "drive.mount('/content/drive')\n",
        "\n",
        "import pickle\n",
        "f = open('text.txt', 'rb')\n",
        "data = pickle.load(f)\n",
        "\n",
        "print(data)"
      ],
      "metadata": {
        "colab": {
          "base_uri": "https://localhost:8080/"
        },
        "id": "kOHa5vdEpsUb",
        "outputId": "066e078d-5e6a-4aa5-9182-f86f1c7cde84"
      },
      "execution_count": null,
      "outputs": [
        {
          "output_type": "stream",
          "name": "stdout",
          "text": [
            "{1: 'python', 2: 'you need'}\n"
          ]
        }
      ]
    },
    {
      "cell_type": "code",
      "source": [
        "# 파이썬스러운 파일 읽고쓰기 방식\n",
        "# 쓰기\n",
        "import pickle\n",
        "score = {'kor': 100, 'eng':90, 'math':80}\n",
        "with open('sco.pkl', 'wb') as file:\n",
        "  pickle.dump(score, file)"
      ],
      "metadata": {
        "id": "zIrbfOWWqQGr"
      },
      "execution_count": null,
      "outputs": []
    },
    {
      "cell_type": "code",
      "source": [
        "# 읽기\n",
        "import pickle\n",
        "with open('sco.pkl', 'rb') as file:\n",
        "  new_score = pickle.load(file)\n",
        "\n",
        "print(new_score)"
      ],
      "metadata": {
        "colab": {
          "base_uri": "https://localhost:8080/"
        },
        "id": "_Jq-TPdjrEv2",
        "outputId": "a434a237-2d84-4350-d325-686d83b9cd91"
      },
      "execution_count": null,
      "outputs": [
        {
          "output_type": "stream",
          "name": "stdout",
          "text": [
            "{'kor': 100, 'eng': 90, 'math': 80}\n"
          ]
        }
      ]
    },
    {
      "cell_type": "code",
      "source": [
        "# time() : 1970년 1월 1일 0시 0분 0초 이후로부터의 경과시간(초)\n",
        "\n",
        "# time.sleep(초) : 해당시간동안 코드진행을 잠시 멈춤"
      ],
      "metadata": {
        "id": "ApZ78AcY86lQ"
      },
      "execution_count": null,
      "outputs": []
    },
    {
      "cell_type": "markdown",
      "source": [
        "# 💕 사용자 정의 함수"
      ],
      "metadata": {
        "id": "HUBtFOhyGNNj"
      }
    },
    {
      "cell_type": "code",
      "source": [
        "# a = 1\n",
        "# print(a)\n",
        "# print(type(a))\n",
        "# print(print(f'지금 사용하는 변수는 {a}, 타입은 {type(a)}입니다.\\n'))\n",
        "\n",
        "def value_print(x):\n",
        "    print(x)\n",
        "    print(type(x))\n",
        "    print(print(f'지금 사용하는 변수는 {x}, 타입은 {type(x)}입니다.\\n'))\n",
        "\n",
        "# a = value_print(2)\n",
        "# b = value_print('string')\n",
        "\n",
        "\n",
        "\n",
        "def hello():\n",
        "    print('hello world!')\n",
        "\n",
        "hello()\n",
        "\n",
        "# 순서를 바꾸면 안됨\n",
        "# hello2()\n",
        "# def hello2():\n",
        "#     print('hello world!')\n",
        "\n",
        "# 빈함수 : 코드 구현 과정에 사용\n",
        "def hello3():\n",
        "    pass\n",
        "\n",
        "hello3()"
      ],
      "metadata": {
        "colab": {
          "base_uri": "https://localhost:8080/"
        },
        "id": "BVp750z7AM2p",
        "outputId": "3149bdee-909c-44da-f5fe-5c3c3962bac1"
      },
      "execution_count": null,
      "outputs": [
        {
          "output_type": "stream",
          "name": "stdout",
          "text": [
            "hello world!\n",
            "120\n",
            "80\n",
            "(10, 20, 30)\n",
            "10 20 30\n",
            "my_fuc에는 (1, 2, 3, 4)가 있고 타입은 <class 'tuple'>라고 한다.\n",
            "10\n",
            "20\n",
            "30\n",
            "10\n",
            "20\n",
            "30\n",
            "10\n",
            "20\n",
            "30\n",
            "55\n"
          ]
        }
      ]
    },
    {
      "cell_type": "code",
      "source": [
        "# 덧셈함수 선언\n",
        "def sum1(a, b):\n",
        "    result = a + b\n",
        "    print(result)\n",
        "\n",
        "def sum2(a, b):\n",
        "    print(a+b)\n",
        "\n",
        "# 함수호출\n",
        "sum1(100, 20)\n",
        "sum2(30, 50)\n",
        "\n",
        "# return의 값은 여러개가 들어갈 수 있음 (튜플형으로 패킹해서 리턴)"
      ],
      "metadata": {
        "id": "iDdZRDTlX-MI"
      },
      "execution_count": null,
      "outputs": []
    },
    {
      "cell_type": "markdown",
      "source": [
        "## 💡 언패킹과 사용자함수\n",
        "- 사용자 함수의 인자로 튜플을 언패킹 해서 하나씩 넘겨줄 수 있음\n",
        "- 인자의 길이를 모르는 경우 함수 선언시 파라미터 이름 앞에 *을 붙이면?\n",
        "  - 가변인자(*args)\n",
        "  - 인자를 받을 때 입력값을 전부 모아 튜플로 만들어줌\n"
      ],
      "metadata": {
        "id": "hqozxq23O3QO"
      }
    },
    {
      "cell_type": "code",
      "source": [
        "# 언패킹\n",
        "x = (10, 20, 30)\n",
        "print(x)\n",
        "print(*x)\n",
        "\n",
        "def my_fuc(a):\n",
        "    print(f'my_fuc에는 {a}가 있고 타입은 {type(a)}라고 한다.')\n",
        "\n",
        "tp = (1,2,3,4)\n",
        "my_fuc(tp)\n",
        "\n",
        "def print_number(a, b, c):\n",
        "    print(a)\n",
        "    print(b)\n",
        "    print(c)\n",
        "\n",
        "print_number(10, 20, 30)\n",
        "\n",
        "x = [10, 20, 30]\n",
        "y = (10, 20, 30)\n",
        "\n",
        "# 에러발생\n",
        "# print_number(x)\n",
        "# print_number(y)\n",
        "\n",
        "# 정상작동\n",
        "print_number(*x)\n",
        "print_number(*y)\n",
        "\n",
        "# 가변인자 활용\n",
        "def sum_many(*args): # arguments\n",
        "    sum = 0\n",
        "    for i in args:\n",
        "        sum += i\n",
        "    return sum\n",
        "\n",
        "result = sum_many(1,2,3,4,5,6,7,8,9,10)\n",
        "print(result)"
      ],
      "metadata": {
        "id": "eQHLmGZ2YFAZ",
        "colab": {
          "base_uri": "https://localhost:8080/"
        },
        "outputId": "8e89141d-6770-454b-c8b5-dec0a1a8e26e"
      },
      "execution_count": 1,
      "outputs": [
        {
          "output_type": "stream",
          "name": "stdout",
          "text": [
            "(10, 20, 30)\n",
            "10 20 30\n",
            "my_fuc에는 (1, 2, 3, 4)가 있고 타입은 <class 'tuple'>라고 한다.\n",
            "10\n",
            "20\n",
            "30\n",
            "10\n",
            "20\n",
            "30\n",
            "10\n",
            "20\n",
            "30\n"
          ]
        }
      ]
    },
    {
      "cell_type": "markdown",
      "source": [
        "## 💡 키워드 인수\n",
        "- **kwargs : 매개변수 이름 앞에 **을 붙임\n",
        "- 인자로 받은 모든 key=value 형태의 입력값이 그 딕셔너리에 저장됨\n",
        "- 고정인자 vs 키워드 가변인자\n",
        "  - 고정인자로 받게 되면 모든 인자들을 순서에 맞게 입력해야 올바른 출력결과를 얻을 수 있어서 불편함\n",
        "  - 키워드 인수를 이용하면 딕셔너리 형태로 저장되므로 key=value형태로만 넣어준다면 순서에 구애받지 않음"
      ],
      "metadata": {
        "id": "qLR0Coo5QD5Q"
      }
    },
    {
      "cell_type": "code",
      "source": [
        "# 키워드인수\n",
        "address = '신촌'\n",
        "name = '홍길동'\n",
        "age = 45\n",
        "weight = 90\n",
        "\n",
        "def personal_info1(name=name, age=age, address=address, weight='비밀'): # 값이 있으면 해당값을 넣고 없는경우 미리 설정해놓은 값을 넣음 \n",
        "  print('이름: ', name)\n",
        "  print('나이: ', age)\n",
        "  print('주소: ', address)\n",
        "  print('몸무게: ', weight)\n",
        "\n",
        "\n",
        "personal_info1(weight=90)\n",
        "\n",
        "x = {'name':'홍길동', 'age':30, 'addr':'신촌'}\n",
        "\n",
        "\n",
        "def personal_info2(name, age, address, weight='비밀'):\n",
        "  print('이름: ', name)\n",
        "  print('나이: ', age)\n",
        "  print('주소: ', address)\n",
        "  print('몸무게: ', weight)\n",
        "personal_info2(*x) # 언패킹하면 키만 들어감! (name, age, addr)\n",
        "\n",
        "\n",
        "# 딕셔너리 함수 받기\n",
        "def personal_info3(name, age, addr, weight='비밀'): # 이렇게 하면 키값과 파라미터 이름을 맞춰줘야함\n",
        "  print('이름: ', name)\n",
        "  print('나이: ', age)\n",
        "  print('주소: ', address)\n",
        "  print('몸무게: ', weight)\n",
        "personal_info3(**x)\n",
        "\n",
        "# **kwargs 사용\n",
        "def personal_info4(**kwargs):\n",
        "  for key, value in kwargs.items():\n",
        "    print('키는', key, '벨류는', value)\n",
        "\n",
        "personal_info4(**x)"
      ],
      "metadata": {
        "colab": {
          "base_uri": "https://localhost:8080/"
        },
        "id": "e_DBocPgYOvU",
        "outputId": "01cd627f-3b7b-454a-b08d-bee0973a68b5"
      },
      "execution_count": null,
      "outputs": [
        {
          "output_type": "stream",
          "name": "stdout",
          "text": [
            "이름:  홍길동\n",
            "나이:  45\n",
            "주소:  신촌\n",
            "몸무게:  90\n",
            "이름:  name\n",
            "나이:  age\n",
            "주소:  addr\n",
            "몸무게:  비밀\n",
            "이름:  홍길동\n",
            "나이:  30\n",
            "주소:  신촌\n",
            "몸무게:  비밀\n",
            "키는 name 벨류는 홍길동\n",
            "키는 age 벨류는 30\n",
            "키는 addr 벨류는 신촌\n"
          ]
        }
      ]
    },
    {
      "cell_type": "code",
      "source": [
        "# 숫자를 입력받아서 짝수인지 홀수인지 구분하는 함수\n",
        "# 짝수(even), 홀수(odd)\n",
        "# 함수 이름: even_odd()\n",
        "\n",
        "def even_odd(n):\n",
        "  if n % 2 == 0:\n",
        "    return('even')\n",
        "  else:\n",
        "    return('odd')\n",
        "\n",
        "# return 키워드 실행시 함수가 종료되는 점을 이용\n",
        "def even_odd2(num):\n",
        "  if num % 2 ==0:\n",
        "    return 'even'\n",
        "  return 'odd'\n",
        "\n",
        "even_odd(0)\n",
        "\n",
        "# seven(num) : num을 입력받아서 num보다 큰 7의 배수중에서 제일 작은 수를 찾는 함수\n",
        "# seven(22) : 28\n",
        "\n",
        "import random\n",
        "\n",
        "def seven(num):\n",
        "  min = 0\n",
        "  for n in range(num+1, num+10):\n",
        "    if n % 7 == 0:\n",
        "      min = n\n",
        "      break\n",
        "  return min\n",
        "\n",
        "# 강사님 방법 : 더 간단해짐! 변수 필요없고 바로 리턴해버리면 됨!\n",
        "def seven2(num):\n",
        "  for i in range(num+1, num+10):\n",
        "    if i % 7 ==0 :\n",
        "      return i\n",
        "\n",
        "seven(45)"
      ],
      "metadata": {
        "colab": {
          "base_uri": "https://localhost:8080/"
        },
        "id": "a2BCkQQafT70",
        "outputId": "ef7c342e-2cac-474e-da48-3112726af791"
      },
      "execution_count": null,
      "outputs": [
        {
          "output_type": "execute_result",
          "data": {
            "text/plain": [
              "49"
            ]
          },
          "metadata": {},
          "execution_count": 23
        }
      ]
    },
    {
      "cell_type": "code",
      "source": [
        "from statistics import mean, variance\n",
        "from math import sqrt\n",
        "\n",
        "# 산술평균\n",
        "dataset = [2,4,5,6,1,8]\n",
        "def Avg(data):\n",
        "  avg = mean(data)\n",
        "  return avg\n",
        "\n",
        "print('산술평균 = ', Avg(dataset))\n",
        "\n",
        "# 분산 / 표준편차\n",
        "def var_sd(data):\n",
        "  avg = Avg(data) # 함수 내에서 이미 선언한 다른 함수 호출 가능\n",
        "  diff = [(d-avg)**2 for d in data]\n",
        "  var = sum(diff) / (len(data)-1)\n",
        "  sd = sqrt(var)\n",
        "  return var, sd\n",
        "\n",
        "v, s = var_sd(dataset)\n",
        "print('분산: ', v)\n",
        "print('표준편차: ', s)"
      ],
      "metadata": {
        "colab": {
          "base_uri": "https://localhost:8080/"
        },
        "id": "POu5soXBpf0g",
        "outputId": "19355fe7-fcd8-4bf2-9737-2e41799bf127"
      },
      "execution_count": null,
      "outputs": [
        {
          "output_type": "stream",
          "name": "stdout",
          "text": [
            "산술평균 =  4.333333333333333\n",
            "분산:  6.666666666666666\n",
            "표준편차:  2.581988897471611\n"
          ]
        }
      ]
    },
    {
      "cell_type": "code",
      "source": [
        "# 피타고라스 정리\n",
        "def pytha(s, t):\n",
        "  a = s**2 - t**2\n",
        "  b = 2 * s * t\n",
        "  c = s**2 + t**2\n",
        "  print('세 변의 길이는 ', a,b,c)\n",
        "\n",
        "pytha(2, 1)"
      ],
      "metadata": {
        "colab": {
          "base_uri": "https://localhost:8080/"
        },
        "id": "PXzyu6BKsAja",
        "outputId": "c9424760-0f06-4801-996f-aae569212b4b"
      },
      "execution_count": null,
      "outputs": [
        {
          "output_type": "stream",
          "name": "stdout",
          "text": [
            "세 변의 길이는  3 4 5\n"
          ]
        }
      ]
    },
    {
      "cell_type": "code",
      "source": [
        "# 몬테카를로 시뮬레이션: 컴퓨터와 같은 도구를 이용한 가상 모의실험\n",
        "# 동전던지기\n",
        "import random\n",
        "\n",
        "def coin(n):\n",
        "  result = []\n",
        "  for i in range(n):\n",
        "    r = random.randint(0, 1)\n",
        "    if (r == 1):\n",
        "      result.append(1)\n",
        "    else:\n",
        "      result.append(0)\n",
        "    return result\n",
        "# 몬테카를로 시뮬레이션 함수 정의\n",
        "def montaCoin(n):\n",
        "  cnt = 0\n",
        "  for i in range(n):\n",
        "    cnt += coin(1)[0]\n",
        "  result = cnt / n\n",
        "  return result\n",
        "\n",
        "print(montaCoin(10))\n",
        "print(montaCoin(30))\n",
        "print(montaCoin(100))\n",
        "print(montaCoin(1000))\n",
        "print(montaCoin(10000))"
      ],
      "metadata": {
        "colab": {
          "base_uri": "https://localhost:8080/"
        },
        "id": "R_qa7GDssyKy",
        "outputId": "856fe22f-a5d5-4f2c-ac3f-3bab75f01bf5"
      },
      "execution_count": null,
      "outputs": [
        {
          "output_type": "stream",
          "name": "stdout",
          "text": [
            "0.7\n",
            "0.6333333333333333\n",
            "0.46\n",
            "0.528\n",
            "0.4995\n"
          ]
        }
      ]
    },
    {
      "cell_type": "markdown",
      "source": [
        "## 💡 전역 변수 / 지역 변수"
      ],
      "metadata": {
        "id": "5UwxUNHwB0oC"
      }
    },
    {
      "cell_type": "code",
      "source": [
        "a = 1 # 전역변수\n",
        "\n",
        "def foo1():\n",
        "  c = 3 # 지역변수\n",
        "  global d\n",
        "  d = 4\n",
        "  print('a: ', a)\n",
        "  print('b: ', c)\n",
        "\n",
        "foo1()\n",
        "\n",
        "# print(c) # NameError\n",
        "print('d: ', d)"
      ],
      "metadata": {
        "colab": {
          "base_uri": "https://localhost:8080/"
        },
        "id": "IMTLhnA7ByZF",
        "outputId": "a460646a-89f8-428d-b512-1d6704e5a4ff"
      },
      "execution_count": null,
      "outputs": [
        {
          "output_type": "stream",
          "name": "stdout",
          "text": [
            "a:  1\n",
            "b:  3\n",
            "d:  4\n"
          ]
        }
      ]
    },
    {
      "cell_type": "code",
      "source": [
        "x = 10\n",
        "def foo3():\n",
        "  global x\n",
        "  x = 20 #  전역변수 지정을 해줬기 때문에 함수가 호출되지 않아도 값이 재할당됨\n",
        "  print(x)\n",
        "\n",
        "# 함수를 호출했을 떼 : x = 20\n",
        "foo3()\n",
        "\n",
        "# 밖에서 사용 : x = 20\n",
        "print(x)"
      ],
      "metadata": {
        "colab": {
          "base_uri": "https://localhost:8080/"
        },
        "id": "7obIbJk9DM6_",
        "outputId": "92a9d30a-9dfe-4bfb-fedf-998074c04b8d"
      },
      "execution_count": null,
      "outputs": [
        {
          "output_type": "stream",
          "name": "stdout",
          "text": [
            "20\n",
            "20\n"
          ]
        }
      ]
    },
    {
      "cell_type": "markdown",
      "source": [
        "## 💡 람다함수\n",
        "- 익명함수\n",
        "- 함수로 선언시 : ( lambda 매개변수 : 실행문 , 인자1, 인자2, ... )\n",
        "- filter ( ) 와 map ( ) 이랑 자주 같이 쓰임\n",
        "- 주의) 람다함수 내에 지역변수 선언 불가\n",
        "  - 필요시 전역변수로 앞에서 선언해줄 수 밖에 없음 \n"
      ],
      "metadata": {
        "id": "_j9CNQUgF-vk"
      }
    },
    {
      "cell_type": "code",
      "source": [
        "# 예 1\n",
        "list(map(lambda x: x+10, [1,2,3]))"
      ],
      "metadata": {
        "colab": {
          "base_uri": "https://localhost:8080/"
        },
        "id": "_hzGqYebEnU0",
        "outputId": "63e5e2ba-e39a-46e1-b3b2-36e8bf265010"
      },
      "execution_count": null,
      "outputs": [
        {
          "output_type": "execute_result",
          "data": {
            "text/plain": [
              "[11, 12, 13]"
            ]
          },
          "metadata": {},
          "execution_count": 44
        }
      ]
    },
    {
      "cell_type": "code",
      "source": [
        "# 예 2\n",
        "list1 = [1,2,3,4,5]\n",
        "list2 = [6,7,8,9,10]\n",
        "\n",
        "a = map(lambda a,b: a+b, list1, list2)\n",
        "print(list(a))"
      ],
      "metadata": {
        "colab": {
          "base_uri": "https://localhost:8080/"
        },
        "id": "PO9E8GeFGs_9",
        "outputId": "d676dcf2-8889-4c87-eb2b-ea450e604a2f"
      },
      "execution_count": null,
      "outputs": [
        {
          "output_type": "stream",
          "name": "stdout",
          "text": [
            "[7, 9, 11, 13, 15]\n"
          ]
        }
      ]
    },
    {
      "cell_type": "code",
      "source": [
        "# 같은 기능의 두 함수 (1)\n",
        "# 일반함수 선언\n",
        "def add(a, b):\n",
        "  return a+b\n",
        "\n",
        "k = add(3,4)\n",
        "print('일반함수: ', k)\n",
        "\n",
        "# 람다함수 사용\n",
        "k1 = lambda a,b : a+b\n",
        "result = k1(3,4)\n",
        "print('람다함수: ', result)"
      ],
      "metadata": {
        "colab": {
          "base_uri": "https://localhost:8080/"
        },
        "id": "Lw2nIxRMHp02",
        "outputId": "7132f4e4-266e-4e49-9d57-4afe69c03f8b"
      },
      "execution_count": null,
      "outputs": [
        {
          "output_type": "stream",
          "name": "stdout",
          "text": [
            "일반함수:  7\n",
            "람다함수:  7\n"
          ]
        }
      ]
    },
    {
      "cell_type": "code",
      "source": [
        "# 같은 기능의 두 함수 (2)\n",
        "# 일반함수 선언\n",
        "def plus_ten(x):\n",
        "  return x+10\n",
        "print('일반함수: ', plus_ten(5))\n",
        "\n",
        "# 람다함수 사용\n",
        "plus_ten2 = lambda x: x+10\n",
        "print('람다함수: ', plus_ten2(5))"
      ],
      "metadata": {
        "colab": {
          "base_uri": "https://localhost:8080/"
        },
        "id": "rHxvUNhvH95K",
        "outputId": "ef883c43-6151-4eb3-94db-ce4ffcb52725"
      },
      "execution_count": null,
      "outputs": [
        {
          "output_type": "stream",
          "name": "stdout",
          "text": [
            "일반함수:  15\n",
            "람다함수:  15\n"
          ]
        }
      ]
    },
    {
      "cell_type": "code",
      "source": [
        "# 입력받은 정수들에 10을 더해 출력해주는 프로그램\n",
        "numbers = list(map(lambda x: int(x) + 10, input().split(',')))\n",
        "\n",
        "print(numbers)"
      ],
      "metadata": {
        "colab": {
          "base_uri": "https://localhost:8080/"
        },
        "id": "CiSq2ud8IZ7Q",
        "outputId": "7a2f95e0-59d4-4cbf-b8a7-99ded017c078"
      },
      "execution_count": null,
      "outputs": [
        {
          "output_type": "stream",
          "name": "stdout",
          "text": [
            "1,2,3,4,5\n",
            "[11, 12, 13, 14, 15]\n"
          ]
        }
      ]
    },
    {
      "cell_type": "code",
      "source": [
        "# 제약사항\n",
        "\n",
        "# 일반함수는 함수안에서 지역변수 선언이 가능\n",
        "def xplusy(x):\n",
        "  y = 10\n",
        "  return x+y\n",
        "\n",
        "xplusy(1)\n",
        "\n",
        "# 지역변수선언 - 불가\n",
        "# (lambda x : y=10; x+y)(3) # SyntaxError\n",
        "# 해결방안 - 함수밖에서 전역변수로 미리 선언\n",
        "y = 10\n",
        "(lambda x : x+y)(3)"
      ],
      "metadata": {
        "colab": {
          "base_uri": "https://localhost:8080/"
        },
        "id": "0gUY7VWMJy9K",
        "outputId": "ab6c1577-ba11-431e-9cb3-13cab4d7ffdb"
      },
      "execution_count": null,
      "outputs": [
        {
          "output_type": "execute_result",
          "data": {
            "text/plain": [
              "13"
            ]
          },
          "metadata": {},
          "execution_count": 62
        }
      ]
    },
    {
      "cell_type": "code",
      "source": [
        "# 3 6 9 게임 : 3 6 9 - > '박수'\n",
        "a = list(range(1, 10))\n",
        "\n",
        "# 일반함수\n",
        "def three_clap(numbers):\n",
        "  result = []\n",
        "  for n in numbers:\n",
        "    if n % 3 == 0:\n",
        "      result.append('박수')\n",
        "    else:\n",
        "      result.append(n)\n",
        "  return result\n",
        "three_clap(a)\n",
        "\n",
        "# 람다함수\n",
        "# 내꺼 틀린답안: result = (lambda n='박수' if n % 3 == 0, a) \n",
        "lambda1 = list(map(lambda x : str('박수') if x % 3 == 0 else x, a)) # str() 안해도 작동함\n",
        "print(lambda1)\n",
        "\n",
        "# 3 6 9 박수 + 5의 배수는 실수로 형변환 - 이 정도의 복잡도면 그냥 일반함수로 선언하는게 좋음\n",
        "lambda2 = list(map(lambda x : str('박수') if x%3 ==0 else float(x) if x% 5 == 0 else x, a))\n",
        "print(lambda2)"
      ],
      "metadata": {
        "colab": {
          "base_uri": "https://localhost:8080/"
        },
        "id": "3aGAu_TiLVeC",
        "outputId": "e5ce6ba0-cf6c-4413-a94b-7ed5f18304a6"
      },
      "execution_count": null,
      "outputs": [
        {
          "output_type": "stream",
          "name": "stdout",
          "text": [
            "[1, 2, '박수', 4, 5, '박수', 7, 8, '박수']\n",
            "[1, 2, '박수', 4, 5.0, '박수', 7, 8, '박수']\n"
          ]
        }
      ]
    },
    {
      "cell_type": "code",
      "source": [
        "# 내가 만든 사용자함수 사용해보기\n",
        "from mod1 import add, sub\n",
        "a = add(6,5)\n",
        "print(a)\n",
        "b = sub(7,3)\n",
        "print(b) "
      ],
      "metadata": {
        "colab": {
          "base_uri": "https://localhost:8080/"
        },
        "id": "zUvPYHoMOPmY",
        "outputId": "053c588e-d0c3-4b7e-e546-66fa86bf1492"
      },
      "execution_count": null,
      "outputs": [
        {
          "output_type": "stream",
          "name": "stdout",
          "text": [
            "11\n",
            "4\n"
          ]
        }
      ]
    },
    {
      "cell_type": "code",
      "source": [
        "# 기존 max()함수\n",
        "maxa = [1,2,3]\n",
        "max(maxa)\n",
        "\n",
        "# 세 수를 입력받아 큰 수를 출력하는 함수\n",
        "def print_max(a, b, c):\n",
        "  if a >= b and a>=c:\n",
        "    return a\n",
        "  elif b >= a and b>=c:\n",
        "    return b\n",
        "  else:\n",
        "    return c\n",
        "print_max(1,2,3)\n",
        "\n",
        "# 답\n",
        "def print_max(a, b, c):\n",
        "  max_value = 0\n",
        "  if a > max_value:\n",
        "    max_value = a\n",
        "  if b > max_value:\n",
        "    max_value = b\n",
        "  if c > max_value:\n",
        "    max_value = c\n",
        "  print(max_value)\n",
        "print_max(4,2,5)"
      ],
      "metadata": {
        "colab": {
          "base_uri": "https://localhost:8080/"
        },
        "id": "SicyjhinULKm",
        "outputId": "74d8d3fd-fa39-4926-e43f-8552ad060120"
      },
      "execution_count": null,
      "outputs": [
        {
          "output_type": "stream",
          "name": "stdout",
          "text": [
            "5\n"
          ]
        }
      ]
    },
    {
      "cell_type": "code",
      "source": [
        "# 한 줄에 다섯글자씩만 출력하는 함수\n",
        "def print_5xn(line):\n",
        "  chek_num = int(len(line) / 5)\n",
        "  for x in range(chek_num+1):\n",
        "    print(line[x*5: x*5 +5 ])\n",
        "\n",
        "print_5xn('아이엠어보이유알어걸')"
      ],
      "metadata": {
        "colab": {
          "base_uri": "https://localhost:8080/"
        },
        "id": "udtyHtTRW3iT",
        "outputId": "b4f99d0c-dfdd-4d4a-9c64-44d5a2dcbe7b"
      },
      "execution_count": null,
      "outputs": [
        {
          "output_type": "stream",
          "name": "stdout",
          "text": [
            "아이엠어보\n",
            "이유알어걸\n",
            "\n"
          ]
        }
      ]
    }
  ]
}