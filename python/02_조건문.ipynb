{
  "nbformat": 4,
  "nbformat_minor": 0,
  "metadata": {
    "colab": {
      "provenance": [],
      "toc_visible": true,
      "authorship_tag": "ABX9TyMjc1K7jdJ6nYcczXpFIRsJ",
      "include_colab_link": true
    },
    "kernelspec": {
      "name": "python3",
      "display_name": "Python 3"
    },
    "language_info": {
      "name": "python"
    }
  },
  "cells": [
    {
      "cell_type": "markdown",
      "metadata": {
        "id": "view-in-github",
        "colab_type": "text"
      },
      "source": [
        "<a href=\"https://colab.research.google.com/github/Tazoria/TIL/blob/main/python/02_%EC%A1%B0%EA%B1%B4%EB%AC%B8.ipynb\" target=\"_parent\"><img src=\"https://colab.research.google.com/assets/colab-badge.svg\" alt=\"Open In Colab\"/></a>"
      ]
    },
    {
      "cell_type": "markdown",
      "source": [
        "# 💕 조건문 ( if )\n",
        "- 기본구조\n",
        "\n",
        "\n",
        "```\n",
        "if 조건문:\n",
        "    수행할 문장1\n",
        "    수행할 문장2\n",
        "    ...\n",
        "else:\n",
        "    수행할 문장A\n",
        "    수행할 문장B\n",
        "    ...\n",
        "```\n",
        "- 조건문을 테스트해서 참이면 if문 바로 다음 문장(if 블록)들을 수행하고, 조건문이 거짓이면 else문 다음 문장(else 블록)들을 수행\n",
        "- else문은 if문 없이 독립적으로 사용 불가"
      ],
      "metadata": {
        "id": "AA6tIkFwO4nr"
      }
    },
    {
      "cell_type": "code",
      "source": [
        "# 만약 10,000원 이상 있으면 저금하고 없으면 대출\n",
        "money = 3000\n",
        "if money >= 10000:\n",
        "  print('저금을 한다.') # 4칸 들여쓰기가 기본\n",
        "else:\n",
        "  print('대출을 받아라')"
      ],
      "metadata": {
        "id": "IOyUmJXoO8ZR",
        "colab": {
          "base_uri": "https://localhost:8080/"
        },
        "outputId": "ea3c4a48-7e85-4d85-f423-e9903559b8bd"
      },
      "execution_count": null,
      "outputs": [
        {
          "output_type": "stream",
          "name": "stdout",
          "text": [
            "대출을 받아라\n"
          ]
        }
      ]
    },
    {
      "cell_type": "code",
      "source": [
        "money = 2000\n",
        "bitcoin = 1\n",
        "if money >= 3000 or bitcoin:\n",
        "  print('저금해라')\n",
        "else:\n",
        "  print('대출받아라')"
      ],
      "metadata": {
        "id": "bO6AFT8vQWnf",
        "colab": {
          "base_uri": "https://localhost:8080/"
        },
        "outputId": "f482695d-79c7-454d-eb76-0639eb5669f9"
      },
      "execution_count": null,
      "outputs": [
        {
          "output_type": "stream",
          "name": "stdout",
          "text": [
            "저금해라\n"
          ]
        }
      ]
    },
    {
      "cell_type": "markdown",
      "source": [
        "### 💡 bitwise 연산\n",
        "- & (and)\n",
        "- | (or)\n",
        "- 비트 단위로 연산함(ex) 2 = 10, 3 = 11)\n",
        "- 원리\n",
        "\n",
        "\n",
        "```\n",
        "[ 예시 1 ]\n",
        "result = 7 & 2의 연산 과정\n",
        "  2: 0000 0111\n",
        " &\n",
        "  7: 0000 0010\n",
        " ---------------\n",
        "     0000 0010    = 2 \n",
        "\n",
        "[ 예시 2 ]\n",
        "result = 3 | 1\n",
        "  3: 0000 0011\n",
        " |\n",
        "  1: 0000 0001\n",
        " ----------------\n",
        "     0000 0011.   = 3\n",
        "```\n",
        "\n",
        "\n"
      ],
      "metadata": {
        "id": "haiRSAtKRD9i"
      }
    },
    {
      "cell_type": "code",
      "source": [
        "### 결과가 왜이렇게 나올까?????\n",
        "# &\n",
        "money = 2000\n",
        "bitcoin = 1\n",
        "if money <= 3000 & bitcoin:\n",
        "  print('저금해라')\n",
        "else:\n",
        "  print('대출받아라')\n",
        "\n",
        "# |\n",
        "money = 2000\n",
        "bitcoin = 1\n",
        "if money >= 3000 | bitcoin:\n",
        "  print('저금해라')\n",
        "else:\n",
        "  print('대출받아라')"
      ],
      "metadata": {
        "colab": {
          "base_uri": "https://localhost:8080/"
        },
        "id": "TfaYWBjgRDQg",
        "outputId": "c43ec294-543b-4668-d9f7-97a27f398a6a"
      },
      "execution_count": null,
      "outputs": [
        {
          "output_type": "stream",
          "name": "stdout",
          "text": [
            "대출받아라\n",
            "대출받아라\n"
          ]
        }
      ]
    },
    {
      "cell_type": "code",
      "source": [
        "result = 7 & 2\n",
        "print(result)\n",
        "result = 3 | 1\n",
        "print(result)"
      ],
      "metadata": {
        "colab": {
          "base_uri": "https://localhost:8080/"
        },
        "id": "om4_fopYRxP9",
        "outputId": "e02c41ad-d336-424c-95aa-458bd2ab0747"
      },
      "execution_count": null,
      "outputs": [
        {
          "output_type": "stream",
          "name": "stdout",
          "text": [
            "2\n",
            "3\n"
          ]
        }
      ]
    },
    {
      "cell_type": "code",
      "source": [
        "# bin(): binary(0, 1)로 표현\n",
        "print(bin(7)) # 0000 0111\n",
        "print(bin(2)) # 0000 0010"
      ],
      "metadata": {
        "colab": {
          "base_uri": "https://localhost:8080/"
        },
        "id": "O4eRqQnzTLi2",
        "outputId": "54efe433-6385-4013-abf1-8f7a254e8944"
      },
      "execution_count": null,
      "outputs": [
        {
          "output_type": "stream",
          "name": "stdout",
          "text": [
            "0b111\n",
            "0b10\n"
          ]
        }
      ]
    },
    {
      "cell_type": "code",
      "source": [
        "### 올바르게 표현하려면? -> 괄호로 묶어주기! (단순히 괄호로만 묶어준다고 무조건 and/or과 일치하지는 않음. 괄호 안의 연산 결과에 따라 다름!)\n",
        "money = 2000\n",
        "bitcoin = 1\n",
        "if (money <= 3000) & bitcoin: #  == if (0000 0001) & (0000 0001)\n",
        "  print('저금해라')\n",
        "else:\n",
        "  print('대출받아라')\n",
        "\n",
        "  # | 도 마찬가지 !!"
      ],
      "metadata": {
        "id": "lhEpvYMDTR4i",
        "colab": {
          "base_uri": "https://localhost:8080/"
        },
        "outputId": "7c4acc88-e857-46a4-87d1-0356981731e1"
      },
      "execution_count": null,
      "outputs": [
        {
          "output_type": "stream",
          "name": "stdout",
          "text": [
            "저금해라\n"
          ]
        }
      ]
    },
    {
      "cell_type": "code",
      "source": [
        "case1 = 1 in [1, 2,  3]\n",
        "case2 = 1 not in [1, 2, 3]\n",
        "\n",
        "print(case1, case2, sep='\\n')"
      ],
      "metadata": {
        "colab": {
          "base_uri": "https://localhost:8080/"
        },
        "id": "DADouK1pWKB1",
        "outputId": "2b534cb9-0a82-4edf-b687-1dcc06ddda74"
      },
      "execution_count": null,
      "outputs": [
        {
          "output_type": "stream",
          "name": "stdout",
          "text": [
            "True\n",
            "False\n"
          ]
        }
      ]
    },
    {
      "cell_type": "code",
      "source": [
        "pocket = ['paper', 'cellphone', 'money']\n",
        "if 'money' in pocket:\n",
        "  pass # 해당 조건 충족시 아무것도 하지 않고 넘어감\n",
        "else:\n",
        "  print('대출받아라')"
      ],
      "metadata": {
        "id": "BK9-wLyAWauq"
      },
      "execution_count": null,
      "outputs": []
    },
    {
      "cell_type": "markdown",
      "source": [
        "### 📝 퀴즈"
      ],
      "metadata": {
        "id": "fYNBYXW1kxcW"
      }
    },
    {
      "cell_type": "code",
      "source": [
        "# 퀴즈1) 표준입력장치로 점수를 입력받아서 점수가 60점 이상이면 '합격'을 출력하는 조건문을 만드시오.\n",
        "score = float(input('점수를 입력하세요: '))\n",
        "if score >= 60:\n",
        "  print('합격')\n",
        "  print('축하합니다!')\n",
        "else:\n",
        "  print('불합격')\n",
        "print('수고하셨습니다.')"
      ],
      "metadata": {
        "colab": {
          "base_uri": "https://localhost:8080/"
        },
        "id": "q-D32-NvW9Ds",
        "outputId": "3f7eed20-5423-401f-c5b9-5bd95ae04072"
      },
      "execution_count": null,
      "outputs": [
        {
          "output_type": "stream",
          "name": "stdout",
          "text": [
            "점수를 입력하세요: 60\n",
            "합격\n",
            "축하합니다!\n",
            "수고하셨습니다.\n"
          ]
        }
      ]
    },
    {
      "cell_type": "code",
      "source": [
        "# 다중조건\n",
        "score = int(input('점수를 입력해주세요'))\n",
        "if score >= 90:\n",
        "  grade = 'A'\n",
        "elif score >= 80:\n",
        "  grade = 'B'\n",
        "elif score >= 70:\n",
        "  grade = 'C'\n",
        "else:\n",
        "  grade = 'F'\n",
        "print('학점은', grade)"
      ],
      "metadata": {
        "colab": {
          "base_uri": "https://localhost:8080/"
        },
        "id": "adj4sSDQrr1b",
        "outputId": "14765564-0675-4f03-fef5-4014f6b23c19"
      },
      "execution_count": null,
      "outputs": [
        {
          "output_type": "stream",
          "name": "stdout",
          "text": [
            "점수를 입력해주세요80\n",
            "학점은 B\n"
          ]
        }
      ]
    },
    {
      "cell_type": "code",
      "source": [
        "# 만약에 주머니에 돈이 있으면 택시를 타고 없으면 걸어가라\n",
        "  # 결과 -> 택시타고가라\n",
        "pocket = ['paper', 'cellphone', 'money']\n",
        "card = True\n",
        "if 'money' in pocket:\n",
        "  print('택시타고가라1')\n",
        "else:\n",
        "  if card:\n",
        "    print('택시타고가라2')\n",
        "  else:\n",
        "    print('걸어가라')\n"
      ],
      "metadata": {
        "colab": {
          "base_uri": "https://localhost:8080/"
        },
        "id": "Gt7-G4ictYiC",
        "outputId": "cd2b2408-8ebf-40c9-e6d3-84533819bddb"
      },
      "execution_count": null,
      "outputs": [
        {
          "output_type": "stream",
          "name": "stdout",
          "text": [
            "택시타고가라1\n"
          ]
        }
      ]
    }
  ]
}