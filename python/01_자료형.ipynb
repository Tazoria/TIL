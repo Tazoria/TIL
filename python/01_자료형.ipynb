{
  "nbformat": 4,
  "nbformat_minor": 0,
  "metadata": {
    "colab": {
      "provenance": [],
      "toc_visible": true,
      "authorship_tag": "ABX9TyPr1op0pL8WH3LWz2dR7ejO",
      "include_colab_link": true
    },
    "kernelspec": {
      "name": "python3",
      "display_name": "Python 3"
    },
    "language_info": {
      "name": "python"
    }
  },
  "cells": [
    {
      "cell_type": "markdown",
      "metadata": {
        "id": "view-in-github",
        "colab_type": "text"
      },
      "source": [
        "<a href=\"https://colab.research.google.com/github/Tazoria/TIL/blob/main/python/01_%EC%9E%90%EB%A3%8C%ED%98%95.ipynb\" target=\"_parent\"><img src=\"https://colab.research.google.com/assets/colab-badge.svg\" alt=\"Open In Colab\"/></a>"
      ]
    },
    {
      "cell_type": "markdown",
      "source": [
        "# 💕 자료형"
      ],
      "metadata": {
        "id": "2DmtVoaOPhLD"
      }
    },
    {
      "cell_type": "markdown",
      "source": [
        "## 1️⃣ 변수\n",
        "- 영문 문자와 숫자를 사용할 수 있음\n",
        "- 대소문자를 구분\n",
        "- 문자부터 시작해야 하며, 숫자로 시작하면 안됨\n",
        "- _(under_bar)로 시작할 수 있음\n",
        "- 특수문자(+, -, *, $ ...)은 변수로 사용할 수 없음\n",
        "- 파이썬 예약어(if, for, while, and, or) 등은 변수이름으로 사용할 수 없음"
      ],
      "metadata": {
        "id": "mQ0uCag_Kk4j"
      }
    },
    {
      "cell_type": "code",
      "execution_count": 1,
      "metadata": {
        "id": "bPcv4RarKUGj"
      },
      "outputs": [],
      "source": [
        "a = 3"
      ]
    },
    {
      "cell_type": "code",
      "source": [
        "print(a)"
      ],
      "metadata": {
        "colab": {
          "base_uri": "https://localhost:8080/"
        },
        "id": "VWKfVdydKYfk",
        "outputId": "03f506b6-5484-4939-97e2-4a7588b51a18"
      },
      "execution_count": 2,
      "outputs": [
        {
          "output_type": "stream",
          "name": "stdout",
          "text": [
            "3\n"
          ]
        }
      ]
    },
    {
      "cell_type": "code",
      "source": [
        "a = 4\n",
        "A = 6\n",
        "print(a)\n",
        "print(A)"
      ],
      "metadata": {
        "id": "6quOx7muKZTp",
        "colab": {
          "base_uri": "https://localhost:8080/"
        },
        "outputId": "ff9e368e-f8b1-424d-b770-f49699abc5a6"
      },
      "execution_count": 3,
      "outputs": [
        {
          "output_type": "stream",
          "name": "stdout",
          "text": [
            "4\n",
            "6\n"
          ]
        }
      ]
    },
    {
      "cell_type": "code",
      "source": [
        "# 한번만 사용하는 변수에 주로 사용\n",
        "_ = 7\n",
        "print(_)"
      ],
      "metadata": {
        "colab": {
          "base_uri": "https://localhost:8080/"
        },
        "id": "5XMqBZFxKZ4n",
        "outputId": "4c4faf19-2fce-4464-f729-41904ed01872"
      },
      "execution_count": 4,
      "outputs": [
        {
          "output_type": "stream",
          "name": "stdout",
          "text": [
            "7\n"
          ]
        }
      ]
    },
    {
      "cell_type": "code",
      "source": [
        "print('hello world')"
      ],
      "metadata": {
        "colab": {
          "base_uri": "https://localhost:8080/"
        },
        "id": "cz2-3i4XKaZ5",
        "outputId": "dec139d1-594c-498f-990a-dd502029deb8"
      },
      "execution_count": 5,
      "outputs": [
        {
          "output_type": "stream",
          "name": "stdout",
          "text": [
            "hello world\n"
          ]
        }
      ]
    },
    {
      "cell_type": "code",
      "source": [
        "# 에약어 사용 불가\n",
        "import keyword\n",
        "python_keyword = keyword.kwlist\n",
        "print(python_keyword)\n",
        "len(python_keyword)"
      ],
      "metadata": {
        "colab": {
          "base_uri": "https://localhost:8080/"
        },
        "id": "nfCiNG3BKcq-",
        "outputId": "f4e4fe99-4d63-43ff-f3c0-99c38ab8a1bd"
      },
      "execution_count": 6,
      "outputs": [
        {
          "output_type": "stream",
          "name": "stdout",
          "text": [
            "['False', 'None', 'True', '__peg_parser__', 'and', 'as', 'assert', 'async', 'await', 'break', 'class', 'continue', 'def', 'del', 'elif', 'else', 'except', 'finally', 'for', 'from', 'global', 'if', 'import', 'in', 'is', 'lambda', 'nonlocal', 'not', 'or', 'pass', 'raise', 'return', 'try', 'while', 'with', 'yield']\n"
          ]
        },
        {
          "output_type": "execute_result",
          "data": {
            "text/plain": [
              "36"
            ]
          },
          "metadata": {},
          "execution_count": 6
        }
      ]
    },
    {
      "cell_type": "code",
      "source": [
        ";# id는 주소값을 나타내는 함수\n",
        "var1 = 'Hello python'\n",
        "print(var1)\n",
        "print(id(var1))"
      ],
      "metadata": {
        "colab": {
          "base_uri": "https://localhost:8080/"
        },
        "id": "y7BE0kTpiDsz",
        "outputId": "9819427f-9f54-46e4-f71a-60e8040a7b97"
      },
      "execution_count": 7,
      "outputs": [
        {
          "output_type": "stream",
          "name": "stdout",
          "text": [
            "Hello python\n",
            "140249331738736\n"
          ]
        }
      ]
    },
    {
      "cell_type": "code",
      "source": [
        "var1 = 100\n",
        "print(var1)\n",
        "print(id(var1))"
      ],
      "metadata": {
        "colab": {
          "base_uri": "https://localhost:8080/"
        },
        "id": "qQUz5PQrjfM0",
        "outputId": "8a79eb07-b7a8-414c-b699-eca34ab226ff"
      },
      "execution_count": 8,
      "outputs": [
        {
          "output_type": "stream",
          "name": "stdout",
          "text": [
            "100\n",
            "140249910453712\n"
          ]
        }
      ]
    },
    {
      "cell_type": "code",
      "source": [
        "var2 = 150.25\n",
        "print(var2)\n",
        "print(id(var2))"
      ],
      "metadata": {
        "colab": {
          "base_uri": "https://localhost:8080/"
        },
        "id": "oe5TyHDUjlzN",
        "outputId": "ecf19644-3cdd-4977-ba40-b657528a7908"
      },
      "execution_count": 9,
      "outputs": [
        {
          "output_type": "stream",
          "name": "stdout",
          "text": [
            "150.25\n",
            "140249332181776\n"
          ]
        }
      ]
    },
    {
      "cell_type": "markdown",
      "source": [
        "* print() 함수의 다양한 사용"
      ],
      "metadata": {
        "id": "hnWAIdoKkWQd"
      }
    },
    {
      "cell_type": "code",
      "source": [
        "# 출력 print(value1, value2 ...) : 여러개 값 출력\n",
        "print('Hello world')\n",
        "print('Hello', 'world')"
      ],
      "metadata": {
        "colab": {
          "base_uri": "https://localhost:8080/"
        },
        "id": "NeG8pauij--l",
        "outputId": "2c547e90-c4e0-4350-bc82-1dd31009e6d6"
      },
      "execution_count": 10,
      "outputs": [
        {
          "output_type": "stream",
          "name": "stdout",
          "text": [
            "Hello world\n",
            "Hello world\n"
          ]
        }
      ]
    },
    {
      "cell_type": "code",
      "source": [
        "print('홍길동', '김철수', sep='/')"
      ],
      "metadata": {
        "colab": {
          "base_uri": "https://localhost:8080/"
        },
        "id": "umH9fuDokz3x",
        "outputId": "1d96c1e2-889d-4cba-ce6f-e38d149f10bb"
      },
      "execution_count": 11,
      "outputs": [
        {
          "output_type": "stream",
          "name": "stdout",
          "text": [
            "홍길동/김철수\n"
          ]
        }
      ]
    },
    {
      "cell_type": "code",
      "source": [
        "print('1+1', 1+1, sep='=')"
      ],
      "metadata": {
        "colab": {
          "base_uri": "https://localhost:8080/"
        },
        "id": "szHvmQIKlVA8",
        "outputId": "92846bea-12a7-479a-b352-89b76e6b3a53"
      },
      "execution_count": 12,
      "outputs": [
        {
          "output_type": "stream",
          "name": "stdout",
          "text": [
            "1+1=2\n"
          ]
        }
      ]
    },
    {
      "cell_type": "code",
      "source": [
        "food = \"python's favorite food is perl\"\n",
        "# 에러: food1 = 'python's favoerite food is perl'\n",
        "food2 = 'python\\'s favorite food is perl'\n",
        "print(food)\n",
        "print(food2)"
      ],
      "metadata": {
        "colab": {
          "base_uri": "https://localhost:8080/"
        },
        "id": "NU9CzCQvlpex",
        "outputId": "eaea66a5-fcc4-4749-c16c-9dc656bc94b4"
      },
      "execution_count": 13,
      "outputs": [
        {
          "output_type": "stream",
          "name": "stdout",
          "text": [
            "python's favorite food is perl\n",
            "python's favorite food is perl\n"
          ]
        }
      ]
    },
    {
      "cell_type": "code",
      "source": [
        "say = 'python is very easy. he says'\n",
        "say1 = '\"python is very easy\". he says'\n",
        "# 에러: say2 = ''python is very easy'. he says'\n",
        "say3 = \"\\\"python is very easy\\\". he says\"\n",
        "print(say)\n",
        "print(say1)\n",
        "print(say3)"
      ],
      "metadata": {
        "colab": {
          "base_uri": "https://localhost:8080/"
        },
        "id": "j5eIHopGnZAp",
        "outputId": "87090464-a279-4700-c46b-1ef3ed631826"
      },
      "execution_count": 14,
      "outputs": [
        {
          "output_type": "stream",
          "name": "stdout",
          "text": [
            "python is very easy. he says\n",
            "\"python is very easy\". he says\n",
            "\"python is very easy\". he says\n"
          ]
        }
      ]
    },
    {
      "cell_type": "code",
      "source": [
        "# type()\n",
        "var3 = 'Hello python'\n",
        "print(var3)\n",
        "print(type(var3))\n",
        "# str = string = 문자열"
      ],
      "metadata": {
        "colab": {
          "base_uri": "https://localhost:8080/"
        },
        "id": "lfQ8r25-pCB4",
        "outputId": "0df2a736-b3fb-48f2-ad71-86f1396c4bf1"
      },
      "execution_count": 15,
      "outputs": [
        {
          "output_type": "stream",
          "name": "stdout",
          "text": [
            "Hello python\n",
            "<class 'str'>\n"
          ]
        }
      ]
    },
    {
      "cell_type": "code",
      "source": [
        "var4 = 100\n",
        "print(var4)\n",
        "print(type(var4)) #int = integer = 정수"
      ],
      "metadata": {
        "colab": {
          "base_uri": "https://localhost:8080/"
        },
        "id": "wBj9ShN8pZUX",
        "outputId": "d4d3a684-0918-47df-c31d-679ad5cb19ff"
      },
      "execution_count": 16,
      "outputs": [
        {
          "output_type": "stream",
          "name": "stdout",
          "text": [
            "100\n",
            "<class 'int'>\n"
          ]
        }
      ]
    },
    {
      "cell_type": "code",
      "source": [
        "var5 = 150.3\n",
        "print(var5)\n",
        "print(type(var5)) # float = 실수"
      ],
      "metadata": {
        "colab": {
          "base_uri": "https://localhost:8080/"
        },
        "id": "VU4PuDx2s_fT",
        "outputId": "85cfcb40-2695-41da-fc3c-541964d4aaeb"
      },
      "execution_count": 17,
      "outputs": [
        {
          "output_type": "stream",
          "name": "stdout",
          "text": [
            "150.3\n",
            "<class 'float'>\n"
          ]
        }
      ]
    },
    {
      "cell_type": "code",
      "source": [
        "var6 = True\n",
        "print(type(var6)) # boolean = 참 또는 거짓"
      ],
      "metadata": {
        "colab": {
          "base_uri": "https://localhost:8080/"
        },
        "id": "UYOjWBMZtGmY",
        "outputId": "5e0dcdc0-d4fc-42d8-82ee-2b7e4c738336"
      },
      "execution_count": 18,
      "outputs": [
        {
          "output_type": "stream",
          "name": "stdout",
          "text": [
            "<class 'bool'>\n"
          ]
        }
      ]
    },
    {
      "cell_type": "markdown",
      "source": [
        "### 💡 변수명 짓는 방법"
      ],
      "metadata": {
        "id": "Ohfxqj1NnOSI"
      }
    },
    {
      "cell_type": "code",
      "source": [
        "# 변수를 만들 때 3가지 방법\n",
        "# camel표기법, snake표기법, pascal표기법\n",
        "camelCase = 1\n",
        "snake_case = 1\n",
        "PascalCase = 1 # 클래스 만들 때 많이 사용"
      ],
      "metadata": {
        "id": "HSkkUGL7nNTX"
      },
      "execution_count": 19,
      "outputs": []
    },
    {
      "cell_type": "markdown",
      "source": [
        "## 2️⃣ 문자열"
      ],
      "metadata": {
        "id": "mK_qPwZvpRHS"
      }
    },
    {
      "cell_type": "code",
      "source": [
        "multiline = \"life is too short \\n You need python\"\n",
        "print(multiline)\n",
        "\n",
        "multiline2 = '''\n",
        "여러줄의\n",
        "문장을\n",
        "한번에 포함시킬 수 있음\n",
        "'''\n",
        "print(multiline2)"
      ],
      "metadata": {
        "colab": {
          "base_uri": "https://localhost:8080/"
        },
        "id": "E9h5JGRzpSgK",
        "outputId": "ae351e41-7317-4ec4-c16c-a04c256a837e"
      },
      "execution_count": 20,
      "outputs": [
        {
          "output_type": "stream",
          "name": "stdout",
          "text": [
            "life is too short \n",
            " You need python\n",
            "\n",
            "여러줄의\n",
            "문장을\n",
            "한번에 포함시킬 수 있음\n",
            "\n"
          ]
        }
      ]
    },
    {
      "cell_type": "code",
      "source": [
        "head = 'python'\n",
        "tail = '    is fun!'\n",
        "print(head + tail) # -는 안됨! +, * 연산 가능(문자열변수 간 곱연산은 안됨)\n",
        "print(head * 3)"
      ],
      "metadata": {
        "colab": {
          "base_uri": "https://localhost:8080/"
        },
        "id": "8bHyXn8tpoiY",
        "outputId": "e91619e4-492d-40a5-fb25-aa7086957952"
      },
      "execution_count": 21,
      "outputs": [
        {
          "output_type": "stream",
          "name": "stdout",
          "text": [
            "python    is fun!\n",
            "pythonpythonpython\n"
          ]
        }
      ]
    },
    {
      "cell_type": "markdown",
      "source": [
        "### 💡 문자열 인덱싱 & 슬라이싱"
      ],
      "metadata": {
        "id": "Rh8dnMb-sHdM"
      }
    },
    {
      "cell_type": "code",
      "source": [
        "a = 'Life is too short, You need python'\n",
        "print(a[3])\n",
        "print(a[-1])\n",
        "print(a[-5])\n",
        "\n",
        "print(a[5:-1])\n",
        "print(a[5:-1:2]) # 일정한 간격 추가\n",
        "print(a[0:3]) # n-1까지만 출력 -> a[0] ~ a[2]까지 출력\n",
        "\n",
        "# 길이를 넘는 인덱스 참조는 에러 발생(IndexError - string index out of range)"
      ],
      "metadata": {
        "colab": {
          "base_uri": "https://localhost:8080/"
        },
        "id": "3K1Ek47OqynY",
        "outputId": "3021bbed-3955-4d18-8382-5558802c3092"
      },
      "execution_count": 22,
      "outputs": [
        {
          "output_type": "stream",
          "name": "stdout",
          "text": [
            "e\n",
            "n\n",
            "y\n",
            "is too short, You need pytho\n",
            "i o hr,Yune yh\n",
            "Lif\n"
          ]
        }
      ]
    },
    {
      "cell_type": "code",
      "source": [
        "a = '20230307Rainy'\n",
        "date = a[0:8]\n",
        "weather = a[8:]\n",
        "print(date)\n",
        "print(weather)"
      ],
      "metadata": {
        "colab": {
          "base_uri": "https://localhost:8080/"
        },
        "id": "eYvrG7eHr8ru",
        "outputId": "ea3072f7-d632-49e1-dec7-92b1d865e70b"
      },
      "execution_count": 23,
      "outputs": [
        {
          "output_type": "stream",
          "name": "stdout",
          "text": [
            "20230307\n",
            "Rainy\n"
          ]
        }
      ]
    },
    {
      "cell_type": "code",
      "source": [
        "b = 'Hello world'\n",
        "\n",
        "print(len(b))\n",
        "\n",
        "print(b[:5])\n",
        "print(b[6:])\n",
        "print('-'*50)\n",
        "# 음수로만 슬라이싱\n",
        "print('음수로만 슬라이싱')\n",
        "print('Hello: ')\n",
        "print(b[-11:-6])\n",
        "print(b[:-6])\n",
        "print('world: ')\n",
        "print(b[-5:])\n",
        "\n",
        "# 처음부터 끝까지\n",
        "print(b[:]) \n",
        "\n",
        "# 역순으로 출력\n",
        "print(b[::-1])"
      ],
      "metadata": {
        "colab": {
          "base_uri": "https://localhost:8080/"
        },
        "id": "Q1JMXj7zt0BE",
        "outputId": "192d3454-e3e0-4d4f-a6e6-0d5eea9a82e1"
      },
      "execution_count": 24,
      "outputs": [
        {
          "output_type": "stream",
          "name": "stdout",
          "text": [
            "11\n",
            "Hello\n",
            "world\n",
            "--------------------------------------------------\n",
            "음수로만 슬라이싱\n",
            "Hello: \n",
            "Hello\n",
            "Hello\n",
            "world: \n",
            "world\n",
            "Hello world\n",
            "dlrow olleH\n"
          ]
        }
      ]
    },
    {
      "cell_type": "code",
      "source": [
        "# 중요도 순\n",
        "\n",
        "# 문자 수 세기 - count()\n",
        "a = 'hobby'\n",
        "print(a.count('b'))\n",
        "\n",
        "# 특정 문자를 찾아 인덱스 반환 - find()\n",
        "a = 'Python is best program'\n",
        "print(a.find('b'))\n",
        "print(a.find('k')) # 없는 경우 -1 반환\n",
        "# index('찾을문자')의 역할과 비슷하나 이 경우에 해당 문자가 없다면 에러발생\n",
        "# print(a.index('k'))\n",
        "\n",
        "# '[]'.join('문자열') - 문자 사이에 [] 삽입  \n",
        "a = ','.join('abcdefg')\n",
        "print(a)\n",
        "\n",
        "# upper(), lower()\n",
        "\n",
        "# strip() - 필요에 따라 lstrip(), rstrip() 사용\n",
        "a = '   HI    '\n",
        "print(a.strip())\n",
        "\n",
        "# replace() < 중요 >\n",
        "a = 'Java is best program'\n",
        "replaced = a.replace('Java', 'Python') # 대소문자 구분!\n",
        "print(replaced)\n",
        "\n",
        "# split() < 중요 >\n",
        "a.split() # default: /s 기준 split\n",
        "phone = '010-1234-5678'\n",
        "phone_split = phone.split('-')\n",
        "print(phone_split)\n",
        "email = 'abcd@naver.com'\n",
        "email_split = email.split('@')\n",
        "print(email_split)"
      ],
      "metadata": {
        "colab": {
          "base_uri": "https://localhost:8080/"
        },
        "id": "BeH9fuWW0uUc",
        "outputId": "41be1f14-33ca-42de-a52e-0f0407b88f7c"
      },
      "execution_count": 25,
      "outputs": [
        {
          "output_type": "stream",
          "name": "stdout",
          "text": [
            "2\n",
            "10\n",
            "-1\n",
            "a,b,c,d,e,f,g\n",
            "HI\n",
            "Python is best program\n",
            "['010', '1234', '5678']\n",
            "['abcd', 'naver.com']\n"
          ]
        }
      ]
    },
    {
      "cell_type": "code",
      "source": [
        "# 퀴즈1) ['naver', 'com'] 출력\n",
        "a = 'abcd@naver.com'\n",
        "b = email.split('@')\n",
        "print(b[1].split('.'))\n",
        "\n",
        "# 퀴즈2) p t 출력\n",
        "letter = 'python'\n",
        "print(letter[0], letter[2])\n",
        "\n",
        "# 퀴즈3) 홀홀홀 출력\n",
        "string = '홀짝홀짝홀짝'\n",
        "result = string[::2]\n",
        "print(result)\n",
        "\n",
        "# 퀴즈4) 표준입력장치로 사용자의 영문이름을 입력받아서 성과 이름을 순서를 바꾸어 출력하는 프로그램을 작성 (ex hong gildong -> gildong hong)\n",
        "full_name = input('이름을 입력하세요(예: hong gildong)')\n",
        "result = full_name.split(' ')\n",
        "print(result[1], result[0])\n",
        "  ### find()함수 사용법\n",
        "space = full_name.find('')\n",
        "first_name = full_name[:space] # 성씨의 길이가 달라질 경우 변수를 사용하여 안전하게 슬라이싱\n",
        "last_name = full_name[space+1:]\n",
        "print(last_name, first_name)\n",
        "  ### capitalize(): 앞 문자만 대문자로 바꿔줌 - upper()로 인덱싱 해서 하는거보다 더 단순!!!!!!!!\n",
        "full_name.capitalize()"
      ],
      "metadata": {
        "colab": {
          "base_uri": "https://localhost:8080/",
          "height": 143
        },
        "id": "Kj5pqj2H1R3P",
        "outputId": "2435875a-8454-408e-99f7-bc5d83988af3"
      },
      "execution_count": 26,
      "outputs": [
        {
          "output_type": "stream",
          "name": "stdout",
          "text": [
            "['naver', 'com']\n",
            "p t\n",
            "홀홀홀\n",
            "이름을 입력하세요(예: hong gildong)hong gildong\n",
            "gildong hong\n",
            "ong gildong \n"
          ]
        },
        {
          "output_type": "execute_result",
          "data": {
            "text/plain": [
              "'Hong gildong'"
            ],
            "application/vnd.google.colaboratory.intrinsic+json": {
              "type": "string"
            }
          },
          "metadata": {},
          "execution_count": 26
        }
      ]
    },
    {
      "cell_type": "markdown",
      "source": [
        "## 3️⃣ 자료형 변환"
      ],
      "metadata": {
        "id": "5sZzzaY_vUgE"
      }
    },
    {
      "cell_type": "code",
      "source": [
        "# float -> int\n",
        "a = int(10.5) # 버림 적용\n",
        "print(a)\n",
        "print(type(a))"
      ],
      "metadata": {
        "colab": {
          "base_uri": "https://localhost:8080/"
        },
        "id": "NHsRS-NZu9JF",
        "outputId": "bd2a4014-b8b5-450d-ad0e-f2b8ac401bae"
      },
      "execution_count": 27,
      "outputs": [
        {
          "output_type": "stream",
          "name": "stdout",
          "text": [
            "10\n",
            "<class 'int'>\n"
          ]
        }
      ]
    },
    {
      "cell_type": "code",
      "source": [
        "# int -> float\n",
        "b = float(20)\n",
        "print(b)\n",
        "print(type(b))"
      ],
      "metadata": {
        "colab": {
          "base_uri": "https://localhost:8080/"
        },
        "id": "Xef9nD1XwM8P",
        "outputId": "274bab62-7cf1-4344-c8d8-1c870e1e6b1d"
      },
      "execution_count": 28,
      "outputs": [
        {
          "output_type": "stream",
          "name": "stdout",
          "text": [
            "20.0\n",
            "<class 'float'>\n"
          ]
        }
      ]
    },
    {
      "cell_type": "code",
      "source": [
        "# bool -> int\n",
        "print(type(True))\n",
        "print(int(True))\n",
        "\n",
        "st = '10'\n",
        "print(type(st))\n",
        "print(int(st))\n",
        "\n",
        "st2 = 'python'\n",
        "print(type(st2))\n",
        "# print(int(st)2) -> ValueError\n",
        "\n",
        "# 실수를 갖고있는 문자열의 형변환: 형변환 두번 - float -> int\n",
        "st3 = '10.5'\n",
        "print(type(st3))\n",
        "st3_float = float(st3)\n",
        "st3_int = int(st3_float)\n",
        "print(type(st3_float))\n",
        "print(type(st3_int))"
      ],
      "metadata": {
        "colab": {
          "base_uri": "https://localhost:8080/"
        },
        "id": "HeJTp93awjKg",
        "outputId": "ae6f36cb-f900-47e1-ad96-eca56d79ee6f"
      },
      "execution_count": 29,
      "outputs": [
        {
          "output_type": "stream",
          "name": "stdout",
          "text": [
            "<class 'bool'>\n",
            "1\n",
            "<class 'str'>\n",
            "10\n",
            "<class 'str'>\n",
            "<class 'str'>\n",
            "<class 'float'>\n",
            "<class 'int'>\n"
          ]
        }
      ]
    },
    {
      "cell_type": "code",
      "source": [
        "# 숫자형 자료의 문자열 형변환은 잘됨 ^^\n",
        "c = 100.22\n",
        "print(type(str(c)))"
      ],
      "metadata": {
        "colab": {
          "base_uri": "https://localhost:8080/"
        },
        "id": "EHutQpI7zyv6",
        "outputId": "27be6672-2e7a-4e19-c869-8706a661f91f"
      },
      "execution_count": 30,
      "outputs": [
        {
          "output_type": "stream",
          "name": "stdout",
          "text": [
            "<class 'str'>\n"
          ]
        }
      ]
    },
    {
      "cell_type": "markdown",
      "source": [
        "# 💕 연산자(Operator)\n",
        "- 산술연산자\n",
        "- 관계연산자\n",
        "- 논리연산자\n",
        "- 대입연산자"
      ],
      "metadata": {
        "id": "H0JVphL10TG3"
      }
    },
    {
      "cell_type": "markdown",
      "source": [
        "## 1️⃣ 산술연산자"
      ],
      "metadata": {
        "id": "IrCYw0dtSXxE"
      }
    },
    {
      "cell_type": "code",
      "source": [
        "# 1. 산술연산자\n",
        "num1 = 100\n",
        "num2 = 20\n",
        "add1 = num1 + num2\n",
        "print(add1)\n",
        "\n",
        "sub = num1 - num2\n",
        "print(sub)\n",
        "\n",
        "mul = num1 * num2\n",
        "print(mul)\n",
        "\n",
        "div = num1 / num2 # 몫을 실수로 반환\n",
        "print(div) # 정수를 나누기 연산하면 실수로 나옴\n",
        "\n",
        "div2 = num1 // num2 # 몫의 정수 부분만 반환\n",
        "print(div2)\n",
        "\n",
        "num3 = 7\n",
        "num4 = 4\n",
        "div3 = num3 % num4 # 나머지 반환\n",
        "print(div3)\n",
        "\n",
        "sq = num4 ** 3\n",
        "sq2 = num3 ** 2\n",
        "\n",
        "print(sq)\n",
        "print(sq2)"
      ],
      "metadata": {
        "colab": {
          "base_uri": "https://localhost:8080/"
        },
        "id": "r6DQtvgt1FVf",
        "outputId": "bc8a8356-fa8f-466d-83bf-1cba06ec344d"
      },
      "execution_count": 31,
      "outputs": [
        {
          "output_type": "stream",
          "name": "stdout",
          "text": [
            "120\n",
            "80\n",
            "2000\n",
            "5.0\n",
            "5\n",
            "3\n",
            "64\n",
            "49\n"
          ]
        }
      ]
    },
    {
      "cell_type": "markdown",
      "source": [
        "## 2️⃣ 관계연산자"
      ],
      "metadata": {
        "id": "-0_LsQPL6a84"
      }
    },
    {
      "cell_type": "code",
      "source": [
        "# 1. 동등비교\n",
        "bool_result = num1 == num2\n",
        "print(bool_result)\n",
        "\n",
        "bool_result2 = num1 != num2\n",
        "print(bool_result2)\n",
        "\n",
        "# 2. 크기비교\n",
        "bool_result3 = num1 >= num2\n",
        "print(bool_result3)"
      ],
      "metadata": {
        "colab": {
          "base_uri": "https://localhost:8080/"
        },
        "id": "3whdneMs6aAi",
        "outputId": "94a8621f-de12-43d8-c840-eb098e1ce9a8"
      },
      "execution_count": 32,
      "outputs": [
        {
          "output_type": "stream",
          "name": "stdout",
          "text": [
            "False\n",
            "True\n",
            "True\n"
          ]
        }
      ]
    },
    {
      "cell_type": "markdown",
      "source": [
        "## 3️⃣ 논리연산자"
      ],
      "metadata": {
        "id": "Lk4m9bABDP6k"
      }
    },
    {
      "cell_type": "code",
      "source": [
        "num1 = 100\n",
        "num2 = 20\n",
        "\n",
        "# and 조건\n",
        "log_result = num1 >= 50 and num2 <= 10 # 참 and 거짓 : 거짓\n",
        "print(log_result)\n",
        "\n",
        "log_result2 = num1 <= 50 and num2 >= 10 # 거짓 and 참 : 거짓\n",
        "print(log_result2)\n",
        "\n",
        "log_result3 = num1 >= 50 and num2 >= 10 # 참 and 참 : 참\n",
        "print(log_result3)\n",
        "\n",
        "log_result4 = num1 <= 50 and num2 <= 10 # 거짓 and 거짓 : 거짓\n",
        "print(log_result4)\n",
        "\n",
        "# or 조건\n",
        "log_result5 = num1 >= 50 or num2 <= 10 # 참 or 거짓 : 참\n",
        "print(log_result5)\n",
        "\n",
        "log_result6 = num1 <= 50 or num2 >= 10 # 거짓 or 참 : 참\n",
        "print(log_result6)\n",
        "\n",
        "log_result7 = num1 >= 50 or num2 >= 10 # 참 or 참 : 참\n",
        "print(log_result7)\n",
        "\n",
        "log_result8 = num1 <= 50 or num2 <= 10 # 거짓 or 거짓 : 거짓\n",
        "print(log_result8)\n",
        "\n",
        "# not\n",
        "log_result9 = not num1 >= 50 # not 참 : 거짓\n",
        "print(log_result9)\n",
        "\n",
        "log_result10 = not num1 <= 50 # not 거짓 : 참\n",
        "print(log_result10)"
      ],
      "metadata": {
        "colab": {
          "base_uri": "https://localhost:8080/"
        },
        "id": "V0IH4wLc1hHB",
        "outputId": "3a312538-b5af-4a8c-eeda-64a996b9f2aa"
      },
      "execution_count": 33,
      "outputs": [
        {
          "output_type": "stream",
          "name": "stdout",
          "text": [
            "False\n",
            "False\n",
            "True\n",
            "False\n",
            "True\n",
            "True\n",
            "True\n",
            "False\n",
            "False\n",
            "True\n"
          ]
        }
      ]
    },
    {
      "cell_type": "markdown",
      "source": [
        "## 4️⃣ 대입연산자"
      ],
      "metadata": {
        "id": "Vt_DNsutF67o"
      }
    },
    {
      "cell_type": "code",
      "source": [
        "i = tot = 10\n",
        "print(i, tot)\n",
        "\n",
        "i = i + 1\n",
        "print(i)\n",
        "\n",
        "i += 1\n",
        "print(i)\n",
        "\n",
        "tot += i\n",
        "print(tot)\n",
        "\n",
        "v1, v2 = 100, 200\n",
        "print(v1)\n",
        "print(v2)\n",
        "\n",
        "v1, v2 = v2, v1\n",
        "print(v1)\n",
        "print(v2)"
      ],
      "metadata": {
        "colab": {
          "base_uri": "https://localhost:8080/"
        },
        "id": "uyyjY8TTF6qX",
        "outputId": "6ce1d7de-e8b7-4231-ec03-f788ddf104b2"
      },
      "execution_count": 34,
      "outputs": [
        {
          "output_type": "stream",
          "name": "stdout",
          "text": [
            "10 10\n",
            "11\n",
            "12\n",
            "22\n",
            "100\n",
            "200\n",
            "200\n",
            "100\n"
          ]
        }
      ]
    },
    {
      "cell_type": "code",
      "source": [
        "x = y = z = 10\n",
        "print(x, y, z)\n",
        "\n",
        "del z\n",
        "# print(z) -> NameError: name 'z' is not defined"
      ],
      "metadata": {
        "id": "RfThH41zK9rC",
        "colab": {
          "base_uri": "https://localhost:8080/"
        },
        "outputId": "637e1d2e-0cbd-43d2-b531-5d1492aca569"
      },
      "execution_count": 35,
      "outputs": [
        {
          "output_type": "stream",
          "name": "stdout",
          "text": [
            "10 10 10\n"
          ]
        }
      ]
    },
    {
      "cell_type": "markdown",
      "source": [
        "# 💕 표준입출력장치"
      ],
      "metadata": {
        "id": "Hk4VyR3dMcgx"
      }
    },
    {
      "cell_type": "markdown",
      "source": [
        "## 1️⃣ 표준입력장치"
      ],
      "metadata": {
        "id": "my0N4lEmRkFD"
      }
    },
    {
      "cell_type": "code",
      "source": [
        "# 표준입력장치는 입력받은 데이터를 string타입으로 저장\n",
        "num = input()\n",
        "print(num)\n",
        "print(type(num))\n",
        "\n",
        "num2 = int(num)\n",
        "print(type(num2))\n",
        "\n",
        "num3 = int(input()) # 한번에 하기!\n",
        "print(num3)\n",
        "print(type(num3))\n",
        "\n",
        "num4 = int(float(input()))\n",
        "print(num4)\n",
        "print(type(num4))\n",
        "\n",
        "num5 = int(input('정수만 입력하세요: '))\n",
        "print(type(num5))\n",
        "print(num5)\n",
        "\n",
        "# 활용 - 단순계산기\n",
        "n1 = int(input('정수만: '))\n",
        "n2 = int(input('정수만: '))\n",
        "print(n1+n2)\n",
        "\n"
      ],
      "metadata": {
        "colab": {
          "base_uri": "https://localhost:8080/"
        },
        "id": "3mXGfKa4LRD2",
        "outputId": "289b3112-796b-450d-aa34-d6dd60b659d6"
      },
      "execution_count": 37,
      "outputs": [
        {
          "output_type": "stream",
          "name": "stdout",
          "text": [
            "31\n",
            "31\n",
            "<class 'str'>\n",
            "<class 'int'>\n",
            "32\n",
            "32\n",
            "<class 'int'>\n",
            "33\n",
            "33\n",
            "<class 'int'>\n",
            "정수만 입력하세요: 34\n",
            "<class 'int'>\n",
            "34\n",
            "정수만: 35\n",
            "정수만: 36\n",
            "71\n"
          ]
        }
      ]
    },
    {
      "cell_type": "markdown",
      "source": [
        "## 2️⃣ 표준출력장치"
      ],
      "metadata": {
        "id": "DNrkCoG4QytO"
      }
    },
    {
      "cell_type": "code",
      "source": [
        "# format(value, '양식')\n",
        "help(format)"
      ],
      "metadata": {
        "colab": {
          "base_uri": "https://localhost:8080/"
        },
        "id": "wjAdS1VGQ1Wv",
        "outputId": "e0afd19f-f524-49e9-b628-e7a99b4b83c4"
      },
      "execution_count": 38,
      "outputs": [
        {
          "output_type": "stream",
          "name": "stdout",
          "text": [
            "Help on built-in function format in module builtins:\n",
            "\n",
            "format(value, format_spec='', /)\n",
            "    Return value.__format__(format_spec)\n",
            "    \n",
            "    format_spec defaults to the empty string.\n",
            "    See the Format Specification Mini-Language section of help('FORMATTING') for\n",
            "    details.\n",
            "\n"
          ]
        }
      ]
    },
    {
      "cell_type": "markdown",
      "source": [
        "# 💕 format과 양식문자"
      ],
      "metadata": {
        "id": "RgfvdoxMRJqT"
      }
    },
    {
      "cell_type": "markdown",
      "source": [
        "## 1️⃣ format\n",
        "- 문자열 포매팅\n",
        "- 문자열 중간 중간에 특정 변수의 값을 넣어주기 위해서 사용\n",
        "- '{인덱스0}, {인덱스1}'.format(값0, 값1)"
      ],
      "metadata": {
        "id": "TQaqylG3S0yG"
      }
    },
    {
      "cell_type": "markdown",
      "source": [
        "## 2️⃣ 양식문자\n",
        "- %s: 문자열 ⭐️\n",
        "- %c: 한개문자\n",
        "- %d: 정수 ⭐️\n",
        "- %f: 실수\n",
        "- %o: 팔진수\n",
        "- %x: 십육진수\n",
        "- %%: %출력"
      ],
      "metadata": {
        "id": "8Edt4N3pTZao"
      }
    },
    {
      "cell_type": "code",
      "source": [
        "print('원주율 = ', 3.14159)\n",
        "print('원주율 = ', format(3.14159, '.3f')) # format(value, '양식')\n",
        "\n",
        "print('금액 = ', format(10000, '3,d')) # 세 자리마다 공백?"
      ],
      "metadata": {
        "colab": {
          "base_uri": "https://localhost:8080/"
        },
        "id": "I9X09kJGRv_a",
        "outputId": "95c67642-0fad-4037-a2ee-ccb582469ba8"
      },
      "execution_count": 39,
      "outputs": [
        {
          "output_type": "stream",
          "name": "stdout",
          "text": [
            "원주율 =  3.14159\n",
            "원주율 =  3.142\n",
            "금액 =  10,000\n"
          ]
        }
      ]
    },
    {
      "cell_type": "code",
      "source": [
        "name = '홍길동'\n",
        "age = 25\n",
        "tall = 175.456\n",
        "print('이름: %s, 나이: %d, data = %.2f'%(name, age, tall))\n",
        "\n",
        "print('이름:{}, 나이:{}, data: {}'.format(name, age, tall))"
      ],
      "metadata": {
        "colab": {
          "base_uri": "https://localhost:8080/"
        },
        "id": "wH7lZBmbjx5M",
        "outputId": "471eecae-5e4d-402d-9297-f2a3992281b5"
      },
      "execution_count": 40,
      "outputs": [
        {
          "output_type": "stream",
          "name": "stdout",
          "text": [
            "이름: 홍길동, 나이: 25, data = 175.46\n",
            "이름:홍길동, 나이:25, data: 175.456\n"
          ]
        }
      ]
    },
    {
      "cell_type": "markdown",
      "source": [
        "## 3️⃣ f-string"
      ],
      "metadata": {
        "id": "IFkAZnqNS_so"
      }
    },
    {
      "cell_type": "code",
      "source": [
        "# 축약형 f-string - 제일 단순\n",
        "print(f'이름:{name}, 나이:{age}, data:{tall}')"
      ],
      "metadata": {
        "id": "2L5Nrg-5lU2P",
        "colab": {
          "base_uri": "https://localhost:8080/"
        },
        "outputId": "3e99671d-450c-47cf-e096-2476c8fa49b0"
      },
      "execution_count": 41,
      "outputs": [
        {
          "output_type": "stream",
          "name": "stdout",
          "text": [
            "이름:홍길동, 나이:25, data:175.456\n"
          ]
        }
      ]
    },
    {
      "cell_type": "code",
      "source": [
        "x = 3.14159\n",
        "print(f'원주울 = {x:.2f}')\n",
        "\n",
        "print('금액 = ', format(10000, '10,d'))\n",
        "print(f'금액 = {10000:10,}')"
      ],
      "metadata": {
        "colab": {
          "base_uri": "https://localhost:8080/"
        },
        "id": "dMK2LWeCl_82",
        "outputId": "0623eac9-d1e9-41bd-98da-75a1ee718d99"
      },
      "execution_count": 42,
      "outputs": [
        {
          "output_type": "stream",
          "name": "stdout",
          "text": [
            "원주울 = 3.14\n",
            "금액 =      10,000\n",
            "금액 =     10,000\n"
          ]
        }
      ]
    },
    {
      "cell_type": "markdown",
      "source": [
        "# 💕 이스케이프 문자\n",
        "- \\ (백슬래시) 와 바로 뒤에 같이 나오는 특정 문자(r, n, t 등)를 합쳐 하나의 이스케이프 문자가 됨\n",
        "- 출력시 특별한 의미를 가짐"
      ],
      "metadata": {
        "id": "p_uKhLD6B0dC"
      }
    },
    {
      "cell_type": "code",
      "source": [
        "### escape 문자 차단 ###\n",
        "print('Escape 문자 차단')\n",
        "# 1. 경로\n",
        "print('1. 경로')\n",
        "print('[ 차단안한 경우 ]')\n",
        "print('path =', 'c:\\python38\\test')\n",
        "print('[ 차단한 경우 ]')\n",
        "print('path =', 'c:\\\\python38\\\\test') # 이스케이프 문자를 한번 더 사용하는 방법\n",
        "print('path =', r'c:\\python38\\test') # r'' 사용법"
      ],
      "metadata": {
        "colab": {
          "base_uri": "https://localhost:8080/"
        },
        "id": "5x0fEQorB16N",
        "outputId": "42d69a92-b50b-4518-cb87-26854ae8151e"
      },
      "execution_count": 43,
      "outputs": [
        {
          "output_type": "stream",
          "name": "stdout",
          "text": [
            "Escape 문자 차단\n",
            "1. 경로\n",
            "[ 차단안한 경우 ]\n",
            "path = c:\\python38\test\n",
            "[ 차단한 경우 ]\n",
            "path = c:\\python38\\test\n",
            "path = c:\\python38\\test\n"
          ]
        }
      ]
    },
    {
      "cell_type": "markdown",
      "source": [
        "### 📝 퀴즈"
      ],
      "metadata": {
        "id": "Y5-_2VopUgdR"
      }
    },
    {
      "cell_type": "code",
      "source": [
        "# 문제1. 신씨가 소리질렀다. \"도둑이야\"\n",
        "text = '신씨가 소리질렀다. \"도둑이야\"'\n",
        "print(text)\n",
        "# 문제2. c:\\windows\\naver\\test\n",
        "root = r'c:\\windows\\naver\\test'\n",
        "print(root)\n",
        "# 문제3. naver/kakao/sk/samsung\n",
        "print('naver', 'kakao', 'sk', 'samsung', sep='/')\n",
        "# 문제4. 이번역은 신촌역입니다. 내리실문은 왼쪽입니다.\n",
        "station = '신촌'\n",
        "door = '왼쪽'\n",
        "print(f'이번역은 {station}역입니다. 내리실문은 {door}입니다.')\n",
        "  # 다른 방법: 문자열 합치기\n",
        "print('이번역은 ' + station + '역입니다. 내리실문은 ' + door + '입니다.')"
      ],
      "metadata": {
        "colab": {
          "base_uri": "https://localhost:8080/"
        },
        "id": "_yIFlsESDxUs",
        "outputId": "33b18ab9-cb30-4fca-bdda-7252facc102e"
      },
      "execution_count": 44,
      "outputs": [
        {
          "output_type": "stream",
          "name": "stdout",
          "text": [
            "신씨가 소리질렀다. \"도둑이야\"\n",
            "c:\\windows\\naver\\test\n",
            "naver/kakao/sk/samsung\n",
            "이번역은 신촌역입니다. 내리실문은 왼쪽입니다.\n",
            "이번역은 신촌역입니다. 내리실문은 왼쪽입니다.\n"
          ]
        }
      ]
    }
  ]
}