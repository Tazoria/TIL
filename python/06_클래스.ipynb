{
  "nbformat": 4,
  "nbformat_minor": 0,
  "metadata": {
    "colab": {
      "provenance": [],
      "toc_visible": true,
      "authorship_tag": "ABX9TyP1C1NhYDu3+EZ3EZQ5jI37",
      "include_colab_link": true
    },
    "kernelspec": {
      "name": "python3",
      "display_name": "Python 3"
    },
    "language_info": {
      "name": "python"
    }
  },
  "cells": [
    {
      "cell_type": "markdown",
      "metadata": {
        "id": "view-in-github",
        "colab_type": "text"
      },
      "source": [
        "<a href=\"https://colab.research.google.com/github/Tazoria/TIL/blob/main/python/06_%ED%81%B4%EB%9E%98%EC%8A%A4.ipynb\" target=\"_parent\"><img src=\"https://colab.research.google.com/assets/colab-badge.svg\" alt=\"Open In Colab\"/></a>"
      ]
    },
    {
      "cell_type": "markdown",
      "source": [
        "# ⭐️ 💕 클래스"
      ],
      "metadata": {
        "id": "kodhdK6PbxZt"
      }
    },
    {
      "cell_type": "markdown",
      "source": [
        "## 1️⃣ 인스턴스 VS 객체\n",
        "- 인스턴스: 클래스와의 관계를 표현하고자 할 때 사용\n",
        "    - 예: 이것은 클래스 x의 인스턴스이다.\n",
        "- 객체: 클래스로 만들고자 하는 것 그 자체"
      ],
      "metadata": {
        "id": "B3N22HzTY-XO"
      }
    },
    {
      "cell_type": "code",
      "source": [
        "# 세면도구 선물세트 예시 - 메소드 X\n",
        "\n",
        "# 클래스 생성\n",
        "class 세면도구:\n",
        "  치약 = 0\n",
        "  샴푸 = 0\n",
        "  비누 = 0\n",
        "\n",
        "# 인스턴스 생성\n",
        "세01호 = 세면도구()\n",
        "세03호 = 세면도구()\n",
        "세04호 = 세면도구()\n",
        "\n",
        "# 객체 생성\n",
        "세01호.치약 = 12 \n",
        "세01호.샴푸 = 3\n",
        "세01호.비누 = 3\n",
        "\n",
        "세03호.치약 = 1 \n",
        "세03호.샴푸 = 2\n",
        "세03호.비누 = 3\n",
        "\n",
        "세04호.치약 = 6\n",
        "세04호.샴푸 = 2\n",
        "세04호.비누 = 10\n",
        "\n",
        "# 확인\n",
        "print('세면도구 01호 선물세트 내용물')\n",
        "print('치약: ', 세01호.치약, '샴푸: ', 세01호.샴푸, '비누: ', 세01호.비누)\n",
        "print('세면도구 03호 선물세트 내용물')\n",
        "print('치약: ', 세03호.치약, '샴푸: ', 세03호.샴푸, '비누: ', 세03호.비누)\n",
        "print('세면도구 04호 선물세트 내용물')\n",
        "print('치약: ', 세04호.치약, '샴푸: ', 세04호.샴푸, '비누: ', 세04호.비누)\n"
      ],
      "metadata": {
        "id": "HVPshftGfT8w"
      },
      "execution_count": null,
      "outputs": []
    },
    {
      "cell_type": "markdown",
      "source": [
        "## 2️⃣ 메서드\n",
        "- 클래스 안에 구현된 함수"
      ],
      "metadata": {
        "id": "D4R4N6yUZHit"
      }
    },
    {
      "cell_type": "code",
      "source": [
        "# 참치 선물세트 예시 - 메소드 O\n",
        "\n",
        "class 참치선물세트():\n",
        "  일반 = 0\n",
        "  야채 = 0\n",
        "  고추 = 0\n",
        "  def 총합(self, 이름):\n",
        "    합 = self.일반 + self.야채 + self.고추\n",
        "    return 이름 + str(합)\n",
        "  def 출력(self, 이름):\n",
        "    print('**', 이름, '**')\n",
        "    print('일반참치: ', self.일반)\n",
        "    print('야채참치: ', self.야채)\n",
        "    print('고추참치', self.고추)"
      ],
      "metadata": {
        "id": "gIOr2lyPhu-9"
      },
      "execution_count": null,
      "outputs": []
    },
    {
      "cell_type": "code",
      "source": [
        "# 인스턴스 및 오브젝트 생성\n",
        "참01호 = 참치선물세트()\n",
        "\n",
        "참01호.일반 = 10\n",
        "참01호.야채 = 5\n",
        "참01호.고추 = 2\n",
        "\n",
        "출력값 = 참01호.총합('참치선물세트 01호 내용물')\n",
        "print(출력값)\n",
        "\n",
        "참03호 = 참치선물세트()\n",
        "\n",
        "참03호.일반 = 7\n",
        "참03호.야채 = 5\n",
        "참03호.고추 = 10\n",
        "\n",
        "# 클래스 메소드 출력\n",
        "참03호.출력('참치선물세트 03 내용물')"
      ],
      "metadata": {
        "colab": {
          "base_uri": "https://localhost:8080/"
        },
        "id": "oABfMqxfjdQQ",
        "outputId": "b507de4c-32cd-4a82-8264-c2a5281236f0"
      },
      "execution_count": null,
      "outputs": [
        {
          "output_type": "stream",
          "name": "stdout",
          "text": [
            "참치선물세트 01호 내용물17\n",
            "** 참치선물세트 03 내용물 **\n",
            "일반참치:  7\n",
            "야채참치:  5\n",
            "고추참치 10\n"
          ]
        }
      ]
    },
    {
      "cell_type": "markdown",
      "source": [
        "### 💡 self\n",
        "- 인스턴스화된 자기자신?"
      ],
      "metadata": {
        "id": "-jc5F9RbsUfC"
      }
    },
    {
      "cell_type": "code",
      "source": [
        "# 클래스 안의 다른 메소드를 호출하는 self\n",
        "class 참치선물세트():\n",
        "  일반 = 0\n",
        "  야채 = 0\n",
        "  고추 = 0\n",
        "  def 출력(self, 이름):\n",
        "    print('**', 이름, '**')\n",
        "    print('일반참치: ', self.일반)\n",
        "    print('야채참치: ', self.야채)\n",
        "    print('고추참치', self.고추)\n",
        "  def 출력2(self):\n",
        "    self.출력('참치선물세트')\n",
        "\n",
        "참04호 = 참치선물세트()\n",
        "참04호.일반 = 20\n",
        "참04호.야채 = 23\n",
        "참04호.고추 = 22\n",
        "\n",
        "참04호.출력2() # 클래스 내부에서 다른메소드를 호출하면서 이미 인자값을 넣어줬으로 안 넣어도 됨!"
      ],
      "metadata": {
        "colab": {
          "base_uri": "https://localhost:8080/"
        },
        "id": "uTRAFFFtlZRS",
        "outputId": "10c04bc6-0000-4e4a-97ec-bc0f35ae9d67"
      },
      "execution_count": null,
      "outputs": [
        {
          "output_type": "stream",
          "name": "stdout",
          "text": [
            "** 참치선물세트 **\n",
            "일반참치:  20\n",
            "야채참치:  23\n",
            "고추참치 22\n"
          ]
        }
      ]
    },
    {
      "cell_type": "markdown",
      "source": [
        "## 3️⃣ 생성자\n",
        "- 인스턴스의 생성을 간단하게 해줌\n",
        "  - 변수선언 X\n",
        "- 함수형태\n",
        "- \\_\\_init\\_\\_ ( self ,  )\n",
        "- 생성자는 무조건 실행됨"
      ],
      "metadata": {
        "id": "yCOBcAFLZYGp"
      }
    },
    {
      "cell_type": "code",
      "source": [
        "# 클래스 내부에 생성자 넣기\n",
        "class 참치선물세트():\n",
        "  def __init__(self, 일반, 야채, 고추):\n",
        "    self.일반 = 일반\n",
        "    self.야채 = 야채\n",
        "    self.고추 = 고추\n",
        "    print('생성자는 무조건 실행됨')\n",
        "\n",
        "# 생성자를 갖고있는 클래스의 인스턴스 생성\n",
        "참05호 = 참치선물세트(15, 16, 17)"
      ],
      "metadata": {
        "colab": {
          "base_uri": "https://localhost:8080/"
        },
        "id": "pQvx18C7sca2",
        "outputId": "2479b77b-fd0a-4905-93ec-7defd8b169e5"
      },
      "execution_count": null,
      "outputs": [
        {
          "output_type": "stream",
          "name": "stdout",
          "text": [
            "생성자는 무조건 실행됨\n"
          ]
        }
      ]
    },
    {
      "cell_type": "markdown",
      "source": [
        "### ☑️ 기타 특수 메서드"
      ],
      "metadata": {
        "id": "7alngI_Tdc7V"
      }
    },
    {
      "cell_type": "markdown",
      "source": [
        "#### 🔘 \\_\\_str\\__ \n",
        "- 객체가 메소드를 사용할 때를 포함해 항상 결과값으로 해당 함수를 함께 리턴\n"
      ],
      "metadata": {
        "id": "6uo5gYfmnoxJ"
      }
    },
    {
      "cell_type": "code",
      "source": [
        "# 예시: __str__\n",
        "def __str__(self): # 객체가 메소드를 사용할 때를 포함해 항상 결과값으로 아랫값을 리턴(메소드의 결과 + __str__의 내용)\n",
        "  return f'계좌번호:{self.ano}, 소유주: {self.owner}, 잔액: {self.balance: 9,d}' # 돈은 오른쪽 정렬(9칸은 1000만 단위라서)"
      ],
      "metadata": {
        "id": "UMUSG3pyna57"
      },
      "execution_count": null,
      "outputs": []
    },
    {
      "cell_type": "markdown",
      "source": [
        "#### 🔘 \\_\\_main\\_\\_\n",
        "- 시작점 만들기 (최상위 코드가 실행되는 곳)\n",
        "- 모듈 본체 안에서만 실행하고 싶은 내용은\n",
        "  - if \\_\\_name\\__ == '\\__main\\__': 이하에 넣음\n",
        "  - 이를 제외한 나머지는 import됨"
      ],
      "metadata": {
        "id": "f5cvYYtLbvlw"
      }
    },
    {
      "cell_type": "code",
      "source": [
        "# 예시: __main__\n",
        "def hello(name):\n",
        "  return f'Hello~ {name}'\n",
        "\n",
        "if __name__ == '__main__':\n",
        "  print(hello('batman')) # 모듈 본체에서만 실행되는 내용"
      ],
      "metadata": {
        "id": "s7ZEcMrZpUN-"
      },
      "execution_count": null,
      "outputs": []
    },
    {
      "cell_type": "markdown",
      "source": [
        "#### 🔘 \\__ del \\__ 등등\n",
        "- 소멸자\n",
        "- 객체가 사라지기 전에 특정 작업을 수행"
      ],
      "metadata": {
        "id": "K7AJafukeH5m"
      }
    },
    {
      "cell_type": "markdown",
      "source": [
        "### 💡 클래스 생성규칙\n",
        "- 클래스명의 첫 글자는 무조건 대문자\n",
        "  - 함수명과 구분하기가 쉬워짐"
      ],
      "metadata": {
        "id": "ADLMCG0taYx1"
      }
    },
    {
      "cell_type": "code",
      "source": [
        "# 클래스 생성규칙에 맞게 다시 정의하기\n",
        "class TunaCanSet():\n",
        "  def __init__(self, normal, veg, pepper):\n",
        "    self.normal = normal\n",
        "    self.veg = veg\n",
        "    self.pepper = pepper\n",
        "  \n",
        "  def content_show(self, name):\n",
        "    print('==========', name, '==========')\n",
        "    print('Normal Tuna: ', self.normal)\n",
        "    print('Vegie Tuna: ', self.veg)\n",
        "    print('Pepper Tuna: ', self.pepper)\n",
        "\n",
        "tunaset01 = TunaCanSet(12, 5, 6)\n",
        "tunaset01.content_show('Tuna Gift Set 01')\n"
      ],
      "metadata": {
        "colab": {
          "base_uri": "https://localhost:8080/"
        },
        "id": "7HIZ8SB1wLX2",
        "outputId": "c1f10a65-ef55-4d85-a50b-1e738a6b052e"
      },
      "execution_count": null,
      "outputs": [
        {
          "output_type": "stream",
          "name": "stdout",
          "text": [
            "========== Tuna Gift Set 01 ==========\n",
            "Normal Tuna:  12\n",
            "Vegie Tuna:  5\n",
            "Pepper Tuna:  6\n"
          ]
        }
      ]
    },
    {
      "cell_type": "markdown",
      "source": [
        "## 4️⃣ 상속\n",
        "- 기존에 구현된 클래스의 일부 또는 전체를 재사용해 추가 기능을 가진 새로운 클래스 구현\n",
        "- 부모 클래스(슈퍼 클래스, 상위 클래스) : 기존 클래스\n",
        "- 자식 클래스(서브 클래스, 하위 클래스) : 새로운 클래스\n",
        "  - 자식 클래스도 생성자 필수\n",
        "  - 생성자 내부에서 부모클래스의 생성자를 상속한 후 그 중 필요한 속성과 추가 속성들 초기화 : super ( ) . \\_\\_ init __ ( self,   )\n",
        "- 필요한 메소드도 동일하게 상속 받고 기능을 추가 : 오버라이드 ( override )"
      ],
      "metadata": {
        "id": "bcCWgVh5ZkHq"
      }
    },
    {
      "cell_type": "code",
      "source": [
        "# 오버라이드 예시\n",
        "\n",
        "class 세면도구:\n",
        "\n",
        "  def __init__(self, 치약, 샴푸, 비누):\n",
        "    self.치약 = 치약\n",
        "    self.샴푸 = 샴푸\n",
        "    self.비누 = 비누\n",
        "  \n",
        "  def 내용물출력(self, 세트이름):\n",
        "    print(세트이름)\n",
        "    print('치약: ', self.치약)\n",
        "    print('샴푸: ', self.샴푸)\n",
        "    print('비누: ', self.비누)\n",
        "\n",
        "class 특별세트(세면도구):\n",
        "\n",
        "  def __init__(self, 치약, 샴푸, 비누, 면도기):\n",
        "      super().__init__(치약, 샴푸, 비누)\n",
        "      self.면도기 = 면도기\n",
        "\n",
        "특01호 = 특별세트(1,2,3,1)\n",
        "특01호.내용물출력('명절 특별세트 01호')"
      ],
      "metadata": {
        "id": "Ux6HECgmyDwt",
        "colab": {
          "base_uri": "https://localhost:8080/"
        },
        "outputId": "84eabb81-4b11-487d-b270-67db1bb1985a"
      },
      "execution_count": null,
      "outputs": [
        {
          "output_type": "stream",
          "name": "stdout",
          "text": [
            "명절 특별세트 01호\n",
            "치약:  1\n",
            "샴푸:  2\n",
            "비누:  3\n"
          ]
        }
      ]
    },
    {
      "cell_type": "code",
      "source": [
        "'''\n",
        "# 클래스 복습\n",
        "  자동차 클래스와 객체\n",
        "  - 속성: 브랜드, model, color\n",
        "  - 기능(메소드): drive, turn_off, turn_on\n",
        "'''\n",
        "\n",
        "class 자동차:\n",
        "  def __init__(self, 브랜드, 모델, 컬러):\n",
        "    self.브랜드 = 브랜드\n",
        "    self.모델 = 모델\n",
        "    self.컬러 = 컬러\n",
        "    print(self.브랜드, self.모델, self.컬러, '출고')\n",
        "\n",
        "  def drive(self):\n",
        "   print(self.브랜드, '주행중입니다.')\n",
        "  \n",
        "  def turn_on(self):\n",
        "    print(self.브랜드, '시동을 킵니다.')\n",
        "  \n",
        "  def turn_off(self):\n",
        "    print(self.브랜드, '시동을 끕니다.')"
      ],
      "metadata": {
        "id": "G41-OTJ5a4ct"
      },
      "execution_count": null,
      "outputs": []
    },
    {
      "cell_type": "code",
      "source": [
        "자동차1 = 자동차('현대', '모델1', '검정')\n",
        "자동차1.drive()\n",
        "자동차1.turn_on()\n",
        "자동차1.turn_off()\n",
        "\n",
        "자동차2 = 자동차('기아', '소울', '블랙')\n",
        "자동차2.drive()"
      ],
      "metadata": {
        "colab": {
          "base_uri": "https://localhost:8080/"
        },
        "id": "dmxo0cU9fgHU",
        "outputId": "753a6a99-a781-456b-964f-fe674c3cc590"
      },
      "execution_count": null,
      "outputs": [
        {
          "output_type": "stream",
          "name": "stdout",
          "text": [
            "현대 모델1 검정 출고\n",
            "현대 주행중입니다.\n",
            "현대 시동을 킵니다.\n",
            "현대 시동을 끕니다.\n",
            "기아 소울 블랙 출고\n",
            "기아 주행중입니다.\n"
          ]
        }
      ]
    },
    {
      "cell_type": "code",
      "source": [
        "print(자동차1.브랜드)\n",
        "print(자동차1.모델)\n",
        "print(자동차1.컬러)"
      ],
      "metadata": {
        "colab": {
          "base_uri": "https://localhost:8080/"
        },
        "id": "Lw-cXWTkfiIb",
        "outputId": "30504a78-fbae-4035-9099-93e51942dc46"
      },
      "execution_count": null,
      "outputs": [
        {
          "output_type": "stream",
          "name": "stdout",
          "text": [
            "현대\n",
            "모델1\n",
            "검정\n"
          ]
        }
      ]
    },
    {
      "cell_type": "code",
      "source": [
        "# 1 클래스(car)를 만들고 속성(name, cc, year)\n",
        "# 2. check 메소드를 만들고 cc가 1000 미만이면 소형, 1000~2000이면 중형, 2000이상이면 대형\n",
        "# car객체를 만들 대 car_count 개수가 하나씩 증가하도록\n",
        "# car1('소나타', 2500, 2019) --> 대형이고 car_count() --> 1대\n",
        "# car2('아반떼', 1500, 2018) --> 중형이고 car_count() --> 2대\n",
        "# car1의 이름을 확인할 수 있는 getName()메소드와 이름을 변경할 수 있는 setName()메소드 추가하기\n",
        "#   -> car1의 소나타 getName으로 확인 후 setName으로 '모닝'으로 변경하는 클래스 만들기\n",
        "\n",
        "\n",
        "\n",
        "class Car():\n",
        "  car_count = 0\n",
        "  def __init__(self, name, cc, year):\n",
        "    self.name = name\n",
        "    self.cc = cc\n",
        "    self.year = year\n",
        "    Car.car_count += 1\n",
        "    # if cc < 1000:\n",
        "    #   self.car_size = '소형'\n",
        "    # elif cc >= 1000 and cc < 2000:\n",
        "    #   self.car_size = '중형'\n",
        "    # elif cc >= 2000:\n",
        "    #   self.car_size = '대형'\n",
        "    # else:\n",
        "    #   print('cc를 제대로 입력해주세요.')\n",
        "    \n",
        "  def check(self):\n",
        "    if self.cc < 1000:\n",
        "      print('소형')\n",
        "    elif 1000 <= self.cc <= 2000:\n",
        "      print('중형')\n",
        "    elif 2000 < self.cc:\n",
        "      print('대형')\n",
        "  \n",
        "  def getName(self):\n",
        "    print('차 이름:', self.name)\n",
        "  \n",
        "  def setName(self, name):\n",
        "    self.name = name\n",
        "\n",
        "\n",
        "car1 = Car('소나타', 2500, '2019')\n",
        "car2 = Car('아반떼', 1500, '2018')\n",
        "\n",
        "print(car1.getName())\n",
        "car1.setName('모닝')\n",
        "print(car1.getName())\n",
        "print(Car.car_count)"
      ],
      "metadata": {
        "colab": {
          "base_uri": "https://localhost:8080/"
        },
        "id": "zHui2jRgf19J",
        "outputId": "064d291f-a16a-4834-c741-2181b1385b31"
      },
      "execution_count": null,
      "outputs": [
        {
          "output_type": "stream",
          "name": "stdout",
          "text": [
            "차 이름: 소나타\n",
            "None\n",
            "차 이름: 모닝\n",
            "None\n",
            "2\n"
          ]
        }
      ]
    },
    {
      "cell_type": "code",
      "source": [
        "'''\n",
        "[ 게임 캐릭터 만들기! ]\n",
        "- Character 클래스 생성\n",
        "- 속성\n",
        "  1. Health속성: 생성시 200\n",
        "- 메소드\n",
        "  1. move(): Health - 10\n",
        "  2. rest(): Health + 10\n",
        "  3. checkHealth(): 현재 Health 출력\n",
        "\n",
        "[ 캐릭터 직업 클래스 추가]\n",
        "- Knight, Healer 클래스\n",
        "  1. 둘 다 기본 Character 클래스의 속성값을 상속받음.\n",
        "  2. Kight\n",
        "    - move(): Health - 15\n",
        "    - attack(), '공격합니다'출력 \n",
        "  4. Healer\n",
        "    - Healer.mana: 기본값 100\n",
        "    - heal(Character):  Character들을 매개변수로 받음\n",
        "      -> 메소드 실행시 mana - 10\n",
        "      -> 전달받은 Character 객체는 rest()메소드가 실행되어 health + 10\n",
        "    - checkMana(): 현재 마나 출력\n",
        "'''"
      ],
      "metadata": {
        "id": "_t3DyZ7SqCWY"
      },
      "execution_count": null,
      "outputs": []
    },
    {
      "cell_type": "code",
      "source": [
        "class Character():\n",
        "  def __init__(self):\n",
        "    self.health = 200\n",
        "  \n",
        "  def Move(self):\n",
        "    self.health -= 10\n",
        "  def Rest(self):\n",
        "    self.health += 10\n",
        "  def CheckHealth(self):\n",
        "    print('현재 캐릭터의 체력: ', self.health)\n",
        "\n",
        "class Knight(Character):\n",
        "  def __init__(self):\n",
        "    super().__init__()\n",
        "  def Move(self):\n",
        "    super().Move() # 오버라이드\n",
        "    self.health -= 5\n",
        "  def Attack(self):\n",
        "    print('공격합니다.')\n",
        "\n",
        "class Healer(Character):\n",
        "  def __init__(self):\n",
        "    super().__init__()\n",
        "    self.mana = 100\n",
        "  def Heal(self, Character):\n",
        "    Character.Rest()\n",
        "    self.mana -= 10\n",
        "  def CheckMana(self):\n",
        "    print('현재 캐릭터의 마나: ', self.mana)"
      ],
      "metadata": {
        "id": "B62RYj2gwQxp"
      },
      "execution_count": null,
      "outputs": []
    },
    {
      "cell_type": "code",
      "source": [
        "knight = Knight()\n",
        "healer = Healer()\n",
        "healer.CheckHealth()"
      ],
      "metadata": {
        "colab": {
          "base_uri": "https://localhost:8080/"
        },
        "id": "Z0BMoXD91Lut",
        "outputId": "f64246c1-77fc-49a3-e905-e4bcdbc987aa"
      },
      "execution_count": null,
      "outputs": [
        {
          "output_type": "stream",
          "name": "stdout",
          "text": [
            "현재 캐릭터의 체력:  200\n"
          ]
        }
      ]
    },
    {
      "cell_type": "code",
      "source": [
        "knight.Move()\n",
        "knight.CheckHealth()\n",
        "knight.Attack()"
      ],
      "metadata": {
        "colab": {
          "base_uri": "https://localhost:8080/"
        },
        "id": "6z3Zh_OQ1f9g",
        "outputId": "af9d6510-aa2b-4892-da6f-106caa4c8aae"
      },
      "execution_count": null,
      "outputs": [
        {
          "output_type": "stream",
          "name": "stdout",
          "text": [
            "현재 캐릭터의 체력:  170\n",
            "공격합니다.\n"
          ]
        }
      ]
    },
    {
      "cell_type": "code",
      "source": [
        "healer.CheckMana()\n",
        "healer.Heal(knight)"
      ],
      "metadata": {
        "colab": {
          "base_uri": "https://localhost:8080/"
        },
        "id": "oDxpc6iR1nm1",
        "outputId": "90d6a2b4-ab18-452a-ce98-395256b83d10"
      },
      "execution_count": null,
      "outputs": [
        {
          "output_type": "stream",
          "name": "stdout",
          "text": [
            "현재 캐릭터의 마나:  100\n"
          ]
        }
      ]
    },
    {
      "cell_type": "code",
      "source": [
        "healer.CheckMana()\n",
        "knight.CheckHealth()"
      ],
      "metadata": {
        "colab": {
          "base_uri": "https://localhost:8080/"
        },
        "id": "rmsm4WE41tff",
        "outputId": "80e61402-affa-445d-ba8d-b10b8efc697d"
      },
      "execution_count": null,
      "outputs": [
        {
          "output_type": "stream",
          "name": "stdout",
          "text": [
            "현재 캐릭터의 마나:  90\n",
            "현재 캐릭터의 체력:  180\n"
          ]
        }
      ]
    },
    {
      "cell_type": "markdown",
      "source": [
        "## 5️⃣ 모듈과 패키지\n",
        "- 내장모듈: 파이썬에서 제공하는 기본모듈\n",
        "- 사용자 정의 모듈\n",
        "- 외장모듈: 다른 기업이나 단체에서 제공하는 모듈\n",
        "  - pip 명령어로 설치\n",
        "- import할 때:\n",
        "  - from (패키지명.디렉토리명.)모듈명 import 함수명(or 클래스명) : 모듈 사용시 모듈명.함수명() 식의 사용 불필요\n",
        "  - import 함수명 : 모듈 사용시 모듈명.함수명() 식의 사용\n",
        "    - as 별칭 : 모듈명 단순화 해 사용 가능\n",
        "    - 필요한 것만 가져오는게 좋으나 가져올 게 많고 그 리스트들을 모르겠으면 * 로 임포트해도 됨!\n",
        "- 패키지 : 디렉토리와 파이썬 모듈로 이루어짐\n",
        "- 패키지 생성시 \\__init\\__파일 자동생성\n",
        "  - 다만 패키지 내부에서 모듈들을 다른패키지로 이동시 생성안됨!\n",
        "    - 파이썬 버전이 올라가면서 \\__init\\__이 없어도 동작은 정상대로 함!"
      ],
      "metadata": {
        "id": "z4Gcm_dT3gIy"
      }
    }
  ]
}