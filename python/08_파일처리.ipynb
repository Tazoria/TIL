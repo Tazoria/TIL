{
  "nbformat": 4,
  "nbformat_minor": 0,
  "metadata": {
    "colab": {
      "provenance": [],
      "authorship_tag": "ABX9TyPMOWBNsnpmiVRuczNwS4uD",
      "include_colab_link": true
    },
    "kernelspec": {
      "name": "python3",
      "display_name": "Python 3"
    },
    "language_info": {
      "name": "python"
    }
  },
  "cells": [
    {
      "cell_type": "markdown",
      "metadata": {
        "id": "view-in-github",
        "colab_type": "text"
      },
      "source": [
        "<a href=\"https://colab.research.google.com/github/Tazoria/TIL/blob/main/python/08_%ED%8C%8C%EC%9D%BC%EC%B2%98%EB%A6%AC.ipynb\" target=\"_parent\"><img src=\"https://colab.research.google.com/assets/colab-badge.svg\" alt=\"Open In Colab\"/></a>"
      ]
    },
    {
      "cell_type": "markdown",
      "source": [
        "# 💕 예외 처리\n",
        "- try : 오류가 발생할 수 있는 구문\n",
        "- except (Exception as e) : 오류 발생\n",
        "  - 여러 오류 중 해당 오류 구문 실행\n",
        "  - 예 ) ValueError, ZeroDivisionError, IndexError, FileNotFoundError 등\n",
        "  - pass로 오류 회피 가능\n",
        "  - 에러들을 다 일일이 지정해주기 힘듦 - 퉁치기 가능\n",
        "    - except Exception as e :\n",
        "      print(e) \n",
        "  - 나만의 예외 만들기 가능!\n",
        "- else : 오류 발생하지 않음\n",
        "- finally : 무조건 마지막에 실행 ( 거의 안씀 )\n",
        "\n"
      ],
      "metadata": {
        "id": "bvua-8U_98JD"
      }
    },
    {
      "cell_type": "code",
      "execution_count": 5,
      "metadata": {
        "colab": {
          "base_uri": "https://localhost:8080/",
          "height": 205
        },
        "id": "mMon1z0R9Pl7",
        "outputId": "6dea2880-8285-4e6d-9de4-433f7f34936b"
      },
      "outputs": [
        {
          "output_type": "error",
          "ename": "IndexError",
          "evalue": "ignored",
          "traceback": [
            "\u001b[0;31m---------------------------------------------------------------------------\u001b[0m",
            "\u001b[0;31mIndexError\u001b[0m                                Traceback (most recent call last)",
            "\u001b[0;32m<ipython-input-5-ee147c98d645>\u001b[0m in \u001b[0;36m<module>\u001b[0;34m\u001b[0m\n\u001b[1;32m      2\u001b[0m \u001b[0;31m# 에러발생\u001b[0m\u001b[0;34m\u001b[0m\u001b[0;34m\u001b[0m\u001b[0m\n\u001b[1;32m      3\u001b[0m \u001b[0ma\u001b[0m \u001b[0;34m=\u001b[0m \u001b[0;34m[\u001b[0m\u001b[0;36m1\u001b[0m\u001b[0;34m,\u001b[0m\u001b[0;36m2\u001b[0m\u001b[0;34m,\u001b[0m\u001b[0;36m3\u001b[0m\u001b[0;34m]\u001b[0m\u001b[0;34m\u001b[0m\u001b[0;34m\u001b[0m\u001b[0m\n\u001b[0;32m----> 4\u001b[0;31m \u001b[0ma\u001b[0m\u001b[0;34m[\u001b[0m\u001b[0;36m3\u001b[0m\u001b[0;34m]\u001b[0m\u001b[0;34m\u001b[0m\u001b[0;34m\u001b[0m\u001b[0m\n\u001b[0m",
            "\u001b[0;31mIndexError\u001b[0m: list index out of range"
          ]
        }
      ],
      "source": [
        "# try exception\n",
        "# 에러발생\n",
        "a = [1,2,3]\n",
        "a[3]"
      ]
    },
    {
      "cell_type": "code",
      "source": [
        "try:\n",
        "  a[3]\n",
        "except:\n",
        "  print('인덱스 에러 발생')"
      ],
      "metadata": {
        "colab": {
          "base_uri": "https://localhost:8080/"
        },
        "id": "z9S_yhgYAix3",
        "outputId": "a179f369-d571-40e2-a1f0-0ab32e669fb8"
      },
      "execution_count": 3,
      "outputs": [
        {
          "output_type": "stream",
          "name": "stdout",
          "text": [
            "인덱스 에러 발생\n"
          ]
        }
      ]
    },
    {
      "cell_type": "code",
      "source": [
        "int('10d')"
      ],
      "metadata": {
        "colab": {
          "base_uri": "https://localhost:8080/",
          "height": 170
        },
        "id": "GrmtMoIVAu6I",
        "outputId": "4eaceb57-e646-46f8-8f66-6f674cccec38"
      },
      "execution_count": 4,
      "outputs": [
        {
          "output_type": "error",
          "ename": "ValueError",
          "evalue": "ignored",
          "traceback": [
            "\u001b[0;31m---------------------------------------------------------------------------\u001b[0m",
            "\u001b[0;31mValueError\u001b[0m                                Traceback (most recent call last)",
            "\u001b[0;32m<ipython-input-4-331fb23f7ae1>\u001b[0m in \u001b[0;36m<module>\u001b[0;34m\u001b[0m\n\u001b[0;32m----> 1\u001b[0;31m \u001b[0mint\u001b[0m\u001b[0;34m(\u001b[0m\u001b[0;34m'10d'\u001b[0m\u001b[0;34m)\u001b[0m\u001b[0;34m\u001b[0m\u001b[0;34m\u001b[0m\u001b[0m\n\u001b[0m",
            "\u001b[0;31mValueError\u001b[0m: invalid literal for int() with base 10: '10d'"
          ]
        }
      ]
    },
    {
      "cell_type": "markdown",
      "source": [
        "## ☑️ try except 구문"
      ],
      "metadata": {
        "id": "gA-g1uwFSEll"
      }
    },
    {
      "cell_type": "markdown",
      "source": [
        "### 🔘 직접 에러 핸들링"
      ],
      "metadata": {
        "id": "7wAw6spNSLin"
      }
    },
    {
      "cell_type": "code",
      "source": [
        "try:\n",
        "  int('10d')\n",
        "except:\n",
        "  print('예외 발생')"
      ],
      "metadata": {
        "colab": {
          "base_uri": "https://localhost:8080/"
        },
        "id": "CB9AjH2AA3UU",
        "outputId": "5e499340-feb4-477e-8076-ac07e4750131"
      },
      "execution_count": 6,
      "outputs": [
        {
          "output_type": "stream",
          "name": "stdout",
          "text": [
            "예외 발생\n"
          ]
        }
      ]
    },
    {
      "cell_type": "code",
      "source": [
        "# 발생 가능한 에러들 직접 처리\n",
        "a = [1,2,3]\n",
        "try:\n",
        "  x = int(input())\n",
        "  y = 100 / x\n",
        "  print(y, a[x])\n",
        "except ValueError:\n",
        "  print('입력값이 잘못됨')\n",
        "except ZeroDivisionError:\n",
        "  print('0으로 나눌 수 없음')\n",
        "except IndexError:\n",
        "  print('Index 에러 발생')"
      ],
      "metadata": {
        "colab": {
          "base_uri": "https://localhost:8080/"
        },
        "id": "repXcB41A-cw",
        "outputId": "f5095b4c-953a-4e2d-f5b3-6a79d61d7434"
      },
      "execution_count": 7,
      "outputs": [
        {
          "output_type": "stream",
          "name": "stdout",
          "text": [
            "0\n",
            "0으로 나눌 수 없음\n"
          ]
        }
      ]
    },
    {
      "cell_type": "markdown",
      "source": [
        "### 🔘 에러를 알아서 출력"
      ],
      "metadata": {
        "id": "IHwWhmV7SZM4"
      }
    },
    {
      "cell_type": "code",
      "source": [
        "# 퉁치기\n",
        "a = [1,2,3]\n",
        "try:\n",
        "  x = int(input())\n",
        "  y = 100 / x\n",
        "  print(y, a[x])\n",
        "except Exception as e:\n",
        "  print(e)"
      ],
      "metadata": {
        "colab": {
          "base_uri": "https://localhost:8080/"
        },
        "id": "OkzkApKdBnXi",
        "outputId": "34836296-a925-4dbc-e9a4-bedb67ef36f3"
      },
      "execution_count": 8,
      "outputs": [
        {
          "output_type": "stream",
          "name": "stdout",
          "text": [
            "4\n",
            "list index out of range\n"
          ]
        }
      ]
    },
    {
      "cell_type": "markdown",
      "source": [
        "## ☑️ else, finally 추가구문"
      ],
      "metadata": {
        "id": "dPDGO7ZJSb4-"
      }
    },
    {
      "cell_type": "code",
      "source": [
        "# else - finally\n",
        "try:\n",
        "  x = int(input())\n",
        "  y = 100 / x\n",
        "except Exception as e: # 정상작동 코드는 해당 구문을 실행 X\n",
        "  print(e)\n",
        "else: # 정상작동시 실행 코드\n",
        "  print(y)\n",
        "finally: # 무조건실행(예외발생 여부와 상관 없음)\n",
        "  print('코드 실행 종료')"
      ],
      "metadata": {
        "colab": {
          "base_uri": "https://localhost:8080/"
        },
        "id": "T66QchawCY-F",
        "outputId": "f1d34c05-c40a-41f8-af25-d74f7d80f21a"
      },
      "execution_count": 9,
      "outputs": [
        {
          "output_type": "stream",
          "name": "stdout",
          "text": [
            "0\n",
            "division by zero\n",
            "코드 실행 종료\n"
          ]
        }
      ]
    },
    {
      "cell_type": "markdown",
      "source": [
        "# 💕 파일 입출력\n",
        "- open()\n",
        "- close()\n",
        "- 파일열기모드\n",
        "  - r : 읽기모드 - 파일을 읽기만 할 때\n",
        "  - w : 쓰기모드 - 파일에 내용을 쓸 때 사용( 주의 ! 덮어씌워짐 - 새로운 파일만들 때 사용하는듯 )\n",
        "  - a : 파일의 마지막에 새로운 내용추가\n",
        "- 줄 단위 불라오기\n",
        "  - readline ( ) : 첫 한 줄만 출력\n",
        "  - readlines ( ) : 여러 줄 불러오기\n",
        "- 글자 수 단위 불러오기 : read ( )\n",
        "- with문과 함께 사용하기 : 가장 파이썬 스러움\n",
        "- 코랩 매직 명령어로 읽기 : ! cat ( ) - 리눅스 기반에서만 가능 ( 간단 )\n",
        "- 경로 표현\n",
        "  - 프로그램 내에서 백슬래시 대신에 슬래시를 쓸 것 ( 이스케이프 문자와 구분 )\n",
        "  - 경로 내 공백 불가\n",
        "  - 프로그램용 디렉토리 이름에 한글 쓰지 말기\n"
      ],
      "metadata": {
        "id": "WlJ1xQygF_ef"
      }
    },
    {
      "cell_type": "markdown",
      "source": [
        "### 🔘 기본적인 파일 읽고 쓰기 : oepn( ), readline( ), write( )"
      ],
      "metadata": {
        "id": "qecYmopxSvTp"
      }
    },
    {
      "cell_type": "code",
      "source": [
        "# 파일 쓰기\n",
        "f = open('새파일.txt', 'w')\n",
        "for i in range(1, 11):\n",
        "  data = '%d번째 줄입니다.\\n'%i\n",
        "  f.write(data)"
      ],
      "metadata": {
        "id": "c1R1GsaeDmAu"
      },
      "execution_count": 10,
      "outputs": []
    },
    {
      "cell_type": "code",
      "source": [
        "# 파일 읽기\n",
        "f = open('새파일.txt', 'r')\n",
        "line = f.readline()\n",
        "print(line)"
      ],
      "metadata": {
        "colab": {
          "base_uri": "https://localhost:8080/"
        },
        "id": "FssSEi1nIzd5",
        "outputId": "da59a44f-b6e4-4ab0-cbe3-fc1f3e643b0b"
      },
      "execution_count": 11,
      "outputs": [
        {
          "output_type": "stream",
          "name": "stdout",
          "text": [
            "\n"
          ]
        }
      ]
    },
    {
      "cell_type": "code",
      "source": [
        "f = open('새파일.txt', 'r')\n",
        "while True:\n",
        "  line = f.readline()\n",
        "  if not line:\n",
        "    break\n",
        "  print(line)\n",
        "f.close()"
      ],
      "metadata": {
        "colab": {
          "base_uri": "https://localhost:8080/"
        },
        "id": "vM-mKl3zKCpo",
        "outputId": "989b782d-ab6b-4d37-d5ad-428c4a3b0c92"
      },
      "execution_count": 12,
      "outputs": [
        {
          "output_type": "stream",
          "name": "stdout",
          "text": [
            "1번째 줄입니다.\n",
            "\n",
            "2번째 줄입니다.\n",
            "\n",
            "3번째 줄입니다.\n",
            "\n",
            "4번째 줄입니다.\n",
            "\n",
            "5번째 줄입니다.\n",
            "\n",
            "6번째 줄입니다.\n",
            "\n",
            "7번째 줄입니다.\n",
            "\n",
            "8번째 줄입니다.\n",
            "\n",
            "9번째 줄입니다.\n",
            "\n",
            "10번째 줄입니다.\n",
            "\n"
          ]
        }
      ]
    },
    {
      "cell_type": "code",
      "source": [
        "f = open('새파일.txt', 'a')\n",
        "for i in range(11, 20):\n",
        "  data = '%d번째 줄입니다.\\n'%i\n",
        "  f.write(data)\n"
      ],
      "metadata": {
        "id": "o-8p66S5KSWI"
      },
      "execution_count": 13,
      "outputs": []
    },
    {
      "cell_type": "code",
      "source": [
        "! cat 새파일.txt"
      ],
      "metadata": {
        "colab": {
          "base_uri": "https://localhost:8080/"
        },
        "id": "TTlxx9ULKjOY",
        "outputId": "fa4fee4e-92b2-48c9-d232-8f8f180e9d0c"
      },
      "execution_count": 14,
      "outputs": [
        {
          "output_type": "stream",
          "name": "stdout",
          "text": [
            "1번째 줄입니다.\n",
            "2번째 줄입니다.\n",
            "3번째 줄입니다.\n",
            "4번째 줄입니다.\n",
            "5번째 줄입니다.\n",
            "6번째 줄입니다.\n",
            "7번째 줄입니다.\n",
            "8번째 줄입니다.\n",
            "9번째 줄입니다.\n",
            "10번째 줄입니다.\n"
          ]
        }
      ]
    },
    {
      "cell_type": "code",
      "source": [
        "f = open('foo.txt', 'w')\n",
        "f.write('Life is too short, you need python')\n",
        "\n",
        "! cat foo.txt"
      ],
      "metadata": {
        "id": "BM9LPSzFKmeV"
      },
      "execution_count": 15,
      "outputs": []
    },
    {
      "cell_type": "markdown",
      "source": [
        "### 🔘 with open( ) as f:\n",
        "- encoding 속성 적용 가능"
      ],
      "metadata": {
        "id": "uzDXK96eSnwE"
      }
    },
    {
      "cell_type": "code",
      "source": [
        "with open('foo.txt', 'w') as f:\n",
        "  f.write('Life is too short, you need python')"
      ],
      "metadata": {
        "id": "FMar4R5-K9zr"
      },
      "execution_count": 16,
      "outputs": []
    },
    {
      "cell_type": "code",
      "source": [
        "# 아무것도 입력하지 않을 때 기본적으로 'r' 모드 발동\n",
        "with open('foo.txt') as f:\n",
        "  text = f.read()\n",
        "print(text)"
      ],
      "metadata": {
        "colab": {
          "base_uri": "https://localhost:8080/"
        },
        "id": "BCpkMXcgLTGW",
        "outputId": "6a1556d9-6324-4997-8ed9-5354b92620e6"
      },
      "execution_count": 17,
      "outputs": [
        {
          "output_type": "stream",
          "name": "stdout",
          "text": [
            "Life is too short, you need python\n"
          ]
        }
      ]
    },
    {
      "cell_type": "markdown",
      "source": [
        "### 💡 상대경로 : os.path.exists( )\n",
        "- import os\n",
        "- os.mkdir : 경로생성"
      ],
      "metadata": {
        "id": "AHxHt4BOTBzx"
      }
    },
    {
      "cell_type": "code",
      "source": [
        "# 상대경로\n",
        "import os\n",
        "if not os.path.exists('data'): # 있으면 안 만들고 없으면 해당 경로 생성\n",
        "  os.mkdir('data')"
      ],
      "metadata": {
        "id": "Ct4wd__xLbkx"
      },
      "execution_count": 18,
      "outputs": []
    },
    {
      "cell_type": "code",
      "source": [
        "# 코렙에서 현재경로 확인하기 - present working directory\n",
        "! pwd"
      ],
      "metadata": {
        "colab": {
          "base_uri": "https://localhost:8080/"
        },
        "id": "OG_ZsV8PL1E5",
        "outputId": "9f6b7aa5-7086-4462-b7e3-2221a7105924"
      },
      "execution_count": 19,
      "outputs": [
        {
          "output_type": "stream",
          "name": "stdout",
          "text": [
            "/content\n"
          ]
        }
      ]
    },
    {
      "cell_type": "markdown",
      "source": [
        "### 💡 현재경로 확인 : getcwd( )"
      ],
      "metadata": {
        "id": "ZpdwampSTRH_"
      }
    },
    {
      "cell_type": "code",
      "source": [
        "# 파이썬 현재경로 확인 - cwd: current working directory\n",
        "os.getcwd()"
      ],
      "metadata": {
        "colab": {
          "base_uri": "https://localhost:8080/",
          "height": 36
        },
        "id": "FeX_3eGOMtgm",
        "outputId": "b30e56b8-e0f0-418a-deb5-c1981c457954"
      },
      "execution_count": 20,
      "outputs": [
        {
          "output_type": "execute_result",
          "data": {
            "text/plain": [
              "'/content'"
            ],
            "application/vnd.google.colaboratory.intrinsic+json": {
              "type": "string"
            }
          },
          "metadata": {},
          "execution_count": 20
        }
      ]
    },
    {
      "cell_type": "code",
      "source": [
        "# 인코딩\n",
        "with open('hello.txt', 'w', encoding='utf-8') as file:\n",
        "  file.write('이 글은 utf-8로 인코딩 되어있음.')\n",
        "  file.write('EUC-KR(CP 949)로 읽으면 글자가 깨집니다.')"
      ],
      "metadata": {
        "id": "6ux3HKAiM2BQ"
      },
      "execution_count": 21,
      "outputs": []
    },
    {
      "cell_type": "code",
      "source": [
        "# 많은 경우에서는 알아서 알잘딱 해줌\n",
        "! cat hello.txt"
      ],
      "metadata": {
        "colab": {
          "base_uri": "https://localhost:8080/"
        },
        "id": "TmRjXUFhN319",
        "outputId": "2f488ef8-9503-4cdb-d6df-ee8cb5d1067e"
      },
      "execution_count": 22,
      "outputs": [
        {
          "output_type": "stream",
          "name": "stdout",
          "text": [
            "이 글은 utf-8로 인코딩 되어있음.EUC-KR(CP 949)로 읽으면 글자가 깨집니다."
          ]
        }
      ]
    },
    {
      "cell_type": "code",
      "source": [
        "# 에러남!! - utf-8로 고쳐주면 올바르게 실행됨.\n",
        "with open('hello.txt', 'r', encoding='CP949') as file:\n",
        "  text = file.read()\n",
        "print(text)"
      ],
      "metadata": {
        "colab": {
          "base_uri": "https://localhost:8080/",
          "height": 223
        },
        "id": "8BXR1q5uN-v0",
        "outputId": "181bd4d8-f829-451a-cd3b-da955ea8e358"
      },
      "execution_count": 23,
      "outputs": [
        {
          "output_type": "error",
          "ename": "UnicodeDecodeError",
          "evalue": "ignored",
          "traceback": [
            "\u001b[0;31m---------------------------------------------------------------------------\u001b[0m",
            "\u001b[0;31mUnicodeDecodeError\u001b[0m                        Traceback (most recent call last)",
            "\u001b[0;32m<ipython-input-23-1dd3fe3ca364>\u001b[0m in \u001b[0;36m<module>\u001b[0;34m\u001b[0m\n\u001b[1;32m      1\u001b[0m \u001b[0;31m# 에러남!! - utf-8로 고쳐주면 올바르게 실행됨.\u001b[0m\u001b[0;34m\u001b[0m\u001b[0;34m\u001b[0m\u001b[0m\n\u001b[1;32m      2\u001b[0m \u001b[0;32mwith\u001b[0m \u001b[0mopen\u001b[0m\u001b[0;34m(\u001b[0m\u001b[0;34m'hello.txt'\u001b[0m\u001b[0;34m,\u001b[0m \u001b[0;34m'r'\u001b[0m\u001b[0;34m,\u001b[0m \u001b[0mencoding\u001b[0m\u001b[0;34m=\u001b[0m\u001b[0;34m'CP949'\u001b[0m\u001b[0;34m)\u001b[0m \u001b[0;32mas\u001b[0m \u001b[0mfile\u001b[0m\u001b[0;34m:\u001b[0m\u001b[0;34m\u001b[0m\u001b[0;34m\u001b[0m\u001b[0m\n\u001b[0;32m----> 3\u001b[0;31m   \u001b[0mtext\u001b[0m \u001b[0;34m=\u001b[0m \u001b[0mfile\u001b[0m\u001b[0;34m.\u001b[0m\u001b[0mread\u001b[0m\u001b[0;34m(\u001b[0m\u001b[0;34m)\u001b[0m\u001b[0;34m\u001b[0m\u001b[0;34m\u001b[0m\u001b[0m\n\u001b[0m\u001b[1;32m      4\u001b[0m \u001b[0mprint\u001b[0m\u001b[0;34m(\u001b[0m\u001b[0mtext\u001b[0m\u001b[0;34m)\u001b[0m\u001b[0;34m\u001b[0m\u001b[0;34m\u001b[0m\u001b[0m\n",
            "\u001b[0;31mUnicodeDecodeError\u001b[0m: 'cp949' codec can't decode byte 0xec in position 0: illegal multibyte sequence"
          ]
        }
      ]
    },
    {
      "cell_type": "markdown",
      "source": [
        "## ☑️ pickle 라이브러리\n",
        "- 딕셔너리형 읽고 쓰기\n",
        "- 딕셔너리형은 바이너리 형태로 써줘야 함\n",
        "- pickle.dump(딕셔너리, 저장될파일)"
      ],
      "metadata": {
        "id": "VoOdCPa7TdyZ"
      }
    },
    {
      "cell_type": "code",
      "source": [
        "# 파이썬 객체 저장 / 로드\n",
        "# pickle: 딕셔너리형 읽고쓰기\n",
        "import pickle\n",
        "person = {'name':'james', 'age':25, 'addr':'신촌'}\n",
        "with open('person.pkl', 'wb') as file: # 바이너리 형태로 써줘야 함!\n",
        "  pickle.dump(person, file) # person이라는 딕셔너리를 dump라는 메소드로 file에 저장"
      ],
      "metadata": {
        "id": "SaOeWnmlOSx5"
      },
      "execution_count": 24,
      "outputs": []
    },
    {
      "cell_type": "code",
      "source": [
        "!cat person.pkl"
      ],
      "metadata": {
        "colab": {
          "base_uri": "https://localhost:8080/"
        },
        "id": "ALlpyy7xPJSS",
        "outputId": "7a36e0c8-daac-4b61-c43e-3448a71672c5"
      },
      "execution_count": 26,
      "outputs": [
        {
          "output_type": "stream",
          "name": "stdout",
          "text": [
            "�\u0004�,\u0000\u0000\u0000\u0000\u0000\u0000\u0000}�(�\u0004name��\u0005james��\u0003age�K\u0019�\u0004addr��\u0006신촌�u."
          ]
        }
      ]
    },
    {
      "cell_type": "code",
      "source": [
        "with open('person.pkl', 'rb') as file:\n",
        "  james = pickle.load(file)\n",
        "print(james)"
      ],
      "metadata": {
        "colab": {
          "base_uri": "https://localhost:8080/"
        },
        "id": "DMFA2rmYPMKa",
        "outputId": "2e17989c-30e1-4bed-9bac-d14b883c5fa5"
      },
      "execution_count": 27,
      "outputs": [
        {
          "output_type": "stream",
          "name": "stdout",
          "text": [
            "{'name': 'james', 'age': 25, 'addr': '신촌'}\n"
          ]
        }
      ]
    },
    {
      "cell_type": "markdown",
      "source": [
        "## ☑️ joblib\n",
        "- pickle과 동일하게 딕셔너리를 저장\n",
        "- pickle보다 코드가 간편하고 더 많이 사용됨\n",
        "- 쓰기 : dump( )\n",
        "- 읽기 : load( )"
      ],
      "metadata": {
        "id": "g4OzXy4gTtvP"
      }
    },
    {
      "cell_type": "code",
      "source": [
        "import joblib\n",
        "joblib.dump(person, 'person.jl')"
      ],
      "metadata": {
        "colab": {
          "base_uri": "https://localhost:8080/"
        },
        "id": "_CBYS761PWKY",
        "outputId": "596724a3-93fa-4a12-e7fa-e3a3011fed8f"
      },
      "execution_count": 28,
      "outputs": [
        {
          "output_type": "execute_result",
          "data": {
            "text/plain": [
              "['person.jl']"
            ]
          },
          "metadata": {},
          "execution_count": 28
        }
      ]
    },
    {
      "cell_type": "code",
      "source": [
        "!cat person.jl"
      ],
      "metadata": {
        "colab": {
          "base_uri": "https://localhost:8080/"
        },
        "id": "T9cveXjhPjxw",
        "outputId": "ebbb14bb-050b-4e9e-9258-2aa846e3e56e"
      },
      "execution_count": 29,
      "outputs": [
        {
          "output_type": "stream",
          "name": "stdout",
          "text": [
            "�\u0004�,\u0000\u0000\u0000\u0000\u0000\u0000\u0000}�(�\u0004name��\u0005james��\u0003age�K\u0019�\u0004addr��\u0006신촌�u."
          ]
        }
      ]
    },
    {
      "cell_type": "code",
      "source": [
        "james1 = joblib.load('person.jl')\n",
        "print(james1)"
      ],
      "metadata": {
        "colab": {
          "base_uri": "https://localhost:8080/"
        },
        "id": "robhgBafPmA3",
        "outputId": "c8358ddd-d2c3-45a3-d689-5754984770f8"
      },
      "execution_count": 30,
      "outputs": [
        {
          "output_type": "stream",
          "name": "stdout",
          "text": [
            "{'name': 'james', 'age': 25, 'addr': '신촌'}\n"
          ]
        }
      ]
    },
    {
      "cell_type": "code",
      "source": [
        "text1 = 'noob'\n",
        "text2 = 'noob'\n",
        "joblib.dump(text1, 'text1.jl')\n",
        "joblib.dump(text2, 'text2.jl')"
      ],
      "metadata": {
        "colab": {
          "base_uri": "https://localhost:8080/"
        },
        "id": "A0ILLIyDQopp",
        "outputId": "718f6a43-c136-419c-f530-ef15515453bc"
      },
      "execution_count": 31,
      "outputs": [
        {
          "output_type": "execute_result",
          "data": {
            "text/plain": [
              "['text2.jl']"
            ]
          },
          "metadata": {},
          "execution_count": 31
        }
      ]
    },
    {
      "cell_type": "code",
      "source": [
        "# glob 모듈 : 규칙에 의해서 지정된 패턴과 일치하는 모든 파일과 디렉터리의 목록을 반환하는 관련 함수들을 제공\n",
        "# 대용량의 파일 목록들이 있을 때 많이 사용\n",
        "# 예) excel1.xml, excel2.xml 등\n",
        "import glob\n",
        "glob.glob('text*.jl') # test로 시작하는 파이썬 파일의 모든 목록을 반환"
      ],
      "metadata": {
        "colab": {
          "base_uri": "https://localhost:8080/"
        },
        "id": "aGNiHHntPx1v",
        "outputId": "d84e7521-959e-45e4-98d2-4e6995958890"
      },
      "execution_count": 32,
      "outputs": [
        {
          "output_type": "execute_result",
          "data": {
            "text/plain": [
              "['text1.jl', 'text2.jl']"
            ]
          },
          "metadata": {},
          "execution_count": 32
        }
      ]
    },
    {
      "cell_type": "code",
      "source": [
        "glob.glob('ca[0-9]')\n",
        "glob.glob('[0-9]/*.txt') # test1~9란 경로내 파일 중 텍스트파일\n",
        "glob.glob('[0-9]/[0-9].*') # test1~9 디렉토리 내 숫자 1개파일 반환\n",
        "glob.glob('c:/test1/?.txt') # 1글자 텍스트 파일 반환"
      ],
      "metadata": {
        "colab": {
          "base_uri": "https://localhost:8080/"
        },
        "id": "hUmwNo6rQ4nE",
        "outputId": "8826b345-7b77-46d5-ba4c-5bd621206fe3"
      },
      "execution_count": 33,
      "outputs": [
        {
          "output_type": "execute_result",
          "data": {
            "text/plain": [
              "[]"
            ]
          },
          "metadata": {},
          "execution_count": 33
        }
      ]
    },
    {
      "cell_type": "code",
      "source": [],
      "metadata": {
        "id": "I3HVRHs7cUaN"
      },
      "execution_count": null,
      "outputs": []
    }
  ]
}