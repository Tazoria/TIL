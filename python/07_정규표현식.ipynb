{
  "nbformat": 4,
  "nbformat_minor": 0,
  "metadata": {
    "colab": {
      "provenance": [],
      "toc_visible": true,
      "authorship_tag": "ABX9TyOxmFWRbt+tByyGPOz+x+tE",
      "include_colab_link": true
    },
    "kernelspec": {
      "name": "python3",
      "display_name": "Python 3"
    },
    "language_info": {
      "name": "python"
    }
  },
  "cells": [
    {
      "cell_type": "markdown",
      "metadata": {
        "id": "view-in-github",
        "colab_type": "text"
      },
      "source": [
        "<a href=\"https://colab.research.google.com/github/Tazoria/TIL/blob/main/python/07_%EC%A0%95%EA%B7%9C%ED%91%9C%ED%98%84%EC%8B%9D.ipynb\" target=\"_parent\"><img src=\"https://colab.research.google.com/assets/colab-badge.svg\" alt=\"Open In Colab\"/></a>"
      ]
    },
    {
      "cell_type": "markdown",
      "source": [
        "# 💕 정규표현식( Regular Expression )\n",
        "- 메타문자(Meta characters): 정규표현식에서 일정한 의미를 가지고 있는 특수문자들\n",
        "- 모듈함수\n",
        "  - re.compile ( ) : 정규표현식을 컴파일하는 함수\n",
        "    - 파이썬에게 전해주는 역할\n",
        "    - 찾고자 하는 패턴이 빈번한 경우 미리 컴파일 해놓고 사용하면 속도와 편의성에서 유리\n",
        "  - re.search ( ) : 문자열 전체에 대해서 정규표현식과 매치되는지를 검색\n",
        "  - re.match ( ) : 문자열의 처음이 정규표현식과 매치되는지를 검색\n",
        "  - re.split ( ) : 정규 표현식을 기준으로 문자열을 분리해 리스트로 리턴\n",
        "  - re.findall ( ) : 문자열에서 정규 표현식과 매치되는 모든 경우의 문자열에 대한 이터레이터 객체 리턴\n",
        "  - re.sub ( ) : 문자열에서 정규 표현시고가 일치하는 부분에 대해서 다른 문자열로 대체\n",
        "  "
      ],
      "metadata": {
        "id": "lUDo8uk6q6z_"
      }
    },
    {
      "cell_type": "markdown",
      "source": [
        "## ☑️ complie & search"
      ],
      "metadata": {
        "id": "FJ41W3Bz4Fsd"
      }
    },
    {
      "cell_type": "markdown",
      "source": [
        "### 🔘 임의 문자 : ."
      ],
      "metadata": {
        "id": "BGLKlniu4gbT"
      }
    },
    {
      "cell_type": "code",
      "execution_count": null,
      "metadata": {
        "id": "kNkcTXPUqAUu"
      },
      "outputs": [],
      "source": [
        "import re\n",
        "\n",
        "r = re.compile('a.c') # '.'는 임의의 문자 - a[]c형태의 3자리 문자열\n",
        "r.search('kkk') # 리턴이 없는 경우는 일치하지 않음을 의미"
      ]
    },
    {
      "cell_type": "code",
      "source": [
        "r.search('abc') # 일치할 시 match 오브젝트 반환"
      ],
      "metadata": {
        "colab": {
          "base_uri": "https://localhost:8080/"
        },
        "id": "-xtNSaL1s2Sz",
        "outputId": "e7e498f2-f650-4ebc-d197-e5adc1d8c57e"
      },
      "execution_count": null,
      "outputs": [
        {
          "output_type": "execute_result",
          "data": {
            "text/plain": [
              "<re.Match object; span=(0, 3), match='abc'>"
            ]
          },
          "metadata": {},
          "execution_count": 3
        }
      ]
    },
    {
      "cell_type": "markdown",
      "source": [
        "### 🔘 몰 ? 루 : ?\n",
        "- ? 앞에 있는 문자(몰)가 존재할 수도 있고 아닐 수도 있음"
      ],
      "metadata": {
        "id": "gduNAQqn4vqj"
      }
    },
    {
      "cell_type": "code",
      "source": [
        "# '?': ? 앞에 있는 문자가 존재할 수도 있고 존재하지 않을 수도 있는 경우\n",
        "r = re.compile('ab?c')\n",
        "r.search('abbc') # b가 두개라서 안됨!"
      ],
      "metadata": {
        "id": "nELThf9StLH8"
      },
      "execution_count": null,
      "outputs": []
    },
    {
      "cell_type": "code",
      "source": [
        "r.search('abc')"
      ],
      "metadata": {
        "colab": {
          "base_uri": "https://localhost:8080/"
        },
        "id": "-hdsyShVtRkp",
        "outputId": "62c2a462-c95d-4fab-a229-6578b1c7209f"
      },
      "execution_count": null,
      "outputs": [
        {
          "output_type": "execute_result",
          "data": {
            "text/plain": [
              "<re.Match object; span=(0, 3), match='abc'>"
            ]
          },
          "metadata": {},
          "execution_count": 6
        }
      ]
    },
    {
      "cell_type": "code",
      "source": [
        "r.search('ac')"
      ],
      "metadata": {
        "colab": {
          "base_uri": "https://localhost:8080/"
        },
        "id": "V5elYr7mttnb",
        "outputId": "3d86135e-ad1c-4b6e-d32f-e36f0c48dac7"
      },
      "execution_count": null,
      "outputs": [
        {
          "output_type": "execute_result",
          "data": {
            "text/plain": [
              "<re.Match object; span=(0, 2), match='ac'>"
            ]
          },
          "metadata": {},
          "execution_count": 7
        }
      ]
    },
    {
      "cell_type": "markdown",
      "source": [
        "### 🔘 특정 문자가 0개 이상 : *\n",
        "- 존재하지 않을수도, 한개를 포함해 여러개가 존재할수도 있음"
      ],
      "metadata": {
        "id": "6boS54_A5er6"
      }
    },
    {
      "cell_type": "code",
      "source": [
        "# '*' : 바로 앞의 문자가 0개 이상일 경우\n",
        "r = re.compile('ab*c')\n",
        "r.search('ac')"
      ],
      "metadata": {
        "colab": {
          "base_uri": "https://localhost:8080/"
        },
        "id": "GFRYpQbMtvIJ",
        "outputId": "8335827f-fe2b-4dd0-c248-179245e61f1c"
      },
      "execution_count": null,
      "outputs": [
        {
          "output_type": "execute_result",
          "data": {
            "text/plain": [
              "<re.Match object; span=(0, 2), match='ac'>"
            ]
          },
          "metadata": {},
          "execution_count": 8
        }
      ]
    },
    {
      "cell_type": "code",
      "source": [
        "r.search('abbbbc')"
      ],
      "metadata": {
        "colab": {
          "base_uri": "https://localhost:8080/"
        },
        "id": "Kp_8QvdCuHRE",
        "outputId": "c39c9316-9f5c-46ee-9d9d-416afacdcfc7"
      },
      "execution_count": null,
      "outputs": [
        {
          "output_type": "execute_result",
          "data": {
            "text/plain": [
              "<re.Match object; span=(0, 6), match='abbbbc'>"
            ]
          },
          "metadata": {},
          "execution_count": 9
        }
      ]
    },
    {
      "cell_type": "code",
      "source": [
        "r.search('a')"
      ],
      "metadata": {
        "id": "7eV3uRqhuJd0"
      },
      "execution_count": null,
      "outputs": []
    },
    {
      "cell_type": "markdown",
      "source": [
        "### 🔘 앞의 문자 최소 1개이상 : +"
      ],
      "metadata": {
        "id": "FjYG8cvY6uAp"
      }
    },
    {
      "cell_type": "code",
      "source": [
        "# '+' : 앞의 문자가 최소 1개 이상\n",
        "r = re.compile('ab+c')\n",
        "r.search('ac')"
      ],
      "metadata": {
        "id": "lESm39nNuP3Q"
      },
      "execution_count": null,
      "outputs": []
    },
    {
      "cell_type": "code",
      "source": [
        "r.search('abc')"
      ],
      "metadata": {
        "colab": {
          "base_uri": "https://localhost:8080/"
        },
        "id": "vQgRuypdufKp",
        "outputId": "3bce4cd6-1dae-4b9c-a217-c588077abd71"
      },
      "execution_count": null,
      "outputs": [
        {
          "output_type": "execute_result",
          "data": {
            "text/plain": [
              "<re.Match object; span=(0, 3), match='abc'>"
            ]
          },
          "metadata": {},
          "execution_count": 12
        }
      ]
    },
    {
      "cell_type": "markdown",
      "source": [
        "### 🔘 시작되는 문자열 : ^"
      ],
      "metadata": {
        "id": "nIgm9-oAE8nt"
      }
    },
    {
      "cell_type": "code",
      "source": [
        "# '^' : 시작되는 문자열\n",
        "r = re.compile('^ab') # 'ab'로시작되는 문자열 찾기!\n",
        "r.search('zab')"
      ],
      "metadata": {
        "id": "z0ZcULlFuhgI"
      },
      "execution_count": null,
      "outputs": []
    },
    {
      "cell_type": "code",
      "source": [
        "r.search('abz')"
      ],
      "metadata": {
        "colab": {
          "base_uri": "https://localhost:8080/"
        },
        "id": "TfGa2-9GuwY9",
        "outputId": "cbead51a-230e-4bef-aadb-177d44ec3a8d"
      },
      "execution_count": null,
      "outputs": [
        {
          "output_type": "execute_result",
          "data": {
            "text/plain": [
              "<re.Match object; span=(0, 2), match='ab'>"
            ]
          },
          "metadata": {},
          "execution_count": 14
        }
      ]
    },
    {
      "cell_type": "markdown",
      "source": [
        "### 🔘 해당 수만큼 반복 : { 숫자1, 숫자2 }\n",
        "- { 숫자1 } : 해당 수만큼\n",
        "- { 숫자1, 숫자2 } : 숫자1개 ~ 숫자2개 - 숫자사이 공백 X"
      ],
      "metadata": {
        "id": "gNFQeC4jFEIs"
      }
    },
    {
      "cell_type": "code",
      "source": [
        "# '{숫자}' : 해당문자를 숫자만큼 반복\n",
        "r = re.compile('ab{2}c') # b가 두번!\n",
        "r.search('abbc')"
      ],
      "metadata": {
        "colab": {
          "base_uri": "https://localhost:8080/"
        },
        "id": "Uxbe7dKuu0jW",
        "outputId": "2f8c5eea-6110-47c1-e429-8da688c4f22c"
      },
      "execution_count": null,
      "outputs": [
        {
          "output_type": "execute_result",
          "data": {
            "text/plain": [
              "<re.Match object; span=(0, 4), match='abbc'>"
            ]
          },
          "metadata": {},
          "execution_count": 15
        }
      ]
    },
    {
      "cell_type": "code",
      "source": [
        "r.search('abbbc')"
      ],
      "metadata": {
        "id": "zu-UauGRvFVC"
      },
      "execution_count": null,
      "outputs": []
    },
    {
      "cell_type": "code",
      "source": [
        "# {숫자1,숫자2}: 해당문자를 숫자1이상 숫자2 이하만큼 반복 - 숫자 사이 공백있으면 안됨 !!!!\n",
        "r = re.compile('ab{2,8}c')\n",
        "r.search('abbbbbbbbc')"
      ],
      "metadata": {
        "colab": {
          "base_uri": "https://localhost:8080/"
        },
        "id": "z1JN_xxTvHDg",
        "outputId": "644e4d94-e542-4e8f-fa02-8060a97b64b3"
      },
      "execution_count": null,
      "outputs": [
        {
          "output_type": "execute_result",
          "data": {
            "text/plain": [
              "<re.Match object; span=(0, 10), match='abbbbbbbbc'>"
            ]
          },
          "metadata": {},
          "execution_count": 17
        }
      ]
    },
    {
      "cell_type": "code",
      "source": [
        "r.search('abc')"
      ],
      "metadata": {
        "id": "1ijHxySvvXh4"
      },
      "execution_count": null,
      "outputs": []
    },
    {
      "cell_type": "markdown",
      "source": [
        "### 🔘 해당 범위 내에 있는 문자 중 매치되는 첫글자 : [ ]"
      ],
      "metadata": {
        "id": "0RHnFcHjFnJV"
      }
    },
    {
      "cell_type": "code",
      "source": [
        "# '[]' : 대괄호 안의 문자 중 한개의 문자라도 매치하는 것 찾기! - 순서 상관 없음, 일치하는 첫글자만 해당\n",
        "r1 = re.compile('[abc]')\n",
        "print(r.search('ca')) # c 당첨\n",
        "\n",
        "# [a-c]: a, b, c\n",
        "# [a-z]: a~z까지 아무거나!\n",
        "# 알파벳 소문자\n",
        "r2 = re.compile('[a-z]')\n",
        "print(r2.search('abc'))\n",
        "\n",
        "# 알파벳 대문자\n",
        "r3 = re.compile('[A-Z]')\n",
        "print(r3.search('aBC'))\n",
        "\n",
        "# 알파벳 모두\n",
        "r4 = re.compile('[A-Za-z]')\n",
        "print(r4.search('ABC'))\n",
        "r5 = re.compile('[A-Za-z]')\n",
        "print(r5.search('1B3'))"
      ],
      "metadata": {
        "colab": {
          "base_uri": "https://localhost:8080/"
        },
        "id": "f4O0MikCvZ0U",
        "outputId": "2caf4678-0068-41f2-9181-ca088900bb18"
      },
      "execution_count": null,
      "outputs": [
        {
          "output_type": "stream",
          "name": "stdout",
          "text": [
            "<re.Match object; span=(0, 1), match='c'>\n",
            "<re.Match object; span=(0, 1), match='a'>\n",
            "<re.Match object; span=(1, 2), match='B'>\n",
            "<re.Match object; span=(0, 1), match='A'>\n",
            "<re.Match object; span=(1, 2), match='B'>\n"
          ]
        }
      ]
    },
    {
      "cell_type": "markdown",
      "source": [
        "### 🔘 해당 문자들을 제외한 모든 문자 중 첫글자 매치 : [ ^  ]"
      ],
      "metadata": {
        "id": "EhVm3voZFxBo"
      }
    },
    {
      "cell_type": "code",
      "source": [
        "# [^] : 해당 문자들을 제외한 모든 문자 매치, 일치하는 첫글자만 해당\n",
        "r = re.compile('[^abc]')\n",
        "r.search('a123')"
      ],
      "metadata": {
        "colab": {
          "base_uri": "https://localhost:8080/"
        },
        "id": "HsOcdtSKv6tx",
        "outputId": "3ddd6328-e9b3-438d-f187-ea853077bcb2"
      },
      "execution_count": null,
      "outputs": [
        {
          "output_type": "execute_result",
          "data": {
            "text/plain": [
              "<re.Match object; span=(1, 2), match='1'>"
            ]
          },
          "metadata": {},
          "execution_count": 27
        }
      ]
    },
    {
      "cell_type": "code",
      "source": [
        "# 정규 표현식 함수\n",
        "\n",
        "text = '사과+딸기+수박+메론+바나나'\n",
        "re.split('\\+', text) # + 를 기준으로 분리"
      ],
      "metadata": {
        "colab": {
          "base_uri": "https://localhost:8080/"
        },
        "id": "BA8KMcZawDxs",
        "outputId": "71d372d0-fcfe-4556-86b4-224c68518e58"
      },
      "execution_count": null,
      "outputs": [
        {
          "output_type": "execute_result",
          "data": {
            "text/plain": [
              "['사과', '딸기', '수박', '메론', '바나나']"
            ]
          },
          "metadata": {},
          "execution_count": 28
        }
      ]
    },
    {
      "cell_type": "code",
      "source": [
        "# \\문자 : '\\' 뒤의 특수문자가 일반 특수문자로 인식됨"
      ],
      "metadata": {
        "id": "tcHS-RL5y2lz"
      },
      "execution_count": null,
      "outputs": []
    },
    {
      "cell_type": "markdown",
      "source": [
        "## ☑️ findall"
      ],
      "metadata": {
        "id": "oXXCk0O14S3G"
      }
    },
    {
      "cell_type": "markdown",
      "source": [
        "### 🔘 숫자 매치 : \\\\+d"
      ],
      "metadata": {
        "id": "g1tgaTvmF5_0"
      }
    },
    {
      "cell_type": "code",
      "source": [
        "text = ''' 이름:김철수\n",
        "전화번호:010-1234-5678\n",
        "나이:30\n",
        "성별:남\n",
        "'''\n",
        "\n",
        "# 숫자만 뽑기\n",
        "re.findall('\\d+', text) # \\d : 숫자 0~9"
      ],
      "metadata": {
        "colab": {
          "base_uri": "https://localhost:8080/"
        },
        "id": "FDHlOjxlyW7R",
        "outputId": "dc36c564-c21e-45a2-d6ee-c1a6fdc6bee0"
      },
      "execution_count": null,
      "outputs": [
        {
          "output_type": "execute_result",
          "data": {
            "text/plain": [
              "['이름', '김철수', '전화번호', '나이', '성별', '남']"
            ]
          },
          "metadata": {},
          "execution_count": 31
        }
      ]
    },
    {
      "cell_type": "markdown",
      "source": [
        "### 🔘 한글 매치 : [가-힣]"
      ],
      "metadata": {
        "id": "myGvoIlOGAR6"
      }
    },
    {
      "cell_type": "code",
      "source": [
        "# 한글만 뽑기\n",
        "re.findall('[가-힣]+', text)"
      ],
      "metadata": {
        "colab": {
          "base_uri": "https://localhost:8080/"
        },
        "id": "6jcOtRGIzTfU",
        "outputId": "08cafcc9-2620-478b-d11d-8ad6db8e4f3e"
      },
      "execution_count": null,
      "outputs": [
        {
          "output_type": "execute_result",
          "data": {
            "text/plain": [
              "['이름', '김철수', '전화번호', '나이', '성별', '남']"
            ]
          },
          "metadata": {},
          "execution_count": 33
        }
      ]
    },
    {
      "cell_type": "code",
      "source": [
        "text = 'Regular expression : A regular expression, regex or regexp[1] (sometimes called a rational expression)[2][3] is, in theoretical computer science and formal language theory, a sequence of characters that define a sarch pattern.'"
      ],
      "metadata": {
        "id": "f3_oXDiazqBv"
      },
      "execution_count": null,
      "outputs": []
    },
    {
      "cell_type": "markdown",
      "source": [
        "## ☑️ sub"
      ],
      "metadata": {
        "id": "c5_Am8OG4WGG"
      }
    },
    {
      "cell_type": "markdown",
      "source": [
        "### 🔘 영어 매치 : [a-z][A-Z]"
      ],
      "metadata": {
        "id": "aQvO-2XHGIIx"
      }
    },
    {
      "cell_type": "code",
      "source": [
        "preprocess_text = re.sub('[^a-zA-z]', ' ', text)\n",
        "print(preprocess_text)"
      ],
      "metadata": {
        "colab": {
          "base_uri": "https://localhost:8080/"
        },
        "id": "z02Tf8rfz_Ej",
        "outputId": "c38c3e65-e2cf-4c02-ff78-22ea9faf9c08"
      },
      "execution_count": null,
      "outputs": [
        {
          "output_type": "stream",
          "name": "stdout",
          "text": [
            "Regular expression   A regular expression  regex or regexp[ ]  sometimes called a rational expression [ ][ ] is  in theoretical computer science and formal language theory  a sequence of characters that define a sarch pattern \n"
          ]
        }
      ]
    },
    {
      "cell_type": "code",
      "source": [
        "text = '''100 John PROF\n",
        "101 JAmes STUD\n",
        "102 MAC STUD'''\n",
        "\n",
        "# 정수만\n",
        "# 정수만 [a-z] 방식으로\n",
        "# 대문자가 연속4개인 문자\n",
        "# 첫글자가 대문자 이후 소문자 James\n",
        "\n",
        "# 방식 - 둘다 결과는 똑같음\n",
        "# text.split(): 파이썬 내장\n",
        "# re.split('\\s+', text)"
      ],
      "metadata": {
        "id": "z6ZkbvFI1Gtu"
      },
      "execution_count": null,
      "outputs": []
    },
    {
      "cell_type": "code",
      "source": [
        "# 정수만\n",
        "# 방법 1 : 이스케이프 문자 사용\n",
        "print(re.findall('\\d+', text))\n",
        "# 방법 2 : [a-z] 방식 사용\n",
        "print(re.findall('[0-9]+', text))"
      ],
      "metadata": {
        "colab": {
          "base_uri": "https://localhost:8080/"
        },
        "id": "OxYYoZpp3TXz",
        "outputId": "afcf2722-4c43-4c12-936d-6d121b36d6fc"
      },
      "execution_count": null,
      "outputs": [
        {
          "output_type": "stream",
          "name": "stdout",
          "text": [
            "['100', '101', '102']\n",
            "['100', '101', '102']\n"
          ]
        }
      ]
    },
    {
      "cell_type": "code",
      "source": [
        "# 대문자가 연속 4개인 문자\n",
        "re.findall('[A-Z]{4}', text)"
      ],
      "metadata": {
        "colab": {
          "base_uri": "https://localhost:8080/"
        },
        "id": "_AOuUh0z3eF3",
        "outputId": "76ebcde7-89e2-42e3-c4b3-58c9553bda55"
      },
      "execution_count": null,
      "outputs": [
        {
          "output_type": "execute_result",
          "data": {
            "text/plain": [
              "['PROF', 'STUD', 'STUD']"
            ]
          },
          "metadata": {},
          "execution_count": 45
        }
      ]
    },
    {
      "cell_type": "code",
      "source": [
        "# 첫글자가 대문자 이후 소문자\n",
        "re.findall('[A-Z][a-z]+', text)"
      ],
      "metadata": {
        "colab": {
          "base_uri": "https://localhost:8080/"
        },
        "id": "P6OseK6S32sg",
        "outputId": "2be37f54-0912-450d-f623-a68cce865c0c"
      },
      "execution_count": null,
      "outputs": [
        {
          "output_type": "execute_result",
          "data": {
            "text/plain": [
              "['John', 'Ames']"
            ]
          },
          "metadata": {},
          "execution_count": 54
        }
      ]
    },
    {
      "cell_type": "code",
      "source": [
        "texts = ['우리나라  대한민국', '우리나라%$ 만세', '위산과&다 500GRAM 소화력 최고!', '나는 대한민국 사람', '보험료 15000원에 평생 보장 마감 임박', '나는 홍길동']"
      ],
      "metadata": {
        "id": "7AVHf87d4G6h"
      },
      "execution_count": null,
      "outputs": []
    },
    {
      "cell_type": "code",
      "source": [
        "# 리스트 내포 이용\n",
        "# 1. 소문자 변경\n",
        "texts = [lambda s : s.lower()]\n",
        "print(texts)"
      ],
      "metadata": {
        "colab": {
          "base_uri": "https://localhost:8080/"
        },
        "id": "K6h93bCU64_g",
        "outputId": "02065d69-2ad6-4f59-bf6a-16620a8841e3"
      },
      "execution_count": null,
      "outputs": [
        {
          "output_type": "stream",
          "name": "stdout",
          "text": [
            "[<function <lambda> at 0x7fe312484550>]\n"
          ]
        }
      ]
    },
    {
      "cell_type": "code",
      "source": [
        "# 2. 숫자 제거"
      ],
      "metadata": {
        "id": "qXdB_oCA7I7A"
      },
      "execution_count": null,
      "outputs": []
    },
    {
      "cell_type": "code",
      "source": [
        "# 3. 문장부호(',:; 등) 제거"
      ],
      "metadata": {
        "id": "rq3Q4nnW7KVO"
      },
      "execution_count": null,
      "outputs": []
    },
    {
      "cell_type": "code",
      "source": [
        "# 4. 특수문자($%*() 등) 제거"
      ],
      "metadata": {
        "id": "kuTgRCGu7Owp"
      },
      "execution_count": null,
      "outputs": []
    }
  ]
}