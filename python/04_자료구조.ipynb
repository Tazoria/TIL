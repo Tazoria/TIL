{
  "nbformat": 4,
  "nbformat_minor": 0,
  "metadata": {
    "colab": {
      "provenance": [],
      "toc_visible": true,
      "authorship_tag": "ABX9TyPUEIindIGRgwLJvChhHfgZ",
      "include_colab_link": true
    },
    "kernelspec": {
      "name": "python3",
      "display_name": "Python 3"
    },
    "language_info": {
      "name": "python"
    }
  },
  "cells": [
    {
      "cell_type": "markdown",
      "metadata": {
        "id": "view-in-github",
        "colab_type": "text"
      },
      "source": [
        "<a href=\"https://colab.research.google.com/github/Tazoria/TIL/blob/main/python/04_%EC%9E%90%EB%A3%8C%EA%B5%AC%EC%A1%B0.ipynb\" target=\"_parent\"><img src=\"https://colab.research.google.com/assets/colab-badge.svg\" alt=\"Open In Colab\"/></a>"
      ]
    },
    {
      "cell_type": "markdown",
      "source": [
        "# 💕 list 💕"
      ],
      "metadata": {
        "id": "sDedNkvwYIsL"
      }
    },
    {
      "cell_type": "code",
      "execution_count": null,
      "metadata": {
        "colab": {
          "base_uri": "https://localhost:8080/"
        },
        "id": "G9kXUECwWP-s",
        "outputId": "c4a67bdf-7a79-41b7-b1d1-28ed46f75122"
      },
      "outputs": [
        {
          "output_type": "stream",
          "name": "stdout",
          "text": [
            "2\n",
            "1 + 3 = 4\n",
            "[2] [1, 2] [2, 1, 2] [2, 1, 2, 2, 1, 2, 2, 1, 2]\n"
          ]
        }
      ],
      "source": [
        "a = [1, 2, 3]\n",
        "print(a[1])\n",
        "\n",
        "a1 = a[0]\n",
        "a2 = a[2]\n",
        "sum = a[0] + a[2]\n",
        "print(f'{a1} + {a2} = {sum}')\n",
        "\n",
        "b = a[1:2]\n",
        "c = a[:2]\n",
        "d = b + c\n",
        "f = d * 3\n",
        "print(b, c, d, f)"
      ]
    },
    {
      "cell_type": "markdown",
      "source": [
        "## 💡 슬라이싱\n",
        "- 리스트 [시작 번호 : 끝 번호] \n",
        "  - 시작번호는 포함하되 끝번호는 포함하지 않음\n",
        "  - 시작번호와 끝번호는 생략될 수 있음\n",
        "      - 리스트[ : 끝번호 ]: 처음부터 끝번호-1번째자리까지\n",
        "      - 리스트[ 시작번호: ]: 시작번호부터 끝까지\n",
        "      - 리스트[ : ]: 처음부터 끝까지"
      ],
      "metadata": {
        "id": "xCk6-R8bZaBZ"
      }
    },
    {
      "cell_type": "markdown",
      "source": [
        "## 1️⃣ 대체"
      ],
      "metadata": {
        "id": "S4vR5eWBlhqD"
      }
    },
    {
      "cell_type": "code",
      "source": [
        "a = [1,2,3,4,5]\n",
        "a[1:3] = [10]\n",
        "print(a)\n",
        "a[1:3] = ['a','b','c']\n",
        "print(a)\n",
        "a[1:2] = [['x', 'y', 'z']]\n",
        "print(a)"
      ],
      "metadata": {
        "id": "1yyz5Cp6lXOa"
      },
      "execution_count": null,
      "outputs": []
    },
    {
      "cell_type": "markdown",
      "source": [
        "## 2️⃣ \n",
        "삽입\n",
        "- append( 값 )\n",
        "- insert( 인덱스,  값 )\n",
        "- extend(원소리스트) : 리스트 확장"
      ],
      "metadata": {
        "id": "YGDrxJ_Qj8v9"
      }
    },
    {
      "cell_type": "code",
      "source": [
        "a = [1,2,3,4,5]\n",
        "\n",
        "# append\n",
        "a.append('추가됐당')\n",
        "print(a)\n",
        "\n",
        "# insert\n",
        "a = [1,2,3]\n",
        "a.insert(0, 4) # 리스트.insert(인덱스, 값)\n",
        "print(a)\n",
        "\n",
        "# expand\n",
        "a = [1,2,3]\n",
        "a.extend([4,5])\n",
        "print(a) # a[3:] = [4,5]와 동일"
      ],
      "metadata": {
        "colab": {
          "base_uri": "https://localhost:8080/"
        },
        "id": "YEQoD2QcYcKR",
        "outputId": "57eb03a2-fb72-4349-8618-b235fa2a40f9"
      },
      "execution_count": null,
      "outputs": [
        {
          "output_type": "stream",
          "name": "stdout",
          "text": [
            "[1, 10, 4, 5]\n",
            "[1, 'a', 'b', 'c', 5]\n",
            "[1, ['x', 'y', 'z'], 'b', 'c', 5]\n",
            "[1, ['x', 'y', 'z'], 'b', 'c', 5, '추가됐당']\n",
            "[1, 'c', 5, '추가됐당']\n",
            "[1, 5]\n"
          ]
        }
      ]
    },
    {
      "cell_type": "markdown",
      "source": [
        "## 3️⃣ 삭제\n",
        "- 슬라이싱 후 빈 리스트로 대체\n",
        "- del 리스트[ 인덱스 ]\n",
        "- remove( 값 )"
      ],
      "metadata": {
        "id": "HePNWJR8kOmJ"
      }
    },
    {
      "cell_type": "code",
      "source": [
        "# 빈 리스트로 대체\n",
        "a[1:3] = []\n",
        "print(a)\n",
        "\n",
        "# del\n",
        "del a[-1]\n",
        "del a[1]\n",
        "print(a)\n",
        "\n",
        "# remove\n",
        "a = [1,2,3,1,2,3]\n",
        "a.remove(3)\n",
        "print(a)"
      ],
      "metadata": {
        "id": "EvlaEPM4jyw6"
      },
      "execution_count": null,
      "outputs": []
    },
    {
      "cell_type": "markdown",
      "source": [
        "## 4️⃣ 추출"
      ],
      "metadata": {
        "id": "ikWbGr35nDSH"
      }
    },
    {
      "cell_type": "code",
      "source": [
        "# 리스트 요소 끄집어내기\n",
        "a = [1,2,3]\n",
        "a.pop() # 제일 마지막꺼 꺼냄\n",
        "print(a)\n",
        "a.pop()\n",
        "print(a)"
      ],
      "metadata": {
        "id": "ar9Iqyp4mP2l"
      },
      "execution_count": null,
      "outputs": []
    },
    {
      "cell_type": "markdown",
      "source": [
        "## 5️⃣ 정렬"
      ],
      "metadata": {
        "id": "-b-7LSwJkvMW"
      }
    },
    {
      "cell_type": "code",
      "source": [
        "# 정렬\n",
        "a = [1,4,3,2]\n",
        "a.sort()\n",
        "print(a)\n",
        "\n",
        "b = ['d', 'c', 'a', 'b']\n",
        "b.sort(reverse=True) # default: reverse=False\n",
        "print(b)\n",
        "\n",
        "# 뒤집기\n",
        "a = [1, 2, 3]\n",
        "a.reverse()\n",
        "print(a)"
      ],
      "metadata": {
        "id": "TBZ4U91vk8J5"
      },
      "execution_count": null,
      "outputs": []
    },
    {
      "cell_type": "markdown",
      "source": [
        "## 6️⃣ 위치반환"
      ],
      "metadata": {
        "id": "FZMwZJRymHkE"
      }
    },
    {
      "cell_type": "code",
      "source": [
        "# 위치반환\n",
        "print(a.index(3)) # 3은 리스트의 원소(있지 않은 원소를 넣으면 ValueError 발생)"
      ],
      "metadata": {
        "id": "O29UmCg3mJx_"
      },
      "execution_count": null,
      "outputs": []
    },
    {
      "cell_type": "markdown",
      "source": [
        "## 7️⃣ 원소 수 세기"
      ],
      "metadata": {
        "id": "WYVSYgMBnTj8"
      }
    },
    {
      "cell_type": "code",
      "source": [
        "# 리스트에 포함된 요소 x의 개수 세기 < 중요 >\n",
        "a = [1,2,3,1]\n",
        "print(a.count(1))"
      ],
      "metadata": {
        "colab": {
          "base_uri": "https://localhost:8080/"
        },
        "id": "TdXXALNuaW7Q",
        "outputId": "26ef7cda-41cb-49b1-ed64-60e16f2c37e5"
      },
      "execution_count": null,
      "outputs": [
        {
          "output_type": "stream",
          "name": "stdout",
          "text": [
            "[1, 2, 3, 4]\n",
            "['d', 'c', 'b', 'a']\n",
            "[3, 2, 1]\n",
            "0\n",
            "[4, 1, 2, 3]\n",
            "[1, 2, 1, 2, 3]\n",
            "[1, 2]\n",
            "[1]\n",
            "2\n"
          ]
        }
      ]
    },
    {
      "cell_type": "markdown",
      "source": [
        "## 📚 퀴즈"
      ],
      "metadata": {
        "id": "4XlMS24Enezz"
      }
    },
    {
      "cell_type": "code",
      "source": [
        "# 퀴즈1 : a[1,2,3,[4,5,6,7]] - 인덱스 이용 & extend()\n",
        "a = [1,2,3]\n",
        "b = [4,5,6,7]\n",
        "\n",
        "# extend()\n",
        "a.extend([b])\n",
        "print('방법1: ', a)\n",
        "\n",
        "# 인덱스\n",
        "a = [1,2,3]\n",
        "a[3:] = [[4,5,6,7]]\n",
        "print('방법2: ', a)"
      ],
      "metadata": {
        "colab": {
          "base_uri": "https://localhost:8080/"
        },
        "id": "R4m31_mhezkK",
        "outputId": "709dab32-d9af-4518-c0d3-1df7122eec06"
      },
      "execution_count": null,
      "outputs": [
        {
          "output_type": "stream",
          "name": "stdout",
          "text": [
            "방법1:  [1, 2, 3, [4, 5, 6, 7]]\n",
            "방법2:  [1, 2, 3, [4, 5, 6, 7]]\n"
          ]
        }
      ]
    },
    {
      "cell_type": "code",
      "source": [
        "# 퀴즈2\n",
        "# mycart라는 새로운리스트를 만들고 시계와 신발 추출\n",
        "wishlist = ['가방', '시계', '신발']\n",
        "mycart = []\n",
        "shoes = wishlist.pop()\n",
        "watch = wishlist.pop()\n",
        "mycart.append(shoes)\n",
        "mycart.append(watch)\n",
        "\n",
        "print(mycart)\n",
        "print(wishlist)"
      ],
      "metadata": {
        "colab": {
          "base_uri": "https://localhost:8080/"
        },
        "id": "cEh2qQ6kz81p",
        "outputId": "003eab32-6ae3-4184-f643-600848dc7c4e"
      },
      "execution_count": null,
      "outputs": [
        {
          "output_type": "stream",
          "name": "stdout",
          "text": [
            "['신발', '시계']\n",
            "['가방']\n"
          ]
        }
      ]
    },
    {
      "cell_type": "markdown",
      "source": [
        "## 💡 리스트 내포 ( List Comprehension )\n",
        "\n",
        "* 형식\n",
        "  - 변수 = [ 실행문 for 변수 in 열거형객체 ]\n",
        "  - 변수 = [ 실행문 for 변수 in 열거형객체 if 조건식 ]\n",
        "  - 이중 포문도 사용 가능"
      ],
      "metadata": {
        "id": "sU0XNjnwItbC"
      }
    },
    {
      "cell_type": "code",
      "source": [
        "# for문 vs list comprehension\n",
        "# 결과: [3,6,9,12] 출력\n",
        "\n",
        "print('\\n---------- for문 ----------\\n')\n",
        "a = [1,2,3,4]\n",
        "result = []\n",
        "for i in a:\n",
        "  result.append(i*3)\n",
        "print(result)\n",
        "\n",
        "print('\\n---------- list comprrehension ----------\\n')\n",
        "a = [1,2,3,4]\n",
        "result = [i*3 for i in a]\n",
        "print(result)"
      ],
      "metadata": {
        "colab": {
          "base_uri": "https://localhost:8080/"
        },
        "id": "od62nai7Ixq5",
        "outputId": "20f9f8f7-281d-4981-8051-87abb5ca2ae4"
      },
      "execution_count": null,
      "outputs": [
        {
          "output_type": "stream",
          "name": "stdout",
          "text": [
            "\n",
            "---------- for문 ----------\n",
            "\n",
            "[3, 6, 9, 12]\n",
            "\n",
            "---------- list comprrehension ----------\n",
            "\n",
            "[3, 6, 9, 12]\n"
          ]
        }
      ]
    },
    {
      "cell_type": "code",
      "source": [
        "a = [1,2,3,4]\n",
        "result = []\n",
        "# 3을 곱하고 짝수만 result3에 넣는 코드를 작성.\n",
        "# 6, 12\n",
        "\n",
        "print('\\n---------- for문 ----------\\n')\n",
        "for i in a:\n",
        "  n = i*3\n",
        "  if n % 2 == 0:\n",
        "    result.append(n)\n",
        "print(result)\n",
        "\n",
        "print('\\n---------- list comprrehension ----------\\n')\n",
        "a = [1,2,3,4]\n",
        "result = []\n",
        "result = [ i*3 for i in a if i*3 % 2 == 0]\n",
        "print(result)"
      ],
      "metadata": {
        "colab": {
          "base_uri": "https://localhost:8080/"
        },
        "id": "FyZW6JuFNv9b",
        "outputId": "789bb830-73d6-411b-e8c8-6fd063c59e87"
      },
      "execution_count": null,
      "outputs": [
        {
          "output_type": "stream",
          "name": "stdout",
          "text": [
            "[6, 12]\n",
            "[6, 12]\n"
          ]
        }
      ]
    },
    {
      "cell_type": "code",
      "source": [
        "# 구구단 코드 [2,4,6,8, ..., 81]\n",
        "# 리스트내포로 만드시오\n",
        "\n",
        "result = [ i*j for i in range(2, 9+1) for j in range(1, 9+1) ]\n",
        "print(result)"
      ],
      "metadata": {
        "colab": {
          "base_uri": "https://localhost:8080/"
        },
        "id": "nN3oo9FsOr0v",
        "outputId": "29b4576c-c88d-421c-a3ae-870fa32fa517"
      },
      "execution_count": null,
      "outputs": [
        {
          "output_type": "stream",
          "name": "stdout",
          "text": [
            "[2, 4, 6, 8, 10, 12, 14, 16, 18, 3, 6, 9, 12, 15, 18, 21, 24, 27, 4, 8, 12, 16, 20, 24, 28, 32, 36, 5, 10, 15, 20, 25, 30, 35, 40, 45, 6, 12, 18, 24, 30, 36, 42, 48, 54, 7, 14, 21, 28, 35, 42, 49, 56, 63, 8, 16, 24, 32, 40, 48, 56, 64, 72, 9, 18, 27, 36, 45, 54, 63, 72, 81]\n"
          ]
        }
      ]
    },
    {
      "cell_type": "markdown",
      "source": [
        "# 💕 tuple 💕\n",
        "* 읽기전용\n",
        "* 인덱싱 슬라이싱 가능\n",
        "* 수정, 삽입 등을 하려면 리스트로 변환해야함 ( 강제형변환 )\n",
        "* +, * 연산은 리스트와 동일하게 작용\n",
        "* 내부에 다양한 자료형 저장 가능\n",
        "* unpacking 가능"
      ],
      "metadata": {
        "id": "zg2xsPM24qP5"
      }
    },
    {
      "cell_type": "code",
      "source": [
        "t2 = [1, 2, 'a', 'b']\n",
        "t2[0] = 'c'\n",
        "print(t2)"
      ],
      "metadata": {
        "colab": {
          "base_uri": "https://localhost:8080/"
        },
        "id": "l0G8zC0Q0aGD",
        "outputId": "4c0fda12-cc40-4b8d-d54b-f43318d69cb8"
      },
      "execution_count": null,
      "outputs": [
        {
          "output_type": "stream",
          "name": "stdout",
          "text": [
            "['c', 2, 'a', 'b']\n"
          ]
        }
      ]
    },
    {
      "cell_type": "markdown",
      "source": [
        "## 1️⃣ 튜플상태에서 값수정불가"
      ],
      "metadata": {
        "id": "ObQn3n8-uINz"
      }
    },
    {
      "cell_type": "code",
      "source": [
        "t1 = (1, 2, 'a', 'b')\n",
        "\n",
        "# 에러발생\n",
        "# del t1[0]\n",
        "# t1[0] = 'c'"
      ],
      "metadata": {
        "id": "rKiVM01Y47zS"
      },
      "execution_count": null,
      "outputs": []
    },
    {
      "cell_type": "markdown",
      "source": [
        "## 2️⃣ 강제형변환"
      ],
      "metadata": {
        "id": "Xsv9tob0uGDD"
      }
    },
    {
      "cell_type": "code",
      "source": [
        "# 자료형태 강제형변환\n",
        "lst = list(range(1, 6))\n",
        "print(lst)\n",
        "t4 = tuple(lst)\n",
        "print(type(t4), t4)"
      ],
      "metadata": {
        "colab": {
          "base_uri": "https://localhost:8080/"
        },
        "id": "8kIhffjl5DBy",
        "outputId": "9a655af8-634b-4149-e80c-29b1ad035fbf"
      },
      "execution_count": null,
      "outputs": [
        {
          "output_type": "stream",
          "name": "stdout",
          "text": [
            "[1, 2, 3, 4, 5]\n",
            "<class 'tuple'> (1, 2, 3, 4, 5)\n"
          ]
        }
      ]
    },
    {
      "cell_type": "markdown",
      "source": [
        "## 3️⃣ 언패킹"
      ],
      "metadata": {
        "id": "RRQXyT7UueEP"
      }
    },
    {
      "cell_type": "code",
      "source": [
        "# 튜플 언패킹(unpacking) - 리스트도 동일하게 작용\n",
        "a = (1, 2, 3)\n",
        "x, y, z = a\n",
        "print(x, y, z)\n",
        "\n",
        "b = [1, 2, 3]\n",
        "u, v, w = b\n",
        "print(u, v, w)"
      ],
      "metadata": {
        "colab": {
          "base_uri": "https://localhost:8080/"
        },
        "id": "9jC3nvf25wEH",
        "outputId": "07722521-d1d4-428d-b08c-489dd9fee8e8"
      },
      "execution_count": null,
      "outputs": [
        {
          "output_type": "stream",
          "name": "stdout",
          "text": [
            "1 2 3\n",
            "1 2 3\n"
          ]
        }
      ]
    },
    {
      "cell_type": "code",
      "source": [
        "# movie_rank에 '배트맨'을 추가\n",
        "# '닥터스트레인지'와 '스프릿'사이에 '슈퍼맨'을 추가\n",
        "movie_rank = ['닥터스트레인지', '스프릿', '럭키']\n",
        "\n",
        "movie_rank.append('배트맨')\n",
        "movie_rank.insert(1, '슈퍼맨')\n",
        "print('추가 후: ', movie_rank)"
      ],
      "metadata": {
        "colab": {
          "base_uri": "https://localhost:8080/"
        },
        "id": "C-kVXrM96e59",
        "outputId": "3901beb5-9ad5-4013-aab9-2c220c4cf715"
      },
      "execution_count": null,
      "outputs": [
        {
          "output_type": "stream",
          "name": "stdout",
          "text": [
            "추가 후:  ['닥터스트레인지', '슈퍼맨', '스프릿', '럭키', '배트맨']\n"
          ]
        }
      ]
    },
    {
      "cell_type": "markdown",
      "source": [
        "## 4️⃣ 슬라이싱"
      ],
      "metadata": {
        "id": "7bVnoxfWuuyR"
      }
    },
    {
      "cell_type": "code",
      "source": [
        "# 튜플을 0~10까지 만드록 짝수만 슬라이싱하여 출력 - (2,4,6,8,10)\n",
        "tup = tuple(range(0, 10+1))\n",
        "even = tup[1::2]\n",
        "print(even)"
      ],
      "metadata": {
        "colab": {
          "base_uri": "https://localhost:8080/"
        },
        "id": "ipFMHBJp7Im6",
        "outputId": "dc1340c0-c5f3-41b1-aabe-44aa76e54f60"
      },
      "execution_count": null,
      "outputs": [
        {
          "output_type": "stream",
          "name": "stdout",
          "text": [
            "(0, 2, 4, 6, 8, 10)\n"
          ]
        }
      ]
    },
    {
      "cell_type": "code",
      "source": [
        "# 아파트 호수들 전체 출력\n",
        "apart = [[101, 102], [201,202], [301, 302]]\n",
        "\n",
        "for i in apart:\n",
        "  for j in i:\n",
        "    print(j, '호', sep='')"
      ],
      "metadata": {
        "colab": {
          "base_uri": "https://localhost:8080/"
        },
        "id": "MipTED317Py8",
        "outputId": "7b4e46de-b436-43a7-cd3e-a4a0064d8c92"
      },
      "execution_count": null,
      "outputs": [
        {
          "output_type": "stream",
          "name": "stdout",
          "text": [
            "101호\n",
            "102호\n",
            "201호\n",
            "202호\n",
            "301호\n",
            "302호\n"
          ]
        }
      ]
    },
    {
      "cell_type": "markdown",
      "source": [
        "# 💡 리스트(튜플) 통계값 구하기\n",
        "* 항목수 : len(리스트명)\n",
        "* 합계 : sum(리스트명)\n",
        "* 최소값 : min(리스트명)\n",
        "* 최대값 : max(리스트명)\n",
        "* 항목의 개수 : 리스트명.count(항목)"
      ],
      "metadata": {
        "id": "XvbQJOYXAA3k"
      }
    },
    {
      "cell_type": "code",
      "source": [
        "tp = [1,2,3,4,5,3,4,5]\n",
        "print('-'*10, '통계값 구하기', '-'*10)\n",
        "print('   ', tp)\n",
        "print('길이: ', len(tp))\n",
        "print('합: ', sum(tp))\n",
        "print('최소값: ', min(tp))\n",
        "print('최대값: ', max(tp))\n",
        "print('원소(3) 수 세기: ', tp.count(3))\n",
        "print('평균 구하기: ', sum(tp) / len(tp))"
      ],
      "metadata": {
        "colab": {
          "base_uri": "https://localhost:8080/"
        },
        "id": "MuB3xvNAAZ56",
        "outputId": "f292c86f-0dd7-4940-b3aa-a5b50085c405"
      },
      "execution_count": null,
      "outputs": [
        {
          "output_type": "stream",
          "name": "stdout",
          "text": [
            "---------- 통계값 구하기 ----------\n",
            "    [1, 2, 3, 4, 5, 3, 4, 5]\n",
            "길이:  8\n",
            "합:  27\n",
            "최소값:  1\n",
            "최대값:  5\n",
            "원소(3) 수 세기:  2\n",
            "평균 구하기:  3.375\n"
          ]
        }
      ]
    },
    {
      "cell_type": "code",
      "source": [
        "# 결과값 출력시 내부적으로 튜플형으로 출력!\n",
        "len(tp), sum(tp)"
      ],
      "metadata": {
        "colab": {
          "base_uri": "https://localhost:8080/"
        },
        "id": "3J6svKo1Bnjm",
        "outputId": "5d1d2e17-8781-4f1d-9c94-36f31847dbfb"
      },
      "execution_count": null,
      "outputs": [
        {
          "output_type": "execute_result",
          "data": {
            "text/plain": [
              "(8, 27)"
            ]
          },
          "metadata": {},
          "execution_count": 34
        }
      ]
    },
    {
      "cell_type": "markdown",
      "source": [
        "# 💕 set ( 집합 ) 💕\n",
        "* 중복 비허용\n",
        "* 순서 없음 ( 인덱스 X )\n",
        "* 다양한 자료형태 들어갈 수 있음\n",
        "  - 다만 내용이 변경이 가능한 리스트, 딕셔너리, 셋 자료형은 들어갈 수 없음.\n",
        "  - 필요시 frozenset([ ])으로 강제로 삽입 가능\n",
        "* set -> list/tuple의 강제 형변환 가능(다만 원소의 순서는 랜덤 ? )\n",
        "\n",
        "* 연산\n",
        "  - 교집합 : & , s1.intersecton(s2)\n",
        "  - 합집합 : | , s1.union(s2)\n",
        "  - 차집합: - , s.difference(s2)\n",
        "\n",
        "* 원소 추가 / 제거\n",
        "  - 추가 : add('추가할값 1개만!!'), update('원소1', '원소2' ...)\n",
        "  - 제거 : remove(원소, 없으면 오류발생), discard( 없어도 오류 X )\n"
      ],
      "metadata": {
        "id": "vq9_jBsU_5l9"
      }
    },
    {
      "cell_type": "code",
      "source": [
        "s1 = set([1,2,3])\n",
        "s1"
      ],
      "metadata": {
        "colab": {
          "base_uri": "https://localhost:8080/"
        },
        "id": "ZYwCWhLf9M-J",
        "outputId": "9c48bfba-2648-4bfe-a9a3-69616a152a61"
      },
      "execution_count": null,
      "outputs": [
        {
          "output_type": "execute_result",
          "data": {
            "text/plain": [
              "{1, 2, 3}"
            ]
          },
          "metadata": {},
          "execution_count": 42
        }
      ]
    },
    {
      "cell_type": "code",
      "source": [
        "# 에러\n",
        "# s1[0]"
      ],
      "metadata": {
        "colab": {
          "base_uri": "https://localhost:8080/",
          "height": 170
        },
        "id": "GtY3Xq2FDJVr",
        "outputId": "ff1d2943-b6a9-4c95-a270-a68c1808e8c2"
      },
      "execution_count": null,
      "outputs": [
        {
          "output_type": "error",
          "ename": "TypeError",
          "evalue": "ignored",
          "traceback": [
            "\u001b[0;31m---------------------------------------------------------------------------\u001b[0m",
            "\u001b[0;31mTypeError\u001b[0m                                 Traceback (most recent call last)",
            "\u001b[0;32m<ipython-input-43-bfed54b371ac>\u001b[0m in \u001b[0;36m<module>\u001b[0;34m\u001b[0m\n\u001b[0;32m----> 1\u001b[0;31m \u001b[0ms1\u001b[0m\u001b[0;34m[\u001b[0m\u001b[0;36m0\u001b[0m\u001b[0;34m]\u001b[0m\u001b[0;34m\u001b[0m\u001b[0;34m\u001b[0m\u001b[0m\n\u001b[0m",
            "\u001b[0;31mTypeError\u001b[0m: 'set' object is not subscriptable"
          ]
        }
      ]
    },
    {
      "cell_type": "code",
      "source": [
        "# 자체적으로 중복 제거!\n",
        "s2 = set('hello')\n",
        "s2"
      ],
      "metadata": {
        "colab": {
          "base_uri": "https://localhost:8080/"
        },
        "id": "etgGZr8HE2IV",
        "outputId": "ed864640-0f37-4a93-d282-c788607419b2"
      },
      "execution_count": null,
      "outputs": [
        {
          "output_type": "execute_result",
          "data": {
            "text/plain": [
              "{'e', 'h', 'l', 'o'}"
            ]
          },
          "metadata": {},
          "execution_count": 44
        }
      ]
    },
    {
      "cell_type": "code",
      "source": [
        "s1 = set([1,2,3,4,5,6])\n",
        "s2 = set([4,5,6,7,8,9])\n",
        "\n",
        "# 교집합\n",
        "print('\\n----------교집합----------\\n')\n",
        "print(s1 & s2)\n",
        "print(s2.intersection(s2))\n",
        "\n",
        "# 합집합\n",
        "print('\\n----------합집합----------\\n')\n",
        "print(s1 | s2)\n",
        "print(s1.union(s2))\n",
        "\n",
        "# 차집합\n",
        "print('\\n----------차집합----------\\n')\n",
        "print('[ s1 기준 ]')\n",
        "print(s1 - s2)\n",
        "print(s1.difference(s2))\n",
        "print('[ s2 기준 ]')\n",
        "print(s2 - s1)\n",
        "print(s2.difference(s1))\n",
        "\n",
        "# 원소 추가\n",
        "print('\\n----------원소 추가----------\\n')\n",
        "print('[ add(4) ]')\n",
        "s3 = set([1,2,3])\n",
        "s3.add(4)\n",
        "print(s3)\n",
        "print('[ update([4,5,6]) ')\n",
        "s3.update([4,5,6])\n",
        "print(s3)\n",
        "\n",
        "# 원소 제거\n",
        "print('\\n----------원소 제거----------\\n')\n",
        "print('[ remove(2) ]')\n",
        "s3.remove(2)\n",
        "print(s3)\n",
        "# s3.remove(10) - 에러발생(KeyError)\n",
        "print('[ discard(2) ]')\n",
        "s3.discard(2) # 정상작동\n",
        "print(s3)"
      ],
      "metadata": {
        "colab": {
          "base_uri": "https://localhost:8080/"
        },
        "id": "00pZqUvCE99G",
        "outputId": "3b057e4b-adc4-40b7-a277-b0f8330499e8"
      },
      "execution_count": null,
      "outputs": [
        {
          "output_type": "stream",
          "name": "stdout",
          "text": [
            "\n",
            "----------교집합----------\n",
            "\n",
            "{4, 5, 6}\n",
            "{4, 5, 6, 7, 8, 9}\n",
            "\n",
            "----------합집합----------\n",
            "\n",
            "{1, 2, 3, 4, 5, 6, 7, 8, 9}\n",
            "{1, 2, 3, 4, 5, 6, 7, 8, 9}\n",
            "\n",
            "----------차집합----------\n",
            "\n",
            "[ s1 기준 ]\n",
            "{1, 2, 3}\n",
            "{1, 2, 3}\n",
            "[ s2 기준 ]\n",
            "{8, 9, 7}\n",
            "{8, 9, 7}\n",
            "\n",
            "----------원소 추가----------\n",
            "\n",
            "[ add(4) ]\n",
            "{1, 2, 3, 4}\n",
            "[ update([4,5,6]) \n",
            "{1, 2, 3, 4, 5, 6}\n",
            "\n",
            "----------원소 제거----------\n",
            "\n",
            "[ remove(2) ]\n",
            "{1, 3, 4, 5, 6}\n",
            "[ discard(2) ]\n",
            "{1, 3, 4, 5, 6}\n"
          ]
        }
      ]
    },
    {
      "cell_type": "code",
      "source": [
        "# 튜플 리스트의 차이점: mutable(변화)\n",
        "# s5 = {'1',3,5,[1,3]} \n",
        "\n",
        "# frozenset()\n",
        "s5 = {'1',3,5,frozenset([1,3])}\n",
        "print(s5)"
      ],
      "metadata": {
        "colab": {
          "base_uri": "https://localhost:8080/"
        },
        "id": "RDdOw9B3FPnl",
        "outputId": "5b8df3aa-be4d-473d-a115-227e34fe620b"
      },
      "execution_count": null,
      "outputs": [
        {
          "output_type": "stream",
          "name": "stdout",
          "text": [
            "{frozenset({1, 3}), 3, 5, '1'}\n"
          ]
        }
      ]
    },
    {
      "cell_type": "markdown",
      "source": [
        "# 💕 dictionary ( 딕셔너리 ) 💕\n",
        "* 연관배열 ( Associative array ) / 해시 ( Hash )\n",
        "* JSON 객체와 동일한 구조 ( Key - value 패턴 )\n",
        "* 데이터 삭제는 Key를 기준으로 : del 딕셔너리[ Key ]\n",
        "* 다양한 형태의 자료형을 가질 수 있음\n",
        "* 키와 값 확인방법\n",
        "  - 키 : 딕셔너리.keys()\n",
        "  - 값 : 딕셔너리.values()\n",
        "  - ⭐️ 키, 값 튜플형태의 쌍으로 : 딕셔너리.items() - for문과 자주 쓰임\n",
        "  - 특정 키가 딕셔너리 안에 있는지 확인: 키 in 딕셔너리 - True | False\n",
        "  - 키 값 변경 원리\n",
        "    1. 새로운 키를 만들자! - 값은 기존의 키가 가진 값과 동일하게 선언\n",
        "    2. 기존의 키는 지워주자!\n",
        "    3. 제일 간편한 방법 : pop() 이용!"
      ],
      "metadata": {
        "id": "f89t4fWTQcVB"
      }
    },
    {
      "cell_type": "markdown",
      "source": [
        "### 1️⃣ 생성"
      ],
      "metadata": {
        "id": "BU0GFPNiazY_"
      }
    },
    {
      "cell_type": "code",
      "source": [
        "# 단순 생성\n",
        "smalldic = {'dictionary' : 'reference', 'python' : 'snake'}\n",
        "smalldic['python']"
      ],
      "metadata": {
        "colab": {
          "base_uri": "https://localhost:8080/",
          "height": 36
        },
        "id": "V-il8tOSH8is",
        "outputId": "d1890c05-08d0-47c7-a247-5e90c3b5a2bd"
      },
      "execution_count": null,
      "outputs": [
        {
          "output_type": "execute_result",
          "data": {
            "text/plain": [
              "'snake'"
            ],
            "application/vnd.google.colaboratory.intrinsic+json": {
              "type": "string"
            }
          },
          "metadata": {},
          "execution_count": 65
        }
      ]
    },
    {
      "cell_type": "markdown",
      "source": [
        "#### 💡 dict () 를 이용한 생성방법⭐️\n",
        "1. 딕셔너리명 = dict ( 키1 = 값1, 키2 = 값2, 키3 = 값3 ... )\n",
        "  * 주의 ) 키 이름에 '' 를 쓰지 않음!\n",
        "2. 딕셔너리명 = dict ( zip ( Key리스트, Value리스트 ) )\n",
        "  * 보통 많이 사용됨\n",
        "3. 딕셔너리명 = dict ( [ ( 키2, 값2 ), ( 키2, 값2 ) ... ] )"
      ],
      "metadata": {
        "id": "AWARRZ9tcsY-"
      }
    },
    {
      "cell_type": "code",
      "source": [
        "# 딕셔너리 생성\n",
        "print('\\n---------- 딕셔너리 생성방법 ----------\\n')\n",
        "\n",
        "# 방법1\n",
        "print('[ 방법 1 ] dict()\\n')\n",
        "menu1 = dict(김밥=3000, 떡볶이=2000, 어묵=3500, 튀김=2800)\n",
        "print(menu1, '\\n\\n')\n",
        "\n",
        "# 방법2\n",
        "print('[ 방법 2 ] dict(zip(key리스트, value리스트))\\n')\n",
        "key_list = ['김밥', '떡볶이', '어묵', '튀김']\n",
        "value_list = [3000, 2000, 3500, 2800]\n",
        "menu2 = dict(zip(key_list, value_list))\n",
        "print(menu2, '\\n\\n')\n",
        "\n",
        "# 방법3\n",
        "print('[ 방법 3 ] dict( [ (키2,값2), (키2,값2) ... ] )\\n')\n",
        "menu3 = dict([('김밥', 3000), ('떡볶이', 2000), ('어묵', 3500), ('튀김', 2800)])\n",
        "print(menu3, '\\n\\n')"
      ],
      "metadata": {
        "colab": {
          "base_uri": "https://localhost:8080/"
        },
        "id": "qBOXXSQyb4T0",
        "outputId": "de3e9e2a-4e52-4804-a023-545f92c055d5"
      },
      "execution_count": null,
      "outputs": [
        {
          "output_type": "stream",
          "name": "stdout",
          "text": [
            "\n",
            "---------- 딕셔너리 생성방법 ----------\n",
            "\n",
            "[ 방법 1 ] dict()\n",
            "\n",
            "{'김밥': 3000, '떡볶이': 2000, '어묵': 3500, '튀김': 2800} \n",
            "\n",
            "\n",
            "[ 방법 2 ] dict(zip(key리스트, value리스트))\n",
            "\n",
            "{'김밥': 3000, '떡볶이': 2000, '어묵': 3500, '튀김': 2800} \n",
            "\n",
            "\n",
            "[ 방법 3 ] dict( [ (키2,값2), (키2,값2) ... ] )\n",
            "\n",
            "{'김밥': 3000, '떡볶이': 2000, '어묵': 3500, '튀김': 2800} \n",
            "\n",
            "\n"
          ]
        }
      ]
    },
    {
      "cell_type": "markdown",
      "source": [
        "### 2️⃣ 추가 / 삭제"
      ],
      "metadata": {
        "id": "aFV5Ld8wa6Ue"
      }
    },
    {
      "cell_type": "code",
      "source": [
        "a = {1:'b'}\n",
        "# 추가\n",
        "a[2] = 'b'\n",
        "print(a)\n",
        "\n",
        "# 삭제 - 키를 기준으로!\n",
        "del a[1]\n",
        "print(a)"
      ],
      "metadata": {
        "colab": {
          "base_uri": "https://localhost:8080/"
        },
        "id": "VavG35xcXCRt",
        "outputId": "5dbac63a-a7a3-4bbb-bbd3-c404cd18aadb"
      },
      "execution_count": null,
      "outputs": [
        {
          "output_type": "stream",
          "name": "stdout",
          "text": [
            "{1: 'b', 2: 'b'}\n",
            "{2: 'b'}\n"
          ]
        }
      ]
    },
    {
      "cell_type": "markdown",
      "source": [
        "### 3️⃣ 수정"
      ],
      "metadata": {
        "id": "hK9dFJNJbBpO"
      }
    },
    {
      "cell_type": "code",
      "source": [
        "# 값 수정\n",
        "a = {1:'a', 2:'b'}\n",
        "a[1] = 'c'\n",
        "print(a)"
      ],
      "metadata": {
        "colab": {
          "base_uri": "https://localhost:8080/"
        },
        "id": "fpB1sPaxXxF6",
        "outputId": "76f8124d-b623-4c9d-ad9f-f1437909e6bf"
      },
      "execution_count": null,
      "outputs": [
        {
          "output_type": "stream",
          "name": "stdout",
          "text": [
            "{1: 'c', 2: 'b'}\n"
          ]
        }
      ]
    },
    {
      "cell_type": "code",
      "source": [
        "# 딕셔너리에 사용할 수 있는 자료형\n",
        "person = {'name':'James', '나이':25, '키':170.5,\n",
        "          '시력':(1.0,1.2), '취미':['운동','독서']\n",
        "          }\n",
        "\n",
        "person"
      ],
      "metadata": {
        "colab": {
          "base_uri": "https://localhost:8080/"
        },
        "id": "Ab1kXKJ9X4Cm",
        "outputId": "bce9f4ff-9c8a-46f1-9ca8-b3c93a1bc4d0"
      },
      "execution_count": null,
      "outputs": [
        {
          "output_type": "execute_result",
          "data": {
            "text/plain": [
              "{'name': 'James', '나이': 25, '키': 170.5, '시력': (1.0, 1.2), '취미': ['운동', '독서']}"
            ]
          },
          "metadata": {},
          "execution_count": 73
        }
      ]
    },
    {
      "cell_type": "markdown",
      "source": [
        "#### 💡 get(key, default=None)"
      ],
      "metadata": {
        "id": "VrZVCNtcbJsG"
      }
    },
    {
      "cell_type": "code",
      "source": [
        "# get() - 키값 유무확인 - 주로 사용하지는 않음. keys(), values() 주로사용\n",
        "if '몸무게' in person:\n",
        "  print(person['몸무게'])\n",
        "else:\n",
        "  print('없음')\n",
        "\n",
        "person.get('나이')\n",
        "person.get('몸무게', '없음')"
      ],
      "metadata": {
        "id": "7YB6v0nwfsHr"
      },
      "execution_count": null,
      "outputs": []
    },
    {
      "cell_type": "markdown",
      "source": [
        "#### 💡 setdefault ( key, [default] )\n",
        "- 기존에 해당 키가 있으면 그 값을 반환하고, 키가 없으면 default를 값으로 가진 키와 값의 쌍을 생성\n",
        "-setdefault() 와 get()의 차이점 : 없는 값의 경우 !\n",
        "  - get() : 변경점 없음, 다만 default값을 넣어주면 해당 값을 가져옴.\n",
        "  - setdefault() : 값을 생성해줌"
      ],
      "metadata": {
        "id": "gOWJFeFxgPnS"
      }
    },
    {
      "cell_type": "code",
      "source": [
        "# 딕셔너리 키가 존재하지 않으면 추가, 존재하면 수정\n",
        "score = {'kor':100, 'eng':90, 'math':80}\n",
        "score['math'] = 85\n",
        "print(score)\n",
        "\n",
        "print('\\n\"music\"추가')\n",
        "score['music'] = 90\n",
        "print(score)\n",
        "\n",
        "# setdefault() 활용\n",
        "print('\\n---------- setdefault() ----------\\n')\n",
        "k = score.setdefault('kor', 44)\n",
        "print(k)\n",
        "# 이렇게 한번이라도 코드를 선행하면 안되는듯? - None출력됨\n",
        "# s = score.setdefault('science')\n",
        "# print(s)\n",
        "s = score.setdefault('science', 50)\n",
        "print(s)"
      ],
      "metadata": {
        "colab": {
          "base_uri": "https://localhost:8080/"
        },
        "id": "CNeXs0sWfuUj",
        "outputId": "3de356ff-1491-4996-f39d-82325aca9ca1"
      },
      "execution_count": null,
      "outputs": [
        {
          "output_type": "stream",
          "name": "stdout",
          "text": [
            "{'kor': 100, 'eng': 90, 'math': 85}\n",
            "\n",
            "\"music\"추가\n",
            "{'kor': 100, 'eng': 90, 'math': 85, 'music': 90}\n",
            "\n",
            "---------- setdefault() ----------\n",
            "\n",
            "100\n",
            "50\n"
          ]
        }
      ]
    },
    {
      "cell_type": "markdown",
      "source": [
        "## 4️⃣ 키 변경"
      ],
      "metadata": {
        "id": "sN-Dkk4AcDyT"
      }
    },
    {
      "cell_type": "code",
      "source": [
        "# 키 변경\n",
        "d = {'dog':'lovely', 'cat':'cute'}\n",
        "d['rat'] = d.pop('dog')\n",
        "d"
      ],
      "metadata": {
        "colab": {
          "base_uri": "https://localhost:8080/"
        },
        "id": "hwQulqGFYDG7",
        "outputId": "64c75f99-adf0-4a18-cf0e-f6768a6f82a6"
      },
      "execution_count": null,
      "outputs": [
        {
          "output_type": "execute_result",
          "data": {
            "text/plain": [
              "{'cat': 'cute', 'rat': 'lovely'}"
            ]
          },
          "metadata": {},
          "execution_count": 75
        }
      ]
    },
    {
      "cell_type": "code",
      "source": [
        "# 다양한 자료형\n",
        "number = 7\n",
        "dic = {100: 'hundred', True:'참', False:'거짓',\n",
        "       (1,2):'1학년2반', number:'번호'\n",
        "       }"
      ],
      "metadata": {
        "id": "Wz7t47nIZfFL"
      },
      "execution_count": null,
      "outputs": []
    },
    {
      "cell_type": "code",
      "source": [
        "# 로또 번호 생성 프로그램\n",
        "import random\n",
        "num = int(input('lotto 게임수를 입력하세요.'))\n",
        "print('Lotto 자동번호입니다.')\n",
        "print('-'*20)\n",
        "for x in range(1, num+1):\n",
        "  lotto = [0,0,0,0,0,0]\n",
        "  # 숫자 넣는 조건문\n",
        "  lotto[0] = random.randrange(1, 46, 1)\n",
        "\n",
        "  lotto[1] = lotto[0]\n",
        "  lotto[2] = lotto[0]\n",
        "  lotto[3] = lotto[0]\n",
        "  lotto[4] = lotto[0]\n",
        "  lotto[5] = lotto[0]\n",
        "\n",
        "  while (lotto[0] == lotto[1]):\n",
        "    lotto[1] = random.randrange(1, 46, 1)\n",
        "  while (lotto[0] == lotto[2] or lotto[1] == lotto[2]):\n",
        "    lotto[2] = random.randrange(1, 46, 1)\n",
        "  while (lotto[0] == lotto[3] or lotto[1] == lotto[3] or lotto[2] == lotto[3]):\n",
        "    lotto[3] = random.randrange(1, 46, 1)\n",
        "  while (lotto[0] == lotto[4] or lotto[1] == lotto[4] or lotto[2] == lotto[4] or lotto[3] == lotto[4]):\n",
        "    lotto[4] = random.randrange(1, 46, 1)\n",
        "  while (lotto[0] == lotto[5] or lotto[1] == lotto[5] or lotto[2] == lotto[5] or lotto[3] == lotto[5]  or lotto[4] == lotto[5]):\n",
        "    lotto[5] = random.randrange(1, 46, 1)\n",
        "  \n",
        "  print(lotto)"
      ],
      "metadata": {
        "colab": {
          "base_uri": "https://localhost:8080/"
        },
        "id": "9WHL856ZfN7z",
        "outputId": "859153ee-7917-4088-ae42-fd47dcdb7b73"
      },
      "execution_count": null,
      "outputs": [
        {
          "output_type": "stream",
          "name": "stdout",
          "text": [
            "lotto 게임수를 입력하세요.2\n",
            "Lotto 자동번호입니다.\n",
            "--------------------\n",
            "[6, 40, 43, 36, 42, 33]\n",
            "[8, 22, 40, 35, 18, 11]\n"
          ]
        }
      ]
    },
    {
      "cell_type": "code",
      "source": [
        "a = {'name':'pey', 'phone':'01199992222', 'birth':'1118'}\n",
        "print(a.keys())\n",
        "print(a.values())\n",
        "print(a.items())\n",
        "print(a.clear())"
      ],
      "metadata": {
        "colab": {
          "base_uri": "https://localhost:8080/"
        },
        "id": "23SDPzPqlT1D",
        "outputId": "d458ac80-beb5-409c-8942-bcde1243a4db"
      },
      "execution_count": null,
      "outputs": [
        {
          "output_type": "stream",
          "name": "stdout",
          "text": [
            "dict_keys(['name', 'phone', 'birth'])\n",
            "dict_values(['pey', '01199992222', '1118'])\n",
            "dict_items([('name', 'pey'), ('phone', '01199992222'), ('birth', '1118')])\n",
            "None\n"
          ]
        }
      ]
    },
    {
      "cell_type": "code",
      "source": [
        "score = {'kor':100, 'eng':100, 'math':80}\n",
        "for i in score.keys():\n",
        "  print(i)\n",
        "for i in score.values():\n",
        "  print(i)\n",
        "for i in score.items(): # [(a,b), (c,d)]\n",
        "  print(i)\n",
        "for k,v in score.items():\n",
        "  print(f'key는 {k}, value는 {v}')"
      ],
      "metadata": {
        "colab": {
          "base_uri": "https://localhost:8080/"
        },
        "id": "qTSSkcFamh8K",
        "outputId": "47c39324-835b-4b21-8ff5-72fde74e5c97"
      },
      "execution_count": null,
      "outputs": [
        {
          "output_type": "stream",
          "name": "stdout",
          "text": [
            "kor\n",
            "eng\n",
            "math\n",
            "100\n",
            "100\n",
            "80\n",
            "('kor', 100)\n",
            "('eng', 100)\n",
            "('math', 80)\n",
            "key는 kor, value는 100\n",
            "key는 eng, value는 100\n",
            "key는 math, value는 80\n"
          ]
        }
      ]
    },
    {
      "cell_type": "code",
      "source": [
        "이름 = input('이름: ')\n",
        "나이 = input('나이: ')\n",
        "개인정보 = {'이름':이름, '나이':나이}\n",
        "for k,v in 개인정보.items():\n",
        "  print('키는 ', k)\n",
        "  print('값은 ', v)"
      ],
      "metadata": {
        "colab": {
          "base_uri": "https://localhost:8080/"
        },
        "id": "lHtAGRBT4KVt",
        "outputId": "cf06da4b-2fd3-4d87-e1cc-a56ce8a30840"
      },
      "execution_count": null,
      "outputs": [
        {
          "output_type": "stream",
          "name": "stdout",
          "text": [
            "이름: 이가연\n",
            "나이: 비밀\n",
            "키는  이름\n",
            "값은  이가연\n",
            "키는  나이\n",
            "값은  비밀\n"
          ]
        }
      ]
    },
    {
      "cell_type": "markdown",
      "source": [
        "## ⭐️ 💡 enumerate()\n",
        "√ 반복이 가능한 대상에 인덱스를 부여해 enumerate 객체를 반환.\n",
        "  - 육안으로 확인하고자 하면 리스트나 튜플로 형변환 해주기\n",
        "\n",
        "√ 사용예시 : 반복가능한 자료형(리스트, 딕셔너리 등) + for문\n",
        "  - for문에는 변수를 2개밖에 못넣어줌 -> 마지막 변수를 튜플형으로 넣어주면 됨."
      ],
      "metadata": {
        "id": "UttqKJbJ5dDL"
      }
    },
    {
      "cell_type": "code",
      "source": [
        "for i, (k,v) in enumerate(score.items()):\n",
        "  print(i,k,v)"
      ],
      "metadata": {
        "colab": {
          "base_uri": "https://localhost:8080/"
        },
        "id": "SiDKDiM_5IjH",
        "outputId": "c068471a-2ca1-4fcd-a53b-b44daaac472f"
      },
      "execution_count": null,
      "outputs": [
        {
          "output_type": "stream",
          "name": "stdout",
          "text": [
            "0 kor 100\n",
            "1 eng 100\n",
            "2 math 80\n"
          ]
        }
      ]
    },
    {
      "cell_type": "code",
      "source": [
        "# 떡락코인\n",
        "# 변동폭 = 최고가 - 최저가\n",
        "# 상승장 = 시가 + 변동폭 > 최고가\n",
        "# 하락장 = 시가+ 변동폭 ≤ 최고가\n",
        "\n",
        "import requests\n",
        "\n",
        "btc = requests.get('https://api.bithumb.com/public/ticker/').json()['data']\n",
        "print(btc, '\\n')\n",
        "\n",
        "open = float(btc['opening_price'])\n",
        "max_price = float(btc['max_price'])\n",
        "min_price = float(btc['min_price'])\n",
        "\n",
        "gap = max_price - min_price\n",
        "result = open + gap\n",
        "\n",
        "if result > max_price:\n",
        "  print('상승장')\n",
        "else:\n",
        "  print('하락장')"
      ],
      "metadata": {
        "colab": {
          "base_uri": "https://localhost:8080/"
        },
        "id": "c6PfrCsu6IzQ",
        "outputId": "ff299564-da0b-4468-83d0-0a786c73a2c0"
      },
      "execution_count": null,
      "outputs": [
        {
          "output_type": "stream",
          "name": "stdout",
          "text": [
            "{'opening_price': '29263000', 'closing_price': '29049000', 'min_price': '28920000', 'max_price': '29550000', 'units_traded': '1116.54183028', 'acc_trade_value': '32580777306.5295', 'prev_closing_price': '29260000', 'units_traded_24H': '1710.16449491', 'acc_trade_value_24H': '49969972067.5679', 'fluctate_24H': '-171000', 'fluctate_rate_24H': '-0.59', 'date': '1678341499885'} \n",
            "\n",
            "상승장\n"
          ]
        }
      ]
    },
    {
      "cell_type": "code",
      "source": [
        "# wc = { 'abc':2, 'band':2, 'code':1 }\n",
        "charset = ['abc', 'code', 'band', 'band', 'abc']\n",
        "wc = {}\n",
        "for key in charset:\n",
        "  wc[key] = wc.get(key, 0) + 1\n",
        "print(wc)"
      ],
      "metadata": {
        "colab": {
          "base_uri": "https://localhost:8080/"
        },
        "id": "S82YEhl_JU2u",
        "outputId": "893f09e2-2ce5-4945-af4c-388e328946e4"
      },
      "execution_count": null,
      "outputs": [
        {
          "output_type": "stream",
          "name": "stdout",
          "text": [
            "{'abc': 2, 'code': 1, 'band': 2}\n"
          ]
        }
      ]
    },
    {
      "cell_type": "code",
      "source": [
        "c = '''나는 홍길동 입니다.\n",
        "나이는 33살 입니다.\n",
        "'''\n",
        "c_list = c.split()\n",
        "print(c_list)"
      ],
      "metadata": {
        "colab": {
          "base_uri": "https://localhost:8080/"
        },
        "id": "9RfIm43vLMPq",
        "outputId": "7422410d-bf08-4aed-a947-2d1ccb114a2f"
      },
      "execution_count": null,
      "outputs": [
        {
          "output_type": "stream",
          "name": "stdout",
          "text": [
            "['나는', '홍길동', '입니다.', '나이는', '33살', '입니다.']\n"
          ]
        }
      ]
    },
    {
      "cell_type": "code",
      "source": [
        "# 윤석열 대통령 취임사\n",
        "text = '''존경하고 사랑하는 국민 여러분,\n",
        "750만 재외동포 여러분,\n",
        "그리고 자유를 사랑하는 세계 시민 여러분,\n",
        "\n",
        "저는 이 나라를 자유민주주의와 시장경제 체제를 기반으로 국민이 진정한 주인인 나라로 재건하고, 국제사회에서 책임과 역할을 다하는 나라로 만들어야 하는 시대적 소명을 갖고 오늘 이 자리에 섰습니다.\n",
        "\n",
        "역사적인 자리에 함께해 주신 국민 여러분께 감사드립니다.\n",
        "\n",
        "문재인, 박근혜 전 대통령, 그리고 할리마 야콥 싱가포르 대통령, 포스탱 아르샹쥬 투아데라 중앙아프리카공화국 대통령, 왕치산 중국 국가부주석, 메가와티 수카르노푸트리 인도네시아 전 대통령, 더글러스 엠호프 해리스 미국 부통령 부군, 조지 퓨리 캐나다 상원의장, 하야시 요시마사 일본 외무상을 비롯한 세계 각국의 경축 사절과 내외 귀빈 여러분께도 깊이 감사드립니다.\n",
        "\n",
        "이 자리를 빌려 지난 2년간 코로나 팬데믹을 극복하는 과정에서 큰 고통을 감내해주신 국민 여러분께 경의를 표합니다.\n",
        "그리고 헌신해주신 의료진 여러분께도 감사드립니다.\n",
        "\n",
        "존경하는 국민 여러분,\n",
        "세계 시민 여러분,\n",
        "\n",
        "지금 전 세계는 팬데믹 위기, 교역 질서의 변화와 공급망의 재편, 기후 변화, 식량과 에너지 위기, 분쟁의 평화적 해결의 후퇴 등 어느 한 나라가 독자적으로,  또는 몇몇 나라만 참여해서 해결하기 어려운 난제들에 직면해 있습니다.\n",
        "\n",
        "다양한 위기가 복합적으로 인류 사회에 어두운 그림자를 드리우고 있는 것입니다.\n",
        "\n",
        "또한 우리나라를 비롯한 많은 나라들이 국내적으로 초저성장과 대규모 실업, 양극화의 심화와 다양한 사회적 갈등으로 인해 공동체의 결속력이 흔들리고 와해되고 있습니다.\n",
        "\n",
        "한편, 이러한 문제들을 해결해야 하는 정치는 이른바 민주주의의 위기로 인해 제 기능을 하지 못하고 있습니다.\n",
        "\n",
        "가장 큰 원인으로 지목되는 것이 바로 반지성주의입니다.\n",
        "\n",
        "견해가 다른 사람들이 서로의 입장을 조정하고 타협하기 위해서는 과학과 진실이 전제되어야 합니다.\n",
        "그것이 민주주의를 지탱하는 합리주의와 지성주의입니다.\n",
        "\n",
        "국가 간, 국가 내부의 지나친 집단적 갈등에 의해 진실이 왜곡되고, 각자가 보고 듣고 싶은 사실만을 선택하거나 다수의 힘으로 상대의 의견을 억압하는 반지성주의가 민주주의를 위기에 빠뜨리고 민주주의에 대한 믿음을 해치고 있습니다.\n",
        "이러한 상황이 우리가 처해있는 문제의 해결을 더 어렵게 만들고 있습니다.\n",
        "\n",
        "그러나 우리는 할 수 있습니다.\n",
        "역사를 돌이켜 보면 우리 국민은 많은 위기에 처했지만 그럴 때마다 국민 모두 힘을 합쳐 지혜롭게, 또 용기있게 극복해 왔습니다.\n",
        "\n",
        "저는 이 순간 이러한 위기를 극복하는 책임을 부여받게 된 것을 감사한 마음으로 받아들이고, 우리 위대한 국민과 함께 당당하게 헤쳐 나갈 수 있다고 확신합니다.\n",
        "\n",
        "또 세계 시민과 힘을 합쳐 국내외적인 위기와 난제들을 해결해 나갈 수 있다고 믿습니다.\n",
        "\n",
        "존경하는 국민 여러분,\n",
        "세계 시민 여러분,\n",
        "\n",
        "저는 이 어려움을 해결해 나가기 위해서 우리가 보편적 가치를 공유하는 것이 매우 중요하다고 생각합니다.\n",
        "\n",
        "그것은 바로 ‘자유’입니다.\n",
        "우리는 자유의 가치를 제대로, 그리고 정확하게 인식해야 합니다.\n",
        "자유의 가치를 재발견해야 합니다.\n",
        "\n",
        "인류 역사를 돌이켜보면 자유로운 정치적 권리, 자유로운 시장이 숨 쉬고 있던 곳은 언제나 번영과 풍요가 꽃 피었습니다.\n",
        "\n",
        "번영과 풍요, 경제적 성장은 바로 자유의 확대입니다.\n",
        "\n",
        "자유는 보편적 가치입니다.\n",
        "우리 사회 모든 구성원이 자유 시민이 되어야 하는 것입니다.\n",
        "어떤 개인의 자유가 침해되는 것이 방치된다면 우리 공동체 구성원 모두의 자유마저 위협받게 됩니다.\n",
        "\n",
        "자유는 결코 승자독식이 아닙니다.\n",
        "자유 시민이 되기 위해서는 일정한 수준의 경제적 기초, 그리고 공정한 교육과 문화의 접근 기회가 보장되어야 합니다.\n",
        "이런 것 없이 자유 시민이라고 할 수 없습니다.\n",
        "\n",
        "어떤 사람의 자유가 유린되거나 자유 시민이 되는데 필요한 조건을 충족하지 못한다면 모든 자유 시민은 연대해서 도와야 합니다.\n",
        "\n",
        "그리고 개별 국가뿐 아니라 국제적으로도 기아와 빈곤, 공권력과 군사력에 의한 불법 행위로 개인의 자유가 침해되고 자유 시민으로서의 존엄한 삶이 유지되지 않는다면 모든 세계 시민이 자유 시민으로서 연대하여 도와야 하는 것입니다.\n",
        "\n",
        "모두가 자유 시민이 되기 위해서는 공정한 규칙을 지켜야 하고, 연대와 박애의 정신을 가져야 합니다.\n",
        "\n",
        "존경하는 국민 여러분,\n",
        "\n",
        "국내 문제로 눈을 돌려 제가 중요하게 생각하는 방향에 대해 말씀드리겠습니다.\n",
        "\n",
        "우리나라는 지나친 양극화와 사회 갈등이 자유와 민주주의를 위협할 뿐 아니라 사회 발전의 발목을 잡고 있습니다.\n",
        "\n",
        "저는 이 문제를 도약과 빠른 성장을 이룩하지 않고는 해결하기 어렵다고 생각합니다.\n",
        "\n",
        "빠른 성장 과정에서 많은 국민이 새로운 기회를 찾을 수 있고, 사회 이동성을 제고함으로써 양극화와 갈등의 근원을 제거할 수 있습니다.\n",
        "\n",
        "도약과 빠른 성장은 오로지 과학과 기술, 그리고 혁신에 의해서만 이뤄낼 수 있는 것입니다.\n",
        "\n",
        "과학과 기술, 그리고 혁신은 우리의 자유민주주의를 지키고 우리의 자유를 확대하며 우리의 존엄한 삶을 지속 가능하게 할 것입니다.\n",
        "\n",
        "과학과 기술, 그리고 혁신은 우리나라 혼자만의 노력으로는 달성하기 어렵습니다.\n",
        "\n",
        "자유와 창의를 존중함으로써 과학 기술의 진보와 혁신을 이뤄낸 많은 나라들과 협력하고 연대해야만 합니다.\n",
        "\n",
        "존경하는 국민 여러분,\n",
        "세계 시민 여러분,\n",
        "\n",
        "자유민주주의는 평화를 만들어내고, 평화는 자유를 지켜줍니다.\n",
        "그리고 평화는 자유와 인권의 가치를 존중하는 국제사회와의 연대에 의해 보장이 됩니다.\n",
        "\n",
        "일시적으로 전쟁을 회피하는 취약한 평화가 아니라 자유와 번영을 꽃피우는 지속 가능한 평화를 추구해야 합니다.\n",
        "\n",
        "전 세계 어떤 곳도 자유와 평화에 대한 위협에서 자유롭지 못합니다.\n",
        "지금 한반도와 동북아의 평화도 마찬가지입니다.\n",
        "\n",
        "저는 한반도뿐 아니라 아시아와 세계의 평화를 위협하는 북한의 핵 개발에 대해서도 그 평화적 해결을 위해 대화의 문을 열어놓겠습니다.\n",
        "\n",
        "그리고 북한이 핵 개발을 중단하고 실질적인 비핵화로 전환한다면 국제사회와 협력하여 북한 경제와 북한 주민의 삶의 질을 획기적으로 개선할 수 있는 담대한 계획을 준비하겠습니다.\n",
        "\n",
        "북한의 비핵화는 한반도에 지속 가능한 평화를 가져올 뿐 아니라 아시아와 전 세계의 평화와 번영에도 크게 기여할 것입니다.\n",
        "\n",
        "사랑하고 존경하는 국민 여러분,\n",
        "\n",
        "지금 우리는 세계 10위권의 경제 대국 그룹에 들어가 있습니다.\n",
        "그러므로 우리는 자유와 인권의 가치에 기반한 보편적 국제 규범을 적극 지지하고 수호하는데 글로벌 리더 국가로서의 자세를 가져야 합니다.\n",
        "\n",
        "우리나라뿐 아니라 세계 시민 모두의 자유와 인권을 지키고 확대하는데 더욱 주도적인 역할을 해야 합니다.\n",
        "국제사회도 대한민국에 더욱 큰 역할을 기대하고 있음이 분명합니다.\n",
        "\n",
        "지금 우리나라는 국내 문제와 국제 문제를 분리할 수 없습니다.\n",
        "국제사회가 우리에게 기대하는 역할을 주도적으로 수행할 때 국내 문제도 올바른 해결 방향을\n",
        "찾을 수 있는 것입니다.\n",
        "\n",
        "저는 자유, 인권, 공정, 연대의 가치를 기반으로 국민이 진정한 주인인 나라, 국제사회에서 책임을 다하고 존경받는 나라를 위대한 국민 여러분과 함께 반드시 만들어 나가겠습니다.\n",
        "\n",
        "감사합니다.'''"
      ],
      "metadata": {
        "id": "ekAhkLqIJzHO"
      },
      "execution_count": null,
      "outputs": []
    },
    {
      "cell_type": "code",
      "source": [
        "charset = text.split()\n",
        "wc = {}\n",
        "for key in charset:\n",
        "  wc[key] = wc.get(key, 0) + 1\n",
        "print(wc)\n",
        "\n",
        "# 딕셔너리는 sort() 불가! - sorted()사용\n",
        "sorted(wc.items(), key=lambda x: x[1], reverse=True)"
      ],
      "metadata": {
        "colab": {
          "base_uri": "https://localhost:8080/"
        },
        "id": "RXg9eEEQLIRw",
        "outputId": "e6c745b5-fa0b-472c-ba8f-2b9ad3ad9ec9"
      },
      "execution_count": null,
      "outputs": [
        {
          "output_type": "stream",
          "name": "stdout",
          "text": [
            "{'존경하고': 1, '사랑하는': 2, '국민': 10, '여러분,': 11, '750만': 1, '재외동포': 1, '그리고': 11, '자유를': 3, '세계': 10, '시민': 5, '저는': 6, '이': 6, '나라를': 2, '자유민주주의와': 1, '시장경제': 1, '체제를': 1, '기반으로': 2, '국민이': 3, '진정한': 2, '주인인': 2, '나라로': 2, '재건하고,': 1, '국제사회에서': 2, '책임과': 1, '역할을': 4, '다하는': 1, '만들어야': 1, '하는': 4, '시대적': 1, '소명을': 1, '갖고': 1, '오늘': 1, '자리에': 2, '섰습니다.': 1, '역사적인': 1, '함께해': 1, '주신': 1, '여러분께': 2, '감사드립니다.': 3, '문재인,': 1, '박근혜': 1, '전': 5, '대통령,': 4, '할리마': 1, '야콥': 1, '싱가포르': 1, '포스탱': 1, '아르샹쥬': 1, '투아데라': 1, '중앙아프리카공화국': 1, '왕치산': 1, '중국': 1, '국가부주석,': 1, '메가와티': 1, '수카르노푸트리': 1, '인도네시아': 1, '더글러스': 1, '엠호프': 1, '해리스': 1, '미국': 1, '부통령': 1, '부군,': 1, '조지': 1, '퓨리': 1, '캐나다': 1, '상원의장,': 1, '하야시': 1, '요시마사': 1, '일본': 1, '외무상을': 1, '비롯한': 2, '각국의': 1, '경축': 1, '사절과': 1, '내외': 1, '귀빈': 1, '여러분께도': 2, '깊이': 1, '자리를': 1, '빌려': 1, '지난': 1, '2년간': 1, '코로나': 1, '팬데믹을': 1, '극복하는': 2, '과정에서': 2, '큰': 3, '고통을': 1, '감내해주신': 1, '경의를': 1, '표합니다.': 1, '헌신해주신': 1, '의료진': 1, '존경하는': 5, '지금': 4, '세계는': 1, '팬데믹': 1, '위기,': 2, '교역': 1, '질서의': 1, '변화와': 1, '공급망의': 1, '재편,': 1, '기후': 1, '변화,': 1, '식량과': 1, '에너지': 1, '분쟁의': 1, '평화적': 2, '해결의': 1, '후퇴': 1, '등': 1, '어느': 1, '한': 1, '나라가': 1, '독자적으로,': 1, '또는': 1, '몇몇': 1, '나라만': 1, '참여해서': 1, '해결하기': 2, '어려운': 1, '난제들에': 1, '직면해': 1, '있습니다.': 9, '다양한': 2, '위기가': 1, '복합적으로': 1, '인류': 2, '사회에': 1, '어두운': 1, '그림자를': 1, '드리우고': 1, '있는': 4, '것입니다.': 7, '또한': 1, '우리나라를': 1, '많은': 4, '나라들이': 1, '국내적으로': 1, '초저성장과': 1, '대규모': 1, '실업,': 1, '양극화의': 1, '심화와': 1, '사회적': 1, '갈등으로': 1, '인해': 2, '공동체의': 1, '결속력이': 1, '흔들리고': 1, '와해되고': 1, '한편,': 1, '이러한': 3, '문제들을': 1, '해결해야': 1, '정치는': 1, '이른바': 1, '민주주의의': 1, '위기로': 1, '제': 1, '기능을': 1, '하지': 1, '못하고': 1, '가장': 1, '원인으로': 1, '지목되는': 1, '것이': 3, '바로': 3, '반지성주의입니다.': 1, '견해가': 1, '다른': 1, '사람들이': 1, '서로의': 1, '입장을': 1, '조정하고': 1, '타협하기': 1, '위해서는': 3, '과학과': 4, '진실이': 2, '전제되어야': 1, '합니다.': 10, '그것이': 1, '민주주의를': 3, '지탱하는': 1, '합리주의와': 1, '지성주의입니다.': 1, '국가': 2, '간,': 1, '내부의': 1, '지나친': 2, '집단적': 1, '갈등에': 1, '의해': 2, '왜곡되고,': 1, '각자가': 1, '보고': 1, '듣고': 1, '싶은': 1, '사실만을': 1, '선택하거나': 1, '다수의': 1, '힘으로': 1, '상대의': 1, '의견을': 1, '억압하는': 1, '반지성주의가': 1, '위기에': 2, '빠뜨리고': 1, '민주주의에': 1, '대한': 2, '믿음을': 1, '해치고': 1, '상황이': 1, '우리가': 2, '처해있는': 1, '문제의': 1, '해결을': 2, '더': 1, '어렵게': 1, '만들고': 1, '그러나': 1, '우리는': 4, '할': 3, '수': 10, '역사를': 2, '돌이켜': 1, '보면': 1, '우리': 4, '국민은': 1, '처했지만': 1, '그럴': 1, '때마다': 1, '모두': 1, '힘을': 2, '합쳐': 2, '지혜롭게,': 1, '또': 2, '용기있게': 1, '극복해': 1, '왔습니다.': 1, '순간': 1, '위기를': 1, '책임을': 2, '부여받게': 1, '된': 1, '것을': 1, '감사한': 1, '마음으로': 1, '받아들이고,': 1, '위대한': 2, '국민과': 1, '함께': 2, '당당하게': 1, '헤쳐': 1, '나갈': 2, '있다고': 2, '확신합니다.': 1, '시민과': 1, '국내외적인': 1, '위기와': 1, '난제들을': 1, '해결해': 2, '믿습니다.': 1, '어려움을': 1, '나가기': 1, '위해서': 1, '보편적': 3, '가치를': 5, '공유하는': 1, '매우': 1, '중요하다고': 1, '생각합니다.': 2, '그것은': 1, '‘자유’입니다.': 1, '자유의': 3, '제대로,': 1, '정확하게': 1, '인식해야': 1, '재발견해야': 1, '돌이켜보면': 1, '자유로운': 2, '정치적': 1, '권리,': 1, '시장이': 1, '숨': 1, '쉬고': 1, '있던': 1, '곳은': 1, '언제나': 1, '번영과': 2, '풍요가': 1, '꽃': 1, '피었습니다.': 1, '풍요,': 1, '경제적': 2, '성장은': 2, '확대입니다.': 1, '자유는': 2, '가치입니다.': 1, '사회': 4, '모든': 3, '구성원이': 1, '자유': 8, '시민이': 5, '되어야': 1, '어떤': 3, '개인의': 2, '자유가': 3, '침해되는': 1, '방치된다면': 1, '공동체': 1, '구성원': 1, '모두의': 2, '자유마저': 1, '위협받게': 1, '됩니다.': 2, '결코': 1, '승자독식이': 1, '아닙니다.': 1, '되기': 2, '일정한': 1, '수준의': 1, '기초,': 1, '공정한': 2, '교육과': 1, '문화의': 1, '접근': 1, '기회가': 1, '보장되어야': 1, '이런': 1, '것': 1, '없이': 1, '시민이라고': 1, '없습니다.': 2, '사람의': 1, '유린되거나': 1, '되는데': 1, '필요한': 1, '조건을': 1, '충족하지': 1, '못한다면': 1, '시민은': 1, '연대해서': 1, '도와야': 2, '개별': 1, '국가뿐': 1, '아니라': 6, '국제적으로도': 1, '기아와': 1, '빈곤,': 1, '공권력과': 1, '군사력에': 1, '의한': 1, '불법': 1, '행위로': 1, '침해되고': 1, '시민으로서의': 1, '존엄한': 2, '삶이': 1, '유지되지': 1, '않는다면': 1, '시민으로서': 1, '연대하여': 1, '모두가': 1, '규칙을': 1, '지켜야': 1, '하고,': 1, '연대와': 1, '박애의': 1, '정신을': 1, '가져야': 2, '국내': 3, '문제로': 1, '눈을': 1, '돌려': 1, '제가': 1, '중요하게': 1, '생각하는': 1, '방향에': 1, '대해': 1, '말씀드리겠습니다.': 1, '우리나라는': 2, '양극화와': 2, '갈등이': 1, '자유와': 7, '위협할': 1, '뿐': 2, '발전의': 1, '발목을': 1, '잡고': 1, '문제를': 2, '도약과': 2, '빠른': 3, '성장을': 1, '이룩하지': 1, '않고는': 1, '어렵다고': 1, '성장': 1, '새로운': 1, '기회를': 1, '찾을': 2, '있고,': 1, '이동성을': 1, '제고함으로써': 1, '갈등의': 1, '근원을': 1, '제거할': 1, '오로지': 1, '기술,': 3, '혁신에': 1, '의해서만': 1, '이뤄낼': 1, '혁신은': 2, '우리의': 3, '자유민주주의를': 1, '지키고': 2, '확대하며': 1, '삶을': 1, '지속': 3, '가능하게': 1, '우리나라': 1, '혼자만의': 1, '노력으로는': 1, '달성하기': 1, '어렵습니다.': 1, '창의를': 1, '존중함으로써': 1, '과학': 1, '기술의': 1, '진보와': 1, '혁신을': 1, '이뤄낸': 1, '나라들과': 1, '협력하고': 1, '연대해야만': 1, '자유민주주의는': 1, '평화를': 4, '만들어내고,': 1, '평화는': 2, '지켜줍니다.': 1, '인권의': 2, '존중하는': 1, '국제사회와의': 1, '연대에': 1, '보장이': 1, '일시적으로': 1, '전쟁을': 1, '회피하는': 1, '취약한': 1, '평화가': 1, '번영을': 1, '꽃피우는': 1, '가능한': 2, '추구해야': 1, '곳도': 1, '평화에': 1, '위협에서': 1, '자유롭지': 1, '못합니다.': 1, '한반도와': 1, '동북아의': 1, '평화도': 1, '마찬가지입니다.': 1, '한반도뿐': 1, '아시아와': 2, '세계의': 2, '위협하는': 1, '북한의': 2, '핵': 2, '개발에': 1, '대해서도': 1, '그': 1, '위해': 1, '대화의': 1, '문을': 1, '열어놓겠습니다.': 1, '북한이': 1, '개발을': 1, '중단하고': 1, '실질적인': 1, '비핵화로': 1, '전환한다면': 1, '국제사회와': 1, '협력하여': 1, '북한': 2, '경제와': 1, '주민의': 1, '삶의': 1, '질을': 1, '획기적으로': 1, '개선할': 1, '담대한': 1, '계획을': 1, '준비하겠습니다.': 1, '비핵화는': 1, '한반도에': 1, '가져올': 1, '평화와': 1, '번영에도': 1, '크게': 1, '기여할': 1, '사랑하고': 1, '10위권의': 1, '경제': 1, '대국': 1, '그룹에': 1, '들어가': 1, '그러므로': 1, '가치에': 1, '기반한': 1, '국제': 2, '규범을': 1, '적극': 1, '지지하고': 1, '수호하는데': 1, '글로벌': 1, '리더': 1, '국가로서의': 1, '자세를': 1, '우리나라뿐': 1, '인권을': 1, '확대하는데': 1, '더욱': 2, '주도적인': 1, '해야': 1, '국제사회도': 1, '대한민국에': 1, '기대하고': 1, '있음이': 1, '분명합니다.': 1, '문제와': 1, '분리할': 1, '국제사회가': 1, '우리에게': 1, '기대하는': 1, '주도적으로': 1, '수행할': 1, '때': 1, '문제도': 1, '올바른': 1, '해결': 1, '방향을': 1, '자유,': 1, '인권,': 1, '공정,': 1, '연대의': 1, '나라,': 1, '다하고': 1, '존경받는': 1, '여러분과': 1, '반드시': 1, '만들어': 1, '나가겠습니다.': 1, '감사합니다.': 1}\n"
          ]
        },
        {
          "output_type": "execute_result",
          "data": {
            "text/plain": [
              "[('여러분,', 11),\n",
              " ('그리고', 11),\n",
              " ('국민', 10),\n",
              " ('세계', 10),\n",
              " ('합니다.', 10),\n",
              " ('수', 10),\n",
              " ('있습니다.', 9),\n",
              " ('자유', 8),\n",
              " ('것입니다.', 7),\n",
              " ('자유와', 7),\n",
              " ('저는', 6),\n",
              " ('이', 6),\n",
              " ('아니라', 6),\n",
              " ('시민', 5),\n",
              " ('전', 5),\n",
              " ('존경하는', 5),\n",
              " ('가치를', 5),\n",
              " ('시민이', 5),\n",
              " ('역할을', 4),\n",
              " ('하는', 4),\n",
              " ('대통령,', 4),\n",
              " ('지금', 4),\n",
              " ('있는', 4),\n",
              " ('많은', 4),\n",
              " ('과학과', 4),\n",
              " ('우리는', 4),\n",
              " ('우리', 4),\n",
              " ('사회', 4),\n",
              " ('평화를', 4),\n",
              " ('자유를', 3),\n",
              " ('국민이', 3),\n",
              " ('감사드립니다.', 3),\n",
              " ('큰', 3),\n",
              " ('이러한', 3),\n",
              " ('것이', 3),\n",
              " ('바로', 3),\n",
              " ('위해서는', 3),\n",
              " ('민주주의를', 3),\n",
              " ('할', 3),\n",
              " ('보편적', 3),\n",
              " ('자유의', 3),\n",
              " ('모든', 3),\n",
              " ('어떤', 3),\n",
              " ('자유가', 3),\n",
              " ('국내', 3),\n",
              " ('빠른', 3),\n",
              " ('기술,', 3),\n",
              " ('우리의', 3),\n",
              " ('지속', 3),\n",
              " ('사랑하는', 2),\n",
              " ('나라를', 2),\n",
              " ('기반으로', 2),\n",
              " ('진정한', 2),\n",
              " ('주인인', 2),\n",
              " ('나라로', 2),\n",
              " ('국제사회에서', 2),\n",
              " ('자리에', 2),\n",
              " ('여러분께', 2),\n",
              " ('비롯한', 2),\n",
              " ('여러분께도', 2),\n",
              " ('극복하는', 2),\n",
              " ('과정에서', 2),\n",
              " ('위기,', 2),\n",
              " ('평화적', 2),\n",
              " ('해결하기', 2),\n",
              " ('다양한', 2),\n",
              " ('인류', 2),\n",
              " ('인해', 2),\n",
              " ('진실이', 2),\n",
              " ('국가', 2),\n",
              " ('지나친', 2),\n",
              " ('의해', 2),\n",
              " ('위기에', 2),\n",
              " ('대한', 2),\n",
              " ('우리가', 2),\n",
              " ('해결을', 2),\n",
              " ('역사를', 2),\n",
              " ('힘을', 2),\n",
              " ('합쳐', 2),\n",
              " ('또', 2),\n",
              " ('책임을', 2),\n",
              " ('위대한', 2),\n",
              " ('함께', 2),\n",
              " ('나갈', 2),\n",
              " ('있다고', 2),\n",
              " ('해결해', 2),\n",
              " ('생각합니다.', 2),\n",
              " ('자유로운', 2),\n",
              " ('번영과', 2),\n",
              " ('경제적', 2),\n",
              " ('성장은', 2),\n",
              " ('자유는', 2),\n",
              " ('개인의', 2),\n",
              " ('모두의', 2),\n",
              " ('됩니다.', 2),\n",
              " ('되기', 2),\n",
              " ('공정한', 2),\n",
              " ('없습니다.', 2),\n",
              " ('도와야', 2),\n",
              " ('존엄한', 2),\n",
              " ('가져야', 2),\n",
              " ('우리나라는', 2),\n",
              " ('양극화와', 2),\n",
              " ('뿐', 2),\n",
              " ('문제를', 2),\n",
              " ('도약과', 2),\n",
              " ('찾을', 2),\n",
              " ('혁신은', 2),\n",
              " ('지키고', 2),\n",
              " ('평화는', 2),\n",
              " ('인권의', 2),\n",
              " ('가능한', 2),\n",
              " ('아시아와', 2),\n",
              " ('세계의', 2),\n",
              " ('북한의', 2),\n",
              " ('핵', 2),\n",
              " ('북한', 2),\n",
              " ('국제', 2),\n",
              " ('더욱', 2),\n",
              " ('존경하고', 1),\n",
              " ('750만', 1),\n",
              " ('재외동포', 1),\n",
              " ('자유민주주의와', 1),\n",
              " ('시장경제', 1),\n",
              " ('체제를', 1),\n",
              " ('재건하고,', 1),\n",
              " ('책임과', 1),\n",
              " ('다하는', 1),\n",
              " ('만들어야', 1),\n",
              " ('시대적', 1),\n",
              " ('소명을', 1),\n",
              " ('갖고', 1),\n",
              " ('오늘', 1),\n",
              " ('섰습니다.', 1),\n",
              " ('역사적인', 1),\n",
              " ('함께해', 1),\n",
              " ('주신', 1),\n",
              " ('문재인,', 1),\n",
              " ('박근혜', 1),\n",
              " ('할리마', 1),\n",
              " ('야콥', 1),\n",
              " ('싱가포르', 1),\n",
              " ('포스탱', 1),\n",
              " ('아르샹쥬', 1),\n",
              " ('투아데라', 1),\n",
              " ('중앙아프리카공화국', 1),\n",
              " ('왕치산', 1),\n",
              " ('중국', 1),\n",
              " ('국가부주석,', 1),\n",
              " ('메가와티', 1),\n",
              " ('수카르노푸트리', 1),\n",
              " ('인도네시아', 1),\n",
              " ('더글러스', 1),\n",
              " ('엠호프', 1),\n",
              " ('해리스', 1),\n",
              " ('미국', 1),\n",
              " ('부통령', 1),\n",
              " ('부군,', 1),\n",
              " ('조지', 1),\n",
              " ('퓨리', 1),\n",
              " ('캐나다', 1),\n",
              " ('상원의장,', 1),\n",
              " ('하야시', 1),\n",
              " ('요시마사', 1),\n",
              " ('일본', 1),\n",
              " ('외무상을', 1),\n",
              " ('각국의', 1),\n",
              " ('경축', 1),\n",
              " ('사절과', 1),\n",
              " ('내외', 1),\n",
              " ('귀빈', 1),\n",
              " ('깊이', 1),\n",
              " ('자리를', 1),\n",
              " ('빌려', 1),\n",
              " ('지난', 1),\n",
              " ('2년간', 1),\n",
              " ('코로나', 1),\n",
              " ('팬데믹을', 1),\n",
              " ('고통을', 1),\n",
              " ('감내해주신', 1),\n",
              " ('경의를', 1),\n",
              " ('표합니다.', 1),\n",
              " ('헌신해주신', 1),\n",
              " ('의료진', 1),\n",
              " ('세계는', 1),\n",
              " ('팬데믹', 1),\n",
              " ('교역', 1),\n",
              " ('질서의', 1),\n",
              " ('변화와', 1),\n",
              " ('공급망의', 1),\n",
              " ('재편,', 1),\n",
              " ('기후', 1),\n",
              " ('변화,', 1),\n",
              " ('식량과', 1),\n",
              " ('에너지', 1),\n",
              " ('분쟁의', 1),\n",
              " ('해결의', 1),\n",
              " ('후퇴', 1),\n",
              " ('등', 1),\n",
              " ('어느', 1),\n",
              " ('한', 1),\n",
              " ('나라가', 1),\n",
              " ('독자적으로,', 1),\n",
              " ('또는', 1),\n",
              " ('몇몇', 1),\n",
              " ('나라만', 1),\n",
              " ('참여해서', 1),\n",
              " ('어려운', 1),\n",
              " ('난제들에', 1),\n",
              " ('직면해', 1),\n",
              " ('위기가', 1),\n",
              " ('복합적으로', 1),\n",
              " ('사회에', 1),\n",
              " ('어두운', 1),\n",
              " ('그림자를', 1),\n",
              " ('드리우고', 1),\n",
              " ('또한', 1),\n",
              " ('우리나라를', 1),\n",
              " ('나라들이', 1),\n",
              " ('국내적으로', 1),\n",
              " ('초저성장과', 1),\n",
              " ('대규모', 1),\n",
              " ('실업,', 1),\n",
              " ('양극화의', 1),\n",
              " ('심화와', 1),\n",
              " ('사회적', 1),\n",
              " ('갈등으로', 1),\n",
              " ('공동체의', 1),\n",
              " ('결속력이', 1),\n",
              " ('흔들리고', 1),\n",
              " ('와해되고', 1),\n",
              " ('한편,', 1),\n",
              " ('문제들을', 1),\n",
              " ('해결해야', 1),\n",
              " ('정치는', 1),\n",
              " ('이른바', 1),\n",
              " ('민주주의의', 1),\n",
              " ('위기로', 1),\n",
              " ('제', 1),\n",
              " ('기능을', 1),\n",
              " ('하지', 1),\n",
              " ('못하고', 1),\n",
              " ('가장', 1),\n",
              " ('원인으로', 1),\n",
              " ('지목되는', 1),\n",
              " ('반지성주의입니다.', 1),\n",
              " ('견해가', 1),\n",
              " ('다른', 1),\n",
              " ('사람들이', 1),\n",
              " ('서로의', 1),\n",
              " ('입장을', 1),\n",
              " ('조정하고', 1),\n",
              " ('타협하기', 1),\n",
              " ('전제되어야', 1),\n",
              " ('그것이', 1),\n",
              " ('지탱하는', 1),\n",
              " ('합리주의와', 1),\n",
              " ('지성주의입니다.', 1),\n",
              " ('간,', 1),\n",
              " ('내부의', 1),\n",
              " ('집단적', 1),\n",
              " ('갈등에', 1),\n",
              " ('왜곡되고,', 1),\n",
              " ('각자가', 1),\n",
              " ('보고', 1),\n",
              " ('듣고', 1),\n",
              " ('싶은', 1),\n",
              " ('사실만을', 1),\n",
              " ('선택하거나', 1),\n",
              " ('다수의', 1),\n",
              " ('힘으로', 1),\n",
              " ('상대의', 1),\n",
              " ('의견을', 1),\n",
              " ('억압하는', 1),\n",
              " ('반지성주의가', 1),\n",
              " ('빠뜨리고', 1),\n",
              " ('민주주의에', 1),\n",
              " ('믿음을', 1),\n",
              " ('해치고', 1),\n",
              " ('상황이', 1),\n",
              " ('처해있는', 1),\n",
              " ('문제의', 1),\n",
              " ('더', 1),\n",
              " ('어렵게', 1),\n",
              " ('만들고', 1),\n",
              " ('그러나', 1),\n",
              " ('돌이켜', 1),\n",
              " ('보면', 1),\n",
              " ('국민은', 1),\n",
              " ('처했지만', 1),\n",
              " ('그럴', 1),\n",
              " ('때마다', 1),\n",
              " ('모두', 1),\n",
              " ('지혜롭게,', 1),\n",
              " ('용기있게', 1),\n",
              " ('극복해', 1),\n",
              " ('왔습니다.', 1),\n",
              " ('순간', 1),\n",
              " ('위기를', 1),\n",
              " ('부여받게', 1),\n",
              " ('된', 1),\n",
              " ('것을', 1),\n",
              " ('감사한', 1),\n",
              " ('마음으로', 1),\n",
              " ('받아들이고,', 1),\n",
              " ('국민과', 1),\n",
              " ('당당하게', 1),\n",
              " ('헤쳐', 1),\n",
              " ('확신합니다.', 1),\n",
              " ('시민과', 1),\n",
              " ('국내외적인', 1),\n",
              " ('위기와', 1),\n",
              " ('난제들을', 1),\n",
              " ('믿습니다.', 1),\n",
              " ('어려움을', 1),\n",
              " ('나가기', 1),\n",
              " ('위해서', 1),\n",
              " ('공유하는', 1),\n",
              " ('매우', 1),\n",
              " ('중요하다고', 1),\n",
              " ('그것은', 1),\n",
              " ('‘자유’입니다.', 1),\n",
              " ('제대로,', 1),\n",
              " ('정확하게', 1),\n",
              " ('인식해야', 1),\n",
              " ('재발견해야', 1),\n",
              " ('돌이켜보면', 1),\n",
              " ('정치적', 1),\n",
              " ('권리,', 1),\n",
              " ('시장이', 1),\n",
              " ('숨', 1),\n",
              " ('쉬고', 1),\n",
              " ('있던', 1),\n",
              " ('곳은', 1),\n",
              " ('언제나', 1),\n",
              " ('풍요가', 1),\n",
              " ('꽃', 1),\n",
              " ('피었습니다.', 1),\n",
              " ('풍요,', 1),\n",
              " ('확대입니다.', 1),\n",
              " ('가치입니다.', 1),\n",
              " ('구성원이', 1),\n",
              " ('되어야', 1),\n",
              " ('침해되는', 1),\n",
              " ('방치된다면', 1),\n",
              " ('공동체', 1),\n",
              " ('구성원', 1),\n",
              " ('자유마저', 1),\n",
              " ('위협받게', 1),\n",
              " ('결코', 1),\n",
              " ('승자독식이', 1),\n",
              " ('아닙니다.', 1),\n",
              " ('일정한', 1),\n",
              " ('수준의', 1),\n",
              " ('기초,', 1),\n",
              " ('교육과', 1),\n",
              " ('문화의', 1),\n",
              " ('접근', 1),\n",
              " ('기회가', 1),\n",
              " ('보장되어야', 1),\n",
              " ('이런', 1),\n",
              " ('것', 1),\n",
              " ('없이', 1),\n",
              " ('시민이라고', 1),\n",
              " ('사람의', 1),\n",
              " ('유린되거나', 1),\n",
              " ('되는데', 1),\n",
              " ('필요한', 1),\n",
              " ('조건을', 1),\n",
              " ('충족하지', 1),\n",
              " ('못한다면', 1),\n",
              " ('시민은', 1),\n",
              " ('연대해서', 1),\n",
              " ('개별', 1),\n",
              " ('국가뿐', 1),\n",
              " ('국제적으로도', 1),\n",
              " ('기아와', 1),\n",
              " ('빈곤,', 1),\n",
              " ('공권력과', 1),\n",
              " ('군사력에', 1),\n",
              " ('의한', 1),\n",
              " ('불법', 1),\n",
              " ('행위로', 1),\n",
              " ('침해되고', 1),\n",
              " ('시민으로서의', 1),\n",
              " ('삶이', 1),\n",
              " ('유지되지', 1),\n",
              " ('않는다면', 1),\n",
              " ('시민으로서', 1),\n",
              " ('연대하여', 1),\n",
              " ('모두가', 1),\n",
              " ('규칙을', 1),\n",
              " ('지켜야', 1),\n",
              " ('하고,', 1),\n",
              " ('연대와', 1),\n",
              " ('박애의', 1),\n",
              " ('정신을', 1),\n",
              " ('문제로', 1),\n",
              " ('눈을', 1),\n",
              " ('돌려', 1),\n",
              " ('제가', 1),\n",
              " ('중요하게', 1),\n",
              " ('생각하는', 1),\n",
              " ('방향에', 1),\n",
              " ('대해', 1),\n",
              " ('말씀드리겠습니다.', 1),\n",
              " ('갈등이', 1),\n",
              " ('위협할', 1),\n",
              " ('발전의', 1),\n",
              " ('발목을', 1),\n",
              " ('잡고', 1),\n",
              " ('성장을', 1),\n",
              " ('이룩하지', 1),\n",
              " ('않고는', 1),\n",
              " ('어렵다고', 1),\n",
              " ('성장', 1),\n",
              " ('새로운', 1),\n",
              " ('기회를', 1),\n",
              " ('있고,', 1),\n",
              " ('이동성을', 1),\n",
              " ('제고함으로써', 1),\n",
              " ('갈등의', 1),\n",
              " ('근원을', 1),\n",
              " ('제거할', 1),\n",
              " ('오로지', 1),\n",
              " ('혁신에', 1),\n",
              " ('의해서만', 1),\n",
              " ('이뤄낼', 1),\n",
              " ('자유민주주의를', 1),\n",
              " ('확대하며', 1),\n",
              " ('삶을', 1),\n",
              " ('가능하게', 1),\n",
              " ('우리나라', 1),\n",
              " ('혼자만의', 1),\n",
              " ('노력으로는', 1),\n",
              " ('달성하기', 1),\n",
              " ('어렵습니다.', 1),\n",
              " ('창의를', 1),\n",
              " ('존중함으로써', 1),\n",
              " ('과학', 1),\n",
              " ('기술의', 1),\n",
              " ('진보와', 1),\n",
              " ('혁신을', 1),\n",
              " ('이뤄낸', 1),\n",
              " ('나라들과', 1),\n",
              " ('협력하고', 1),\n",
              " ('연대해야만', 1),\n",
              " ('자유민주주의는', 1),\n",
              " ('만들어내고,', 1),\n",
              " ('지켜줍니다.', 1),\n",
              " ('존중하는', 1),\n",
              " ('국제사회와의', 1),\n",
              " ('연대에', 1),\n",
              " ('보장이', 1),\n",
              " ('일시적으로', 1),\n",
              " ('전쟁을', 1),\n",
              " ('회피하는', 1),\n",
              " ('취약한', 1),\n",
              " ('평화가', 1),\n",
              " ('번영을', 1),\n",
              " ('꽃피우는', 1),\n",
              " ('추구해야', 1),\n",
              " ('곳도', 1),\n",
              " ('평화에', 1),\n",
              " ('위협에서', 1),\n",
              " ('자유롭지', 1),\n",
              " ('못합니다.', 1),\n",
              " ('한반도와', 1),\n",
              " ('동북아의', 1),\n",
              " ('평화도', 1),\n",
              " ('마찬가지입니다.', 1),\n",
              " ('한반도뿐', 1),\n",
              " ('위협하는', 1),\n",
              " ('개발에', 1),\n",
              " ('대해서도', 1),\n",
              " ('그', 1),\n",
              " ('위해', 1),\n",
              " ('대화의', 1),\n",
              " ('문을', 1),\n",
              " ('열어놓겠습니다.', 1),\n",
              " ('북한이', 1),\n",
              " ('개발을', 1),\n",
              " ('중단하고', 1),\n",
              " ('실질적인', 1),\n",
              " ('비핵화로', 1),\n",
              " ('전환한다면', 1),\n",
              " ('국제사회와', 1),\n",
              " ('협력하여', 1),\n",
              " ('경제와', 1),\n",
              " ('주민의', 1),\n",
              " ('삶의', 1),\n",
              " ('질을', 1),\n",
              " ('획기적으로', 1),\n",
              " ('개선할', 1),\n",
              " ('담대한', 1),\n",
              " ('계획을', 1),\n",
              " ('준비하겠습니다.', 1),\n",
              " ('비핵화는', 1),\n",
              " ('한반도에', 1),\n",
              " ('가져올', 1),\n",
              " ('평화와', 1),\n",
              " ('번영에도', 1),\n",
              " ('크게', 1),\n",
              " ('기여할', 1),\n",
              " ('사랑하고', 1),\n",
              " ('10위권의', 1),\n",
              " ('경제', 1),\n",
              " ('대국', 1),\n",
              " ('그룹에', 1),\n",
              " ('들어가', 1),\n",
              " ('그러므로', 1),\n",
              " ('가치에', 1),\n",
              " ('기반한', 1),\n",
              " ('규범을', 1),\n",
              " ('적극', 1),\n",
              " ('지지하고', 1),\n",
              " ('수호하는데', 1),\n",
              " ('글로벌', 1),\n",
              " ('리더', 1),\n",
              " ('국가로서의', 1),\n",
              " ('자세를', 1),\n",
              " ('우리나라뿐', 1),\n",
              " ('인권을', 1),\n",
              " ('확대하는데', 1),\n",
              " ('주도적인', 1),\n",
              " ('해야', 1),\n",
              " ('국제사회도', 1),\n",
              " ('대한민국에', 1),\n",
              " ('기대하고', 1),\n",
              " ('있음이', 1),\n",
              " ('분명합니다.', 1),\n",
              " ('문제와', 1),\n",
              " ('분리할', 1),\n",
              " ('국제사회가', 1),\n",
              " ('우리에게', 1),\n",
              " ('기대하는', 1),\n",
              " ('주도적으로', 1),\n",
              " ('수행할', 1),\n",
              " ('때', 1),\n",
              " ('문제도', 1),\n",
              " ('올바른', 1),\n",
              " ('해결', 1),\n",
              " ('방향을', 1),\n",
              " ('자유,', 1),\n",
              " ('인권,', 1),\n",
              " ('공정,', 1),\n",
              " ('연대의', 1),\n",
              " ('나라,', 1),\n",
              " ('다하고', 1),\n",
              " ('존경받는', 1),\n",
              " ('여러분과', 1),\n",
              " ('반드시', 1),\n",
              " ('만들어', 1),\n",
              " ('나가겠습니다.', 1),\n",
              " ('감사합니다.', 1)]"
            ]
          },
          "metadata": {},
          "execution_count": 36
        }
      ]
    }
  ]
}