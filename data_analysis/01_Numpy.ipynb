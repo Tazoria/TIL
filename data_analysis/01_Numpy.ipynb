{
  "nbformat": 4,
  "nbformat_minor": 0,
  "metadata": {
    "colab": {
      "provenance": [],
      "toc_visible": true,
      "authorship_tag": "ABX9TyNam2HIzE+KD9otGa7imWsk",
      "include_colab_link": true
    },
    "kernelspec": {
      "name": "python3",
      "display_name": "Python 3"
    },
    "language_info": {
      "name": "python"
    }
  },
  "cells": [
    {
      "cell_type": "markdown",
      "metadata": {
        "id": "view-in-github",
        "colab_type": "text"
      },
      "source": [
        "<a href=\"https://colab.research.google.com/github/Tazoria/TIL/blob/main/data_analysis/01_Numpy.ipynb\" target=\"_parent\"><img src=\"https://colab.research.google.com/assets/colab-badge.svg\" alt=\"Open In Colab\"/></a>"
      ]
    },
    {
      "cell_type": "markdown",
      "source": [
        "# 💕 Numpy ( Numerical python )\n",
        "- 일반 리스트에 빠르고 메모리 효율적으로 사용\n",
        "- 반복문 없이 데이터 배열에 대한 처리를 지원함\n",
        "- 선형대수와 관련된 다양한 기능 제공\n",
        "- 다른 언어와 통합 가능 ( C언어로 만들어짐 )\n"
      ],
      "metadata": {
        "id": "nkfVwx9H4yyG"
      }
    },
    {
      "cell_type": "markdown",
      "source": [
        "## 1️⃣ ndarray ( Numpy Dimensional Array )\n",
        "- C의 배열\n",
        "  - 하나의 타입만 넣을 수 있음 ( 다이나믹 타이핑 미지원 )\n",
        "  - 연산을 주목적으로 하기 때문에 주로 숫자만 들어감\n",
        "- 다차원 배열\n",
        "  - 배열의 모양\n",
        "    - Vector ( 1차원 ) : element\n",
        "    - Matrix ( 2차원 ) : 행, 열\n",
        "    - Tensor ( 3차원 ) : 평면, 행, 열 - 이미지\n",
        "      - shape : ( 평면 , 행, 열 )\n",
        "- ⭐️ reshape : Array의 size만 같다면 다차원으로 자유로이 변형 가능\n",
        "  - reshape의 값으로 빈칸 : 1차원\n",
        "  - reshape의 값으로 -1 : 사이즈에 맞게 자동 지정\n",
        "  - 해당 배열의 사이즈가 reshape의 모양에 맞지 않으면 ValueError 발생\n",
        "- ⭐️ flatten : 다차원 배열 -> 1차원 배열 ( 이미지 분석시 많이 사용 )\n",
        "- 특정 값 표기법\n",
        "  - 방법 1 ) a [ 0, 0 ]\n",
        "  - 빙밥 2 ) a [ 0 ] [ 0 ]\n",
        "- arange ( ) = List의 range ( )\n",
        "  - 예 ) np . arange ( 0, 5, 0.5 )\n",
        "- np.zeros(shape, dtype )\n",
        "  - 예 ) np.zeros ( shape=(10,), dtype=np.int8 )\n",
        "- np.ones\n",
        "- np.empty\n",
        "- 단위, 대각행렬 관련 : np.identity, np.eye, np.diag\n",
        "  - 대각(선)행렬(diagonal matrix) : 주대각선 상에 위치한 원소가 아닌 나머지 원소가 모두 0인 행렬\n",
        "- linspace(시작, 끝, 등분수)\n"
      ],
      "metadata": {
        "id": "wkuNV2dY5SSp"
      }
    },
    {
      "cell_type": "code",
      "source": [
        "import numpy as np\n",
        "\n",
        "# 리스트 연산\n",
        "a = [1,2,3]\n",
        "print(a*3)\n",
        "print(list(map(lambda x: x*3, a)))\n",
        "\n",
        "# 배열 연산 : 반복문 없이 데이터 배열에 대한 처리 지원\n",
        "b = np.array([1,2,3])\n",
        "print(b * 3)"
      ],
      "metadata": {
        "id": "YdI_hl-HEqUN",
        "colab": {
          "base_uri": "https://localhost:8080/"
        },
        "outputId": "ff82f244-9468-4720-9ea0-484745a4b567"
      },
      "execution_count": 31,
      "outputs": [
        {
          "output_type": "stream",
          "name": "stdout",
          "text": [
            "[1, 2, 3, 1, 2, 3, 1, 2, 3]\n",
            "[3, 6, 9]\n",
            "[3 6 9]\n"
          ]
        }
      ]
    },
    {
      "cell_type": "code",
      "source": [
        "# 데이터 타입 및 모양 조회\n",
        "a = np.array([1,4,5,8], float)\n",
        "print(a, type(a), a.dtype, a.shape, sep='\\n')"
      ],
      "metadata": {
        "id": "1MsHJVQjFcYH",
        "colab": {
          "base_uri": "https://localhost:8080/"
        },
        "outputId": "deebf0a0-bed8-44f6-a103-0ac96fbbdac9"
      },
      "execution_count": 32,
      "outputs": [
        {
          "output_type": "stream",
          "name": "stdout",
          "text": [
            "[1. 4. 5. 8.]\n",
            "<class 'numpy.ndarray'>\n",
            "float64\n",
            "(4,)\n"
          ]
        }
      ]
    },
    {
      "cell_type": "code",
      "source": [
        "from traitlets.config.application import TRAITLETS_APPLICATION_RAISE_CONFIG_FILE_ERROR\n",
        "# Vector\n",
        "vector = np.array([1,2,3,4])\n",
        "print('Shape(Vector):', vector, vector.shape, vector.size, '\\n', sep='\\n')\n",
        "\n",
        "# Matrix\n",
        "matrix = np.array([[1,2,3],[4,5,6]])\n",
        "print('Shape(Matrix):', matrix, matrix.shape, matrix.size, '\\n', sep='\\n')\n",
        "\n",
        "# Tensor\n",
        "tensor = np.arange(1, 25).reshape(2, 3, 4)\n",
        "print('Shape(Tensor):', '평면1: ', tensor[0], '평면2: ', tensor[1], tensor.shape, tensor.size, '\\n', sep='\\n')\n"
      ],
      "metadata": {
        "id": "bP5FAk_bGJsp",
        "colab": {
          "base_uri": "https://localhost:8080/"
        },
        "outputId": "6f03ce58-9981-422d-ff56-870ca972babf"
      },
      "execution_count": 33,
      "outputs": [
        {
          "output_type": "stream",
          "name": "stdout",
          "text": [
            "Shape(Vector):\n",
            "[1 2 3 4]\n",
            "(4,)\n",
            "4\n",
            "\n",
            "\n",
            "Shape(Matrix):\n",
            "[[1 2 3]\n",
            " [4 5 6]]\n",
            "(2, 3)\n",
            "6\n",
            "\n",
            "\n",
            "Shape(Tensor):\n",
            "평면1: \n",
            "[[ 1  2  3  4]\n",
            " [ 5  6  7  8]\n",
            " [ 9 10 11 12]]\n",
            "평면2: \n",
            "[[13 14 15 16]\n",
            " [17 18 19 20]\n",
            " [21 22 23 24]]\n",
            "(2, 3, 4)\n",
            "24\n",
            "\n",
            "\n"
          ]
        }
      ]
    },
    {
      "cell_type": "code",
      "source": [
        "# reshape\n",
        "print(matrix)\n",
        "print()\n",
        "print(matrix.reshape(6, ))\n",
        "print()\n",
        "print(matrix.reshape(3, 2))\n",
        "\n",
        "# reshape(-1, )\n",
        "print(matrix.reshape(-1,))"
      ],
      "metadata": {
        "id": "ESXr-LobN5Q3",
        "colab": {
          "base_uri": "https://localhost:8080/"
        },
        "outputId": "47f0ae64-1491-4575-f2e7-2f4f9a4c052a"
      },
      "execution_count": 34,
      "outputs": [
        {
          "output_type": "stream",
          "name": "stdout",
          "text": [
            "[[1 2 3]\n",
            " [4 5 6]]\n",
            "\n",
            "[1 2 3 4 5 6]\n",
            "\n",
            "[[1 2]\n",
            " [3 4]\n",
            " [5 6]]\n",
            "[1 2 3 4 5 6]\n"
          ]
        }
      ]
    },
    {
      "cell_type": "code",
      "source": [
        "print(tensor.reshape(-1,))\n",
        "\n",
        "# flatten\n",
        "print(tensor.flatten())"
      ],
      "metadata": {
        "id": "4n0txOr2P1Vm",
        "colab": {
          "base_uri": "https://localhost:8080/"
        },
        "outputId": "3a7ac3e6-ddd1-4008-84b8-917ae3ab99cd"
      },
      "execution_count": 35,
      "outputs": [
        {
          "output_type": "stream",
          "name": "stdout",
          "text": [
            "[ 1  2  3  4  5  6  7  8  9 10 11 12 13 14 15 16 17 18 19 20 21 22 23 24]\n",
            "[ 1  2  3  4  5  6  7  8  9 10 11 12 13 14 15 16 17 18 19 20 21 22 23 24]\n"
          ]
        }
      ]
    },
    {
      "cell_type": "code",
      "source": [
        "# 특정 원소 접근\n",
        "# matrix\n",
        "# 2\n",
        "print(matrix[0, 1])\n",
        "print(matrix[0][1])\n",
        "\n",
        "# tensor\n",
        "# 19\n",
        "print(tensor[1, 1, 2])\n",
        "print(tensor[1][1][2])"
      ],
      "metadata": {
        "id": "gw44TzrLQZLE",
        "colab": {
          "base_uri": "https://localhost:8080/"
        },
        "outputId": "af904ef6-b48b-466a-ca34-c4d94abeb6c6"
      },
      "execution_count": 36,
      "outputs": [
        {
          "output_type": "stream",
          "name": "stdout",
          "text": [
            "2\n",
            "2\n",
            "19\n",
            "19\n"
          ]
        }
      ]
    },
    {
      "cell_type": "code",
      "source": [
        "# 슬라이싱\n",
        "b = np.arange(16).reshape(4, -1)\n",
        "print(b)\n",
        "\n",
        "# [[5, 6, 7], [9,10,11]]\n",
        "print(b[1:3, 1:])\n",
        "\n",
        "# [[1,3], [9,11]]\n",
        "print(b[::2, 1::2])"
      ],
      "metadata": {
        "id": "lI1g0COERFPU",
        "colab": {
          "base_uri": "https://localhost:8080/"
        },
        "outputId": "ba322127-2677-45e1-d00a-8a78ef38bb24"
      },
      "execution_count": 37,
      "outputs": [
        {
          "output_type": "stream",
          "name": "stdout",
          "text": [
            "[[ 0  1  2  3]\n",
            " [ 4  5  6  7]\n",
            " [ 8  9 10 11]\n",
            " [12 13 14 15]]\n",
            "[[ 5  6  7]\n",
            " [ 9 10 11]]\n",
            "[[ 1  3]\n",
            " [ 9 11]]\n"
          ]
        }
      ]
    },
    {
      "cell_type": "code",
      "source": [
        "'''\n",
        "- x는 앞에서 3열\n",
        "- y는 마지막 열\n",
        "\n",
        "shape로 결과값을 보면\n",
        "x.shape ==> (4,3),\n",
        "y.shape ==> (4,)\n",
        "\n",
        "'''\n",
        "print('='*20)\n",
        "print(b)\n",
        "print('='*20)\n",
        "\n",
        "x = b[:, :-1]\n",
        "y = b[:, -1].reshape(-1, 1)\n",
        "\n",
        "print()\n",
        "print('x:', x, 'shape:', '\\n', x.shape, '-'*20, sep='\\n')\n",
        "print()\n",
        "print('y:', y, 'shape:', '\\n', y.shape, '-'*20, sep='\\n')"
      ],
      "metadata": {
        "id": "11KqD0Y8TLDM",
        "colab": {
          "base_uri": "https://localhost:8080/"
        },
        "outputId": "e7b2a44e-9e1a-47d6-9356-bac23676e10a"
      },
      "execution_count": 38,
      "outputs": [
        {
          "output_type": "stream",
          "name": "stdout",
          "text": [
            "====================\n",
            "[[ 0  1  2  3]\n",
            " [ 4  5  6  7]\n",
            " [ 8  9 10 11]\n",
            " [12 13 14 15]]\n",
            "====================\n",
            "\n",
            "x:\n",
            "[[ 0  1  2]\n",
            " [ 4  5  6]\n",
            " [ 8  9 10]\n",
            " [12 13 14]]\n",
            "shape:\n",
            "\n",
            "\n",
            "(4, 3)\n",
            "--------------------\n",
            "\n",
            "y:\n",
            "[[ 3]\n",
            " [ 7]\n",
            " [11]\n",
            " [15]]\n",
            "shape:\n",
            "\n",
            "\n",
            "(4, 1)\n",
            "--------------------\n"
          ]
        }
      ]
    },
    {
      "cell_type": "code",
      "source": [
        "print(np.arange(10))\n",
        "print(np.arange(1,10,2))\n",
        "print(np.arange(0,5.1,0.5).tolist())"
      ],
      "metadata": {
        "id": "N6fzGucmmrS4",
        "colab": {
          "base_uri": "https://localhost:8080/"
        },
        "outputId": "d3bc41d1-b340-42d2-e9a7-599fecc382e3"
      },
      "execution_count": 39,
      "outputs": [
        {
          "output_type": "stream",
          "name": "stdout",
          "text": [
            "[0 1 2 3 4 5 6 7 8 9]\n",
            "[1 3 5 7 9]\n",
            "[0.0, 0.5, 1.0, 1.5, 2.0, 2.5, 3.0, 3.5, 4.0, 4.5, 5.0]\n"
          ]
        }
      ]
    },
    {
      "cell_type": "code",
      "source": [
        "np.arange(2548).reshape(4,-1)\n",
        "\n",
        "# 에러발생 - 사이즈가 해당 모양에 맞지 않음\n",
        "# np.arange(2549).reshape(4,-1)"
      ],
      "metadata": {
        "id": "uWOH-D52nRJ0",
        "colab": {
          "base_uri": "https://localhost:8080/"
        },
        "outputId": "de90e11c-da6f-4dd0-d5ea-174479a6d314"
      },
      "execution_count": 40,
      "outputs": [
        {
          "output_type": "execute_result",
          "data": {
            "text/plain": [
              "array([[   0,    1,    2, ...,  634,  635,  636],\n",
              "       [ 637,  638,  639, ..., 1271, 1272, 1273],\n",
              "       [1274, 1275, 1276, ..., 1908, 1909, 1910],\n",
              "       [1911, 1912, 1913, ..., 2545, 2546, 2547]])"
            ]
          },
          "metadata": {},
          "execution_count": 40
        }
      ]
    },
    {
      "cell_type": "markdown",
      "source": [
        "### 💡 ones, zeros, empty, _like"
      ],
      "metadata": {
        "id": "eYJ1cxTKblRH"
      }
    },
    {
      "cell_type": "code",
      "source": [
        "# ones ,zeros, empty의 여러가지 방법\n",
        "print(np.ones(shape=(10, ), dtype=np.int8))\n",
        "print(np.ones(shape=(2,4)))\n",
        "print(np.zeros((8,), np.float32))\n",
        "print(np.empty((4,))) # 출력만 0으로 됐지 실제 값 0이 아니라 비어있음."
      ],
      "metadata": {
        "id": "oFkvVdbmq5ff",
        "colab": {
          "base_uri": "https://localhost:8080/"
        },
        "outputId": "665cef36-e044-480a-92bd-648d6b027904"
      },
      "execution_count": 41,
      "outputs": [
        {
          "output_type": "stream",
          "name": "stdout",
          "text": [
            "[1 1 1 1 1 1 1 1 1 1]\n",
            "[[1. 1. 1. 1.]\n",
            " [1. 1. 1. 1.]]\n",
            "[0. 0. 0. 0. 0. 0. 0. 0.]\n",
            "[0. 0. 0. 0.]\n"
          ]
        }
      ]
    },
    {
      "cell_type": "code",
      "source": [
        "# something like: 기존에 있던 배열을 특정 값으로 변경(ones_like, )\n",
        "a = np.arange(12).reshape(3, 4)\n",
        "print(a)\n",
        "a_like = np.ones_like(a)\n",
        "print(a_like)"
      ],
      "metadata": {
        "id": "vrN45zP_sIAC",
        "colab": {
          "base_uri": "https://localhost:8080/"
        },
        "outputId": "5f613130-ddd2-482c-8d72-06e045b0e077"
      },
      "execution_count": 42,
      "outputs": [
        {
          "output_type": "stream",
          "name": "stdout",
          "text": [
            "[[ 0  1  2  3]\n",
            " [ 4  5  6  7]\n",
            " [ 8  9 10 11]]\n",
            "[[1 1 1 1]\n",
            " [1 1 1 1]\n",
            " [1 1 1 1]]\n"
          ]
        }
      ]
    },
    {
      "cell_type": "markdown",
      "source": [
        "### 💡 identity, eye, diag, linspace"
      ],
      "metadata": {
        "id": "1uSOeBfMbz2d"
      }
    },
    {
      "cell_type": "code",
      "source": [
        "# identity()\n",
        "print(np.identity(n=3, dtype=np.int16))\n",
        "print(np.identity(3))"
      ],
      "metadata": {
        "id": "-_YXmb0wssu0",
        "colab": {
          "base_uri": "https://localhost:8080/"
        },
        "outputId": "ae42a1a6-40fe-47b5-a0e7-27d2e347f363"
      },
      "execution_count": 43,
      "outputs": [
        {
          "output_type": "stream",
          "name": "stdout",
          "text": [
            "[[1 0 0]\n",
            " [0 1 0]\n",
            " [0 0 1]]\n",
            "[[1. 0. 0.]\n",
            " [0. 1. 0.]\n",
            " [0. 0. 1.]]\n"
          ]
        }
      ]
    },
    {
      "cell_type": "code",
      "source": [
        "# eye(): 대각이 1인 행렬\n",
        "print(np.eye(3,3))\n",
        "print(np.eye(3,5)) # 모양이 꼭 정사각형 아니어도 됨.\n",
        "print(np.eye(N=3, M=5, k=2, dtype=np.int32)) # k: 시작 위치(인덱스)\n",
        "print(np.eye(5,3,-1)) # -1시 두번째 행부터 그려짐"
      ],
      "metadata": {
        "id": "YtXFvUDbtNbS",
        "colab": {
          "base_uri": "https://localhost:8080/"
        },
        "outputId": "350b0fa3-143e-4c88-fc13-2bef9262d689"
      },
      "execution_count": 44,
      "outputs": [
        {
          "output_type": "stream",
          "name": "stdout",
          "text": [
            "[[1. 0. 0.]\n",
            " [0. 1. 0.]\n",
            " [0. 0. 1.]]\n",
            "[[1. 0. 0. 0. 0.]\n",
            " [0. 1. 0. 0. 0.]\n",
            " [0. 0. 1. 0. 0.]]\n",
            "[[0 0 1 0 0]\n",
            " [0 0 0 1 0]\n",
            " [0 0 0 0 1]]\n",
            "[[0. 0. 0.]\n",
            " [1. 0. 0.]\n",
            " [0. 1. 0.]\n",
            " [0. 0. 1.]\n",
            " [0. 0. 0.]]\n"
          ]
        }
      ]
    },
    {
      "cell_type": "code",
      "source": [
        "# 대각행렬의 대각원소만 추출\n",
        "a = np.arange(9).reshape(3,3)\n",
        "print('행렬:\\n', a)\n",
        "print('대각원소: ', np.diag(a))"
      ],
      "metadata": {
        "id": "o_QlJS1xuj9C",
        "colab": {
          "base_uri": "https://localhost:8080/"
        },
        "outputId": "c13c5ffa-e370-4684-b794-f8d3b25015d3"
      },
      "execution_count": 45,
      "outputs": [
        {
          "output_type": "stream",
          "name": "stdout",
          "text": [
            "행렬:\n",
            " [[0 1 2]\n",
            " [3 4 5]\n",
            " [6 7 8]]\n",
            "대각원소:  [0 4 8]\n"
          ]
        }
      ]
    },
    {
      "cell_type": "code",
      "source": [
        "x = np.arange(-2, 2.005, 0.01)\n",
        "print(x.size, x[-1])\n",
        "\n",
        "# linspace(시작, 끝, 등분수)\n",
        "x = np.linspace(-2, 2, 401)\n",
        "print(x.size, x[-1])"
      ],
      "metadata": {
        "id": "guIHctCjn1dS",
        "colab": {
          "base_uri": "https://localhost:8080/"
        },
        "outputId": "40d72964-738d-482e-9357-943ca5f404a2"
      },
      "execution_count": 46,
      "outputs": [
        {
          "output_type": "stream",
          "name": "stdout",
          "text": [
            "401 2.0000000000000036\n",
            "401 2.0\n"
          ]
        }
      ]
    },
    {
      "cell_type": "markdown",
      "source": [
        "### 💡 데이터 타입\n",
        "- 비트별 표시\n",
        "  - 8 bit : int 8, float 8\n",
        "  - 16 bit : int 16, float 16\n",
        "  - 32 bit : int 32, float 32\n",
        "  - 64 bit : int 64, float 64\n",
        "  - 128 bit : int 128, float 128\n",
        "    - 컴퓨터 구조상 정확한 소숫점을 표현하기가 어려움\n",
        "    - 비트가 높아질 수록 부동소수점의 표현 비트가 늘어나므로 실수의 표현이 더 정확해짐 !\n",
        "    - 특히 무리수 같은 경우"
      ],
      "metadata": {
        "id": "lAio2n_UIQ9L"
      }
    },
    {
      "cell_type": "code",
      "source": [
        "print(0.1 + 0.1 == 0.2)\n",
        "\n",
        "# 부동소수점 때문에 False가 남 (아래는 자리 올림 때매 자리 변화 생김...)\n",
        "print(0.1 + 0.1 + 0.1 == 0.3)\n",
        "\n",
        "a = np.array([1,2,3], dtype=np.float32)\n",
        "a"
      ],
      "metadata": {
        "id": "iP8IC8J4IMBB",
        "colab": {
          "base_uri": "https://localhost:8080/"
        },
        "outputId": "e97966bc-dd58-4b1d-c2f1-2b99e6e4dc08"
      },
      "execution_count": 47,
      "outputs": [
        {
          "output_type": "stream",
          "name": "stdout",
          "text": [
            "True\n",
            "False\n"
          ]
        },
        {
          "output_type": "execute_result",
          "data": {
            "text/plain": [
              "array([1., 2., 3.], dtype=float32)"
            ]
          },
          "metadata": {},
          "execution_count": 47
        }
      ]
    },
    {
      "cell_type": "markdown",
      "source": [
        "## 2️⃣ random"
      ],
      "metadata": {
        "id": "bT2pf3gtcFsX"
      }
    },
    {
      "cell_type": "markdown",
      "source": [
        "### 💡 Random Sampling\n",
        "- np.random.seed ( seed= ) : 난수 생성 기준 제시\n",
        "- 여러가지 분포를 가진 랜덤 난수 생성\n",
        "  - np.random.uniform ( ) : 균등분포\n",
        "  - np.random.normal ( ) : 정규분포\n",
        "  - np.random.binomial ( ) : 이항분포\n",
        "  - np.random.normapoissonl ( ) : 포아송분포\n",
        "  - np.random.standard_t ( ) \n",
        "  - np.random.f ( )\n"
      ],
      "metadata": {
        "id": "bJWCeNNDDQFt"
      }
    },
    {
      "cell_type": "code",
      "source": [
        "# random sampling\n",
        "np.random.seed(seed=2023)\n",
        "np.random.random()"
      ],
      "metadata": {
        "id": "_Rud_Se25QyE",
        "colab": {
          "base_uri": "https://localhost:8080/"
        },
        "outputId": "c0749281-9b63-4480-cdc9-92912e36b893"
      },
      "execution_count": 48,
      "outputs": [
        {
          "output_type": "execute_result",
          "data": {
            "text/plain": [
              "0.32198830399196776"
            ]
          },
          "metadata": {},
          "execution_count": 48
        }
      ]
    },
    {
      "cell_type": "code",
      "source": [
        "import matplotlib.pyplot as plt\n",
        "\n",
        "# 균등분포\n",
        "uniform = np.random.uniform(size=100)\n",
        "plt.hist(uniform)\n",
        "plt.title('uniform')\n",
        "plt.show()\n",
        "\n",
        "# 정규분포\n",
        "normal = np.random.normal(size=100)\n",
        "plt.hist(normal)\n",
        "plt.title('normal')\n",
        "plt.show()\n",
        "\n",
        "# 표준정규분포 N(0,1)\n",
        "rand_norm = np.random.randn(100)\n",
        "plt.hist(rand_norm)\n",
        "plt.title('standard normal')\n",
        "plt.show()"
      ],
      "metadata": {
        "id": "QlkYVUd_vmUS",
        "colab": {
          "base_uri": "https://localhost:8080/",
          "height": 809
        },
        "outputId": "558d8d73-8da2-4b14-e415-17d616c496c0"
      },
      "execution_count": 49,
      "outputs": [
        {
          "output_type": "display_data",
          "data": {
            "text/plain": [
              "<Figure size 432x288 with 1 Axes>"
            ],
            "image/png": "[encoded data removed]"
          },
          "metadata": {
            "needs_background": "light"
          }
        },
        {
          "output_type": "display_data",
          "data": {
            "text/plain": [
              "<Figure size 432x288 with 1 Axes>"
            ],
            "image/png": "[encoded data removed]"
          },
          "metadata": {
            "needs_background": "light"
          }
        },
        {
          "output_type": "display_data",
          "data": {
            "text/plain": [
              "<Figure size 432x288 with 1 Axes>"
            ],
            "image/png": "[encoded data removed]"
          },
          "metadata": {
            "needs_background": "light"
          }
        }
      ]
    },
    {
      "cell_type": "markdown",
      "source": [
        "## 3️⃣ Operation function\n",
        "- sum\n",
        "- axis : 기준이 되는 축!!!\n",
        "- sorting\n",
        "- mathematical functions\n",
        "  - 지수함수\n",
        "  - 삼각함수\n",
        "  - Hyperbolic : sinh, cosh, tanh 등\n",
        "- concatenate : 배열 합치는 함수\n",
        "  - np.vstack() / np.hstack()\n",
        "  - np.concatenate()\n"
      ],
      "metadata": {
        "id": "u49OPzDa1Wi0"
      }
    },
    {
      "cell_type": "code",
      "source": [
        "import matplotlib.pyplot as plt\n",
        "\n",
        "y = np.tanh(x)\n",
        "plt.plot(x, y)\n",
        "plt.show()"
      ],
      "metadata": {
        "id": "XItK17WmoIDI",
        "colab": {
          "base_uri": "https://localhost:8080/",
          "height": 265
        },
        "outputId": "73d9d61a-fe77-4bf9-d31a-d580f576677b"
      },
      "execution_count": 50,
      "outputs": [
        {
          "output_type": "display_data",
          "data": {
            "text/plain": [
              "<Figure size 432x288 with 1 Axes>"
            ],
            "image/png": "[encoded data removed]"
          },
          "metadata": {
            "needs_background": "light"
          }
        }
      ]
    },
    {
      "cell_type": "code",
      "source": [
        "# 밑이 자연상수 e인 지수함수\n",
        "print(np.exp(0))"
      ],
      "metadata": {
        "id": "bRmlrUTx9oxY",
        "colab": {
          "base_uri": "https://localhost:8080/"
        },
        "outputId": "cc6df700-c132-495f-9c9f-07cdefd9e043"
      },
      "execution_count": 51,
      "outputs": [
        {
          "output_type": "stream",
          "name": "stdout",
          "text": [
            "1.0\n"
          ]
        }
      ]
    },
    {
      "cell_type": "markdown",
      "source": [
        "## 4️⃣ Vector, Matrix, Tensor"
      ],
      "metadata": {
        "id": "mtowmv9Ucrn_"
      }
    },
    {
      "cell_type": "code",
      "source": [
        "# Sum & Axis\n",
        "\n",
        "# Vector\n",
        "v = np.arange(1,11)\n",
        "print(v.sum())\n",
        "print('='*20)\n",
        "\n",
        "\n",
        "\n",
        "# Matrix\n",
        "# 원소의 총 합\n",
        "m = np.arange(1,13).reshape(3,4)\n",
        "print(m.sum())\n",
        "# 축을 이용한 일부 원소의 합\n",
        "# 로우의 합: 컬럼의 합: axis = 0\n",
        "print(f'axis=0 합: {m.sum(axis=0)}')\n",
        "# 컬럼의 합: 행의 합: axis = 1\n",
        "print(f'axis=1 : {m.sum(axis=1)}')\n",
        "print('='*20)\n",
        "\n",
        "\n",
        "\n",
        "# Tensor\n",
        "t = np.arange(1, 25).reshape(2,3,4)\n",
        "print('   [ 예  시  ]  ')\n",
        "print(t)\n",
        "print('='*20)\n",
        "print(f'axis=0 : {t.sum(axis=0)}')\n",
        "print(f'axis=1 : {t.sum(axis=1)}')\n",
        "print('='*20)"
      ],
      "metadata": {
        "id": "HZf9yeurwcYt",
        "colab": {
          "base_uri": "https://localhost:8080/"
        },
        "outputId": "3af2cbff-3675-4810-ef43-413ad14a3581"
      },
      "execution_count": 52,
      "outputs": [
        {
          "output_type": "stream",
          "name": "stdout",
          "text": [
            "55\n",
            "====================\n",
            "78\n",
            "axis=0 합: [15 18 21 24]\n",
            "axis=1 : [10 26 42]\n",
            "====================\n",
            "   [ 예  시  ]  \n",
            "[[[ 1  2  3  4]\n",
            "  [ 5  6  7  8]\n",
            "  [ 9 10 11 12]]\n",
            "\n",
            " [[13 14 15 16]\n",
            "  [17 18 19 20]\n",
            "  [21 22 23 24]]]\n",
            "====================\n",
            "axis=0 : [[14 16 18 20]\n",
            " [22 24 26 28]\n",
            " [30 32 34 36]]\n",
            "axis=1 : [[15 18 21 24]\n",
            " [51 54 57 60]]\n",
            "====================\n"
          ]
        }
      ]
    },
    {
      "cell_type": "code",
      "source": [
        "# sorting\n",
        "# 기본\n",
        "print('='*10, '\bVector', '='*10)\n",
        "a = [4,3,5,7]\n",
        "print('정렬 전: ', a)\n",
        "print('정렬 후: ', np.sort(a))\n",
        "\n",
        "# Matrix\n",
        "print('='*10, 'Matrix', '='*10)\n",
        "m = np.array([[4,3,5,7],[1,12,11,9],[2,5,1,14]])\n",
        "print('정렬 전:(axis=1)\\n', m)\n",
        "print('정렬 후:(axis=1, default)\\n', np.sort(m)) # default: axis=1\n",
        "print('정렬 후:(axis=0)\\n', np.sort(m, axis=0))\n",
        "print('='*27)"
      ],
      "metadata": {
        "id": "brfjO_C33AXE",
        "colab": {
          "base_uri": "https://localhost:8080/"
        },
        "outputId": "67696f3c-bd4e-4c1d-f109-0345906ce20c"
      },
      "execution_count": 53,
      "outputs": [
        {
          "output_type": "stream",
          "name": "stdout",
          "text": [
            "========== \bVector ==========\n",
            "정렬 전:  [4, 3, 5, 7]\n",
            "정렬 후:  [3 4 5 7]\n",
            "========== Matrix ==========\n",
            "정렬 전:(axis=1)\n",
            " [[ 4  3  5  7]\n",
            " [ 1 12 11  9]\n",
            " [ 2  5  1 14]]\n",
            "정렬 후:(axis=1, default)\n",
            " [[ 3  4  5  7]\n",
            " [ 1  9 11 12]\n",
            " [ 1  2  5 14]]\n",
            "정렬 후:(axis=0)\n",
            " [[ 1  3  1  7]\n",
            " [ 2  5  5  9]\n",
            " [ 4 12 11 14]]\n",
            "===========================\n"
          ]
        }
      ]
    },
    {
      "cell_type": "code",
      "source": [
        "# argsort(): 소팅 인덱스를 가져오는 함수\n",
        "a = np.array([42,38,12,25])\n",
        "indices = np.argsort(a)\n",
        "print(indices)\n",
        "print(a[indices]) # 정렬 결과를 값으로 표현하기\n",
        "print(a[indices][::-1]) # 정렬 전으로 되돌리기"
      ],
      "metadata": {
        "id": "Zx_sDrEe6ODd",
        "colab": {
          "base_uri": "https://localhost:8080/"
        },
        "outputId": "acd9e90d-f431-4614-ec59-5b569f6216c2"
      },
      "execution_count": 54,
      "outputs": [
        {
          "output_type": "stream",
          "name": "stdout",
          "text": [
            "[2 3 1 0]\n",
            "[12 25 38 42]\n",
            "[42 38 25 12]\n"
          ]
        }
      ]
    },
    {
      "cell_type": "code",
      "source": [
        "# 통계, 수학 함수\n",
        "a = np.arange(1, 13).reshape(3,4)\n",
        "\n",
        "# 총합\n",
        "print('='*10, '총합', '='*10)\n",
        "print(a.sum())\n",
        "\n",
        "\n",
        "# 평균\n",
        "print('='*10, '평균', '='*10)\n",
        "print('전체: ', a.mean())\n",
        "print('axis=0: ', a.mean(axis=0))\n",
        "print('axis=1: ', a.mean(axis=1))\n",
        "\n",
        "# 분산\n",
        "print('='*10, '분산', '='*10)\n",
        "print(a.var())\n",
        "\n",
        "# 표준편차\n",
        "print('='*10, '표준편차', '='*10)\n",
        "print(a.std())"
      ],
      "metadata": {
        "id": "AsPsci7p8SV1",
        "colab": {
          "base_uri": "https://localhost:8080/"
        },
        "outputId": "7dc81fbc-1a1b-430f-95a2-00c35c11a3c7"
      },
      "execution_count": 55,
      "outputs": [
        {
          "output_type": "stream",
          "name": "stdout",
          "text": [
            "========== 총합 ==========\n",
            "78\n",
            "========== 평균 ==========\n",
            "전체:  6.5\n",
            "axis=0:  [5. 6. 7. 8.]\n",
            "axis=1:  [ 2.5  6.5 10.5]\n",
            "========== 분산 ==========\n",
            "11.916666666666666\n",
            "========== 표준편차 ==========\n",
            "3.452052529534663\n"
          ]
        }
      ]
    },
    {
      "cell_type": "code",
      "source": [
        "# concatenate\n",
        "a = np.arange(1,5).reshape(2,2) # 2차원\n",
        "b = np.arange(5,7).reshape(1,2) # 1차원\n",
        "print('='*10, '붙일놈 1', '='*10)\n",
        "print(a)\n",
        "print('='*10, '붙일놈 2', '='*10)\n",
        "print(b)\n",
        "\n",
        "print('='*10, 'concatenate(axis=0)', '='*10)\n",
        "print(np.concatenate((a,b), axis=0))\n",
        "print('='*10, 'concatenate(axis=1)', '='*10)\n",
        "print('     ValueError - transpose 필요\\n')\n",
        "\n",
        "# 전치행렬\n",
        "b_t = b.T # (1,2) -> (2,1)\n",
        "print('='*10, '붙일놈 2 - 전치행렬 적용', '='*10)\n",
        "print(b_t)\n",
        "print('='*10, 'Transpose 후 hstack', '='*10)\n",
        "print(np.hstack((a,b_t)))"
      ],
      "metadata": {
        "id": "VQBU9ckU995e",
        "colab": {
          "base_uri": "https://localhost:8080/"
        },
        "outputId": "c7a340cd-8e89-4030-826c-cd12ae68d9cd"
      },
      "execution_count": 56,
      "outputs": [
        {
          "output_type": "stream",
          "name": "stdout",
          "text": [
            "========== 붙일놈 1 ==========\n",
            "[[1 2]\n",
            " [3 4]]\n",
            "========== 붙일놈 2 ==========\n",
            "[[5 6]]\n",
            "========== concatenate(axis=0) ==========\n",
            "[[1 2]\n",
            " [3 4]\n",
            " [5 6]]\n",
            "========== concatenate(axis=1) ==========\n",
            "     ValueError - transpose 필요\n",
            "\n",
            "========== 붙일놈 2 - 전치행렬 적용 ==========\n",
            "[[5]\n",
            " [6]]\n",
            "========== Transpose 후 hstack ==========\n",
            "[[1 2 5]\n",
            " [3 4 6]]\n"
          ]
        }
      ]
    },
    {
      "cell_type": "markdown",
      "source": [
        "## 5️⃣ Array operation\n",
        "- 행렬간 자릿수대로 기본적인 사칙연산 가능!\n",
        "- ⭐️ 내적 ( Dot product )\n",
        "  - array1.dot ( array2 )\n",
        "  - array1의 행수와 array2의 열수가 일치해야함\n",
        "  - 예 ) (2,3) dot (3,2) ==> (2,2)\n",
        "- Transpose ( )\n",
        "- Broadcasting : shape이 다른 배열간 연산 지원\n",
        "  - Scalar : Vector의 원소\n",
        "    - 예 ) scalar = 3\n",
        "    - array + scalar = array의 전체 원소에 3을 더함\n",
        "  - Matrix와 Vector간의 연산도 가능\n",
        "    - 한 축의 길이가 서로 같아야 하는듯?"
      ],
      "metadata": {
        "id": "vy_um6LUCbbD"
      }
    },
    {
      "cell_type": "code",
      "source": [
        "# 기본 연산\n",
        "a = np.arange(1,7).reshape(2,3)\n",
        "print('a:\\n', a)\n",
        "print('a + a:\\n', a + a)"
      ],
      "metadata": {
        "id": "wtFdwW-o-dO-",
        "colab": {
          "base_uri": "https://localhost:8080/"
        },
        "outputId": "9d29e7bf-0128-4d82-fb80-8972ebf76085"
      },
      "execution_count": 57,
      "outputs": [
        {
          "output_type": "stream",
          "name": "stdout",
          "text": [
            "a:\n",
            " [[1 2 3]\n",
            " [4 5 6]]\n",
            "a + a:\n",
            " [[ 2  4  6]\n",
            " [ 8 10 12]]\n"
          ]
        }
      ]
    },
    {
      "cell_type": "code",
      "source": [
        "# dot product (내적) - 더 중요\n",
        "print('a:\\n', a)\n",
        "print('a.T:\\n', a.T)\n",
        "print('Dot product:\\n', np.dot(a, a.T))"
      ],
      "metadata": {
        "id": "1y3bBjFKESet",
        "colab": {
          "base_uri": "https://localhost:8080/"
        },
        "outputId": "39b2128a-a0f2-42a8-e764-c8132555d23a"
      },
      "execution_count": 58,
      "outputs": [
        {
          "output_type": "stream",
          "name": "stdout",
          "text": [
            "a:\n",
            " [[1 2 3]\n",
            " [4 5 6]]\n",
            "a.T:\n",
            " [[1 4]\n",
            " [2 5]\n",
            " [3 6]]\n",
            "Dot product:\n",
            " [[14 32]\n",
            " [32 77]]\n"
          ]
        }
      ]
    },
    {
      "cell_type": "code",
      "source": [
        "# Broadcasting\n",
        "# scalar = 3\n",
        "print('-'*10)\n",
        "\n",
        "b = np.array([10,20,30])\n",
        "\n",
        "print('a:\\n', a)\n",
        "print('b:\\n', b)\n",
        "print('-'*10)\n",
        "print('a + 3:\\n', a+3)\n",
        "print('a // 3:\\n', a//3)\n",
        "print('a % 3:\\n', a%3)\n",
        "print('a + b:\\n', a + b)\n",
        "\n",
        "print('-'*10)"
      ],
      "metadata": {
        "id": "G6_74ug1E41B",
        "colab": {
          "base_uri": "https://localhost:8080/"
        },
        "outputId": "ac1f10dc-42e2-4520-b35c-96e4930b1d28"
      },
      "execution_count": 59,
      "outputs": [
        {
          "output_type": "stream",
          "name": "stdout",
          "text": [
            "----------\n",
            "a:\n",
            " [[1 2 3]\n",
            " [4 5 6]]\n",
            "b:\n",
            " [10 20 30]\n",
            "----------\n",
            "a + 3:\n",
            " [[4 5 6]\n",
            " [7 8 9]]\n",
            "a // 3:\n",
            " [[0 0 1]\n",
            " [1 1 2]]\n",
            "a % 3:\n",
            " [[1 2 0]\n",
            " [1 2 0]]\n",
            "a + b:\n",
            " [[11 22 33]\n",
            " [14 25 36]]\n",
            "----------\n"
          ]
        }
      ]
    },
    {
      "cell_type": "markdown",
      "source": [
        "## 6️⃣ Comparison\n",
        "- 배열의 크기가 동일할 때 원소간 비교 가능\n",
        "  - any & all\n",
        "    - any : 하나라도 조건에 만족하면 True\n",
        "    - all : 모두가 조건을 만족해야 True\n",
        "    - 예 ) (test_a > test_b).any()\n",
        "  - Logical operation\n",
        "    - np.logical_and()\n",
        "      - 예 ) np.logical_and(a>0, a\\<3)\n",
        "    - np.logical_not(array)\n",
        "    - np.logical_or(array)\n",
        "    - np.where(array)\n",
        "    - np.isnan(array)\n",
        "  - ⭐️ argmax & argmin : array내 최대값 또는 최소값의 index를 리턴\n",
        "    - 이미지 분석에 많이 쓰임 : 확률값이 제일 높은 것들의 인덱스를 뽑으면 그게 어떤 사물(?)인지 알 수 있음\n",
        "\n",
        "\n",
        "\n"
      ],
      "metadata": {
        "id": "OBbEpCNkGz15"
      }
    },
    {
      "cell_type": "code",
      "source": [
        "a = np.arange(8)\n",
        "print('a: ', a)\n",
        "print('a > 4: ', a>4)\n",
        "print(np.all(a>4))\n",
        "print(np.any(a>4))"
      ],
      "metadata": {
        "id": "KfieEUcZFqjM",
        "colab": {
          "base_uri": "https://localhost:8080/"
        },
        "outputId": "bb3e83ec-6323-4eef-f7bb-457535fdbc2e"
      },
      "execution_count": 60,
      "outputs": [
        {
          "output_type": "stream",
          "name": "stdout",
          "text": [
            "a:  [0 1 2 3 4 5 6 7]\n",
            "a > 4:  [False False False False False  True  True  True]\n",
            "False\n",
            "True\n"
          ]
        }
      ]
    },
    {
      "cell_type": "code",
      "source": [
        "x = np.array([1,3,0])\n",
        "y = np.array([4,5,6])\n",
        "print(x > y)\n",
        "print(x == y)"
      ],
      "metadata": {
        "id": "tBb3DqRwPog7",
        "colab": {
          "base_uri": "https://localhost:8080/"
        },
        "outputId": "73e4fcdc-9407-4f54-a796-7c2439e16c0c"
      },
      "execution_count": 61,
      "outputs": [
        {
          "output_type": "stream",
          "name": "stdout",
          "text": [
            "[False False False]\n",
            "[False False False]\n"
          ]
        }
      ]
    },
    {
      "cell_type": "code",
      "source": [
        "a = np.array([1,3,0], float)\n",
        "b = np.logical_and(a>0, a<3) # 0 < a < 3\n",
        "c = np.logical_not(b)\n",
        "print('a: ', a)\n",
        "print('np.logical_and(a>0, a<3): ', b)\n",
        "print('np.logical_not(b): ', c)\n",
        "print('np.logical_or(b, c): ', np.logical_or(b, c))\n",
        "\n",
        "# XOR도 가능\n",
        "print('xor: ', np.logical_xor(b,c))"
      ],
      "metadata": {
        "id": "Sanmw-MwP8j_",
        "colab": {
          "base_uri": "https://localhost:8080/"
        },
        "outputId": "4509276a-39aa-4305-fe2c-de0436e98c8b"
      },
      "execution_count": 62,
      "outputs": [
        {
          "output_type": "stream",
          "name": "stdout",
          "text": [
            "a:  [1. 3. 0.]\n",
            "np.logical_and(a>0, a<3):  [ True False False]\n",
            "np.logical_not(b):  [False  True  True]\n",
            "np.logical_or(b, c):  [ True  True  True]\n",
            "xor:  [ True  True  True]\n"
          ]
        }
      ]
    },
    {
      "cell_type": "code",
      "source": [
        "# where 1: where(조건, true일 경우의 값, false인 경우의 값)\n",
        "np.where(a>1, 10, 0)\n",
        "# where 2: 참인경우 index값을 반환\n",
        "np.where(np.arange(10,20)>15)"
      ],
      "metadata": {
        "id": "T5bqOAYGRgPW",
        "colab": {
          "base_uri": "https://localhost:8080/"
        },
        "outputId": "9b3b98b2-0295-49a4-e77c-87bc77a5522e"
      },
      "execution_count": 63,
      "outputs": [
        {
          "output_type": "execute_result",
          "data": {
            "text/plain": [
              "(array([6, 7, 8, 9]),)"
            ]
          },
          "metadata": {},
          "execution_count": 63
        }
      ]
    },
    {
      "cell_type": "code",
      "source": [
        "a = np.array([np.Inf, np.NaN, 1, np.nan, np.inf, np.NaN])\n",
        "print('a: ', a)\n",
        "print('np.isnan(a): ', np.isnan(a))\n",
        "print('np.isinf(a): ', np.isinf(a))"
      ],
      "metadata": {
        "id": "Q1tW1nVKR9vV",
        "colab": {
          "base_uri": "https://localhost:8080/"
        },
        "outputId": "e34ca237-30c4-4391-b9f5-d9f342b4667b"
      },
      "execution_count": 64,
      "outputs": [
        {
          "output_type": "stream",
          "name": "stdout",
          "text": [
            "a:  [inf nan  1. nan inf nan]\n",
            "np.isnan(a):  [False  True False  True False  True]\n",
            "np.isinf(a):  [ True False False False  True False]\n"
          ]
        }
      ]
    },
    {
      "cell_type": "code",
      "source": [
        "# argmax, argmin\n",
        "a = np.array([1,2,4,5,8,78,23,3])\n",
        "print('a: ', a)\n",
        "print('np.argmax(a): ', np.argmax(a)) # 최댓값인 5의 인덱스를 반환\n",
        "print('np.argmin(a): ', np.argmin(a)) # 최솟값인 1의 인덱스를 반환"
      ],
      "metadata": {
        "id": "SLAoOPzTSmU-",
        "colab": {
          "base_uri": "https://localhost:8080/"
        },
        "outputId": "f567bae4-d56f-452b-fcd1-d188ddabf8f5"
      },
      "execution_count": 65,
      "outputs": [
        {
          "output_type": "stream",
          "name": "stdout",
          "text": [
            "a:  [ 1  2  4  5  8 78 23  3]\n",
            "np.argmax(a):  5\n",
            "np.argmin(a):  0\n"
          ]
        }
      ]
    },
    {
      "cell_type": "code",
      "source": [
        "# 아래의 함수는 차원을 무시하기 때문에 위와 동일한 결과를 얻음.\n",
        "b = a.reshape(2, -1)\n",
        "print('b:\\n', b)\n",
        "print('np.argmax(a): ', np.argmax(b))\n",
        "print('np.argmin(a): ', np.argmin(b))\n",
        "\n",
        "# 해결방안: 기준축을 제시\n",
        "print('np.argmax(a, axis=1): ', np.argmax(b, axis=1))\n",
        "print('np.argmin(a, axis=0): ', np.argmin(b, axis=0))"
      ],
      "metadata": {
        "id": "kCcFaQJwTDCt",
        "colab": {
          "base_uri": "https://localhost:8080/"
        },
        "outputId": "51d462f8-9889-4c20-b3d5-193e7379cda8"
      },
      "execution_count": 66,
      "outputs": [
        {
          "output_type": "stream",
          "name": "stdout",
          "text": [
            "b:\n",
            " [[ 1  2  4  5]\n",
            " [ 8 78 23  3]]\n",
            "np.argmax(a):  5\n",
            "np.argmin(a):  0\n",
            "np.argmax(a, axis=1):  [3 1]\n",
            "np.argmin(a, axis=0):  [0 0 0 1]\n"
          ]
        }
      ]
    },
    {
      "cell_type": "markdown",
      "source": [
        "## 7️⃣ Boolean & fancy index\n",
        "- Boolean index : 조건이 True인 index만 추출\n",
        "- fancy index\n",
        "  - 반드시 integer로 선언\n",
        "  - array1[array2]\n",
        "    - array2의 값을 인덱스로 하여 array1의 값들을 추출함\n",
        "  - array1[array2, array3]\n",
        "    - array2를 row index, array3을 column index로 변환하여 표시\n",
        "\n"
      ],
      "metadata": {
        "id": "Xmeexs8YJtZW"
      }
    },
    {
      "cell_type": "code",
      "source": [
        "# Boolean indexing\n",
        "a = np.array([1,2,4,5,8,78,23,3])\n",
        "print(a[a > 4])"
      ],
      "metadata": {
        "id": "pSaxlvi2KoC5",
        "colab": {
          "base_uri": "https://localhost:8080/"
        },
        "outputId": "e2cec14a-ad68-42af-9054-9581a9030344"
      },
      "execution_count": 67,
      "outputs": [
        {
          "output_type": "stream",
          "name": "stdout",
          "text": [
            "[ 5  8 78 23]\n"
          ]
        }
      ]
    },
    {
      "cell_type": "code",
      "source": [
        "# Fancy indexing - Vector\n",
        "a = np.array([2,4,6,8])\n",
        "b = np.array([1,3,2,0,0,1,3]) # 없는 인덱스값을 넣으면 IndexError 발생\n",
        "print(a[b])"
      ],
      "metadata": {
        "id": "QwaodHhAVWod",
        "colab": {
          "base_uri": "https://localhost:8080/"
        },
        "outputId": "2851ad6e-7f3f-4228-c7bb-f4cb3335767a"
      },
      "execution_count": 68,
      "outputs": [
        {
          "output_type": "stream",
          "name": "stdout",
          "text": [
            "[4 8 6 2 2 4 8]\n"
          ]
        }
      ]
    },
    {
      "cell_type": "code",
      "source": [
        "# Fancy indexing - Matrix\n",
        "a = np.arange(1,13).reshape(3,4)\n",
        "b = np.array([1,2,0,1])\n",
        "c = np.array([2,1,3,0])\n",
        "print('a:\\n', a)\n",
        "print('b:\\n', b)\n",
        "print('c:\\n', c)\n",
        "print('a[b,c]:\\n', a[b,c])\n",
        "# a[1,2] = 7\n",
        "# a[2,1] = 10\n",
        "# a[0,3] = 4\n",
        "# a[1,0] = 5"
      ],
      "metadata": {
        "id": "ntRoLPnjVo0i",
        "colab": {
          "base_uri": "https://localhost:8080/"
        },
        "outputId": "83bcf341-0981-418a-9a22-b89898c651a9"
      },
      "execution_count": 69,
      "outputs": [
        {
          "output_type": "stream",
          "name": "stdout",
          "text": [
            "a:\n",
            " [[ 1  2  3  4]\n",
            " [ 5  6  7  8]\n",
            " [ 9 10 11 12]]\n",
            "b:\n",
            " [1 2 0 1]\n",
            "c:\n",
            " [2 1 3 0]\n",
            "a[b,c]:\n",
            " [ 7 10  4  5]\n"
          ]
        }
      ]
    },
    {
      "cell_type": "markdown",
      "source": [
        "## 8️⃣ 기술통계\n",
        "- 표본평균 : np.mean()\n",
        "- 표본분산\n",
        "  - np.var(x) : 모분산, 분모가 n\n",
        "  - np.var(x, ddof=1) : 표본분산, 분모가 n-1\n",
        "- 표본표준편차 : np.std()\n",
        "- 최대값, 최소값 : np.max(), np.min()\n",
        "- 중앙값 : np.median()\n",
        "- 사분위수(quartile)\n",
        "  - np.percentile(x, 0) : 최소값\n",
        "  - np.percentile(x, 25) : 1사분위 수\n",
        "  - np.percentile(x, 50) : 2사분위 수\n",
        "  - np.percentile(x, 75) : 3사분위 수\n",
        "  - np.percentile(x, 100) : 최대값"
      ],
      "metadata": {
        "id": "y60uDns2Kr1u"
      }
    },
    {
      "cell_type": "code",
      "source": [
        "# 사분위수\n",
        "a = np.random.randint(1, 10000, 1000)\n",
        "print('='*20, '사분위수', '='*20)\n",
        "print('최소값: ', np.percentile(a, 0))\n",
        "print('1분위: ', np.percentile(a, 25))\n",
        "print('2분위: ', np.percentile(a, 50))\n",
        "print('3분위: ', np.percentile(a, 75))\n",
        "print('최대값: ', np.percentile(a, 100))\n",
        "print('-'*48)\n",
        "\n",
        "# 시각화\n",
        "plt.boxplot(a)\n",
        "plt.show()"
      ],
      "metadata": {
        "id": "9oWQv6rRKwHM",
        "colab": {
          "base_uri": "https://localhost:8080/",
          "height": 390
        },
        "outputId": "2951929f-cda7-48a7-a943-2ff990065c20"
      },
      "execution_count": 70,
      "outputs": [
        {
          "output_type": "stream",
          "name": "stdout",
          "text": [
            "==================== 사분위수 ====================\n",
            "최소값:  1.0\n",
            "1분위:  2639.25\n",
            "2분위:  5066.0\n",
            "3분위:  7568.75\n",
            "최대값:  9975.0\n",
            "------------------------------------------------\n"
          ]
        },
        {
          "output_type": "display_data",
          "data": {
            "text/plain": [
              "<Figure size 432x288 with 1 Axes>"
            ],
            "image/png": "[encoded data removed]"
          },
          "metadata": {
            "needs_background": "light"
          }
        }
      ]
    },
    {
      "cell_type": "markdown",
      "source": [
        "## 📚 퀴즈"
      ],
      "metadata": {
        "id": "VyVP1T8UfeCJ"
      }
    },
    {
      "cell_type": "code",
      "source": [
        "# 문제 1\n",
        "import numpy as np\n",
        "a = np.arange(1, 9).reshape(2,4)*10\n",
        "print(a)"
      ],
      "metadata": {
        "colab": {
          "base_uri": "https://localhost:8080/"
        },
        "id": "OiEnfmLVWeWj",
        "outputId": "ae12e392-f7f5-48aa-fde4-f3757cc12856"
      },
      "execution_count": 71,
      "outputs": [
        {
          "output_type": "stream",
          "name": "stdout",
          "text": [
            "[[10 20 30 40]\n",
            " [50 60 70 80]]\n"
          ]
        }
      ]
    },
    {
      "cell_type": "code",
      "source": [
        "# 문제 2\n",
        "m = np.arange(15).reshape(3,5)\n",
        "# 1) 값 7을 인덱싱\n",
        "print(m[1, 2])\n",
        "\n",
        "# 2) 값 14을 인덱싱\n",
        "print(m[-1, -1])\n",
        "\n",
        "# 3) 배열 [6, 7]을 슬라이싱\n",
        "print(m[1, 1:3])\n",
        "\n",
        "# 4) 배열 [7, 12]을 슬라이싱\n",
        "print(m[1:, 2])\n",
        "\n",
        "# 5) 배열 [[3,4], [8,9]] 을 슬라이싱\n",
        "print(m[:-1, 3:])"
      ],
      "metadata": {
        "colab": {
          "base_uri": "https://localhost:8080/"
        },
        "id": "KBqrJgJ1YWBP",
        "outputId": "d409c8d2-dbad-4e17-de68-fdfce55106a4"
      },
      "execution_count": 72,
      "outputs": [
        {
          "output_type": "stream",
          "name": "stdout",
          "text": [
            "7\n",
            "14\n",
            "[6 7]\n",
            "[ 7 12]\n",
            "[[3 4]\n",
            " [8 9]]\n"
          ]
        }
      ]
    },
    {
      "cell_type": "code",
      "source": [
        "# 문제 3\n",
        "f = m.flatten()\n",
        "print('f: ', f)\n",
        "# 1) 이 배열에서 3의 배수를 찾기\n",
        "# result = [ i for i in f if i%3==0 and i!=0 ]\n",
        "result = f[f%3==0]\n",
        "print(result)\n",
        "# 2) 이 배열에서 4로 나누면 1이 남는 수를 찾기\n",
        "# result = [ i for i in f if i%4==1 ]\n",
        "result = f[f%4==1]\n",
        "print(result)\n",
        "# 3) 이 배열에서 3으로 나누면 나누어지고 4로 나누면 1이 남는 수를 찾기\n",
        "# result = [ i for i in f if i%3==0 and i%4==1 and i!=0]\n",
        "result = f[np.logical_and(f%3==0,f%4==1)]\n",
        "print(result)"
      ],
      "metadata": {
        "id": "udQriP1YauEN",
        "colab": {
          "base_uri": "https://localhost:8080/"
        },
        "outputId": "f486d364-80b1-40b5-980a-acfda1d538cf"
      },
      "execution_count": 73,
      "outputs": [
        {
          "output_type": "stream",
          "name": "stdout",
          "text": [
            "f:  [ 0  1  2  3  4  5  6  7  8  9 10 11 12 13 14]\n",
            "[ 0  3  6  9 12]\n",
            "[ 1  5  9 13]\n",
            "[9]\n"
          ]
        }
      ]
    },
    {
      "cell_type": "code",
      "source": [
        "# 문제 4\n",
        "a1 = np.eye(5)*2\n",
        "a2 = np.eye(5, k=1)\n",
        "a3 = np.eye(5, k=-1)*3\n",
        "a = a1 + a2 + a3\n",
        "print(a)"
      ],
      "metadata": {
        "colab": {
          "base_uri": "https://localhost:8080/"
        },
        "id": "MZeEcqApJEJ0",
        "outputId": "054b5c07-5291-483d-a66d-4d45729cfa4f"
      },
      "execution_count": 74,
      "outputs": [
        {
          "output_type": "stream",
          "name": "stdout",
          "text": [
            "[[2. 1. 0. 0. 0.]\n",
            " [3. 2. 1. 0. 0.]\n",
            " [0. 3. 2. 1. 0.]\n",
            " [0. 0. 3. 2. 1.]\n",
            " [0. 0. 0. 3. 2.]]\n"
          ]
        }
      ]
    },
    {
      "cell_type": "code",
      "source": [
        "# 문제 5\n",
        "import random\n",
        "np.random.seed(2023)\n",
        "# a = []\n",
        "# [ a.append(round(random.uniform(0, 10), 4)) for i in range(30) ]\n",
        "# a = np.array(a).reshape(5,6)\n",
        "\n",
        "m = np.random.uniform(0,10,30).reshape(5,6).round(4)\n",
        "\n",
        "print(m)\n",
        "\n",
        "# 1) 전체의 최댓값\n",
        "max = np.max(m)\n",
        "print('max: ', max)\n",
        "# 2) 각 행의 합\n",
        "print('sum of rows: ', np.sum(m, axis=1))\n",
        "# 3) 각 행의 최댓값\n",
        "print('max of rows: ', np.max(m, axis=1))\n",
        "# 4) 각 열의 평균\n",
        "print('mean of columns: ', np.mean(m, axis=0))\n",
        "# 5) 각 열의 최솟값\n",
        "print('min of columns: ', np.min(m, axis=0))\n",
        "\n",
        "# 느낀점: 결과적으로 행 열 단위 통계낼때 실제로 어떤방향의 값들을 기준으로 내는지 보기"
      ],
      "metadata": {
        "colab": {
          "base_uri": "https://localhost:8080/"
        },
        "id": "oDS9Iv6aLFGS",
        "outputId": "20d54d0d-7016-4537-b02d-492bc928e95e"
      },
      "execution_count": 75,
      "outputs": [
        {
          "output_type": "stream",
          "name": "stdout",
          "text": [
            "[[3.2199 8.9042 5.8805 1.266  1.4134 4.679 ]\n",
            " [0.2209 7.2727 5.2439 5.4494 4.5637 5.0138]\n",
            " [3.9447 1.5117 3.6088 1.6208 3.3796 1.8032]\n",
            " [3.9099 0.3565 5.6486 2.0346 3.206  3.7656]\n",
            " [1.8405 1.0395 4.5493 1.9586 3.7853 9.3053]]\n",
            "max:  9.3053\n",
            "sum of rows:  [25.363  27.7644 15.8688 18.9212 22.4785]\n",
            "max of rows:  [8.9042 7.2727 3.9447 5.6486 9.3053]\n",
            "mean of columns:  [2.62718 3.81692 4.98622 2.46588 3.2696  4.91338]\n",
            "min of columns:  [0.2209 0.3565 3.6088 1.266  1.4134 1.8032]\n"
          ]
        }
      ]
    },
    {
      "cell_type": "code",
      "source": [
        "# 문제 6\n",
        "a = np.array([[1,2,3,4], [46,99,100,71], [81,59,90,100]])\n",
        "eng_sorted = np.argsort(a[1])\n",
        "# result = a.copy()\n",
        "# for i in range(3):\n",
        "#   for j in range(4):\n",
        "#     result[i][j] = a[i][eng_sorted[j]]\n",
        "# print(eng_sorted)\n",
        "# print(result)\n",
        "\n",
        "# 내림차순 \n",
        "print(a[:, np.argsort(a[1])[::-1]])\n",
        "# 느낀점: 반복문 안에서 리스트를 직접 바꾸려고 하지 맙시다(반복문을 도는 동시에 속에서 값 바뀌어서 꼬임)"
      ],
      "metadata": {
        "colab": {
          "base_uri": "https://localhost:8080/"
        },
        "id": "zbRf8D6pLOVA",
        "outputId": "cb812f22-85a5-489d-ea39-5d7d203a9bad"
      },
      "execution_count": 76,
      "outputs": [
        {
          "output_type": "stream",
          "name": "stdout",
          "text": [
            "[[  3   2   4   1]\n",
            " [100  99  71  46]\n",
            " [ 90  59 100  81]]\n"
          ]
        }
      ]
    },
    {
      "cell_type": "code",
      "source": [
        "# 문제 7\n",
        "np.random.seed(2023)\n",
        "# dice = range(1,6+1)\n",
        "# dices_100 = np.array(random.choices(dice, k=100))\n",
        "# print(dices_100.mean())\n",
        "\n",
        "dic = np.random.randint(1, 7, 100)\n",
        "mean = np.mean(dic)\n",
        "print(mean)"
      ],
      "metadata": {
        "colab": {
          "base_uri": "https://localhost:8080/"
        },
        "id": "FzhxRxchLS9-",
        "outputId": "4d3de6ed-11c7-45b9-ce85-a13a5005427f"
      },
      "execution_count": 77,
      "outputs": [
        {
          "output_type": "stream",
          "name": "stdout",
          "text": [
            "3.6\n"
          ]
        }
      ]
    },
    {
      "cell_type": "code",
      "source": [
        "# unique() : 중복제거 - set보다 많이씀\n",
        "np.unique(dic) # set([1,1,2,2,3,3] ==> [1,2,3]) 과 같음\n"
      ],
      "metadata": {
        "colab": {
          "base_uri": "https://localhost:8080/"
        },
        "id": "UJBjEbGs-UAv",
        "outputId": "a074f225-b817-4b7f-d65d-e1b7096aca16"
      },
      "execution_count": 78,
      "outputs": [
        {
          "output_type": "execute_result",
          "data": {
            "text/plain": [
              "array([1, 2, 3, 4, 5, 6])"
            ]
          },
          "metadata": {},
          "execution_count": 78
        }
      ]
    },
    {
      "cell_type": "code",
      "source": [
        "# 문제 8 : 시드값 주셈, 초기값 10,000, normalize, sample(250)\n",
        "price = 10000\n",
        "np.random.seed(2023)\n",
        "rate1 = np.random.normal(loc=0.0, scale=0.01, size=250)\n",
        "\n",
        "earning = price * rate1\n",
        "result = price + earning\n",
        "\n",
        "print('='*50)\n",
        "print(result)\n",
        "\n",
        "# 느낀점: 퍼센트를 조심합시다!"
      ],
      "metadata": {
        "id": "pRAuaDszY3H8",
        "colab": {
          "base_uri": "https://localhost:8080/"
        },
        "outputId": "75eb37be-4b6e-4981-d7bd-40897217cd2a"
      },
      "execution_count": 83,
      "outputs": [
        {
          "output_type": "stream",
          "name": "stdout",
          "text": [
            "==================================================\n",
            "[10071.16735303  9967.55150439  9899.81293613 10023.6250794\n",
            "  9989.78401587  9885.87073746 10265.44072609 10144.06051935\n",
            " 10009.89022704  9687.84678469  9892.34783546  9967.43180423\n",
            "  9896.45021245  9957.3679621   9897.06386047  9947.82257957\n",
            "  9957.72424324  9990.07558253  9861.97419867 10030.19028161\n",
            "  9896.64006772  9849.78224769  9862.04066002  9979.55451827\n",
            " 10064.21249444  9981.88244691 10077.17491623 10074.15234835\n",
            " 10132.47627338 10043.92867111  9944.21265031 10092.70795762\n",
            "  9939.9273408   9848.02515669 10209.73291882 10089.2561957\n",
            " 10159.64876984  9936.12379405  9886.69527521 10065.65969451\n",
            " 10059.57867415  9918.88803541  9969.94653288 10100.83912015\n",
            "  9891.22376514  9821.29205312 10034.06187879  9874.64986476\n",
            " 10037.07879453 10045.525376    9771.62798832  9999.91779969\n",
            " 10239.88759831  9741.68951399 10131.10088438  9842.05224921\n",
            "  9915.93173886  9983.44906012  9793.15896216 10045.27387418\n",
            " 10005.11316257  9976.19392524  9979.19910178 10040.13041102\n",
            " 10018.31690628 10123.58302635  9970.81998939 10002.99924534\n",
            "  9913.15959266 10060.43462593 10072.85544619 10136.48195814\n",
            " 10134.26937861  9854.32915945 10096.93573843 10003.65367872\n",
            " 10243.18215466 10042.25987402 10184.39216251  9977.84380459\n",
            " 10033.71172372  9944.28195034 10005.31412788 10105.38035878\n",
            "  9934.14847363 10184.44487119  9992.44855812 10026.42627407\n",
            "  9860.46406365 10070.84156817 10076.275585   10036.72958597\n",
            "  9942.31718918  9958.39950482  9986.24582851 10129.49874735\n",
            " 10052.05889758  9980.57266126  9961.44072735  9693.42157139\n",
            "  9933.18194485 10005.6964973   9909.06323117  9851.2089503\n",
            " 10116.96110313 10039.36774344 10053.05694075  9941.35705856\n",
            " 10105.65000261  9926.60817561  9991.60322628 10012.72881588\n",
            " 10034.44225492 10068.59699461 10039.99082583 10089.34579934\n",
            " 10038.47930901 10064.11131996  9942.2686417   9918.00525277\n",
            " 10074.68188513 10183.68046563  9854.45097837  9917.12793321\n",
            "  9939.08560297  9892.87033494  9881.30565364  9945.93616597\n",
            "  9936.15053569 10015.04113882 10091.94503015 10091.01464628\n",
            " 10160.52344457 10066.71648132 10095.0337791  10073.43293313\n",
            " 10101.54649117 10062.73858026 10106.26545611 10026.28846557\n",
            "  9791.35141845  9892.36310938  9949.24810227  9972.54985514\n",
            " 10184.88108881  9930.15297529  9921.76414453  9878.37343096\n",
            " 10142.66474795 10106.76976498 10008.72352456  9780.65674338\n",
            " 10152.98344753  9944.36377154 10044.41689897  9931.79763812\n",
            "  9792.05769434 10019.12899032  9907.89722713 10013.7744035\n",
            " 10050.90418417 10020.33730372  9936.75906214  9964.45286665\n",
            " 10045.7176174  10081.90815386 10193.10455324 10016.18819676\n",
            " 10102.97564634  9981.12995249  9931.20807751 10026.13505879\n",
            "  9896.40710905  9894.67075218  9921.77855593  9965.91125293\n",
            "  9963.30469068 10258.92470542  9969.01637182  9940.32506703\n",
            "  9934.60925806 10019.48189763 10052.59344791  9916.06784112\n",
            " 10038.48616083 10254.31711648  9832.11671468 10024.67495214\n",
            " 10078.98555389 10172.92782581  9889.2531515  10018.12058397\n",
            " 10012.78101593  9893.38576804 10129.66726697 10027.1512371\n",
            " 10111.33928754  9825.74206566  9937.43135944 10026.78842729\n",
            " 10092.92953953 10098.73329099  9979.08096316 10097.76954311\n",
            " 10069.2137589   9895.1463182  10008.02897384 10049.01496719\n",
            "  9927.51209513  9880.54974909 10145.60949781 10107.96343245\n",
            " 10136.92072952 10116.41424903  9851.07460696 10204.7200352\n",
            "  9835.43672536 10137.07054103 10121.76352477 10032.93502352\n",
            " 10201.39137432  9992.25207395  9844.99558905 10003.36738092\n",
            " 10116.97381591  9935.16640727 10024.87685962  9917.49992945\n",
            " 10040.31639919 10013.59357327  9939.4747985  10031.5229444\n",
            " 10136.93618638  9945.43477018  9816.16154699 10090.46044444\n",
            " 10158.73918006  9865.5936835  10227.66531537  9983.42986474\n",
            " 10022.83544894 10072.69799164  9798.52125283  9972.66748823\n",
            "  9946.85748555 10128.2016512  10013.91261488  9950.57542983\n",
            " 10004.96123195  9818.35037866]\n"
          ]
        }
      ]
    },
    {
      "cell_type": "code",
      "source": [
        "price_list = []\n",
        "earning2 = []\n",
        "np.random.seed(2023)\n",
        "price = 10000\n",
        "rate2 = np.random.normal(0, 0.01, 250)\n",
        "for i in range(250):\n",
        "  earning2.append(price*rate2[i])\n",
        "  price = price + (price*rate2[i])\n",
        "  price_list.append(price)\n",
        "\n",
        "\n",
        "\n",
        "print(earning2)\n",
        "print('='*50)\n",
        "# print(price_list)"
      ],
      "metadata": {
        "colab": {
          "base_uri": "https://localhost:8080/"
        },
        "id": "ym1ETD-VBWS_",
        "outputId": "ca5bafe5-5923-48ec-d299-b47ef7e546da"
      },
      "execution_count": 80,
      "outputs": [
        {
          "output_type": "stream",
          "name": "stdout",
          "text": [
            "[71.16735302628457, -32.67942296338621, -100.57266313671616, 23.478403728166725, -10.176543964679754, -113.57250720807806, 261.13115308587123, 145.48348826195314, 10.131804991903966, -320.09411422590455, -106.94485700214436, -32.0059126919121, -101.43060161165927, -41.32713764275918, -99.36001908000414, -49.846281592492986, -40.17626718690913, -9.391680565902565, -130.48702798191354, 28.147387266730057, -96.65677765708111, -139.0237924328535, -125.76089213511113, -18.380555727710583, 57.609218855535545, -16.358812919183936, 69.55700294989022, 67.34857337153035, 121.21325346105492, 40.7263666251873, -51.94777495934958, 85.84571796314138, -56.141781206399614, -141.17709604055767, 191.87053667737467, 83.36705173999636, 150.44605265754151, -61.155148846657845, -107.78514965654344, 61.75340589379534, 56.40208195097101, -77.24475728944527, -28.388448769224944, 94.96617746780056, -103.47403524654531, -168.14782570651954, 31.476368088348817, -116.22982877901671, 33.95002535075869, 41.83842925883546, -210.83240490429733, -0.07415404961642372, 216.40417560948418, -238.6135301972506, 117.97580094848081, -143.99831128352153, -75.43305278737188, -14.72603434645006, -183.7301638777821, 39.383491717388246, 4.468049145111035, -20.813165526777635, -18.142507727652042, 34.92886899061674, 16.006721646901042, 108.19417034469426, -25.8621561300928, 2.6504654810248884, -76.76482203788026, 52.95882390230932, 64.22901459797953, 121.19845485865446, 120.86096821871223, -132.88444909864742, 87.13898998930433, 3.316259807376696, 220.80481589860713, 39.3042879818949, 172.220818397052, -21.075286727959604, 31.996020418342855, -53.06064580663279, 5.032479983856545, 99.84824962520688, -63.05206196353954, 175.44083181070081, -7.315286508983664, 25.580516662977143, -135.42711068040165, 67.79615483154537, 73.513687452598, 35.669640324554194, -56.22394765975739, -40.3144774675043, -13.273532416790179, 124.80152729729946, 50.82030355758028, -19.06385056473281, -37.76431454385367, -299.1000751494499, -63.18963688092801, 5.351164663477772, -85.47266860457573, -138.57891357226487, 107.31275169615344, 36.54268694436602, 49.44342230660182, -54.93893124107625, 98.39649879588843, -69.07518707563761, -7.84490548457755, 11.88224355446381, 32.19248308305028, 64.3370622110139, 37.76465035677384, 84.7095842263493, 36.808547765955815, 61.563608160049206, -55.792594076128026, -78.78368741568337, 71.16883854048157, 176.34734272201177, -142.30494858340873, -79.84566011517893, -58.20348790987042, -101.73847876655614, -111.51360157140009, -50.19020665531826, -58.95424312719198, 13.799288429983573, 84.48059616920632, 84.39464142420955, 150.202407446879, 63.42896701327356, 90.953694064381, 70.9481368186704, 98.83085215931978, 61.68082475685692, 105.12930335375361, 26.283767378777963, -209.15969962353893, -105.64923442858046, -49.27850754015727, -26.517963074406605, 178.11242935780203, -68.53392596220999, -76.22886870723794, -117.57933341710766, 136.24000502974712, 103.41614268773776, 8.539735284849133, -214.90939454586635, 146.60324201501598, -54.13155348180803, 42.975213810715736, -66.28174850047148, -200.7082660453361, 18.07958322925453, -87.21657759849141, 12.923514348101891, 47.825455295627975, 19.20455016690542, -59.83997553997283, -33.42277062568588, 42.83264670848489, 77.09024497949294, 183.23462311778053, 15.657411963032382, 99.76047457826739, -18.469123254876667, -67.20327573994271, 25.35587247132697, -100.76705844589291, -101.39467869244649, -74.50636186617623, -32.21573891179237, -34.56086679779558, 242.9690613620088, -29.82713911365989, -57.269524407430545, -62.38044787610288, 18.463510212644138, 49.94130907695851, -80.11886567233512, 36.42927075771678, 241.65161534235492, -163.57928858605928, 23.638733254714847, 75.85528574062167, 167.3862903710742, -109.0516756410909, 17.64560895632633, 12.468554046718602, -104.14072974950354, 125.30855870789725, 26.578788422859127, 109.28776916663497, -172.951513999706, -61.01742626295189, 25.96082713613286, 90.29983236951689, 96.83091003743921, -20.718532335904584, 96.62987876772722, 69.0757707666902, -105.36892495803629, 7.9838271837237675, 48.778490340806016, -72.49176589922831, -118.59069740961328, 142.83491147860224, 107.44828594304987, 137.7386033045794, 118.71310428008977, -153.63419187488486, 208.04777769612446, -170.66196775503767, 139.811084263915, 125.90041360476698, 34.468636966266175, 211.463296085569, -8.299253078251798, -165.90557485073077, 3.5483356546020968, 123.30120618493052, -69.14000106369389, 26.357243845521396, -87.62697219539241, 42.468549543101346, 14.376948701583931, -64.1001867937819, 33.18281792157989, 144.60109697507505, -58.40850093369636, -195.71323767004213, 94.53317816577928, 167.38658874009613, -143.97795984635093, 240.60044844172577, -17.910269578237735, 24.64140091020059, 78.62648373834197, -219.49341484835566, -29.17644245292845, -56.57261197264138, 135.75119015593324, 14.92076635855701, -53.07977396905645, 5.301806726838493, -194.21566983221106]\n",
            "==================================================\n"
          ]
        }
      ]
    }
  ]
}