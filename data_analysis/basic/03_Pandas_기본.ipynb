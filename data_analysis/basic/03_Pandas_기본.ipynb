{
  "nbformat": 4,
  "nbformat_minor": 0,
  "metadata": {
    "colab": {
      "provenance": [],
      "toc_visible": true,
      "authorship_tag": "ABX9TyNSXIt7wDv1pixITNjGie64",
      "include_colab_link": true
    },
    "kernelspec": {
      "name": "python3",
      "display_name": "Python 3"
    },
    "language_info": {
      "name": "python"
    }
  },
  "cells": [
    {
      "cell_type": "markdown",
      "metadata": {
        "id": "view-in-github",
        "colab_type": "text"
      },
      "source": [
        "<a href=\"https://colab.research.google.com/github/Tazoria/TIL/blob/main/data_analysis/basic/03_Pandas_%EA%B8%B0%EB%B3%B8.ipynb\" target=\"_parent\"><img src=\"https://colab.research.google.com/assets/colab-badge.svg\" alt=\"Open In Colab\"/></a>"
      ]
    },
    {
      "cell_type": "markdown",
      "source": [
        "# 💕 Pandas"
      ],
      "metadata": {
        "id": "UqQ32gxqAgDi"
      }
    },
    {
      "cell_type": "code",
      "execution_count": null,
      "metadata": {
        "id": "JyctddI91xp7"
      },
      "outputs": [],
      "source": [
        "import pandas as pd\n",
        "# panel datas의 약자"
      ]
    },
    {
      "cell_type": "markdown",
      "source": [
        "## 1️⃣ 생성 방법"
      ],
      "metadata": {
        "id": "cKVt92gq_pf0"
      }
    },
    {
      "cell_type": "code",
      "source": [
        "# 딕셔너리: 키->인덱스, 값->값\n",
        "dict_data = {'a': 1, 'b':2, 'c':3}\n",
        "sr = pd.Series(dict_data)\n",
        "print(type(dict_data))\n",
        "print(type(sr))\n",
        "sr"
      ],
      "metadata": {
        "colab": {
          "base_uri": "https://localhost:8080/"
        },
        "id": "t2wxNJhp5FbV",
        "outputId": "b6c36065-cb7a-4627-a88a-d37c41381d91"
      },
      "execution_count": null,
      "outputs": [
        {
          "output_type": "stream",
          "name": "stdout",
          "text": [
            "<class 'dict'>\n",
            "<class 'pandas.core.series.Series'>\n"
          ]
        },
        {
          "output_type": "execute_result",
          "data": {
            "text/plain": [
              "a    1\n",
              "b    2\n",
              "c    3\n",
              "dtype: int64"
            ]
          },
          "metadata": {},
          "execution_count": 7
        }
      ]
    },
    {
      "cell_type": "code",
      "source": [
        "# 리스트: 인덱스->인덱스, 값->값\n",
        "list_data = ['2018-01-01', 3.14, 'abc', 100, True]\n",
        "sr_lis = pd.Series(list_data)\n",
        "sr_lis"
      ],
      "metadata": {
        "colab": {
          "base_uri": "https://localhost:8080/"
        },
        "id": "ehmySyX25Mi8",
        "outputId": "3872d4d3-c845-4c9d-aaa4-024afaa8736a"
      },
      "execution_count": null,
      "outputs": [
        {
          "output_type": "execute_result",
          "data": {
            "text/plain": [
              "0    2018-01-01\n",
              "1          3.14\n",
              "2           abc\n",
              "3           100\n",
              "4          True\n",
              "dtype: object"
            ]
          },
          "metadata": {},
          "execution_count": 9
        }
      ]
    },
    {
      "cell_type": "code",
      "source": [
        "idx = sr_lis.index\n",
        "val = sr_lis.values\n",
        "\n",
        "print(idx, val)"
      ],
      "metadata": {
        "colab": {
          "base_uri": "https://localhost:8080/"
        },
        "id": "mgbb7DL355Fo",
        "outputId": "de29ffbd-2f53-424b-d0e3-b54c4fa7416a"
      },
      "execution_count": null,
      "outputs": [
        {
          "output_type": "stream",
          "name": "stdout",
          "text": [
            "RangeIndex(start=0, stop=5, step=1) ['2018-01-01' 3.14 'abc' 100 True]\n"
          ]
        }
      ]
    },
    {
      "cell_type": "code",
      "source": [
        "# 튜플도 동일\n",
        "tup_data = ('영인', '2010-05-01', '여', True)\n",
        "sr_tup = pd.Series(tup_data, index=['이름', '생년월일', '성별', '학생여부'])\n",
        "sr_tup"
      ],
      "metadata": {
        "colab": {
          "base_uri": "https://localhost:8080/"
        },
        "id": "4euoTv7q6LzJ",
        "outputId": "b0217b16-74bd-4980-f87c-a90baf12d0d7"
      },
      "execution_count": null,
      "outputs": [
        {
          "output_type": "execute_result",
          "data": {
            "text/plain": [
              "이름              영인\n",
              "생년월일    2010-05-01\n",
              "성별               여\n",
              "학생여부          True\n",
              "dtype: object"
            ]
          },
          "metadata": {},
          "execution_count": 14
        }
      ]
    },
    {
      "cell_type": "markdown",
      "source": [
        "## 2️⃣ 데이터 선택"
      ],
      "metadata": {
        "id": "YhMekaYg_zSZ"
      }
    },
    {
      "cell_type": "code",
      "source": [
        "# 원소를 1개 선택하는 2가지 방식\n",
        "print(sr_tup[0]) # 정수형 위치 인덱스를 활용\n",
        "print(sr_tup['이름']) # 이름'라벨'을 가진 원소를 선택(인덱스 이름을 활용)\n",
        "\n",
        "# 여러 원소를 선택하는 2가지 방식\n",
        "print(sr_tup[[1, 2]]) # [] 로만 가져오면 멀티인덱스 에러 뜸 - 여러가지 갖고올 경우 리스트 형식으로 줘야함\n",
        "print(sr_tup[['이름', '생년월일']])"
      ],
      "metadata": {
        "colab": {
          "base_uri": "https://localhost:8080/"
        },
        "id": "_YrTi7Vg63HB",
        "outputId": "58699aab-db2e-4a35-ef73-847ea7945312"
      },
      "execution_count": null,
      "outputs": [
        {
          "output_type": "stream",
          "name": "stdout",
          "text": [
            "영인\n",
            "영인\n",
            "생년월일    2010-05-01\n",
            "성별               여\n",
            "dtype: object\n",
            "이름              영인\n",
            "생년월일    2010-05-01\n",
            "dtype: object\n"
          ]
        }
      ]
    },
    {
      "cell_type": "code",
      "source": [
        "# 9904312, 3448737, 2890451, 2466052 - 서울, 부산, 인천, 대구 인구\n",
        "pop = [9904312, 3448737, 2890451, 2466052]\n",
        "city = ['서울', '부산', '인천', '대구']\n",
        "\n",
        "# 1. 시리즈 생성\n",
        "sr = pd.Series(pop, index=city)\n",
        "print(sr)\n",
        "# 2. 인덱싱 부산 2가지방식\n",
        "print(sr[1])\n",
        "print(sr['부산'])\n",
        "\n",
        "# 3. 부산과 대구 인덱싱 2가지 방식\n",
        "print(sr[[1, 3]], sr[['부산', '대구']])"
      ],
      "metadata": {
        "colab": {
          "base_uri": "https://localhost:8080/"
        },
        "id": "Kj_icMQB88RD",
        "outputId": "a911be69-2103-4ffa-8b08-db61358e74dc"
      },
      "execution_count": null,
      "outputs": [
        {
          "output_type": "stream",
          "name": "stdout",
          "text": [
            "서울    9904312\n",
            "부산    3448737\n",
            "인천    2890451\n",
            "대구    2466052\n",
            "dtype: int64\n",
            "3448737\n",
            "3448737\n",
            "부산    3448737\n",
            "대구    2466052\n",
            "dtype: int64 부산    3448737\n",
            "대구    2466052\n",
            "dtype: int64\n"
          ]
        }
      ]
    },
    {
      "cell_type": "code",
      "source": [
        "for key, value in sr.items():\n",
        "  print(f'key는 {key}이고 value는 {value}다.')"
      ],
      "metadata": {
        "colab": {
          "base_uri": "https://localhost:8080/"
        },
        "id": "HEJ2EBH69qbx",
        "outputId": "e28815fd-863b-4b69-dc70-410206d8fd53"
      },
      "execution_count": null,
      "outputs": [
        {
          "output_type": "stream",
          "name": "stdout",
          "text": [
            "key는 서울이고 value는 9904312다.\n",
            "key는 부산이고 value는 3448737다.\n",
            "key는 인천이고 value는 2890451다.\n",
            "key는 대구이고 value는 2466052다.\n"
          ]
        }
      ]
    },
    {
      "cell_type": "markdown",
      "source": [
        "## 💡 시리즈"
      ],
      "metadata": {
        "id": "ptBDSrAXAAbi"
      }
    },
    {
      "cell_type": "code",
      "source": [
        "# 시리즈는 넘파이 1차원 배열로 변환된다.\n",
        "sr/1000000\n",
        "\n",
        "# 딕셔너리는 아래와 같은 연산이 안됨! - 반복문 써야함 ㅠ.ㅠ\n",
        "# dict_sr = {'서울':9999999, '부산':3333333}\n",
        "# dict_sr/1000"
      ],
      "metadata": {
        "colab": {
          "base_uri": "https://localhost:8080/"
        },
        "id": "oXUrCf8c-_6P",
        "outputId": "7c2e4431-97e3-485b-cc25-577740920a00"
      },
      "execution_count": null,
      "outputs": [
        {
          "output_type": "execute_result",
          "data": {
            "text/plain": [
              "서울    9.904312\n",
              "부산    3.448737\n",
              "인천    2.890451\n",
              "대구    2.466052\n",
              "dtype: float64"
            ]
          },
          "metadata": {},
          "execution_count": 44
        }
      ]
    },
    {
      "cell_type": "code",
      "source": [
        "sr2 = pd.Series({'서울':9631482, '부산':3393191, '인천':2632035, '대전':1490158})"
      ],
      "metadata": {
        "id": "OiU1OWAU_iCf"
      },
      "execution_count": null,
      "outputs": []
    },
    {
      "cell_type": "code",
      "source": [
        "sr-sr2\n",
        "\n",
        "# 연산이 안 되는 것의 결과는 NaN(Not a Number, 결측치)\n",
        "# np.naa의 데이터 타입은 실수(float)"
      ],
      "metadata": {
        "colab": {
          "base_uri": "https://localhost:8080/"
        },
        "id": "O91Aj0ra_o1D",
        "outputId": "3667517e-2d5d-4542-b9a7-0f3a3a2e7995"
      },
      "execution_count": null,
      "outputs": [
        {
          "output_type": "execute_result",
          "data": {
            "text/plain": [
              "대구         NaN\n",
              "대전         NaN\n",
              "부산     55546.0\n",
              "서울    272830.0\n",
              "인천    258416.0\n",
              "dtype: float64"
            ]
          },
          "metadata": {},
          "execution_count": 46
        }
      ]
    },
    {
      "cell_type": "markdown",
      "source": [
        "## 3️⃣ 관련 메소드"
      ],
      "metadata": {
        "id": "Bd3yWLi1AVlN"
      }
    },
    {
      "cell_type": "code",
      "source": [
        "sr.index, sr.values"
      ],
      "metadata": {
        "colab": {
          "base_uri": "https://localhost:8080/"
        },
        "id": "zd0AWc-HCysM",
        "outputId": "01340803-c5fa-4c89-cb75-c2e17350c4f7"
      },
      "execution_count": null,
      "outputs": [
        {
          "output_type": "execute_result",
          "data": {
            "text/plain": [
              "(Index(['서울', '부산', '인천', '대구'], dtype='object'),\n",
              " array([9904312, 3448737, 2890451, 2466052]))"
            ]
          },
          "metadata": {},
          "execution_count": 47
        }
      ]
    },
    {
      "cell_type": "code",
      "source": [
        "# 엘레먼트의 개수를 세는 메소드\n",
        "sr.count(), sr2.count()"
      ],
      "metadata": {
        "colab": {
          "base_uri": "https://localhost:8080/"
        },
        "id": "b8_cdWdMDjSm",
        "outputId": "2d7d61e9-b8be-4171-a1f9-87c367468a9f"
      },
      "execution_count": null,
      "outputs": [
        {
          "output_type": "execute_result",
          "data": {
            "text/plain": [
              "(4, 4)"
            ]
          },
          "metadata": {},
          "execution_count": 49
        }
      ]
    },
    {
      "cell_type": "code",
      "source": [
        "ds = sr - sr2\n",
        "print(ds.count()) # 3개 나옴: nan의 개수는 세지 않음"
      ],
      "metadata": {
        "colab": {
          "base_uri": "https://localhost:8080/"
        },
        "id": "7yE-5xVaDrzR",
        "outputId": "2fe40efb-1b65-40df-d622-d786b4a77a46"
      },
      "execution_count": null,
      "outputs": [
        {
          "output_type": "stream",
          "name": "stdout",
          "text": [
            "3\n"
          ]
        }
      ]
    },
    {
      "cell_type": "code",
      "source": [
        "# 카테고리의 값 세는 메소드\n",
        "sr.value_counts()"
      ],
      "metadata": {
        "colab": {
          "base_uri": "https://localhost:8080/"
        },
        "id": "QL_yMOirD24L",
        "outputId": "9e9ba767-b1e9-4004-b27e-a247ba033bca"
      },
      "execution_count": null,
      "outputs": [
        {
          "output_type": "execute_result",
          "data": {
            "text/plain": [
              "9904312    1\n",
              "3448737    1\n",
              "2890451    1\n",
              "2466052    1\n",
              "dtype: int64"
            ]
          },
          "metadata": {},
          "execution_count": 55
        }
      ]
    },
    {
      "cell_type": "code",
      "source": [
        "# 값을 세는 메소드 예시\n",
        "!pip install seaborn"
      ],
      "metadata": {
        "colab": {
          "base_uri": "https://localhost:8080/"
        },
        "id": "co74Oo9LEOID",
        "outputId": "c8e0d741-512d-4df2-de70-6e12e0dd218d"
      },
      "execution_count": null,
      "outputs": [
        {
          "output_type": "stream",
          "name": "stdout",
          "text": [
            "Looking in indexes: https://pypi.org/simple, https://us-python.pkg.dev/colab-wheels/public/simple/\n",
            "Requirement already satisfied: seaborn in /usr/local/lib/python3.9/dist-packages (0.11.2)\n",
            "Requirement already satisfied: scipy>=1.0 in /usr/local/lib/python3.9/dist-packages (from seaborn) (1.10.1)\n",
            "Requirement already satisfied: numpy>=1.15 in /usr/local/lib/python3.9/dist-packages (from seaborn) (1.22.4)\n",
            "Requirement already satisfied: pandas>=0.23 in /usr/local/lib/python3.9/dist-packages (from seaborn) (1.4.4)\n",
            "Requirement already satisfied: matplotlib>=2.2 in /usr/local/lib/python3.9/dist-packages (from seaborn) (3.5.3)\n",
            "Requirement already satisfied: fonttools>=4.22.0 in /usr/local/lib/python3.9/dist-packages (from matplotlib>=2.2->seaborn) (4.39.0)\n",
            "Requirement already satisfied: python-dateutil>=2.7 in /usr/local/lib/python3.9/dist-packages (from matplotlib>=2.2->seaborn) (2.8.2)\n",
            "Requirement already satisfied: packaging>=20.0 in /usr/local/lib/python3.9/dist-packages (from matplotlib>=2.2->seaborn) (23.0)\n",
            "Requirement already satisfied: cycler>=0.10 in /usr/local/lib/python3.9/dist-packages (from matplotlib>=2.2->seaborn) (0.11.0)\n",
            "Requirement already satisfied: kiwisolver>=1.0.1 in /usr/local/lib/python3.9/dist-packages (from matplotlib>=2.2->seaborn) (1.4.4)\n",
            "Requirement already satisfied: pillow>=6.2.0 in /usr/local/lib/python3.9/dist-packages (from matplotlib>=2.2->seaborn) (8.4.0)\n",
            "Requirement already satisfied: pyparsing>=2.2.1 in /usr/local/lib/python3.9/dist-packages (from matplotlib>=2.2->seaborn) (3.0.9)\n",
            "Requirement already satisfied: pytz>=2020.1 in /usr/local/lib/python3.9/dist-packages (from pandas>=0.23->seaborn) (2022.7.1)\n",
            "Requirement already satisfied: six>=1.5 in /usr/local/lib/python3.9/dist-packages (from python-dateutil>=2.7->matplotlib>=2.2->seaborn) (1.15.0)\n"
          ]
        }
      ]
    },
    {
      "cell_type": "code",
      "source": [
        "import seaborn as sns\n",
        "\n",
        "iris = sns.load_dataset('iris')\n",
        "print(iris)"
      ],
      "metadata": {
        "colab": {
          "base_uri": "https://localhost:8080/"
        },
        "id": "bAPgFLqwE3z-",
        "outputId": "83f8c5bb-b997-480b-ad22-a689f8ce7f8e"
      },
      "execution_count": null,
      "outputs": [
        {
          "output_type": "stream",
          "name": "stdout",
          "text": [
            "     sepal_length  sepal_width  petal_length  petal_width    species\n",
            "0             5.1          3.5           1.4          0.2     setosa\n",
            "1             4.9          3.0           1.4          0.2     setosa\n",
            "2             4.7          3.2           1.3          0.2     setosa\n",
            "3             4.6          3.1           1.5          0.2     setosa\n",
            "4             5.0          3.6           1.4          0.2     setosa\n",
            "..            ...          ...           ...          ...        ...\n",
            "145           6.7          3.0           5.2          2.3  virginica\n",
            "146           6.3          2.5           5.0          1.9  virginica\n",
            "147           6.5          3.0           5.2          2.0  virginica\n",
            "148           6.2          3.4           5.4          2.3  virginica\n",
            "149           5.9          3.0           5.1          1.8  virginica\n",
            "\n",
            "[150 rows x 5 columns]\n"
          ]
        }
      ]
    },
    {
      "cell_type": "code",
      "source": [
        "# 카테고리형 자료종류를 알 수 있음\n",
        "print('unique(): ', iris['species'].unique())\n",
        "# 각 카테고리별로 몇개 있는지 보자!\n",
        "print('value_counts(): ', iris.species.value_counts())"
      ],
      "metadata": {
        "colab": {
          "base_uri": "https://localhost:8080/"
        },
        "id": "vjfArw77FHmL",
        "outputId": "75e7ce5d-2607-4f04-f569-68a2e5a76c3d"
      },
      "execution_count": null,
      "outputs": [
        {
          "output_type": "stream",
          "name": "stdout",
          "text": [
            "unique():  ['setosa' 'versicolor' 'virginica']\n",
            "value_counts():  setosa        50\n",
            "versicolor    50\n",
            "virginica     50\n",
            "Name: species, dtype: int64\n"
          ]
        }
      ]
    },
    {
      "cell_type": "code",
      "source": [
        "# 인구데이터\n",
        "sr.sum(), sr.mean()"
      ],
      "metadata": {
        "colab": {
          "base_uri": "https://localhost:8080/"
        },
        "id": "8wYjUZCOHVUY",
        "outputId": "82cde8e7-4840-4a2c-ad9e-de2df0cd592d"
      },
      "execution_count": null,
      "outputs": [
        {
          "output_type": "execute_result",
          "data": {
            "text/plain": [
              "(18709552, 4677388.0)"
            ]
          },
          "metadata": {},
          "execution_count": 70
        }
      ]
    },
    {
      "cell_type": "code",
      "source": [
        "# 정렬 메소드\n",
        "sr.sort_values() # default : ascending=True : 오름차순\n",
        "\n",
        "sr.sort_values(ascending=False) # 내림차순"
      ],
      "metadata": {
        "colab": {
          "base_uri": "https://localhost:8080/"
        },
        "id": "-IEwAh7PIeUx",
        "outputId": "c1aafd3d-49da-401c-9118-2efe7483a99c"
      },
      "execution_count": null,
      "outputs": [
        {
          "output_type": "execute_result",
          "data": {
            "text/plain": [
              "서울    9904312\n",
              "부산    3448737\n",
              "인천    2890451\n",
              "대구    2466052\n",
              "dtype: int64"
            ]
          },
          "metadata": {},
          "execution_count": 74
        }
      ]
    }
  ]
}